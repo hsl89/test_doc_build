{
 "cells": [
  {
   "cell_type": "code",
   "execution_count": null,
   "id": "c784e50a",
   "metadata": {
    "execution": {
     "iopub.execute_input": "2021-05-25T01:24:58.200821Z",
     "iopub.status.busy": "2021-05-25T01:24:58.200361Z",
     "iopub.status.idle": "2021-05-25T01:24:58.202417Z",
     "shell.execute_reply": "2021-05-25T01:24:58.202019Z"
    },
    "papermill": {
     "duration": 0.039067,
     "end_time": "2021-05-25T01:24:58.202557",
     "exception": false,
     "start_time": "2021-05-25T01:24:58.163490",
     "status": "completed"
    },
    "tags": [
     "injected-parameters"
    ]
   },
   "outputs": [],
   "source": [
    "# Parameters\n",
    "kms_key = \"arn:aws:kms:us-west-2:521695447989:key/6e9984db-50cf-4c7e-926c-877ec47a8b25\"\n"
   ]
  },
  {
   "cell_type": "markdown",
   "id": "legal-combat",
   "metadata": {
    "papermill": {
     "duration": 0.031398,
     "end_time": "2021-05-25T01:24:58.265566",
     "exception": false,
     "start_time": "2021-05-25T01:24:58.234168",
     "status": "completed"
    },
    "tags": []
   },
   "source": [
    "# Amazon SageMaker Model Quality Monitor\n",
    "#### Host a trained machine learning model in Amazon SageMaker.  Monitor and detect machine learning model quality drift\n",
    "\n",
    "\n",
    "This notebook shows how to:\n",
    "* Host a machine learning model in Amazon SageMaker and capture inference requests, results, and metadata \n",
    "* Generate a baseline of model quality and suggested constraints\n",
    "* Monitor a live endpoint for violations against the suggested constraints\n",
    "* Generate CloudWatch Alarms on model quality drift\n",
    "\n",
    "\n",
    "**Table of Contents** \n",
    "\n",
    "1. [Introduction](#intro)\n",
    "2. [Section 1 - Setup](#setup)\n",
    "3. [Section 2 - Deploy pre-trained model with data capture enabled](#deploy)\n",
    "5. [Section 3 - Generate baseline for model quality performance](#generate-baseline)\n",
    "6. [Section 4 - Setup continuous model monitoring to identify model quality drift](#analyze-model-quality-drift)\n",
    "7. [Section 5 - Analyze model quality CloudWatch metrics](#analyze-cloudwatch-metrics)\n",
    "8. [Clean up](#cleanup)\n",
    "\n",
    "\n",
    "\n",
    "## Introduction <a id='intro'></a>    \n",
    "\n",
    "Amazon SageMaker provides every developer and data scientist with the ability to build, train, and deploy machine learning (ML) models quickly by bringing together a broad set of capabilities purpose-built for ML. Amazon SageMaker is a fully-managed service that encompasses the entire ML workflow. You can label and prepare your data, choose an algorithm, train a model, and then tune and optimize it for deployment. You can deploy your models to production with Amazon SageMaker to make predictions and lower costs than it was previously possible.\n",
    "\n",
    "Amazon SageMaker Model Monitor allows you to maintain high quality ML models by automatically detecting and helping you remediate inaccuracies in model predictions. Model Monitor helps\n",
    "you detect changes in properties of independent variables to help maintain data quality, and\n",
    "monitors model performance characteristics such as accuracy and precision in real-time to\n",
    "help maintain model quality.\n",
    "\n",
    "In this notebook, you learn how to use Amazon SageMaker model quality monitoring capability to monitor model performance characteristics of your in-production ML models. You will learn how to configure Amazon CloudWatch alerts to get notified if the model quality degrades from the configured baseline quality."
   ]
  },
  {
   "cell_type": "markdown",
   "id": "radical-robert",
   "metadata": {
    "papermill": {
     "duration": 0.031535,
     "end_time": "2021-05-25T01:24:58.328540",
     "exception": false,
     "start_time": "2021-05-25T01:24:58.297005",
     "status": "completed"
    },
    "tags": []
   },
   "source": [
    "## Section 1 - Setup <a id='setup'></a>\n",
    "\n",
    "In this section, you will import the necessary libraries, setup variables and examine data that was used to train the XGBoost customer churn model provided with this notebook.\n",
    "\n",
    "Let's start by specifying:\n",
    "\n",
    "* The AWS region used to host your model.\n",
    "* The IAM role associated with this SageMaker notebook instance.\n",
    "* The S3 bucket used to store the data used to train your model, any additional model data, and the data captured from model invocations."
   ]
  },
  {
   "cell_type": "markdown",
   "id": "computational-vienna",
   "metadata": {
    "papermill": {
     "duration": 0.031311,
     "end_time": "2021-05-25T01:24:58.391270",
     "exception": false,
     "start_time": "2021-05-25T01:24:58.359959",
     "status": "completed"
    },
    "tags": []
   },
   "source": [
    "#### 1.1 Import necessary libraries"
   ]
  },
  {
   "cell_type": "code",
   "execution_count": null,
   "id": "objective-photograph",
   "metadata": {
    "execution": {
     "iopub.execute_input": "2021-05-25T01:24:58.459103Z",
     "iopub.status.busy": "2021-05-25T01:24:58.458593Z",
     "iopub.status.idle": "2021-05-25T01:24:58.925993Z",
     "shell.execute_reply": "2021-05-25T01:24:58.926321Z"
    },
    "papermill": {
     "duration": 0.503478,
     "end_time": "2021-05-25T01:24:58.926472",
     "exception": false,
     "start_time": "2021-05-25T01:24:58.422994",
     "status": "completed"
    },
    "tags": []
   },
   "outputs": [],
   "source": [
    "%%time\n",
    "\n",
    "from datetime import datetime, timedelta, timezone\n",
    "import json\n",
    "import os\n",
    "import re\n",
    "import boto3\n",
    "from time import sleep\n",
    "from threading import Thread\n",
    "\n",
    "import pandas as pd\n",
    "\n",
    "from sagemaker import get_execution_role, session, Session, image_uris\n",
    "from sagemaker.s3 import S3Downloader, S3Uploader\n",
    "from sagemaker.processing import ProcessingJob\n",
    "from sagemaker.serializers import CSVSerializer\n",
    "\n",
    "from sagemaker.model import Model\n",
    "from sagemaker.model_monitor import DataCaptureConfig\n",
    "\n",
    "session = Session()"
   ]
  },
  {
   "cell_type": "markdown",
   "id": "gothic-thomson",
   "metadata": {
    "papermill": {
     "duration": 0.031879,
     "end_time": "2021-05-25T01:24:58.990288",
     "exception": false,
     "start_time": "2021-05-25T01:24:58.958409",
     "status": "completed"
    },
    "tags": []
   },
   "source": [
    "#### 1.2 AWS region and  IAM Role"
   ]
  },
  {
   "cell_type": "code",
   "execution_count": null,
   "id": "brilliant-fashion",
   "metadata": {
    "execution": {
     "iopub.execute_input": "2021-05-25T01:24:59.066153Z",
     "iopub.status.busy": "2021-05-25T01:24:59.065699Z",
     "iopub.status.idle": "2021-05-25T01:24:59.515363Z",
     "shell.execute_reply": "2021-05-25T01:24:59.514968Z"
    },
    "papermill": {
     "duration": 0.49354,
     "end_time": "2021-05-25T01:24:59.515470",
     "exception": false,
     "start_time": "2021-05-25T01:24:59.021930",
     "status": "completed"
    },
    "tags": []
   },
   "outputs": [],
   "source": [
    "# Get Execution role\n",
    "role = get_execution_role()\n",
    "print(\"RoleArn:\", role)\n",
    "\n",
    "region = session.boto_region_name\n",
    "print(\"Region:\", region)"
   ]
  },
  {
   "cell_type": "markdown",
   "id": "cognitive-equality",
   "metadata": {
    "papermill": {
     "duration": 0.03287,
     "end_time": "2021-05-25T01:24:59.580664",
     "exception": false,
     "start_time": "2021-05-25T01:24:59.547794",
     "status": "completed"
    },
    "tags": []
   },
   "source": [
    "#### 1.3 S3 bucket and prefixes"
   ]
  },
  {
   "cell_type": "code",
   "execution_count": null,
   "id": "olympic-lover",
   "metadata": {
    "execution": {
     "iopub.execute_input": "2021-05-25T01:24:59.649644Z",
     "iopub.status.busy": "2021-05-25T01:24:59.649173Z",
     "iopub.status.idle": "2021-05-25T01:24:59.848165Z",
     "shell.execute_reply": "2021-05-25T01:24:59.848525Z"
    },
    "papermill": {
     "duration": 0.235873,
     "end_time": "2021-05-25T01:24:59.848661",
     "exception": false,
     "start_time": "2021-05-25T01:24:59.612788",
     "status": "completed"
    },
    "tags": []
   },
   "outputs": [],
   "source": [
    "# Setup S3 bucket\n",
    "# You can use a different bucket, but make sure the role you chose for this notebook\n",
    "# has the s3:PutObject permissions. This is the bucket into which the data is captured\n",
    "bucket = session.default_bucket()\n",
    "print(\"Demo Bucket:\", bucket)\n",
    "prefix = \"sagemaker/Churn-ModelQualityMonitor-20201201\"\n",
    "\n",
    "##S3 prefixes\n",
    "data_capture_prefix = f\"{prefix}/datacapture\"\n",
    "s3_capture_upload_path = f\"s3://{bucket}/{data_capture_prefix}\"\n",
    "\n",
    "ground_truth_upload_path = (\n",
    "    f\"s3://{bucket}/{prefix}/ground_truth_data/{datetime.now():%Y-%m-%d-%H-%M-%S}\"\n",
    ")\n",
    "\n",
    "reports_prefix = f\"{prefix}/reports\"\n",
    "s3_report_path = f\"s3://{bucket}/{reports_prefix}\"\n",
    "\n",
    "##Get the model monitor image\n",
    "monitor_image_uri = image_uris.retrieve(framework=\"model-monitor\", region=region)\n",
    "\n",
    "print(\"Image URI:\", monitor_image_uri)\n",
    "print(f\"Capture path: {s3_capture_upload_path}\")\n",
    "print(f\"Ground truth path: {ground_truth_upload_path}\")\n",
    "print(f\"Report path: {s3_report_path}\")"
   ]
  },
  {
   "cell_type": "markdown",
   "id": "architectural-confidence",
   "metadata": {
    "papermill": {
     "duration": 0.033356,
     "end_time": "2021-05-25T01:24:59.914372",
     "exception": false,
     "start_time": "2021-05-25T01:24:59.881016",
     "status": "completed"
    },
    "tags": []
   },
   "source": [
    "#### 1.4 Test access to the S3 bucket\n",
    "Let's quickly verify that the notebook has the right permissions to access the S3 bucket specified above.\n",
    "Upload a simple test object into the S3 bucket.  If this command fails, the data capture and model monitoring capabilities will not work from this notebook.  You can fix this by updating the role associated with this notebook instance to have \"s3:PutObject\" permissions and try this validation again"
   ]
  },
  {
   "cell_type": "code",
   "execution_count": null,
   "id": "typical-accident",
   "metadata": {
    "execution": {
     "iopub.execute_input": "2021-05-25T01:24:59.991433Z",
     "iopub.status.busy": "2021-05-25T01:24:59.990721Z",
     "iopub.status.idle": "2021-05-25T01:25:00.110178Z",
     "shell.execute_reply": "2021-05-25T01:25:00.110559Z"
    },
    "papermill": {
     "duration": 0.162758,
     "end_time": "2021-05-25T01:25:00.110730",
     "exception": false,
     "start_time": "2021-05-25T01:24:59.947972",
     "status": "completed"
    },
    "tags": []
   },
   "outputs": [],
   "source": [
    "# Upload some test files\n",
    "S3Uploader.upload(\"test_data/upload-test-file.txt\", f\"s3://{bucket}/test_upload\")\n",
    "print(\"Success! You are all set to proceed.\")"
   ]
  },
  {
   "cell_type": "markdown",
   "id": "marine-contemporary",
   "metadata": {
    "papermill": {
     "duration": 0.033294,
     "end_time": "2021-05-25T01:25:00.177642",
     "exception": false,
     "start_time": "2021-05-25T01:25:00.144348",
     "status": "completed"
    },
    "tags": []
   },
   "source": [
    "## Section 2 - Deploy pre-trained model with data capture enabled <a id='deploy'></a>\n",
    "\n",
    "In this section, you will upload the pretrained model to the S3 bucket, create an Amazon SageMaker Model, create an Amazon SageMaker real time endpoint, and enable data capture on the endpoint to capture endpoint invocations, predictions, and metadata."
   ]
  },
  {
   "cell_type": "markdown",
   "id": "serial-highlight",
   "metadata": {
    "papermill": {
     "duration": 0.032979,
     "end_time": "2021-05-25T01:25:00.244107",
     "exception": false,
     "start_time": "2021-05-25T01:25:00.211128",
     "status": "completed"
    },
    "tags": []
   },
   "source": [
    "#### 2.1 Upload the pre-trained model to S3\n",
    "\n",
    "This code uploads a pre-trained XGBoost model that is ready for you to deploy. This model was trained using the XGB Churn Prediction Notebook in SageMaker. You can also use your own pre-trained model in this step. If you already have a pretrained model in Amazon S3, you can add it instead by specifying the s3_key.\n"
   ]
  },
  {
   "cell_type": "code",
   "execution_count": null,
   "id": "broad-facial",
   "metadata": {
    "execution": {
     "iopub.execute_input": "2021-05-25T01:25:00.321517Z",
     "iopub.status.busy": "2021-05-25T01:25:00.321064Z",
     "iopub.status.idle": "2021-05-25T01:25:00.519400Z",
     "shell.execute_reply": "2021-05-25T01:25:00.519759Z"
    },
    "papermill": {
     "duration": 0.242862,
     "end_time": "2021-05-25T01:25:00.519906",
     "exception": false,
     "start_time": "2021-05-25T01:25:00.277044",
     "status": "completed"
    },
    "tags": []
   },
   "outputs": [],
   "source": [
    "##Upload the pretrained model to S3\n",
    "s3_key = f\"s3://{bucket}/{prefix}\"\n",
    "model_url = S3Uploader.upload(\"model/xgb-churn-prediction-model.tar.gz\", s3_key)\n",
    "model_url"
   ]
  },
  {
   "cell_type": "markdown",
   "id": "bridal-exercise",
   "metadata": {
    "papermill": {
     "duration": 0.03339,
     "end_time": "2021-05-25T01:25:00.586933",
     "exception": false,
     "start_time": "2021-05-25T01:25:00.553543",
     "status": "completed"
    },
    "tags": []
   },
   "source": [
    "#### 2.2 Create SageMaker Model entity\n",
    "\n",
    "This step creates an Amazon SageMaker model from the  model file uploaded to S3."
   ]
  },
  {
   "cell_type": "code",
   "execution_count": null,
   "id": "capital-discipline",
   "metadata": {
    "execution": {
     "iopub.execute_input": "2021-05-25T01:25:00.657042Z",
     "iopub.status.busy": "2021-05-25T01:25:00.656610Z",
     "iopub.status.idle": "2021-05-25T01:25:00.665267Z",
     "shell.execute_reply": "2021-05-25T01:25:00.664889Z"
    },
    "papermill": {
     "duration": 0.045324,
     "end_time": "2021-05-25T01:25:00.665370",
     "exception": false,
     "start_time": "2021-05-25T01:25:00.620046",
     "status": "completed"
    },
    "tags": []
   },
   "outputs": [],
   "source": [
    "model_name = f\"DEMO-xgb-churn-pred-model-monitor-{datetime.utcnow():%Y-%m-%d-%H%M}\"\n",
    "\n",
    "image_uri = image_uris.retrieve(framework=\"xgboost\", version=\"0.90-1\", region=region)\n",
    "\n",
    "model = Model(image_uri=image_uri, model_data=model_url, role=role, sagemaker_session=session)"
   ]
  },
  {
   "cell_type": "markdown",
   "id": "continued-innocent",
   "metadata": {
    "papermill": {
     "duration": 0.032954,
     "end_time": "2021-05-25T01:25:00.731263",
     "exception": false,
     "start_time": "2021-05-25T01:25:00.698309",
     "status": "completed"
    },
    "tags": []
   },
   "source": [
    "#### 2.3 Deploy the model with data capture enabled.\n",
    "Next, deploy the SageMaker model on a specific instance with data capture enabled."
   ]
  },
  {
   "cell_type": "code",
   "execution_count": null,
   "id": "operating-blind",
   "metadata": {
    "execution": {
     "iopub.execute_input": "2021-05-25T01:25:00.800830Z",
     "iopub.status.busy": "2021-05-25T01:25:00.800368Z",
     "iopub.status.idle": "2021-05-25T01:32:32.764638Z",
     "shell.execute_reply": "2021-05-25T01:32:32.765001Z"
    },
    "papermill": {
     "duration": 452.001198,
     "end_time": "2021-05-25T01:32:32.765136",
     "exception": false,
     "start_time": "2021-05-25T01:25:00.763938",
     "status": "completed"
    },
    "tags": []
   },
   "outputs": [],
   "source": [
    "endpoint_name = f\"DEMO-xgb-churn-model-quality-monitor-{datetime.utcnow():%Y-%m-%d-%H%M}\"\n",
    "print(\"EndpointName =\", endpoint_name)\n",
    "\n",
    "data_capture_config = DataCaptureConfig(\n",
    "    enable_capture=True, sampling_percentage=100, destination_s3_uri=s3_capture_upload_path\n",
    ")\n",
    "\n",
    "model.deploy(\n",
    "    initial_instance_count=1,\n",
    "    instance_type=\"ml.m4.xlarge\",\n",
    "    endpoint_name=endpoint_name,\n",
    "    data_capture_config=data_capture_config,\n",
    ")"
   ]
  },
  {
   "cell_type": "markdown",
   "id": "lightweight-warrior",
   "metadata": {
    "papermill": {
     "duration": 0.035821,
     "end_time": "2021-05-25T01:32:32.836938",
     "exception": false,
     "start_time": "2021-05-25T01:32:32.801117",
     "status": "completed"
    },
    "tags": []
   },
   "source": [
    "#### 2.4 Create the SageMaker Predictor object from the endpoint to be used for invoking the model"
   ]
  },
  {
   "cell_type": "code",
   "execution_count": null,
   "id": "cardiovascular-minnesota",
   "metadata": {
    "execution": {
     "iopub.execute_input": "2021-05-25T01:32:32.912245Z",
     "iopub.status.busy": "2021-05-25T01:32:32.911780Z",
     "iopub.status.idle": "2021-05-25T01:32:32.913762Z",
     "shell.execute_reply": "2021-05-25T01:32:32.913396Z"
    },
    "papermill": {
     "duration": 0.041114,
     "end_time": "2021-05-25T01:32:32.913859",
     "exception": false,
     "start_time": "2021-05-25T01:32:32.872745",
     "status": "completed"
    },
    "tags": []
   },
   "outputs": [],
   "source": [
    "from sagemaker.predictor import Predictor\n",
    "\n",
    "predictor = Predictor(\n",
    "    endpoint_name=endpoint_name, sagemaker_session=session, serializer=CSVSerializer()\n",
    ")"
   ]
  },
  {
   "cell_type": "markdown",
   "id": "convertible-military",
   "metadata": {
    "papermill": {
     "duration": 0.035724,
     "end_time": "2021-05-25T01:32:32.985536",
     "exception": false,
     "start_time": "2021-05-25T01:32:32.949812",
     "status": "completed"
    },
    "tags": []
   },
   "source": [
    "##  Section 3 - Generate a baseline for model quality performance <a id='generate-baseline'></a>\n",
    "\n",
    "In this section, you will invoke the endpoint created above using validation data. Predictions from the deployed model using this validation data will be used as a baseline dataset.  You will then use SageMaker's Model Monitoring to execute a baseline job that computes model performance data, and suggest model quality constraints based on the baseline dataset."
   ]
  },
  {
   "cell_type": "markdown",
   "id": "interracial-virginia",
   "metadata": {
    "papermill": {
     "duration": 0.035667,
     "end_time": "2021-05-25T01:32:33.056875",
     "exception": false,
     "start_time": "2021-05-25T01:32:33.021208",
     "status": "completed"
    },
    "tags": []
   },
   "source": [
    "#### 3.1 Execute predictions using the validation dataset. \n",
    "\n",
    "The deployed model returns probability that a customer will churn. Let's choose an arbitrary 0.8 cutoff to consider that a customer will churn."
   ]
  },
  {
   "cell_type": "code",
   "execution_count": null,
   "id": "joint-manitoba",
   "metadata": {
    "execution": {
     "iopub.execute_input": "2021-05-25T01:32:33.131855Z",
     "iopub.status.busy": "2021-05-25T01:32:33.131272Z",
     "iopub.status.idle": "2021-05-25T01:32:33.133435Z",
     "shell.execute_reply": "2021-05-25T01:32:33.132985Z"
    },
    "papermill": {
     "duration": 0.040961,
     "end_time": "2021-05-25T01:32:33.133535",
     "exception": false,
     "start_time": "2021-05-25T01:32:33.092574",
     "status": "completed"
    },
    "tags": []
   },
   "outputs": [],
   "source": [
    "churn_cutoff = 0.8\n",
    "validate_dataset = \"validation_with_predictions.csv\""
   ]
  },
  {
   "cell_type": "code",
   "execution_count": null,
   "id": "proprietary-lottery",
   "metadata": {
    "execution": {
     "iopub.execute_input": "2021-05-25T01:32:33.212024Z",
     "iopub.status.busy": "2021-05-25T01:32:33.210318Z",
     "iopub.status.idle": "2021-05-25T01:34:16.260255Z",
     "shell.execute_reply": "2021-05-25T01:34:16.260613Z"
    },
    "papermill": {
     "duration": 103.091314,
     "end_time": "2021-05-25T01:34:16.260751",
     "exception": false,
     "start_time": "2021-05-25T01:32:33.169437",
     "status": "completed"
    },
    "tags": []
   },
   "outputs": [],
   "source": [
    "limit = 200  # Need at least 200 samples to compute standard deviations\n",
    "i = 0\n",
    "with open(f\"test_data/{validate_dataset}\", \"w\") as baseline_file:\n",
    "    baseline_file.write(\"probability,prediction,label\\n\")  # our header\n",
    "    with open(\"test_data/validation.csv\", \"r\") as f:\n",
    "        for row in f:\n",
    "            (label, input_cols) = row.split(\",\", 1)\n",
    "            probability = float(predictor.predict(input_cols))\n",
    "            prediction = \"1\" if probability > churn_cutoff else \"0\"\n",
    "            baseline_file.write(f\"{probability},{prediction},{label}\\n\")\n",
    "            i += 1\n",
    "            if i > limit:\n",
    "                break\n",
    "            print(\".\", end=\"\", flush=True)\n",
    "            sleep(0.5)\n",
    "print()\n",
    "print(\"Done!\")"
   ]
  },
  {
   "cell_type": "markdown",
   "id": "psychological-learning",
   "metadata": {
    "papermill": {
     "duration": 0.072032,
     "end_time": "2021-05-25T01:34:16.405182",
     "exception": false,
     "start_time": "2021-05-25T01:34:16.333150",
     "status": "completed"
    },
    "tags": []
   },
   "source": [
    "#### 3.2 Examine the predictions from the model\n"
   ]
  },
  {
   "cell_type": "code",
   "execution_count": null,
   "id": "public-shadow",
   "metadata": {
    "execution": {
     "iopub.execute_input": "2021-05-25T01:34:16.552574Z",
     "iopub.status.busy": "2021-05-25T01:34:16.552135Z",
     "iopub.status.idle": "2021-05-25T01:34:16.698991Z",
     "shell.execute_reply": "2021-05-25T01:34:16.698530Z"
    },
    "papermill": {
     "duration": 0.222149,
     "end_time": "2021-05-25T01:34:16.699105",
     "exception": false,
     "start_time": "2021-05-25T01:34:16.476956",
     "status": "completed"
    },
    "tags": []
   },
   "outputs": [],
   "source": [
    "!head test_data/validation_with_predictions.csv"
   ]
  },
  {
   "cell_type": "markdown",
   "id": "collective-luxury",
   "metadata": {
    "papermill": {
     "duration": 0.072487,
     "end_time": "2021-05-25T01:34:16.844217",
     "exception": false,
     "start_time": "2021-05-25T01:34:16.771730",
     "status": "completed"
    },
    "tags": []
   },
   "source": [
    "#### 3.3 Upload the predictions as a baseline dataset.\n",
    "Now we will upload the predictions made using validation dataset to S3 which will be used for creating model quality baseline statistics and constraints"
   ]
  },
  {
   "cell_type": "code",
   "execution_count": null,
   "id": "inside-allergy",
   "metadata": {
    "execution": {
     "iopub.execute_input": "2021-05-25T01:34:16.992742Z",
     "iopub.status.busy": "2021-05-25T01:34:16.992244Z",
     "iopub.status.idle": "2021-05-25T01:34:16.994533Z",
     "shell.execute_reply": "2021-05-25T01:34:16.994910Z"
    },
    "papermill": {
     "duration": 0.078842,
     "end_time": "2021-05-25T01:34:16.995045",
     "exception": false,
     "start_time": "2021-05-25T01:34:16.916203",
     "status": "completed"
    },
    "tags": []
   },
   "outputs": [],
   "source": [
    "baseline_prefix = prefix + \"/baselining\"\n",
    "baseline_data_prefix = baseline_prefix + \"/data\"\n",
    "baseline_results_prefix = baseline_prefix + \"/results\"\n",
    "\n",
    "baseline_data_uri = f\"s3://{bucket}/{baseline_data_prefix}\"\n",
    "baseline_results_uri = f\"s3://{bucket}/{baseline_results_prefix}\"\n",
    "print(f\"Baseline data uri: {baseline_data_uri}\")\n",
    "print(f\"Baseline results uri: {baseline_results_uri}\")"
   ]
  },
  {
   "cell_type": "code",
   "execution_count": null,
   "id": "treated-cincinnati",
   "metadata": {
    "execution": {
     "iopub.execute_input": "2021-05-25T01:34:17.152082Z",
     "iopub.status.busy": "2021-05-25T01:34:17.151636Z",
     "iopub.status.idle": "2021-05-25T01:34:17.282431Z",
     "shell.execute_reply": "2021-05-25T01:34:17.282810Z"
    },
    "papermill": {
     "duration": 0.215367,
     "end_time": "2021-05-25T01:34:17.282950",
     "exception": false,
     "start_time": "2021-05-25T01:34:17.067583",
     "status": "completed"
    },
    "tags": []
   },
   "outputs": [],
   "source": [
    "baseline_dataset_uri = S3Uploader.upload(f\"test_data/{validate_dataset}\", baseline_data_uri)\n",
    "baseline_dataset_uri"
   ]
  },
  {
   "cell_type": "markdown",
   "id": "unlikely-combination",
   "metadata": {
    "papermill": {
     "duration": 0.072919,
     "end_time": "2021-05-25T01:34:17.428861",
     "exception": false,
     "start_time": "2021-05-25T01:34:17.355942",
     "status": "completed"
    },
    "tags": []
   },
   "source": [
    "#### 3.4 Create a baselining job with validation dataset predictions\n",
    "Define the model quality monitoring object and execute the model quality monitoring baseline job. Model monitor will automatically generate baseline statistics and constraints based on the validation dataset provided."
   ]
  },
  {
   "cell_type": "code",
   "execution_count": null,
   "id": "engaged-kazakhstan",
   "metadata": {
    "execution": {
     "iopub.execute_input": "2021-05-25T01:34:17.578720Z",
     "iopub.status.busy": "2021-05-25T01:34:17.578120Z",
     "iopub.status.idle": "2021-05-25T01:34:17.579963Z",
     "shell.execute_reply": "2021-05-25T01:34:17.580353Z"
    },
    "papermill": {
     "duration": 0.07873,
     "end_time": "2021-05-25T01:34:17.580491",
     "exception": false,
     "start_time": "2021-05-25T01:34:17.501761",
     "status": "completed"
    },
    "tags": []
   },
   "outputs": [],
   "source": [
    "from sagemaker.model_monitor import ModelQualityMonitor\n",
    "from sagemaker.model_monitor import EndpointInput\n",
    "from sagemaker.model_monitor.dataset_format import DatasetFormat"
   ]
  },
  {
   "cell_type": "code",
   "execution_count": null,
   "id": "chemical-karen",
   "metadata": {
    "execution": {
     "iopub.execute_input": "2021-05-25T01:34:17.729850Z",
     "iopub.status.busy": "2021-05-25T01:34:17.729404Z",
     "iopub.status.idle": "2021-05-25T01:34:17.738187Z",
     "shell.execute_reply": "2021-05-25T01:34:17.737744Z"
    },
    "papermill": {
     "duration": 0.084877,
     "end_time": "2021-05-25T01:34:17.738286",
     "exception": false,
     "start_time": "2021-05-25T01:34:17.653409",
     "status": "completed"
    },
    "tags": []
   },
   "outputs": [],
   "source": [
    "# Create the model quality monitoring object\n",
    "churn_model_quality_monitor = ModelQualityMonitor(\n",
    "    role=role,\n",
    "    instance_count=1,\n",
    "    instance_type=\"ml.m5.xlarge\",\n",
    "    volume_size_in_gb=20,\n",
    "    max_runtime_in_seconds=1800,\n",
    "    sagemaker_session=session,\n",
    ")"
   ]
  },
  {
   "cell_type": "code",
   "execution_count": null,
   "id": "undefined-intention",
   "metadata": {
    "execution": {
     "iopub.execute_input": "2021-05-25T01:34:17.886723Z",
     "iopub.status.busy": "2021-05-25T01:34:17.886228Z",
     "iopub.status.idle": "2021-05-25T01:34:17.888067Z",
     "shell.execute_reply": "2021-05-25T01:34:17.888409Z"
    },
    "papermill": {
     "duration": 0.077584,
     "end_time": "2021-05-25T01:34:17.888532",
     "exception": false,
     "start_time": "2021-05-25T01:34:17.810948",
     "status": "completed"
    },
    "tags": []
   },
   "outputs": [],
   "source": [
    "# Name of the model quality baseline job\n",
    "baseline_job_name = f\"DEMO-xgb-churn-model-baseline-job-{datetime.utcnow():%Y-%m-%d-%H%M}\""
   ]
  },
  {
   "cell_type": "code",
   "execution_count": null,
   "id": "blond-caribbean",
   "metadata": {
    "execution": {
     "iopub.execute_input": "2021-05-25T01:34:18.040891Z",
     "iopub.status.busy": "2021-05-25T01:34:18.038360Z",
     "iopub.status.idle": "2021-05-25T01:39:54.621854Z",
     "shell.execute_reply": "2021-05-25T01:39:54.621486Z"
    },
    "papermill": {
     "duration": 336.660892,
     "end_time": "2021-05-25T01:39:54.621969",
     "exception": false,
     "start_time": "2021-05-25T01:34:17.961077",
     "status": "completed"
    },
    "tags": []
   },
   "outputs": [],
   "source": [
    "# Execute the baseline suggestion job.\n",
    "# You will specify problem type, in this case Binary Classification, and provide other required attributes.\n",
    "job = churn_model_quality_monitor.suggest_baseline(\n",
    "    job_name=baseline_job_name,\n",
    "    baseline_dataset=baseline_dataset_uri,\n",
    "    dataset_format=DatasetFormat.csv(header=True),\n",
    "    output_s3_uri=baseline_results_uri,\n",
    "    problem_type=\"BinaryClassification\",\n",
    "    inference_attribute=\"prediction\",\n",
    "    probability_attribute=\"probability\",\n",
    "    ground_truth_attribute=\"label\",\n",
    ")\n",
    "job.wait(logs=False)"
   ]
  },
  {
   "cell_type": "markdown",
   "id": "buried-backing",
   "metadata": {
    "papermill": {
     "duration": 0.085801,
     "end_time": "2021-05-25T01:39:54.793533",
     "exception": false,
     "start_time": "2021-05-25T01:39:54.707732",
     "status": "completed"
    },
    "tags": []
   },
   "source": [
    "#### 3.5 Explore the results of the baselining job\n",
    "You could see the baseline constraints and statistics files are uploaded to the S3 location."
   ]
  },
  {
   "cell_type": "code",
   "execution_count": null,
   "id": "western-kentucky",
   "metadata": {
    "execution": {
     "iopub.execute_input": "2021-05-25T01:39:54.968961Z",
     "iopub.status.busy": "2021-05-25T01:39:54.968504Z",
     "iopub.status.idle": "2021-05-25T01:39:54.970273Z",
     "shell.execute_reply": "2021-05-25T01:39:54.970648Z"
    },
    "papermill": {
     "duration": 0.091182,
     "end_time": "2021-05-25T01:39:54.970778",
     "exception": false,
     "start_time": "2021-05-25T01:39:54.879596",
     "status": "completed"
    },
    "tags": []
   },
   "outputs": [],
   "source": [
    "baseline_job = churn_model_quality_monitor.latest_baselining_job"
   ]
  },
  {
   "cell_type": "markdown",
   "id": "included-kitchen",
   "metadata": {
    "papermill": {
     "duration": 0.086196,
     "end_time": "2021-05-25T01:39:55.142502",
     "exception": false,
     "start_time": "2021-05-25T01:39:55.056306",
     "status": "completed"
    },
    "tags": []
   },
   "source": [
    "##### 3.5.1 View the metrics generated\n",
    "You could see that the baseline statistics and constraints files are already uploaded to S3."
   ]
  },
  {
   "cell_type": "code",
   "execution_count": null,
   "id": "experienced-latin",
   "metadata": {
    "execution": {
     "iopub.execute_input": "2021-05-25T01:39:55.317618Z",
     "iopub.status.busy": "2021-05-25T01:39:55.317167Z",
     "iopub.status.idle": "2021-05-25T01:39:55.415324Z",
     "shell.execute_reply": "2021-05-25T01:39:55.415671Z"
    },
    "papermill": {
     "duration": 0.187583,
     "end_time": "2021-05-25T01:39:55.415825",
     "exception": false,
     "start_time": "2021-05-25T01:39:55.228242",
     "status": "completed"
    },
    "tags": []
   },
   "outputs": [],
   "source": [
    "binary_metrics = baseline_job.baseline_statistics().body_dict[\"binary_classification_metrics\"]\n",
    "pd.json_normalize(binary_metrics).T"
   ]
  },
  {
   "cell_type": "markdown",
   "id": "stock-transition",
   "metadata": {
    "papermill": {
     "duration": 0.086707,
     "end_time": "2021-05-25T01:39:55.589314",
     "exception": false,
     "start_time": "2021-05-25T01:39:55.502607",
     "status": "completed"
    },
    "tags": []
   },
   "source": [
    "##### 3.5.2 View the constraints generated"
   ]
  },
  {
   "cell_type": "code",
   "execution_count": null,
   "id": "defined-growth",
   "metadata": {
    "execution": {
     "iopub.execute_input": "2021-05-25T01:39:55.771056Z",
     "iopub.status.busy": "2021-05-25T01:39:55.770571Z",
     "iopub.status.idle": "2021-05-25T01:39:55.851623Z",
     "shell.execute_reply": "2021-05-25T01:39:55.851152Z"
    },
    "papermill": {
     "duration": 0.175391,
     "end_time": "2021-05-25T01:39:55.851731",
     "exception": false,
     "start_time": "2021-05-25T01:39:55.676340",
     "status": "completed"
    },
    "tags": []
   },
   "outputs": [],
   "source": [
    "pd.DataFrame(baseline_job.suggested_constraints().body_dict[\"binary_classification_constraints\"]).T"
   ]
  },
  {
   "cell_type": "markdown",
   "id": "boolean-principal",
   "metadata": {
    "papermill": {
     "duration": 0.086696,
     "end_time": "2021-05-25T01:39:56.025249",
     "exception": false,
     "start_time": "2021-05-25T01:39:55.938553",
     "status": "completed"
    },
    "tags": []
   },
   "source": [
    "In the above example you can see that model quality monitor suggested a constraint that will ensure that the model F2 score should note drop below 0.625. Few generated constraints _may_ be a tad aggressive like precision, where it will alert on any drops below 1.0. It is recommended to modify this file as necessary prior to using for monitoring."
   ]
  },
  {
   "cell_type": "markdown",
   "id": "satisfied-asset",
   "metadata": {
    "papermill": {
     "duration": 0.08688,
     "end_time": "2021-05-25T01:39:56.198758",
     "exception": false,
     "start_time": "2021-05-25T01:39:56.111878",
     "status": "completed"
    },
    "tags": []
   },
   "source": [
    "##  Section 4 - Setup continuous model monitoring to identify model quality drift <a id='analyze-model-quality-drift'></a>\n",
    "\n",
    "In this section, you will setup a continuous model monitoring job that monitors the quality of the deployed model against the baseline generated in the previous section.  This is to ensure that the quality does not degrade over time.\n",
    "\n",
    "In addition to the generated baseline, Amazon SageMaker Model Quality Monitoring needs two additional inputs - predictions made by the deployed model endpoint and the ground truth data to be provided by the model consuming application.  Since you already enabled data capture on the endpoint, prediction data is captured in S3.  The ground truth data depends on the what your model is predicting and what the business use case is.  In this case, since the model is predicting customer churn, ground truth data may indicate if the customer actually left the company or not.  For the purposes of this notebook, you will generate synthetic data as ground truth."
   ]
  },
  {
   "cell_type": "markdown",
   "id": "injured-avenue",
   "metadata": {
    "papermill": {
     "duration": 0.086955,
     "end_time": "2021-05-25T01:39:56.372274",
     "exception": false,
     "start_time": "2021-05-25T01:39:56.285319",
     "status": "completed"
    },
    "tags": []
   },
   "source": [
    "#### 4.1 Generate prediction data for Model Quality  Monitoring\n",
    "\n",
    "Start generating some artificial traffic.  The cell below starts a thread to send some traffic to the endpoint. Note that you need to stop the kernel to terminate this thread. If there is no traffic, the monitoring jobs are marked as `Failed` since there is no data to process."
   ]
  },
  {
   "cell_type": "code",
   "execution_count": null,
   "id": "honest-merchant",
   "metadata": {
    "execution": {
     "iopub.execute_input": "2021-05-25T01:39:56.553529Z",
     "iopub.status.busy": "2021-05-25T01:39:56.553076Z",
     "iopub.status.idle": "2021-05-25T01:39:56.554931Z",
     "shell.execute_reply": "2021-05-25T01:39:56.555247Z"
    },
    "papermill": {
     "duration": 0.096291,
     "end_time": "2021-05-25T01:39:56.555387",
     "exception": false,
     "start_time": "2021-05-25T01:39:56.459096",
     "status": "completed"
    },
    "tags": []
   },
   "outputs": [],
   "source": [
    "def invoke_endpoint(ep_name, file_name):\n",
    "    with open(file_name, \"r\") as f:\n",
    "        i = 0\n",
    "        for row in f:\n",
    "            payload = row.rstrip(\"\\n\")\n",
    "            response = session.sagemaker_runtime_client.invoke_endpoint(\n",
    "                EndpointName=endpoint_name,\n",
    "                ContentType=\"text/csv\",\n",
    "                Body=payload,\n",
    "                InferenceId=str(i),  # unique ID per row\n",
    "            )[\"Body\"].read()\n",
    "            i += 1\n",
    "            sleep(1)\n",
    "\n",
    "\n",
    "def invoke_endpoint_forever():\n",
    "    while True:\n",
    "        invoke_endpoint(endpoint_name, \"test_data/test-dataset-input-cols.csv\")\n",
    "\n",
    "\n",
    "thread = Thread(target=invoke_endpoint_forever)\n",
    "thread.start()"
   ]
  },
  {
   "cell_type": "markdown",
   "id": "premier-ukraine",
   "metadata": {
    "papermill": {
     "duration": 0.086215,
     "end_time": "2021-05-25T01:39:56.729240",
     "exception": false,
     "start_time": "2021-05-25T01:39:56.643025",
     "status": "completed"
    },
    "tags": []
   },
   "source": [
    "Notice the new attribute `inferenceId`, which we're setting when invoking the endpoint. This is used to join the prediction data with the ground truth data."
   ]
  },
  {
   "cell_type": "markdown",
   "id": "separate-fraction",
   "metadata": {
    "papermill": {
     "duration": 0.086074,
     "end_time": "2021-05-25T01:39:56.901137",
     "exception": false,
     "start_time": "2021-05-25T01:39:56.815063",
     "status": "completed"
    },
    "tags": []
   },
   "source": [
    "#### 4.2 View captured data\n",
    "\n",
    "Now list the data capture files stored in Amazon S3. You should expect to see different files from different time periods organized based on the hour in which the invocation occurred. The format of the Amazon S3 path is:\n",
    "\n",
    "`s3://{destination-bucket-prefix}/{endpoint-name}/{variant-name}/yyyy/mm/dd/hh/filename.jsonl`"
   ]
  },
  {
   "cell_type": "code",
   "execution_count": null,
   "id": "subjective-sacrifice",
   "metadata": {
    "execution": {
     "iopub.execute_input": "2021-05-25T01:39:57.088885Z",
     "iopub.status.busy": "2021-05-25T01:39:57.088390Z",
     "iopub.status.idle": "2021-05-25T01:41:06.252591Z",
     "shell.execute_reply": "2021-05-25T01:41:06.252950Z"
    },
    "papermill": {
     "duration": 69.265644,
     "end_time": "2021-05-25T01:41:06.253085",
     "exception": false,
     "start_time": "2021-05-25T01:39:56.987441",
     "status": "completed"
    },
    "tags": []
   },
   "outputs": [],
   "source": [
    "print(\"Waiting for captures to show up\", end=\"\")\n",
    "for _ in range(120):\n",
    "    capture_files = sorted(S3Downloader.list(f\"{s3_capture_upload_path}/{endpoint_name}\"))\n",
    "    if capture_files:\n",
    "        capture_file = S3Downloader.read_file(capture_files[-1]).split(\"\\n\")\n",
    "        capture_record = json.loads(capture_file[0])\n",
    "        if \"inferenceId\" in capture_record[\"eventMetadata\"]:\n",
    "            break\n",
    "    print(\".\", end=\"\", flush=True)\n",
    "    sleep(1)\n",
    "print()\n",
    "print(\"Found Capture Files:\")\n",
    "print(\"\\n \".join(capture_files[-3:]))"
   ]
  },
  {
   "cell_type": "markdown",
   "id": "stainless-publication",
   "metadata": {
    "papermill": {
     "duration": 0.0953,
     "end_time": "2021-05-25T01:41:06.443785",
     "exception": false,
     "start_time": "2021-05-25T01:41:06.348485",
     "status": "completed"
    },
    "tags": []
   },
   "source": [
    "Next, view the contents of a single capture file. Here you should see all the data captured in an Amazon SageMaker specific JSON-line formatted file. Take a quick peek at the first few lines in the captured file."
   ]
  },
  {
   "cell_type": "code",
   "execution_count": null,
   "id": "random-norwegian",
   "metadata": {
    "execution": {
     "iopub.execute_input": "2021-05-25T01:41:06.638313Z",
     "iopub.status.busy": "2021-05-25T01:41:06.637828Z",
     "iopub.status.idle": "2021-05-25T01:41:06.639966Z",
     "shell.execute_reply": "2021-05-25T01:41:06.640301Z"
    },
    "papermill": {
     "duration": 0.101433,
     "end_time": "2021-05-25T01:41:06.640423",
     "exception": false,
     "start_time": "2021-05-25T01:41:06.538990",
     "status": "completed"
    },
    "tags": []
   },
   "outputs": [],
   "source": [
    "print(\"\\n\".join(capture_file[-3:-1]))"
   ]
  },
  {
   "cell_type": "markdown",
   "id": "spiritual-government",
   "metadata": {
    "papermill": {
     "duration": 0.095205,
     "end_time": "2021-05-25T01:41:06.831192",
     "exception": false,
     "start_time": "2021-05-25T01:41:06.735987",
     "status": "completed"
    },
    "tags": []
   },
   "source": [
    "Finally, the contents of a single line is present below in a formatted JSON file so that you can observe a little better.\n",
    "\n",
    "Again, notice the `inferenceId` attribute that is set as part of the invoke_endpoint call.  If this is present, it will be used to join with ground truth data (otherwise `eventId` will be used):"
   ]
  },
  {
   "cell_type": "code",
   "execution_count": null,
   "id": "trained-benchmark",
   "metadata": {
    "execution": {
     "iopub.execute_input": "2021-05-25T01:41:07.025675Z",
     "iopub.status.busy": "2021-05-25T01:41:07.025187Z",
     "iopub.status.idle": "2021-05-25T01:41:07.027431Z",
     "shell.execute_reply": "2021-05-25T01:41:07.027769Z"
    },
    "papermill": {
     "duration": 0.101387,
     "end_time": "2021-05-25T01:41:07.027886",
     "exception": false,
     "start_time": "2021-05-25T01:41:06.926499",
     "status": "completed"
    },
    "tags": []
   },
   "outputs": [],
   "source": [
    "print(json.dumps(capture_record, indent=2))"
   ]
  },
  {
   "cell_type": "markdown",
   "id": "lesser-amateur",
   "metadata": {
    "papermill": {
     "duration": 0.095945,
     "end_time": "2021-05-25T01:41:07.219999",
     "exception": false,
     "start_time": "2021-05-25T01:41:07.124054",
     "status": "completed"
    },
    "tags": []
   },
   "source": [
    "#### 4.3 Generate synthetic ground truth\n",
    "\n",
    "Next, start generating ground truth data. The model quality job will fail if there's no ground truth data to merge."
   ]
  },
  {
   "cell_type": "code",
   "execution_count": null,
   "id": "executive-prayer",
   "metadata": {
    "execution": {
     "iopub.execute_input": "2021-05-25T01:41:07.419839Z",
     "iopub.status.busy": "2021-05-25T01:41:07.419256Z",
     "iopub.status.idle": "2021-05-25T01:41:07.420962Z",
     "shell.execute_reply": "2021-05-25T01:41:07.421302Z"
    },
    "papermill": {
     "duration": 0.105889,
     "end_time": "2021-05-25T01:41:07.421424",
     "exception": false,
     "start_time": "2021-05-25T01:41:07.315535",
     "status": "completed"
    },
    "tags": []
   },
   "outputs": [],
   "source": [
    "import random\n",
    "\n",
    "\n",
    "def ground_truth_with_id(inference_id):\n",
    "    random.seed(inference_id)  # to get consistent results\n",
    "    rand = random.random()\n",
    "    return {\n",
    "        \"groundTruthData\": {\n",
    "            \"data\": \"1\" if rand < 0.7 else \"0\",  # randomly generate positive labels 70% of the time\n",
    "            \"encoding\": \"CSV\",\n",
    "        },\n",
    "        \"eventMetadata\": {\n",
    "            \"eventId\": str(inference_id),\n",
    "        },\n",
    "        \"eventVersion\": \"0\",\n",
    "    }\n",
    "\n",
    "\n",
    "def upload_ground_truth(records, upload_time):\n",
    "    fake_records = [json.dumps(r) for r in records]\n",
    "    data_to_upload = \"\\n\".join(fake_records)\n",
    "    target_s3_uri = f\"{ground_truth_upload_path}/{upload_time:%Y/%m/%d/%H/%M%S}.jsonl\"\n",
    "    print(f\"Uploading {len(fake_records)} records to\", target_s3_uri)\n",
    "    S3Uploader.upload_string_as_file_body(data_to_upload, target_s3_uri)"
   ]
  },
  {
   "cell_type": "code",
   "execution_count": null,
   "id": "centered-dress",
   "metadata": {
    "execution": {
     "iopub.execute_input": "2021-05-25T01:41:07.630695Z",
     "iopub.status.busy": "2021-05-25T01:41:07.630200Z",
     "iopub.status.idle": "2021-05-25T01:41:07.637192Z",
     "shell.execute_reply": "2021-05-25T01:41:07.637739Z"
    },
    "papermill": {
     "duration": 0.118595,
     "end_time": "2021-05-25T01:41:07.637910",
     "exception": false,
     "start_time": "2021-05-25T01:41:07.519315",
     "status": "completed"
    },
    "tags": []
   },
   "outputs": [],
   "source": [
    "NUM_GROUND_TRUTH_RECORDS = 334  # 334 are the number of rows in data we're sending for inference\n",
    "\n",
    "\n",
    "def generate_fake_ground_truth_forever():\n",
    "    j = 0\n",
    "    while True:\n",
    "        fake_records = [ground_truth_with_id(i) for i in range(NUM_GROUND_TRUTH_RECORDS)]\n",
    "        upload_ground_truth(fake_records, datetime.utcnow())\n",
    "        j = (j + 1) % 5\n",
    "        sleep(60 * 60)  # do this once an hour\n",
    "\n",
    "\n",
    "gt_thread = Thread(target=generate_fake_ground_truth_forever)\n",
    "gt_thread.start()"
   ]
  },
  {
   "cell_type": "markdown",
   "id": "available-loading",
   "metadata": {
    "papermill": {
     "duration": 0.095918,
     "end_time": "2021-05-25T01:41:07.843986",
     "exception": false,
     "start_time": "2021-05-25T01:41:07.748068",
     "status": "completed"
    },
    "tags": []
   },
   "source": [
    "#### 4.4 Create a monitoring schedule\n",
    "\n",
    "Now that you have the baseline information and ground truth labels, create a monitoring schedule to run model quality monitoring job."
   ]
  },
  {
   "cell_type": "code",
   "execution_count": null,
   "id": "homeless-exploration",
   "metadata": {
    "execution": {
     "iopub.execute_input": "2021-05-25T01:41:08.039200Z",
     "iopub.status.busy": "2021-05-25T01:41:08.038761Z",
     "iopub.status.idle": "2021-05-25T01:41:08.040938Z",
     "shell.execute_reply": "2021-05-25T01:41:08.040566Z"
    },
    "papermill": {
     "duration": 0.101065,
     "end_time": "2021-05-25T01:41:08.041039",
     "exception": false,
     "start_time": "2021-05-25T01:41:07.939974",
     "status": "completed"
    },
    "tags": []
   },
   "outputs": [],
   "source": [
    "##Monitoring schedule name\n",
    "churn_monitor_schedule_name = (\n",
    "    f\"DEMO-xgb-churn-monitoring-schedule-{datetime.utcnow():%Y-%m-%d-%H%M}\"\n",
    ")"
   ]
  },
  {
   "cell_type": "markdown",
   "id": "standing-chest",
   "metadata": {
    "papermill": {
     "duration": 0.096351,
     "end_time": "2021-05-25T01:41:08.233736",
     "exception": false,
     "start_time": "2021-05-25T01:41:08.137385",
     "status": "completed"
    },
    "tags": []
   },
   "source": [
    "For the monitoring schedule you need to specify how to interpret an endpoint's output. Given that the endpoint in this notebook outputs CSV data, the below code specifies that the first column of the output, `0`, contains a probability (of churn in this example). You will further specify `0.5` as the cutoff  used to determine a positive label (that is, predict that a customer will churn)."
   ]
  },
  {
   "cell_type": "code",
   "execution_count": null,
   "id": "varied-conditions",
   "metadata": {
    "execution": {
     "iopub.execute_input": "2021-05-25T01:41:08.429107Z",
     "iopub.status.busy": "2021-05-25T01:41:08.428634Z",
     "iopub.status.idle": "2021-05-25T01:41:08.430244Z",
     "shell.execute_reply": "2021-05-25T01:41:08.430579Z"
    },
    "papermill": {
     "duration": 0.100934,
     "end_time": "2021-05-25T01:41:08.430726",
     "exception": false,
     "start_time": "2021-05-25T01:41:08.329792",
     "status": "completed"
    },
    "tags": []
   },
   "outputs": [],
   "source": [
    "# Create an enpointInput\n",
    "endpointInput = EndpointInput(\n",
    "    endpoint_name=predictor.endpoint_name,\n",
    "    probability_attribute=\"0\",\n",
    "    probability_threshold_attribute=0.5,\n",
    "    destination=\"/opt/ml/processing/input_data\",\n",
    ")"
   ]
  },
  {
   "cell_type": "code",
   "execution_count": null,
   "id": "cutting-puzzle",
   "metadata": {
    "execution": {
     "iopub.execute_input": "2021-05-25T01:41:08.631041Z",
     "iopub.status.busy": "2021-05-25T01:41:08.630463Z",
     "iopub.status.idle": "2021-05-25T01:41:09.371539Z",
     "shell.execute_reply": "2021-05-25T01:41:09.371909Z"
    },
    "papermill": {
     "duration": 0.845773,
     "end_time": "2021-05-25T01:41:09.372048",
     "exception": false,
     "start_time": "2021-05-25T01:41:08.526275",
     "status": "completed"
    },
    "tags": []
   },
   "outputs": [],
   "source": [
    "# Create the monitoring schedule to execute every hour.\n",
    "from sagemaker.model_monitor import CronExpressionGenerator\n",
    "\n",
    "response = churn_model_quality_monitor.create_monitoring_schedule(\n",
    "    monitor_schedule_name=churn_monitor_schedule_name,\n",
    "    endpoint_input=endpointInput,\n",
    "    output_s3_uri=baseline_results_uri,\n",
    "    problem_type=\"BinaryClassification\",\n",
    "    ground_truth_input=ground_truth_upload_path,\n",
    "    constraints=baseline_job.suggested_constraints(),\n",
    "    schedule_cron_expression=CronExpressionGenerator.hourly(),\n",
    "    enable_cloudwatch_metrics=True,\n",
    ")"
   ]
  },
  {
   "cell_type": "code",
   "execution_count": null,
   "id": "foster-pulse",
   "metadata": {
    "execution": {
     "iopub.execute_input": "2021-05-25T01:41:09.575332Z",
     "iopub.status.busy": "2021-05-25T01:41:09.574866Z",
     "iopub.status.idle": "2021-05-25T01:41:09.614372Z",
     "shell.execute_reply": "2021-05-25T01:41:09.614756Z"
    },
    "papermill": {
     "duration": 0.145926,
     "end_time": "2021-05-25T01:41:09.614896",
     "exception": false,
     "start_time": "2021-05-25T01:41:09.468970",
     "status": "completed"
    },
    "tags": []
   },
   "outputs": [],
   "source": [
    "# Create the monitoring schedule\n",
    "# You will see the monitoring schedule in the 'Scheduled' status\n",
    "churn_model_quality_monitor.describe_schedule()"
   ]
  },
  {
   "cell_type": "markdown",
   "id": "changing-spencer",
   "metadata": {
    "papermill": {
     "duration": 0.096727,
     "end_time": "2021-05-25T01:41:09.808525",
     "exception": false,
     "start_time": "2021-05-25T01:41:09.711798",
     "status": "completed"
    },
    "tags": []
   },
   "source": [
    "#### 4.5 Examine monitoring schedule executions"
   ]
  },
  {
   "cell_type": "code",
   "execution_count": null,
   "id": "likely-greene",
   "metadata": {
    "execution": {
     "iopub.execute_input": "2021-05-25T01:41:10.007686Z",
     "iopub.status.busy": "2021-05-25T01:41:10.007260Z",
     "iopub.status.idle": "2021-05-25T01:41:10.076727Z",
     "shell.execute_reply": "2021-05-25T01:41:10.077067Z"
    },
    "papermill": {
     "duration": 0.172016,
     "end_time": "2021-05-25T01:41:10.077202",
     "exception": false,
     "start_time": "2021-05-25T01:41:09.905186",
     "status": "completed"
    },
    "tags": []
   },
   "outputs": [],
   "source": [
    "# Initially there will be no executions since the first execution happens at the top of the hour\n",
    "# Note that it is common for the execution to luanch upto 20 min after the hour.\n",
    "executions = churn_model_quality_monitor.list_executions()\n",
    "executions"
   ]
  },
  {
   "cell_type": "code",
   "execution_count": null,
   "id": "overhead-background",
   "metadata": {
    "execution": {
     "iopub.execute_input": "2021-05-25T01:41:10.279240Z",
     "iopub.status.busy": "2021-05-25T01:41:10.278737Z",
     "iopub.status.idle": "2021-05-25T02:06:20.512150Z",
     "shell.execute_reply": "2021-05-25T02:06:20.512502Z"
    },
    "papermill": {
     "duration": 1510.337753,
     "end_time": "2021-05-25T02:06:20.512635",
     "exception": false,
     "start_time": "2021-05-25T01:41:10.174882",
     "status": "completed"
    },
    "tags": []
   },
   "outputs": [],
   "source": [
    "# Wait for the first execution of the monitoring_schedule\n",
    "print(\"Waiting for first execution\", end=\"\")\n",
    "while True:\n",
    "    execution = churn_model_quality_monitor.describe_schedule().get(\n",
    "        \"LastMonitoringExecutionSummary\"\n",
    "    )\n",
    "    if execution:\n",
    "        break\n",
    "    print(\".\", end=\"\", flush=True)\n",
    "    sleep(10)\n",
    "print()\n",
    "print(\"Execution found!\")"
   ]
  },
  {
   "cell_type": "code",
   "execution_count": null,
   "id": "further-award",
   "metadata": {
    "execution": {
     "iopub.execute_input": "2021-05-25T02:06:20.770243Z",
     "iopub.status.busy": "2021-05-25T02:06:20.769730Z",
     "iopub.status.idle": "2021-05-25T02:06:30.868374Z",
     "shell.execute_reply": "2021-05-25T02:06:30.868753Z"
    },
    "papermill": {
     "duration": 10.229565,
     "end_time": "2021-05-25T02:06:30.868894",
     "exception": false,
     "start_time": "2021-05-25T02:06:20.639329",
     "status": "completed"
    },
    "tags": []
   },
   "outputs": [],
   "source": [
    "while not executions:\n",
    "    executions = churn_model_quality_monitor.list_executions()\n",
    "    sleep(10)\n",
    "latest_execution = executions[-1]\n",
    "latest_execution.describe()"
   ]
  },
  {
   "cell_type": "markdown",
   "id": "positive-meaning",
   "metadata": {
    "papermill": {
     "duration": 0.124437,
     "end_time": "2021-05-25T02:06:31.117695",
     "exception": false,
     "start_time": "2021-05-25T02:06:30.993258",
     "status": "completed"
    },
    "tags": []
   },
   "source": [
    "##### Inspect a specific execution (latest execution)\n",
    "In the previous cell, you picked up the latest completed or failed scheduled execution. Here are the possible terminal states and what each of them mean: \n",
    "* Completed - This means the monitoring execution completed and no issues were found in the violations report.\n",
    "* CompletedWithViolations - This means the execution completed, but constraint violations were detected.\n",
    "* Failed - The monitoring execution failed, maybe due to client error (perhaps incorrect role permissions) or infrastructure issues. Further examination of FailureReason and ExitMessage is necessary to identify what exactly happened.\n",
    "* Stopped - job exceeded max runtime or was manually stopped."
   ]
  },
  {
   "cell_type": "code",
   "execution_count": null,
   "id": "decent-administration",
   "metadata": {
    "execution": {
     "iopub.execute_input": "2021-05-25T02:06:31.373420Z",
     "iopub.status.busy": "2021-05-25T02:06:31.372954Z",
     "iopub.status.idle": "2021-05-18T01:14:21.744095Z",
     "shell.execute_reply": "2021-05-18T01:14:21.744454Z"
    },
    "papermill": {
     "duration": null,
     "end_time": null,
     "exception": false,
     "start_time": "2021-05-25T02:06:31.242102",
     "status": "running"
    },
    "tags": []
   },
   "outputs": [],
   "source": [
    "status = execution[\"MonitoringExecutionStatus\"]\n",
    "\n",
    "while status in [\"Pending\", \"InProgress\"]:\n",
    "    print(\"Waiting for execution to finish\", end=\"\")\n",
    "    latest_execution.wait(logs=False)\n",
    "    latest_job = latest_execution.describe()\n",
    "    print()\n",
    "    print(f\"{latest_job['ProcessingJobName']} job status:\", latest_job[\"ProcessingJobStatus\"])\n",
    "    print(\n",
    "        f\"{latest_job['ProcessingJobName']} job exit message, if any:\",\n",
    "        latest_job.get(\"ExitMessage\"),\n",
    "    )\n",
    "    print(\n",
    "        f\"{latest_job['ProcessingJobName']} job failure reason, if any:\",\n",
    "        latest_job.get(\"FailureReason\"),\n",
    "    )\n",
    "    sleep(\n",
    "        30\n",
    "    )  # model quality executions consist of two Processing jobs, wait for second job to start\n",
    "    latest_execution = churn_model_quality_monitor.list_executions()[-1]\n",
    "    execution = churn_model_quality_monitor.describe_schedule()[\"LastMonitoringExecutionSummary\"]\n",
    "    status = execution[\"MonitoringExecutionStatus\"]\n",
    "\n",
    "print(\"Execution status is:\", status)\n",
    "\n",
    "if status != \"Completed\":\n",
    "    print(execution)\n",
    "    print(\n",
    "        \"====STOP==== \\n No completed executions to inspect further. Please wait till an execution completes or investigate previously reported failures.\"\n",
    "    )"
   ]
  },
  {
   "cell_type": "code",
   "execution_count": null,
   "id": "turkish-bermuda",
   "metadata": {
    "execution": {
     "iopub.execute_input": "2021-05-18T01:14:22.063559Z",
     "iopub.status.busy": "2021-05-18T01:14:22.063104Z",
     "iopub.status.idle": "2021-05-18T01:14:22.130069Z",
     "shell.execute_reply": "2021-05-18T01:14:22.130451Z"
    },
    "papermill": {
     "duration": null,
     "end_time": null,
     "exception": null,
     "start_time": null,
     "status": "pending"
    },
    "tags": []
   },
   "outputs": [],
   "source": [
    "latest_execution = churn_model_quality_monitor.list_executions()[-1]\n",
    "report_uri = latest_execution.describe()[\"ProcessingOutputConfig\"][\"Outputs\"][0][\"S3Output\"][\n",
    "    \"S3Uri\"\n",
    "]\n",
    "print(\"Report Uri:\", report_uri)"
   ]
  },
  {
   "cell_type": "markdown",
   "id": "foster-carrier",
   "metadata": {
    "papermill": {
     "duration": null,
     "end_time": null,
     "exception": null,
     "start_time": null,
     "status": "pending"
    },
    "tags": []
   },
   "source": [
    "#### 4.5 View violations generated by monitoring schedule"
   ]
  },
  {
   "cell_type": "markdown",
   "id": "desperate-sharing",
   "metadata": {
    "papermill": {
     "duration": null,
     "end_time": null,
     "exception": null,
     "start_time": null,
     "status": "pending"
    },
    "tags": []
   },
   "source": [
    "If there are any violations compared to the baseline, they will be listed in the reports uploaded to S3."
   ]
  },
  {
   "cell_type": "code",
   "execution_count": null,
   "id": "liquid-pilot",
   "metadata": {
    "execution": {
     "iopub.execute_input": "2021-05-18T01:14:23.084023Z",
     "iopub.status.busy": "2021-05-18T01:14:23.083534Z",
     "iopub.status.idle": "2021-05-18T01:14:23.173056Z",
     "shell.execute_reply": "2021-05-18T01:14:23.173421Z"
    },
    "papermill": {
     "duration": null,
     "end_time": null,
     "exception": null,
     "start_time": null,
     "status": "pending"
    },
    "tags": []
   },
   "outputs": [],
   "source": [
    "pd.options.display.max_colwidth = None\n",
    "violations = latest_execution.constraint_violations().body_dict[\"violations\"]\n",
    "violations_df = pd.json_normalize(violations)\n",
    "violations_df.head(10)"
   ]
  },
  {
   "cell_type": "markdown",
   "id": "colored-closer",
   "metadata": {
    "papermill": {
     "duration": null,
     "end_time": null,
     "exception": null,
     "start_time": null,
     "status": "pending"
    },
    "tags": []
   },
   "source": [
    "Here you can see that one of the violations generated is that the f2 score is less than the threshold value set as part of baselining."
   ]
  },
  {
   "cell_type": "markdown",
   "id": "seeing-impression",
   "metadata": {
    "papermill": {
     "duration": null,
     "end_time": null,
     "exception": null,
     "start_time": null,
     "status": "pending"
    },
    "tags": []
   },
   "source": [
    "## Section 5 - Analyze model quality CloudWatch metrics <a id='analyze-cloudwatch-metrics'></a> \n",
    "\n",
    "In addition to the violations, the monitoring schedule also emits CloudWatch metrics. In this section, you will view the metrics generated and setup an CloudWatch alarm to be triggered when the model quality drifts from the baseline thresholds. You could use CloudWatch alarms to trigger remedial actions such as retraining your model or updating the training dataset."
   ]
  },
  {
   "cell_type": "markdown",
   "id": "productive-choir",
   "metadata": {
    "papermill": {
     "duration": null,
     "end_time": null,
     "exception": null,
     "start_time": null,
     "status": "pending"
    },
    "tags": []
   },
   "source": [
    "#### 5.1 List the CW metrics generated."
   ]
  },
  {
   "cell_type": "code",
   "execution_count": null,
   "id": "perfect-underwear",
   "metadata": {
    "execution": {
     "iopub.execute_input": "2021-05-18T01:14:24.444686Z",
     "iopub.status.busy": "2021-05-18T01:14:24.444206Z",
     "iopub.status.idle": "2021-05-18T01:14:24.465511Z",
     "shell.execute_reply": "2021-05-18T01:14:24.465043Z"
    },
    "papermill": {
     "duration": null,
     "end_time": null,
     "exception": null,
     "start_time": null,
     "status": "pending"
    },
    "tags": []
   },
   "outputs": [],
   "source": [
    "# Create CloudWatch client\n",
    "cw_client = boto3.Session().client(\"cloudwatch\")\n",
    "\n",
    "namespace = \"aws/sagemaker/Endpoints/model-metrics\"\n",
    "\n",
    "cw_dimensions = [\n",
    "    {\"Name\": \"Endpoint\", \"Value\": endpoint_name},\n",
    "    {\"Name\": \"MonitoringSchedule\", \"Value\": churn_monitor_schedule_name},\n",
    "]"
   ]
  },
  {
   "cell_type": "code",
   "execution_count": null,
   "id": "front-arctic",
   "metadata": {
    "execution": {
     "iopub.execute_input": "2021-05-18T01:14:24.786748Z",
     "iopub.status.busy": "2021-05-18T01:14:24.786002Z",
     "iopub.status.idle": "2021-05-18T01:14:24.830991Z",
     "shell.execute_reply": "2021-05-18T01:14:24.830535Z"
    },
    "papermill": {
     "duration": null,
     "end_time": null,
     "exception": null,
     "start_time": null,
     "status": "pending"
    },
    "tags": []
   },
   "outputs": [],
   "source": [
    "# List metrics through the pagination interface\n",
    "paginator = cw_client.get_paginator(\"list_metrics\")\n",
    "\n",
    "for response in paginator.paginate(Dimensions=cw_dimensions, Namespace=namespace):\n",
    "    model_quality_metrics = response[\"Metrics\"]\n",
    "    for metric in model_quality_metrics:\n",
    "        print(metric[\"MetricName\"])"
   ]
  },
  {
   "cell_type": "markdown",
   "id": "discrete-coverage",
   "metadata": {
    "papermill": {
     "duration": null,
     "end_time": null,
     "exception": null,
     "start_time": null,
     "status": "pending"
    },
    "tags": []
   },
   "source": [
    "#### 5.2 Create a CloudWatch Alarm\n",
    "\n",
    "Based on the cloud watch metrics, you can create a cloud watch alarm when a specific metric does not meet the threshold configured. Here you will create an alarm if the f2 value of the model fall below the threshold suggested by the baseline constraints."
   ]
  },
  {
   "cell_type": "code",
   "execution_count": null,
   "id": "sufficient-regression",
   "metadata": {
    "execution": {
     "iopub.execute_input": "2021-05-18T01:14:25.479577Z",
     "iopub.status.busy": "2021-05-18T01:14:25.479097Z",
     "iopub.status.idle": "2021-05-18T01:14:25.581238Z",
     "shell.execute_reply": "2021-05-18T01:14:25.580789Z"
    },
    "papermill": {
     "duration": null,
     "end_time": null,
     "exception": null,
     "start_time": null,
     "status": "pending"
    },
    "tags": []
   },
   "outputs": [],
   "source": [
    "alarm_name = \"MODEL_QUALITY_F2_SCORE\"\n",
    "alarm_desc = (\n",
    "    \"Trigger an CloudWatch alarm when the f2 score drifts away from the baseline constraints\"\n",
    ")\n",
    "mdoel_quality_f2_drift_threshold = (\n",
    "    0.625  ##Setting this threshold purposefully low to see the alarm quickly.\n",
    ")\n",
    "metric_name = \"f2\"\n",
    "namespace = \"aws/sagemaker/Endpoints/model-metrics\"\n",
    "\n",
    "cw_client.put_metric_alarm(\n",
    "    AlarmName=alarm_name,\n",
    "    AlarmDescription=alarm_desc,\n",
    "    ActionsEnabled=True,\n",
    "    MetricName=metric_name,\n",
    "    Namespace=namespace,\n",
    "    Statistic=\"Average\",\n",
    "    Dimensions=[\n",
    "        {\"Name\": \"Endpoint\", \"Value\": endpoint_name},\n",
    "        {\"Name\": \"MonitoringSchedule\", \"Value\": churn_monitor_schedule_name},\n",
    "    ],\n",
    "    Period=600,\n",
    "    EvaluationPeriods=1,\n",
    "    DatapointsToAlarm=1,\n",
    "    Threshold=mdoel_quality_f2_drift_threshold,\n",
    "    ComparisonOperator=\"LessThanOrEqualToThreshold\",\n",
    "    TreatMissingData=\"breaching\",\n",
    ")"
   ]
  },
  {
   "cell_type": "markdown",
   "id": "emotional-horizontal",
   "metadata": {
    "papermill": {
     "duration": null,
     "end_time": null,
     "exception": null,
     "start_time": null,
     "status": "pending"
    },
    "tags": []
   },
   "source": [
    "#### 5.3 Validation\n",
    "In a few minutes, you should see a CloudWatch alarm created. The alarm will first be in \"Insufficient Data\" state and moves into \"Alert\" state. This can be verified in the CloudWatch console"
   ]
  },
  {
   "cell_type": "markdown",
   "id": "secure-authentication",
   "metadata": {
    "papermill": {
     "duration": null,
     "end_time": null,
     "exception": null,
     "start_time": null,
     "status": "pending"
    },
    "tags": []
   },
   "source": [
    "<IMG src=images/CW_ALARM_Model_Quality_1.png/>"
   ]
  },
  {
   "cell_type": "markdown",
   "id": "important-hamburg",
   "metadata": {
    "papermill": {
     "duration": null,
     "end_time": null,
     "exception": null,
     "start_time": null,
     "status": "pending"
    },
    "tags": []
   },
   "source": [
    "<IMG src=images/CW_ALARM_Model_Quality_2.png/>"
   ]
  },
  {
   "cell_type": "markdown",
   "id": "administrative-allowance",
   "metadata": {
    "papermill": {
     "duration": null,
     "end_time": null,
     "exception": null,
     "start_time": null,
     "status": "pending"
    },
    "tags": []
   },
   "source": [
    "Once the CW Alarm is generated, you can decide on what actions you want to take on these alerts.  A possible action could be updating the training data an retraining the model \n"
   ]
  },
  {
   "cell_type": "markdown",
   "id": "periodic-ordering",
   "metadata": {
    "papermill": {
     "duration": null,
     "end_time": null,
     "exception": null,
     "start_time": null,
     "status": "pending"
    },
    "tags": []
   },
   "source": [
    "## Clean up <a id='cleanup'></a>  "
   ]
  },
  {
   "cell_type": "markdown",
   "id": "increasing-motor",
   "metadata": {
    "papermill": {
     "duration": null,
     "end_time": null,
     "exception": null,
     "start_time": null,
     "status": "pending"
    },
    "tags": []
   },
   "source": [
    "You can keep your endpoint running to continue capturing data. If you do not plan to collect more data or use this endpoint further, you should delete the endpoint to avoid incurring additional charges. Note that deleting your endpoint does not delete the data that was captured during the model invocations. That data persists in Amazon S3 until you delete it yourself.\n",
    "\n",
    "But before that, you need to delete the schedule first."
   ]
  },
  {
   "cell_type": "code",
   "execution_count": null,
   "id": "subject-mouse",
   "metadata": {
    "execution": {
     "iopub.execute_input": "2021-05-18T01:14:27.810178Z",
     "iopub.status.busy": "2021-05-18T01:14:27.809662Z",
     "iopub.status.idle": "2021-05-18T01:14:38.375144Z",
     "shell.execute_reply": "2021-05-18T01:14:38.374624Z"
    },
    "papermill": {
     "duration": null,
     "end_time": null,
     "exception": null,
     "start_time": null,
     "status": "pending"
    },
    "tags": []
   },
   "outputs": [],
   "source": [
    "churn_model_quality_monitor.delete_monitoring_schedule()"
   ]
  },
  {
   "cell_type": "code",
   "execution_count": null,
   "id": "selective-transformation",
   "metadata": {
    "execution": {
     "iopub.execute_input": "2021-05-18T01:14:38.697032Z",
     "iopub.status.busy": "2021-05-18T01:14:38.696562Z",
     "iopub.status.idle": "2021-05-18T01:14:39.174802Z",
     "shell.execute_reply": "2021-05-18T01:14:39.174034Z"
    },
    "papermill": {
     "duration": null,
     "end_time": null,
     "exception": null,
     "start_time": null,
     "status": "pending"
    },
    "tags": []
   },
   "outputs": [],
   "source": [
    "predictor.delete_endpoint()"
   ]
  },
  {
   "cell_type": "code",
   "execution_count": null,
   "id": "interpreted-newman",
   "metadata": {
    "papermill": {
     "duration": null,
     "end_time": null,
     "exception": null,
     "start_time": null,
     "status": "pending"
    },
    "tags": []
   },
   "outputs": [],
   "source": []
  }
 ],
 "metadata": {
  "instance_type": "ml.t3.medium",
  "kernelspec": {
   "display_name": "Environment (conda_anaconda3)",
   "language": "python",
   "name": "conda_anaconda3"
  },
  "language_info": {
   "codemirror_mode": {
    "name": "ipython",
    "version": 3
   },
   "file_extension": ".py",
   "mimetype": "text/x-python",
   "name": "python",
   "nbconvert_exporter": "python",
   "pygments_lexer": "ipython3",
   "version": "3.7.6"
  }
 },
 "nbformat": 4,
 "nbformat_minor": 5
}