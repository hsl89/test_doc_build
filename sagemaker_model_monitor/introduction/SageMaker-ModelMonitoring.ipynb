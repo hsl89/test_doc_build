{
 "cells": [
  {
   "cell_type": "code",
   "execution_count": null,
   "id": "64bb0392",
   "metadata": {
    "execution": {
     "iopub.execute_input": "2021-05-25T01:25:14.661785Z",
     "iopub.status.busy": "2021-05-25T01:25:14.661195Z",
     "iopub.status.idle": "2021-05-25T01:25:14.663429Z",
     "shell.execute_reply": "2021-05-25T01:25:14.662965Z"
    },
    "papermill": {
     "duration": 0.028047,
     "end_time": "2021-05-25T01:25:14.663539",
     "exception": false,
     "start_time": "2021-05-25T01:25:14.635492",
     "status": "completed"
    },
    "tags": [
     "injected-parameters"
    ]
   },
   "outputs": [],
   "source": [
    "# Parameters\n",
    "kms_key = \"arn:aws:kms:us-west-2:521695447989:key/6e9984db-50cf-4c7e-926c-877ec47a8b25\"\n"
   ]
  },
  {
   "cell_type": "markdown",
   "id": "stupid-intervention",
   "metadata": {
    "papermill": {
     "duration": 0.022599,
     "end_time": "2021-05-25T01:25:14.707995",
     "exception": false,
     "start_time": "2021-05-25T01:25:14.685396",
     "status": "completed"
    },
    "tags": []
   },
   "source": [
    "# Amazon SageMaker Model Monitor\n",
    "This notebook shows how to:\n",
    "* Host a machine learning model in Amazon SageMaker and capture inference requests, results, and metadata \n",
    "* Analyze a training dataset to generate baseline constraints\n",
    "* Monitor a live endpoint for violations against constraints\n",
    "\n",
    "---\n",
    "## Background\n",
    "\n",
    "Amazon SageMaker provides every developer and data scientist with the ability to build, train, and deploy machine learning models quickly. Amazon SageMaker is a fully-managed service that encompasses the entire machine learning workflow. You can label and prepare your data, choose an algorithm, train a model, and then tune and optimize it for deployment. You can deploy your models to production with Amazon SageMaker to make predictions and lower costs than was previously possible.\n",
    "\n",
    "In addition, Amazon SageMaker enables you to capture the input, output and metadata for invocations of the models that you deploy. It also enables you to analyze the data and monitor its quality. In this notebook, you learn how Amazon SageMaker enables these capabilities.\n",
    "\n",
    "---\n",
    "## Setup\n",
    "\n",
    "To get started, make sure you have these prerequisites completed.\n",
    "\n",
    "* Specify an AWS Region to host your model.\n",
    "* An IAM role ARN exists that is used to give Amazon SageMaker access to your data in Amazon Simple Storage Service (Amazon S3). See the documentation for how to fine tune the permissions needed. \n",
    "* Create an S3 bucket used to store the data used to train your model, any additional model data, and the data captured from model invocations. For demonstration purposes, you are using the same bucket for these. In reality, you might want to separate them with different security policies."
   ]
  },
  {
   "cell_type": "code",
   "execution_count": null,
   "id": "built-architecture",
   "metadata": {
    "execution": {
     "iopub.execute_input": "2021-05-25T01:25:14.756892Z",
     "iopub.status.busy": "2021-05-25T01:25:14.756072Z",
     "iopub.status.idle": "2021-05-25T01:25:15.842280Z",
     "shell.execute_reply": "2021-05-25T01:25:15.841887Z"
    },
    "isConfigCell": true,
    "papermill": {
     "duration": 1.112809,
     "end_time": "2021-05-25T01:25:15.842389",
     "exception": false,
     "start_time": "2021-05-25T01:25:14.729580",
     "status": "completed"
    },
    "tags": []
   },
   "outputs": [],
   "source": [
    "%%time\n",
    "\n",
    "# Handful of configuration\n",
    "\n",
    "import os\n",
    "import boto3\n",
    "import re\n",
    "import json\n",
    "from sagemaker import get_execution_role, session\n",
    "\n",
    "region = boto3.Session().region_name\n",
    "\n",
    "role = get_execution_role()\n",
    "print(\"RoleArn: {}\".format(role))\n",
    "\n",
    "# You can use a different bucket, but make sure the role you chose for this notebook\n",
    "# has the s3:PutObject permissions. This is the bucket into which the data is captured\n",
    "bucket = session.Session(boto3.Session()).default_bucket()\n",
    "print(\"Demo Bucket: {}\".format(bucket))\n",
    "prefix = \"sagemaker/DEMO-ModelMonitor\"\n",
    "\n",
    "data_capture_prefix = \"{}/datacapture\".format(prefix)\n",
    "s3_capture_upload_path = \"s3://{}/{}\".format(bucket, data_capture_prefix)\n",
    "reports_prefix = \"{}/reports\".format(prefix)\n",
    "s3_report_path = \"s3://{}/{}\".format(bucket, reports_prefix)\n",
    "code_prefix = \"{}/code\".format(prefix)\n",
    "s3_code_preprocessor_uri = \"s3://{}/{}/{}\".format(bucket, code_prefix, \"preprocessor.py\")\n",
    "s3_code_postprocessor_uri = \"s3://{}/{}/{}\".format(bucket, code_prefix, \"postprocessor.py\")\n",
    "\n",
    "print(\"Capture path: {}\".format(s3_capture_upload_path))\n",
    "print(\"Report path: {}\".format(s3_report_path))\n",
    "print(\"Preproc Code path: {}\".format(s3_code_preprocessor_uri))\n",
    "print(\"Postproc Code path: {}\".format(s3_code_postprocessor_uri))"
   ]
  },
  {
   "cell_type": "markdown",
   "id": "cooperative-football",
   "metadata": {
    "papermill": {
     "duration": 0.02246,
     "end_time": "2021-05-25T01:25:15.887347",
     "exception": false,
     "start_time": "2021-05-25T01:25:15.864887",
     "status": "completed"
    },
    "tags": []
   },
   "source": [
    "You can quickly verify that the execution role for this notebook has the necessary permissions to proceed. Put a simple test object into the S3 bucket you speciﬁed above. If this command fails, update the role to have `s3:PutObject` permission on the bucket and try again."
   ]
  },
  {
   "cell_type": "code",
   "execution_count": null,
   "id": "straight-question",
   "metadata": {
    "execution": {
     "iopub.execute_input": "2021-05-25T01:25:15.942457Z",
     "iopub.status.busy": "2021-05-25T01:25:15.941989Z",
     "iopub.status.idle": "2021-05-25T01:25:16.054592Z",
     "shell.execute_reply": "2021-05-25T01:25:16.054977Z"
    },
    "papermill": {
     "duration": 0.145633,
     "end_time": "2021-05-25T01:25:16.055113",
     "exception": false,
     "start_time": "2021-05-25T01:25:15.909480",
     "status": "completed"
    },
    "tags": []
   },
   "outputs": [],
   "source": [
    "# Upload some test files\n",
    "boto3.Session().resource(\"s3\").Bucket(bucket).Object(\"test_upload/test.txt\").upload_file(\n",
    "    \"test_data/upload-test-file.txt\"\n",
    ")\n",
    "print(\"Success! You are all set to proceed.\")"
   ]
  },
  {
   "cell_type": "markdown",
   "id": "pregnant-campaign",
   "metadata": {
    "papermill": {
     "duration": 0.022494,
     "end_time": "2021-05-25T01:25:16.100302",
     "exception": false,
     "start_time": "2021-05-25T01:25:16.077808",
     "status": "completed"
    },
    "tags": []
   },
   "source": [
    "# PART A: Capturing real-time inference data from Amazon SageMaker endpoints\n",
    "Create an endpoint to showcase the data capture capability in action.\n",
    "\n",
    "### Upload the pre-trained model to Amazon S3\n",
    "This code uploads a pre-trained XGBoost model that is ready for you to deploy. This model was trained using the XGB Churn Prediction Notebook in SageMaker. You can also use your own pre-trained model in this step. If you already have a pretrained model in Amazon S3, you can add it instead by specifying the s3_key."
   ]
  },
  {
   "cell_type": "code",
   "execution_count": null,
   "id": "serial-couple",
   "metadata": {
    "execution": {
     "iopub.execute_input": "2021-05-25T01:25:16.156750Z",
     "iopub.status.busy": "2021-05-25T01:25:16.156243Z",
     "iopub.status.idle": "2021-05-25T01:25:16.328371Z",
     "shell.execute_reply": "2021-05-25T01:25:16.328766Z"
    },
    "papermill": {
     "duration": 0.206077,
     "end_time": "2021-05-25T01:25:16.328912",
     "exception": false,
     "start_time": "2021-05-25T01:25:16.122835",
     "status": "completed"
    },
    "tags": []
   },
   "outputs": [],
   "source": [
    "model_file = open(\"model/xgb-churn-prediction-model.tar.gz\", \"rb\")\n",
    "s3_key = os.path.join(prefix, \"xgb-churn-prediction-model.tar.gz\")\n",
    "boto3.Session().resource(\"s3\").Bucket(bucket).Object(s3_key).upload_fileobj(model_file)"
   ]
  },
  {
   "cell_type": "markdown",
   "id": "preceding-cuisine",
   "metadata": {
    "papermill": {
     "duration": 0.022386,
     "end_time": "2021-05-25T01:25:16.373951",
     "exception": false,
     "start_time": "2021-05-25T01:25:16.351565",
     "status": "completed"
    },
    "tags": []
   },
   "source": [
    "### Deploy the model to Amazon SageMaker\n",
    "Start with deploying a pre-trained churn prediction model. Here, you create the model object with the image and model data."
   ]
  },
  {
   "cell_type": "code",
   "execution_count": null,
   "id": "bored-drive",
   "metadata": {
    "execution": {
     "iopub.execute_input": "2021-05-25T01:25:16.430919Z",
     "iopub.status.busy": "2021-05-25T01:25:16.430447Z",
     "iopub.status.idle": "2021-05-25T01:25:16.438543Z",
     "shell.execute_reply": "2021-05-25T01:25:16.438884Z"
    },
    "papermill": {
     "duration": 0.042752,
     "end_time": "2021-05-25T01:25:16.439014",
     "exception": false,
     "start_time": "2021-05-25T01:25:16.396262",
     "status": "completed"
    },
    "tags": []
   },
   "outputs": [],
   "source": [
    "from time import gmtime, strftime\n",
    "from sagemaker.model import Model\n",
    "from sagemaker.image_uris import retrieve\n",
    "\n",
    "model_name = \"DEMO-xgb-churn-pred-model-monitor-\" + strftime(\"%Y-%m-%d-%H-%M-%S\", gmtime())\n",
    "model_url = \"https://{}.s3-{}.amazonaws.com/{}/xgb-churn-prediction-model.tar.gz\".format(\n",
    "    bucket, region, prefix\n",
    ")\n",
    "\n",
    "image_uri = retrieve(\"xgboost\", boto3.Session().region_name, \"0.90-1\")\n",
    "\n",
    "model = Model(image_uri=image_uri, model_data=model_url, role=role)"
   ]
  },
  {
   "cell_type": "markdown",
   "id": "disturbed-animal",
   "metadata": {
    "papermill": {
     "duration": 0.022463,
     "end_time": "2021-05-25T01:25:16.483937",
     "exception": false,
     "start_time": "2021-05-25T01:25:16.461474",
     "status": "completed"
    },
    "tags": []
   },
   "source": [
    "To enable data capture for monitoring the model data quality, you specify the new capture option called `DataCaptureConfig`. You can capture the request payload, the response payload or both with this configuration. The capture config applies to all variants. Go ahead with the deployment."
   ]
  },
  {
   "cell_type": "code",
   "execution_count": null,
   "id": "light-field",
   "metadata": {
    "execution": {
     "iopub.execute_input": "2021-05-25T01:25:16.542005Z",
     "iopub.status.busy": "2021-05-25T01:25:16.541270Z",
     "iopub.status.idle": "2021-05-25T01:33:48.829464Z",
     "shell.execute_reply": "2021-05-25T01:33:48.829832Z"
    },
    "papermill": {
     "duration": 512.323596,
     "end_time": "2021-05-25T01:33:48.829969",
     "exception": false,
     "start_time": "2021-05-25T01:25:16.506373",
     "status": "completed"
    },
    "tags": []
   },
   "outputs": [],
   "source": [
    "from sagemaker.model_monitor import DataCaptureConfig\n",
    "\n",
    "endpoint_name = \"DEMO-xgb-churn-pred-model-monitor-\" + strftime(\"%Y-%m-%d-%H-%M-%S\", gmtime())\n",
    "print(\"EndpointName={}\".format(endpoint_name))\n",
    "\n",
    "data_capture_config = DataCaptureConfig(\n",
    "    enable_capture=True, sampling_percentage=100, destination_s3_uri=s3_capture_upload_path\n",
    ")\n",
    "\n",
    "predictor = model.deploy(\n",
    "    initial_instance_count=1,\n",
    "    instance_type=\"ml.m4.xlarge\",\n",
    "    endpoint_name=endpoint_name,\n",
    "    data_capture_config=data_capture_config,\n",
    ")"
   ]
  },
  {
   "cell_type": "markdown",
   "id": "assumed-timer",
   "metadata": {
    "papermill": {
     "duration": 0.026198,
     "end_time": "2021-05-25T01:33:48.882137",
     "exception": false,
     "start_time": "2021-05-25T01:33:48.855939",
     "status": "completed"
    },
    "tags": []
   },
   "source": [
    "## Invoke the deployed model\n",
    "\n",
    "You can now send data to this endpoint to get inferences in real time. Because you enabled the data capture in the previous steps, the request and response payload, along with some additional metadata, is saved in the Amazon Simple Storage Service (Amazon S3) location you have specified in the DataCaptureConfig."
   ]
  },
  {
   "cell_type": "markdown",
   "id": "fallen-medline",
   "metadata": {
    "papermill": {
     "duration": 0.025717,
     "end_time": "2021-05-25T01:33:48.934600",
     "exception": false,
     "start_time": "2021-05-25T01:33:48.908883",
     "status": "completed"
    },
    "tags": []
   },
   "source": [
    "This step invokes the endpoint with included sample data for about 3 minutes. Data is captured based on the sampling percentage specified and the capture continues until the data capture option is turned off."
   ]
  },
  {
   "cell_type": "code",
   "execution_count": null,
   "id": "extreme-metadata",
   "metadata": {
    "execution": {
     "iopub.execute_input": "2021-05-25T01:33:49.001540Z",
     "iopub.status.busy": "2021-05-25T01:33:49.000719Z",
     "iopub.status.idle": "2021-05-25T01:36:52.144674Z",
     "shell.execute_reply": "2021-05-25T01:36:52.145054Z"
    },
    "papermill": {
     "duration": 183.184819,
     "end_time": "2021-05-25T01:36:52.145190",
     "exception": false,
     "start_time": "2021-05-25T01:33:48.960371",
     "status": "completed"
    },
    "tags": []
   },
   "outputs": [],
   "source": [
    "from sagemaker.predictor import Predictor\n",
    "from sagemaker.serializers import CSVSerializer\n",
    "import time\n",
    "\n",
    "predictor = Predictor(endpoint_name=endpoint_name, serializer=CSVSerializer())\n",
    "\n",
    "# get a subset of test data for a quick test\n",
    "!head -180 test_data/test-dataset-input-cols.csv > test_data/test_sample.csv\n",
    "print(\"Sending test traffic to the endpoint {}. \\nPlease wait...\".format(endpoint_name))\n",
    "\n",
    "with open(\"test_data/test_sample.csv\", \"r\") as f:\n",
    "    for row in f:\n",
    "        payload = row.rstrip(\"\\n\")\n",
    "        response = predictor.predict(data=payload)\n",
    "        time.sleep(1)\n",
    "\n",
    "print(\"Done!\")"
   ]
  },
  {
   "cell_type": "markdown",
   "id": "manufactured-arrival",
   "metadata": {
    "papermill": {
     "duration": 0.026272,
     "end_time": "2021-05-25T01:36:52.197640",
     "exception": false,
     "start_time": "2021-05-25T01:36:52.171368",
     "status": "completed"
    },
    "tags": []
   },
   "source": [
    "## View captured data\n",
    "\n",
    "Now list the data capture files stored in Amazon S3. You should expect to see different files from different time periods organized based on the hour in which the invocation occurred. The format of the Amazon S3 path is:\n",
    "\n",
    "`s3://{destination-bucket-prefix}/{endpoint-name}/{variant-name}/yyyy/mm/dd/hh/filename.jsonl`"
   ]
  },
  {
   "cell_type": "code",
   "execution_count": null,
   "id": "visible-student",
   "metadata": {
    "execution": {
     "iopub.execute_input": "2021-05-25T01:36:52.263416Z",
     "iopub.status.busy": "2021-05-25T01:36:52.262685Z",
     "iopub.status.idle": "2021-05-25T01:36:52.444234Z",
     "shell.execute_reply": "2021-05-25T01:36:52.444658Z"
    },
    "papermill": {
     "duration": 0.220701,
     "end_time": "2021-05-25T01:36:52.444805",
     "exception": false,
     "start_time": "2021-05-25T01:36:52.224104",
     "status": "completed"
    },
    "scrolled": true,
    "tags": []
   },
   "outputs": [],
   "source": [
    "s3_client = boto3.Session().client(\"s3\")\n",
    "current_endpoint_capture_prefix = \"{}/{}\".format(data_capture_prefix, endpoint_name)\n",
    "result = s3_client.list_objects(Bucket=bucket, Prefix=current_endpoint_capture_prefix)\n",
    "capture_files = [capture_file.get(\"Key\") for capture_file in result.get(\"Contents\")]\n",
    "print(\"Found Capture Files:\")\n",
    "print(\"\\n \".join(capture_files))"
   ]
  },
  {
   "cell_type": "markdown",
   "id": "acquired-manchester",
   "metadata": {
    "papermill": {
     "duration": 0.02682,
     "end_time": "2021-05-25T01:36:52.498580",
     "exception": false,
     "start_time": "2021-05-25T01:36:52.471760",
     "status": "completed"
    },
    "tags": []
   },
   "source": [
    "Next, view the contents of a single capture file. Here you should see all the data captured in an Amazon SageMaker specific JSON-line formatted file. Take a quick peek at the first few lines in the captured file."
   ]
  },
  {
   "cell_type": "code",
   "execution_count": null,
   "id": "private-remainder",
   "metadata": {
    "execution": {
     "iopub.execute_input": "2021-05-25T01:36:52.558239Z",
     "iopub.status.busy": "2021-05-25T01:36:52.557768Z",
     "iopub.status.idle": "2021-05-25T01:36:52.595241Z",
     "shell.execute_reply": "2021-05-25T01:36:52.595619Z"
    },
    "papermill": {
     "duration": 0.070302,
     "end_time": "2021-05-25T01:36:52.595759",
     "exception": false,
     "start_time": "2021-05-25T01:36:52.525457",
     "status": "completed"
    },
    "tags": []
   },
   "outputs": [],
   "source": [
    "def get_obj_body(obj_key):\n",
    "    return s3_client.get_object(Bucket=bucket, Key=obj_key).get(\"Body\").read().decode(\"utf-8\")\n",
    "\n",
    "\n",
    "capture_file = get_obj_body(capture_files[-1])\n",
    "print(capture_file[:2000])"
   ]
  },
  {
   "cell_type": "markdown",
   "id": "smoking-current",
   "metadata": {
    "papermill": {
     "duration": 0.027257,
     "end_time": "2021-05-25T01:36:52.650096",
     "exception": false,
     "start_time": "2021-05-25T01:36:52.622839",
     "status": "completed"
    },
    "tags": []
   },
   "source": [
    "Finally, the contents of a single line is present below in a formatted JSON file so that you can observe a little better."
   ]
  },
  {
   "cell_type": "code",
   "execution_count": null,
   "id": "parliamentary-audit",
   "metadata": {
    "execution": {
     "iopub.execute_input": "2021-05-25T01:36:52.708014Z",
     "iopub.status.busy": "2021-05-25T01:36:52.707560Z",
     "iopub.status.idle": "2021-05-25T01:36:52.709746Z",
     "shell.execute_reply": "2021-05-25T01:36:52.710090Z"
    },
    "papermill": {
     "duration": 0.033227,
     "end_time": "2021-05-25T01:36:52.710216",
     "exception": false,
     "start_time": "2021-05-25T01:36:52.676989",
     "status": "completed"
    },
    "scrolled": true,
    "tags": []
   },
   "outputs": [],
   "source": [
    "import json\n",
    "\n",
    "print(json.dumps(json.loads(capture_file.split(\"\\n\")[0]), indent=2))"
   ]
  },
  {
   "cell_type": "markdown",
   "id": "multiple-skirt",
   "metadata": {
    "papermill": {
     "duration": 0.02714,
     "end_time": "2021-05-25T01:36:52.764514",
     "exception": false,
     "start_time": "2021-05-25T01:36:52.737374",
     "status": "completed"
    },
    "tags": []
   },
   "source": [
    "As you can see, each inference request is captured in one line in the jsonl file. The line contains both the input and output merged together. In the example, you provided the ContentType as `text/csv` which is reflected in the `observedContentType` value. Also, you expose the encoding that you used to encode the input and output payloads in the capture format with the `encoding` value.\n",
    "\n",
    "To recap, you observed how you can enable capturing the input or output payloads to an endpoint with a new parameter. You have also observed what the captured format looks like in Amazon S3. Next, continue to explore how Amazon SageMaker helps with monitoring the data collected in Amazon S3."
   ]
  },
  {
   "cell_type": "markdown",
   "id": "manufactured-headline",
   "metadata": {
    "papermill": {
     "duration": 0.026988,
     "end_time": "2021-05-25T01:36:52.818601",
     "exception": false,
     "start_time": "2021-05-25T01:36:52.791613",
     "status": "completed"
    },
    "tags": []
   },
   "source": [
    "# PART B: Model Monitor - Baselining and continuous monitoring"
   ]
  },
  {
   "cell_type": "markdown",
   "id": "suitable-apache",
   "metadata": {
    "papermill": {
     "duration": 0.026891,
     "end_time": "2021-05-25T01:36:52.872619",
     "exception": false,
     "start_time": "2021-05-25T01:36:52.845728",
     "status": "completed"
    },
    "tags": []
   },
   "source": [
    "In addition to collecting the data, Amazon SageMaker provides the capability for you to monitor and evaluate the data observed by the endpoints. For this:\n",
    "1. Create a baseline with which you compare the realtime traffic. \n",
    "1. Once a baseline is ready, setup a schedule to continously evaluate and compare against the baseline."
   ]
  },
  {
   "cell_type": "markdown",
   "id": "rotary-layout",
   "metadata": {
    "papermill": {
     "duration": 0.026925,
     "end_time": "2021-05-25T01:36:52.926399",
     "exception": false,
     "start_time": "2021-05-25T01:36:52.899474",
     "status": "completed"
    },
    "tags": []
   },
   "source": [
    "## 1. Constraint suggestion with baseline/training dataset"
   ]
  },
  {
   "cell_type": "markdown",
   "id": "little-thriller",
   "metadata": {
    "papermill": {
     "duration": 0.026774,
     "end_time": "2021-05-25T01:36:52.980107",
     "exception": false,
     "start_time": "2021-05-25T01:36:52.953333",
     "status": "completed"
    },
    "tags": []
   },
   "source": [
    "The training dataset with which you trained the model is usually a good baseline dataset. Note that the training dataset data schema and the inference dataset schema should exactly match (i.e. the number and order of the features).\n",
    "\n",
    "From the training dataset you can ask Amazon SageMaker to suggest a set of baseline `constraints` and generate descriptive `statistics` to explore the data. For this example, upload the training dataset that was used to train the pre-trained model included in this example. If you already have it in Amazon S3, you can directly point to it."
   ]
  },
  {
   "cell_type": "code",
   "execution_count": null,
   "id": "worst-fellowship",
   "metadata": {
    "execution": {
     "iopub.execute_input": "2021-05-25T01:36:53.039197Z",
     "iopub.status.busy": "2021-05-25T01:36:53.038700Z",
     "iopub.status.idle": "2021-05-25T01:36:53.040515Z",
     "shell.execute_reply": "2021-05-25T01:36:53.040843Z"
    },
    "papermill": {
     "duration": 0.033908,
     "end_time": "2021-05-25T01:36:53.040971",
     "exception": false,
     "start_time": "2021-05-25T01:36:53.007063",
     "status": "completed"
    },
    "tags": []
   },
   "outputs": [],
   "source": [
    "# copy over the training dataset to Amazon S3 (if you already have it in Amazon S3, you could reuse it)\n",
    "baseline_prefix = prefix + \"/baselining\"\n",
    "baseline_data_prefix = baseline_prefix + \"/data\"\n",
    "baseline_results_prefix = baseline_prefix + \"/results\"\n",
    "\n",
    "baseline_data_uri = \"s3://{}/{}\".format(bucket, baseline_data_prefix)\n",
    "baseline_results_uri = \"s3://{}/{}\".format(bucket, baseline_results_prefix)\n",
    "print(\"Baseline data uri: {}\".format(baseline_data_uri))\n",
    "print(\"Baseline results uri: {}\".format(baseline_results_uri))"
   ]
  },
  {
   "cell_type": "code",
   "execution_count": null,
   "id": "valuable-acceptance",
   "metadata": {
    "execution": {
     "iopub.execute_input": "2021-05-25T01:36:53.107071Z",
     "iopub.status.busy": "2021-05-25T01:36:53.106627Z",
     "iopub.status.idle": "2021-05-25T01:36:53.269253Z",
     "shell.execute_reply": "2021-05-25T01:36:53.268822Z"
    },
    "papermill": {
     "duration": 0.201129,
     "end_time": "2021-05-25T01:36:53.269363",
     "exception": false,
     "start_time": "2021-05-25T01:36:53.068234",
     "status": "completed"
    },
    "tags": []
   },
   "outputs": [],
   "source": [
    "training_data_file = open(\"test_data/training-dataset-with-header.csv\", \"rb\")\n",
    "s3_key = os.path.join(baseline_prefix, \"data\", \"training-dataset-with-header.csv\")\n",
    "boto3.Session().resource(\"s3\").Bucket(bucket).Object(s3_key).upload_fileobj(training_data_file)"
   ]
  },
  {
   "cell_type": "markdown",
   "id": "trained-observation",
   "metadata": {
    "papermill": {
     "duration": 0.027361,
     "end_time": "2021-05-25T01:36:53.324255",
     "exception": false,
     "start_time": "2021-05-25T01:36:53.296894",
     "status": "completed"
    },
    "tags": []
   },
   "source": [
    "### Create a baselining job with training dataset"
   ]
  },
  {
   "cell_type": "markdown",
   "id": "united-search",
   "metadata": {
    "papermill": {
     "duration": 0.027325,
     "end_time": "2021-05-25T01:36:53.378971",
     "exception": false,
     "start_time": "2021-05-25T01:36:53.351646",
     "status": "completed"
    },
    "tags": []
   },
   "source": [
    "Now that you have the training data ready in Amazon S3, start a job to `suggest` constraints. `DefaultModelMonitor.suggest_baseline(..)` starts a `ProcessingJob` using an Amazon SageMaker provided Model Monitor container to generate the constraints."
   ]
  },
  {
   "cell_type": "code",
   "execution_count": null,
   "id": "daily-publicity",
   "metadata": {
    "collapsed": true,
    "execution": {
     "iopub.execute_input": "2021-05-25T01:36:53.446083Z",
     "iopub.status.busy": "2021-05-25T01:36:53.445593Z",
     "iopub.status.idle": "2021-05-25T01:42:37.154782Z",
     "shell.execute_reply": "2021-05-25T01:42:37.154274Z"
    },
    "jupyter": {
     "outputs_hidden": true
    },
    "papermill": {
     "duration": 343.748583,
     "end_time": "2021-05-25T01:42:37.154895",
     "exception": false,
     "start_time": "2021-05-25T01:36:53.406312",
     "status": "completed"
    },
    "tags": []
   },
   "outputs": [],
   "source": [
    "from sagemaker.model_monitor import DefaultModelMonitor\n",
    "from sagemaker.model_monitor.dataset_format import DatasetFormat\n",
    "\n",
    "my_default_monitor = DefaultModelMonitor(\n",
    "    role=role,\n",
    "    instance_count=1,\n",
    "    instance_type=\"ml.m5.xlarge\",\n",
    "    volume_size_in_gb=20,\n",
    "    max_runtime_in_seconds=3600,\n",
    ")\n",
    "\n",
    "my_default_monitor.suggest_baseline(\n",
    "    baseline_dataset=baseline_data_uri + \"/training-dataset-with-header.csv\",\n",
    "    dataset_format=DatasetFormat.csv(header=True),\n",
    "    output_s3_uri=baseline_results_uri,\n",
    "    wait=True,\n",
    ")"
   ]
  },
  {
   "cell_type": "markdown",
   "id": "minimal-involvement",
   "metadata": {
    "papermill": {
     "duration": 0.05071,
     "end_time": "2021-05-25T01:42:37.256263",
     "exception": false,
     "start_time": "2021-05-25T01:42:37.205553",
     "status": "completed"
    },
    "tags": []
   },
   "source": [
    "### Explore the generated constraints and statistics"
   ]
  },
  {
   "cell_type": "code",
   "execution_count": null,
   "id": "exact-albany",
   "metadata": {
    "execution": {
     "iopub.execute_input": "2021-05-25T01:42:37.369043Z",
     "iopub.status.busy": "2021-05-25T01:42:37.368307Z",
     "iopub.status.idle": "2021-05-25T01:42:37.523919Z",
     "shell.execute_reply": "2021-05-25T01:42:37.523511Z"
    },
    "papermill": {
     "duration": 0.216963,
     "end_time": "2021-05-25T01:42:37.524031",
     "exception": false,
     "start_time": "2021-05-25T01:42:37.307068",
     "status": "completed"
    },
    "tags": []
   },
   "outputs": [],
   "source": [
    "s3_client = boto3.Session().client(\"s3\")\n",
    "result = s3_client.list_objects(Bucket=bucket, Prefix=baseline_results_prefix)\n",
    "report_files = [report_file.get(\"Key\") for report_file in result.get(\"Contents\")]\n",
    "print(\"Found Files:\")\n",
    "print(\"\\n \".join(report_files))"
   ]
  },
  {
   "cell_type": "code",
   "execution_count": null,
   "id": "democratic-accident",
   "metadata": {
    "execution": {
     "iopub.execute_input": "2021-05-25T01:42:37.629833Z",
     "iopub.status.busy": "2021-05-25T01:42:37.629372Z",
     "iopub.status.idle": "2021-05-25T01:42:38.031011Z",
     "shell.execute_reply": "2021-05-25T01:42:38.031440Z"
    },
    "papermill": {
     "duration": 0.456775,
     "end_time": "2021-05-25T01:42:38.031590",
     "exception": false,
     "start_time": "2021-05-25T01:42:37.574815",
     "status": "completed"
    },
    "tags": []
   },
   "outputs": [],
   "source": [
    "import pandas as pd\n",
    "\n",
    "baseline_job = my_default_monitor.latest_baselining_job\n",
    "schema_df = pd.io.json.json_normalize(baseline_job.baseline_statistics().body_dict[\"features\"])\n",
    "schema_df.head(10)"
   ]
  },
  {
   "cell_type": "code",
   "execution_count": null,
   "id": "parallel-living",
   "metadata": {
    "execution": {
     "iopub.execute_input": "2021-05-25T01:42:38.145310Z",
     "iopub.status.busy": "2021-05-25T01:42:38.144835Z",
     "iopub.status.idle": "2021-05-25T01:42:38.222218Z",
     "shell.execute_reply": "2021-05-25T01:42:38.221841Z"
    },
    "papermill": {
     "duration": 0.136909,
     "end_time": "2021-05-25T01:42:38.222327",
     "exception": false,
     "start_time": "2021-05-25T01:42:38.085418",
     "status": "completed"
    },
    "tags": []
   },
   "outputs": [],
   "source": [
    "constraints_df = pd.io.json.json_normalize(\n",
    "    baseline_job.suggested_constraints().body_dict[\"features\"]\n",
    ")\n",
    "constraints_df.head(10)"
   ]
  },
  {
   "cell_type": "markdown",
   "id": "needed-virtue",
   "metadata": {
    "papermill": {
     "duration": 0.051509,
     "end_time": "2021-05-25T01:42:38.325231",
     "exception": false,
     "start_time": "2021-05-25T01:42:38.273722",
     "status": "completed"
    },
    "tags": []
   },
   "source": [
    "## 2. Analyzing collected data for data quality issues\n",
    "\n",
    "When you have collected the data above, analyze and monitor the data with Monitoring Schedules"
   ]
  },
  {
   "cell_type": "markdown",
   "id": "characteristic-nation",
   "metadata": {
    "papermill": {
     "duration": 0.051298,
     "end_time": "2021-05-25T01:42:38.427788",
     "exception": false,
     "start_time": "2021-05-25T01:42:38.376490",
     "status": "completed"
    },
    "tags": []
   },
   "source": [
    "### Create a schedule"
   ]
  },
  {
   "cell_type": "code",
   "execution_count": null,
   "id": "listed-yorkshire",
   "metadata": {
    "execution": {
     "iopub.execute_input": "2021-05-25T01:42:38.542198Z",
     "iopub.status.busy": "2021-05-25T01:42:38.541496Z",
     "iopub.status.idle": "2021-05-25T01:42:38.768228Z",
     "shell.execute_reply": "2021-05-25T01:42:38.768700Z"
    },
    "papermill": {
     "duration": 0.289967,
     "end_time": "2021-05-25T01:42:38.768879",
     "exception": false,
     "start_time": "2021-05-25T01:42:38.478912",
     "status": "completed"
    },
    "tags": []
   },
   "outputs": [],
   "source": [
    "# First, copy over some test scripts to the S3 bucket so that they can be used for pre and post processing\n",
    "boto3.Session().resource(\"s3\").Bucket(bucket).Object(code_prefix + \"/preprocessor.py\").upload_file(\n",
    "    \"preprocessor.py\"\n",
    ")\n",
    "boto3.Session().resource(\"s3\").Bucket(bucket).Object(code_prefix + \"/postprocessor.py\").upload_file(\n",
    "    \"postprocessor.py\"\n",
    ")"
   ]
  },
  {
   "cell_type": "markdown",
   "id": "theoretical-scroll",
   "metadata": {
    "papermill": {
     "duration": 0.051654,
     "end_time": "2021-05-25T01:42:38.871933",
     "exception": false,
     "start_time": "2021-05-25T01:42:38.820279",
     "status": "completed"
    },
    "tags": []
   },
   "source": [
    "You can create a model monitoring schedule for the endpoint created earlier. Use the baseline resources (constraints and statistics) to compare against the realtime traffic."
   ]
  },
  {
   "cell_type": "code",
   "execution_count": null,
   "id": "disturbed-scotland",
   "metadata": {
    "execution": {
     "iopub.execute_input": "2021-05-25T01:42:38.981025Z",
     "iopub.status.busy": "2021-05-25T01:42:38.980537Z",
     "iopub.status.idle": "2021-05-25T01:42:39.515033Z",
     "shell.execute_reply": "2021-05-25T01:42:39.515407Z"
    },
    "papermill": {
     "duration": 0.591914,
     "end_time": "2021-05-25T01:42:39.515560",
     "exception": false,
     "start_time": "2021-05-25T01:42:38.923646",
     "status": "completed"
    },
    "tags": []
   },
   "outputs": [],
   "source": [
    "from sagemaker.model_monitor import CronExpressionGenerator\n",
    "from time import gmtime, strftime\n",
    "\n",
    "mon_schedule_name = \"DEMO-xgb-churn-pred-model-monitor-schedule-\" + strftime(\n",
    "    \"%Y-%m-%d-%H-%M-%S\", gmtime()\n",
    ")\n",
    "my_default_monitor.create_monitoring_schedule(\n",
    "    monitor_schedule_name=mon_schedule_name,\n",
    "    endpoint_input=predictor.endpoint,\n",
    "    # record_preprocessor_script=pre_processor_script,\n",
    "    post_analytics_processor_script=s3_code_postprocessor_uri,\n",
    "    output_s3_uri=s3_report_path,\n",
    "    statistics=my_default_monitor.baseline_statistics(),\n",
    "    constraints=my_default_monitor.suggested_constraints(),\n",
    "    schedule_cron_expression=CronExpressionGenerator.hourly(),\n",
    "    enable_cloudwatch_metrics=True,\n",
    ")"
   ]
  },
  {
   "cell_type": "markdown",
   "id": "julian-split",
   "metadata": {
    "papermill": {
     "duration": 0.051503,
     "end_time": "2021-05-25T01:42:39.618575",
     "exception": false,
     "start_time": "2021-05-25T01:42:39.567072",
     "status": "completed"
    },
    "tags": []
   },
   "source": [
    "### Start generating some artificial traffic\n",
    "The cell below starts a thread to send some traffic to the endpoint. Note that you need to stop the kernel to terminate this thread. If there is no traffic, the monitoring jobs are marked as `Failed` since there is no data to process."
   ]
  },
  {
   "cell_type": "code",
   "execution_count": null,
   "id": "applied-appraisal",
   "metadata": {
    "execution": {
     "iopub.execute_input": "2021-05-25T01:42:39.727825Z",
     "iopub.status.busy": "2021-05-25T01:42:39.727073Z",
     "iopub.status.idle": "2021-05-25T01:42:39.758773Z",
     "shell.execute_reply": "2021-05-25T01:42:39.758295Z"
    },
    "papermill": {
     "duration": 0.08884,
     "end_time": "2021-05-25T01:42:39.758887",
     "exception": false,
     "start_time": "2021-05-25T01:42:39.670047",
     "status": "completed"
    },
    "tags": []
   },
   "outputs": [],
   "source": [
    "from threading import Thread\n",
    "from time import sleep\n",
    "import time\n",
    "\n",
    "endpoint_name = predictor.endpoint\n",
    "runtime_client = boto3.client(\"runtime.sagemaker\")\n",
    "\n",
    "# (just repeating code from above for convenience/ able to run this section independently)\n",
    "def invoke_endpoint(ep_name, file_name, runtime_client):\n",
    "    with open(file_name, \"r\") as f:\n",
    "        for row in f:\n",
    "            payload = row.rstrip(\"\\n\")\n",
    "            response = runtime_client.invoke_endpoint(\n",
    "                EndpointName=ep_name, ContentType=\"text/csv\", Body=payload\n",
    "            )\n",
    "            response[\"Body\"].read()\n",
    "            time.sleep(1)\n",
    "\n",
    "\n",
    "def invoke_endpoint_forever():\n",
    "    while True:\n",
    "        invoke_endpoint(endpoint_name, \"test_data/test-dataset-input-cols.csv\", runtime_client)\n",
    "\n",
    "\n",
    "thread = Thread(target=invoke_endpoint_forever)\n",
    "thread.start()\n",
    "\n",
    "# Note that you need to stop the kernel to stop the invocations"
   ]
  },
  {
   "cell_type": "markdown",
   "id": "otherwise-brief",
   "metadata": {
    "papermill": {
     "duration": 0.052823,
     "end_time": "2021-05-25T01:42:39.868942",
     "exception": false,
     "start_time": "2021-05-25T01:42:39.816119",
     "status": "completed"
    },
    "tags": []
   },
   "source": [
    "### Describe and inspect the schedule\n",
    "Once you describe, observe that the MonitoringScheduleStatus changes to Scheduled."
   ]
  },
  {
   "cell_type": "code",
   "execution_count": null,
   "id": "built-operation",
   "metadata": {
    "execution": {
     "iopub.execute_input": "2021-05-25T01:42:39.978471Z",
     "iopub.status.busy": "2021-05-25T01:42:39.977984Z",
     "iopub.status.idle": "2021-05-25T01:42:40.018457Z",
     "shell.execute_reply": "2021-05-25T01:42:40.017971Z"
    },
    "papermill": {
     "duration": 0.097474,
     "end_time": "2021-05-25T01:42:40.018570",
     "exception": false,
     "start_time": "2021-05-25T01:42:39.921096",
     "status": "completed"
    },
    "tags": []
   },
   "outputs": [],
   "source": [
    "desc_schedule_result = my_default_monitor.describe_schedule()\n",
    "print(\"Schedule status: {}\".format(desc_schedule_result[\"MonitoringScheduleStatus\"]))"
   ]
  },
  {
   "cell_type": "markdown",
   "id": "latter-feedback",
   "metadata": {
    "papermill": {
     "duration": 0.052487,
     "end_time": "2021-05-25T01:42:40.124029",
     "exception": false,
     "start_time": "2021-05-25T01:42:40.071542",
     "status": "completed"
    },
    "tags": []
   },
   "source": [
    "### List executions\n",
    "The schedule starts jobs at the previously specified intervals. Here, you list the latest five executions. Note that if you are kicking this off after creating the hourly schedule, you might find the executions empty. You might have to wait until you cross the hour boundary (in UTC) to see executions kick off. The code below has the logic for waiting.\n",
    "\n",
    "Note: Even for an hourly schedule, Amazon SageMaker has a buffer period of 20 minutes to schedule your execution. You might see your execution start in anywhere from zero to ~20 minutes from the hour boundary. This is expected and done for load balancing in the backend."
   ]
  },
  {
   "cell_type": "code",
   "execution_count": null,
   "id": "million-closer",
   "metadata": {
    "collapsed": true,
    "execution": {
     "iopub.execute_input": "2021-05-25T01:42:40.234424Z",
     "iopub.status.busy": "2021-05-25T01:42:40.233926Z",
     "iopub.status.idle": "2021-05-25T02:09:43.643151Z",
     "shell.execute_reply": "2021-05-25T02:09:43.642703Z"
    },
    "jupyter": {
     "outputs_hidden": true
    },
    "papermill": {
     "duration": 1623.466315,
     "end_time": "2021-05-25T02:09:43.643282",
     "exception": false,
     "start_time": "2021-05-25T01:42:40.176967",
     "status": "completed"
    },
    "tags": []
   },
   "outputs": [],
   "source": [
    "mon_executions = my_default_monitor.list_executions()\n",
    "print(\n",
    "    \"We created a hourly schedule above and it will kick off executions ON the hour (plus 0 - 20 min buffer.\\nWe will have to wait till we hit the hour...\"\n",
    ")\n",
    "\n",
    "while len(mon_executions) == 0:\n",
    "    print(\"Waiting for the 1st execution to happen...\")\n",
    "    time.sleep(60)\n",
    "    mon_executions = my_default_monitor.list_executions()"
   ]
  },
  {
   "cell_type": "markdown",
   "id": "inclusive-transmission",
   "metadata": {
    "papermill": {
     "duration": 0.057781,
     "end_time": "2021-05-25T02:09:43.758412",
     "exception": false,
     "start_time": "2021-05-25T02:09:43.700631",
     "status": "completed"
    },
    "tags": []
   },
   "source": [
    "### Inspect a specific execution (latest execution)\n",
    "In the previous cell, you picked up the latest completed or failed scheduled execution. Here are the possible terminal states and what each of them mean: \n",
    "* Completed - This means the monitoring execution completed and no issues were found in the violations report.\n",
    "* CompletedWithViolations - This means the execution completed, but constraint violations were detected.\n",
    "* Failed - The monitoring execution failed, maybe due to client error (perhaps incorrect role premissions) or infrastructure issues. Further examination of FailureReason and ExitMessage is necessary to identify what exactly happened.\n",
    "* Stopped - job exceeded max runtime or was manually stopped."
   ]
  },
  {
   "cell_type": "code",
   "execution_count": null,
   "id": "incoming-disposal",
   "metadata": {
    "execution": {
     "iopub.execute_input": "2021-05-25T02:09:43.877936Z",
     "iopub.status.busy": "2021-05-25T02:09:43.877470Z",
     "iopub.status.idle": "2021-05-25T02:15:15.224674Z",
     "shell.execute_reply": "2021-05-25T02:15:15.224258Z"
    },
    "papermill": {
     "duration": 331.409061,
     "end_time": "2021-05-25T02:15:15.224785",
     "exception": false,
     "start_time": "2021-05-25T02:09:43.815724",
     "status": "completed"
    },
    "tags": []
   },
   "outputs": [],
   "source": [
    "latest_execution = mon_executions[\n",
    "    -1\n",
    "]  # latest execution's index is -1, second to last is -2 and so on..\n",
    "time.sleep(60)\n",
    "latest_execution.wait(logs=False)\n",
    "\n",
    "print(\"Latest execution status: {}\".format(latest_execution.describe()[\"ProcessingJobStatus\"]))\n",
    "print(\"Latest execution result: {}\".format(latest_execution.describe()[\"ExitMessage\"]))\n",
    "\n",
    "latest_job = latest_execution.describe()\n",
    "if latest_job[\"ProcessingJobStatus\"] != \"Completed\":\n",
    "    print(\n",
    "        \"====STOP==== \\n No completed executions to inspect further. Please wait till an execution completes or investigate previously reported failures.\"\n",
    "    )"
   ]
  },
  {
   "cell_type": "code",
   "execution_count": null,
   "id": "forty-redhead",
   "metadata": {
    "execution": {
     "iopub.execute_input": "2021-05-25T02:15:15.363684Z",
     "iopub.status.busy": "2021-05-25T02:15:15.363206Z",
     "iopub.status.idle": "2021-05-25T02:15:15.365313Z",
     "shell.execute_reply": "2021-05-25T02:15:15.365654Z"
    },
    "papermill": {
     "duration": 0.07319,
     "end_time": "2021-05-25T02:15:15.365777",
     "exception": false,
     "start_time": "2021-05-25T02:15:15.292587",
     "status": "completed"
    },
    "tags": []
   },
   "outputs": [],
   "source": [
    "report_uri = latest_execution.output.destination\n",
    "print(\"Report Uri: {}\".format(report_uri))"
   ]
  },
  {
   "cell_type": "markdown",
   "id": "painted-trauma",
   "metadata": {
    "papermill": {
     "duration": 0.069765,
     "end_time": "2021-05-25T02:15:15.502705",
     "exception": false,
     "start_time": "2021-05-25T02:15:15.432940",
     "status": "completed"
    },
    "tags": []
   },
   "source": [
    "### List the generated reports"
   ]
  },
  {
   "cell_type": "code",
   "execution_count": null,
   "id": "italic-magic",
   "metadata": {
    "execution": {
     "iopub.execute_input": "2021-05-25T02:15:15.651111Z",
     "iopub.status.busy": "2021-05-25T02:15:15.650397Z",
     "iopub.status.idle": "2021-05-25T02:15:15.807604Z",
     "shell.execute_reply": "2021-05-25T02:15:15.807173Z"
    },
    "papermill": {
     "duration": 0.237182,
     "end_time": "2021-05-25T02:15:15.807722",
     "exception": false,
     "start_time": "2021-05-25T02:15:15.570540",
     "status": "completed"
    },
    "tags": []
   },
   "outputs": [],
   "source": [
    "from urllib.parse import urlparse\n",
    "\n",
    "s3uri = urlparse(report_uri)\n",
    "report_bucket = s3uri.netloc\n",
    "report_key = s3uri.path.lstrip(\"/\")\n",
    "print(\"Report bucket: {}\".format(report_bucket))\n",
    "print(\"Report key: {}\".format(report_key))\n",
    "\n",
    "s3_client = boto3.Session().client(\"s3\")\n",
    "result = s3_client.list_objects(Bucket=report_bucket, Prefix=report_key)\n",
    "report_files = [report_file.get(\"Key\") for report_file in result.get(\"Contents\")]\n",
    "print(\"Found Report Files:\")\n",
    "print(\"\\n \".join(report_files))"
   ]
  },
  {
   "cell_type": "markdown",
   "id": "structural-beverage",
   "metadata": {
    "papermill": {
     "duration": 0.067405,
     "end_time": "2021-05-25T02:15:15.943071",
     "exception": false,
     "start_time": "2021-05-25T02:15:15.875666",
     "status": "completed"
    },
    "tags": []
   },
   "source": [
    "### Violations report"
   ]
  },
  {
   "cell_type": "markdown",
   "id": "removable-sellers",
   "metadata": {
    "papermill": {
     "duration": 0.067511,
     "end_time": "2021-05-25T02:15:16.078421",
     "exception": false,
     "start_time": "2021-05-25T02:15:16.010910",
     "status": "completed"
    },
    "tags": []
   },
   "source": [
    "If there are any violations compared to the baseline, they will be listed here."
   ]
  },
  {
   "cell_type": "code",
   "execution_count": null,
   "id": "leading-piece",
   "metadata": {
    "execution": {
     "iopub.execute_input": "2021-05-25T02:15:16.219296Z",
     "iopub.status.busy": "2021-05-25T02:15:16.218805Z",
     "iopub.status.idle": "2021-05-25T02:15:16.393367Z",
     "shell.execute_reply": "2021-05-25T02:15:16.392979Z"
    },
    "papermill": {
     "duration": 0.247384,
     "end_time": "2021-05-25T02:15:16.393479",
     "exception": false,
     "start_time": "2021-05-25T02:15:16.146095",
     "status": "completed"
    },
    "tags": []
   },
   "outputs": [],
   "source": [
    "violations = my_default_monitor.latest_monitoring_constraint_violations()\n",
    "pd.set_option(\"display.max_colwidth\", -1)\n",
    "constraints_df = pd.io.json.json_normalize(violations.body_dict[\"violations\"])\n",
    "constraints_df.head(10)"
   ]
  },
  {
   "cell_type": "markdown",
   "id": "fleet-hypothesis",
   "metadata": {
    "papermill": {
     "duration": 0.068574,
     "end_time": "2021-05-25T02:15:16.530423",
     "exception": false,
     "start_time": "2021-05-25T02:15:16.461849",
     "status": "completed"
    },
    "tags": []
   },
   "source": [
    "### Other commands\n",
    "We can also start and stop the monitoring schedules."
   ]
  },
  {
   "cell_type": "code",
   "execution_count": null,
   "id": "olympic-thumb",
   "metadata": {
    "execution": {
     "iopub.execute_input": "2021-05-25T02:15:16.669297Z",
     "iopub.status.busy": "2021-05-25T02:15:16.668843Z",
     "iopub.status.idle": "2021-05-25T02:15:16.670781Z",
     "shell.execute_reply": "2021-05-25T02:15:16.671130Z"
    },
    "papermill": {
     "duration": 0.072789,
     "end_time": "2021-05-25T02:15:16.671258",
     "exception": false,
     "start_time": "2021-05-25T02:15:16.598469",
     "status": "completed"
    },
    "tags": []
   },
   "outputs": [],
   "source": [
    "# my_default_monitor.stop_monitoring_schedule()\n",
    "# my_default_monitor.start_monitoring_schedule()"
   ]
  },
  {
   "cell_type": "markdown",
   "id": "shared-presence",
   "metadata": {
    "papermill": {
     "duration": 0.069008,
     "end_time": "2021-05-25T02:15:16.808461",
     "exception": false,
     "start_time": "2021-05-25T02:15:16.739453",
     "status": "completed"
    },
    "tags": []
   },
   "source": [
    "## Delete the resources\n",
    "\n",
    "You can keep your endpoint running to continue capturing data. If you do not plan to collect more data or use this endpoint further, you should delete the endpoint to avoid incurring additional charges. Note that deleting your endpoint does not delete the data that was captured during the model invocations. That data persists in Amazon S3 until you delete it yourself.\n",
    "\n",
    "But before that, you need to delete the schedule first."
   ]
  },
  {
   "cell_type": "code",
   "execution_count": null,
   "id": "twenty-fruit",
   "metadata": {
    "execution": {
     "iopub.execute_input": "2021-05-25T02:15:16.951625Z",
     "iopub.status.busy": "2021-05-25T02:15:16.951150Z",
     "iopub.status.idle": "2021-05-25T02:16:37.655537Z",
     "shell.execute_reply": "2021-05-25T02:16:37.655899Z"
    },
    "papermill": {
     "duration": 80.77825,
     "end_time": "2021-05-25T02:16:37.656051",
     "exception": false,
     "start_time": "2021-05-25T02:15:16.877801",
     "status": "completed"
    },
    "tags": []
   },
   "outputs": [],
   "source": [
    "my_default_monitor.stop_monitoring_schedule()\n",
    "my_default_monitor.delete_monitoring_schedule()\n",
    "time.sleep(60)  # actually wait for the deletion"
   ]
  },
  {
   "cell_type": "code",
   "execution_count": null,
   "id": "solid-infection",
   "metadata": {
    "execution": {
     "iopub.execute_input": "2021-05-25T02:16:37.798820Z",
     "iopub.status.busy": "2021-05-25T02:16:37.798303Z",
     "iopub.status.idle": "2021-05-25T02:16:38.101996Z",
     "shell.execute_reply": "2021-05-25T02:16:38.101562Z"
    },
    "papermill": {
     "duration": 0.376845,
     "end_time": "2021-05-25T02:16:38.102110",
     "exception": false,
     "start_time": "2021-05-25T02:16:37.725265",
     "status": "completed"
    },
    "scrolled": true,
    "tags": []
   },
   "outputs": [],
   "source": [
    "predictor.delete_endpoint()"
   ]
  }
 ],
 "metadata": {
  "anaconda-cloud": {},
  "kernelspec": {
   "display_name": "Environment (conda_python3)",
   "language": "python",
   "name": "conda_python3"
  },
  "language_info": {
   "codemirror_mode": {
    "name": "ipython",
    "version": 3
   },
   "file_extension": ".py",
   "mimetype": "text/x-python",
   "name": "python",
   "nbconvert_exporter": "python",
   "pygments_lexer": "ipython3",
   "version": "3.7.10"
  },
  "notice": "Copyright 2017 Amazon.com, Inc. or its affiliates. All Rights Reserved.  Licensed under the Apache License, Version 2.0 (the \"License\"). You may not use this file except in compliance with the License. A copy of the License is located at http://aws.amazon.com/apache2.0/ or in the \"license\" file accompanying this file. This file is distributed on an \"AS IS\" BASIS, WITHOUT WARRANTIES OR CONDITIONS OF ANY KIND, either express or implied. See the License for the specific language governing permissions and limitations under the License."
 },
 "nbformat": 4,
 "nbformat_minor": 5
}