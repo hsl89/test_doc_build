{
 "cells": [
  {
   "cell_type": "markdown",
   "id": "db5cc9d1",
   "metadata": {
    "tags": [
     "papermill-error-cell-tag"
    ]
   },
   "source": [
    "<span style=\"color:red; font-family:Helvetica Neue, Helvetica, Arial, sans-serif; font-size:2em;\">An Exception was encountered at '<a href=\"#papermill-error-cell\">In [39]</a>'.</span>"
   ]
  },
  {
   "cell_type": "markdown",
   "id": "4c7a9737",
   "metadata": {
    "papermill": {
     "duration": 0.0261,
     "end_time": "2021-05-18T00:15:59.319124",
     "exception": false,
     "start_time": "2021-05-18T00:15:59.293024",
     "status": "completed"
    },
    "tags": []
   },
   "source": [
    "# An Introduction to the Amazon SageMaker IP Insights Algorithm\n",
    "#### Unsupervised anomaly detection for susicipous IP addresses\n",
    "-------\n",
    "1. [Introduction](#Introduction)\n",
    "2. [Setup](#Setup)\n",
    "3. [Training](#Training)\n",
    "4. [Inference](#Inference)\n",
    "5. [Epilogue](#Epilogue)\n",
    "\n",
    "## Introduction\n",
    "-------\n",
    "\n",
    "The Amazon SageMaker IP Insights algorithm uses statistical modeling and neural networks to capture associations between online resources (such as account IDs or hostnames) and IPv4 addresses. Under the hood, it learns vector representations for online resources and IP addresses. This essentially means that if the vector representing an IP address and an online resource are close together, then it is likey for that IP address to access that online resource, even if it has never accessed it before.\n",
    "\n",
    "In this notebook, we use the Amazon SageMaker IP Insights algorithm to train a model on synthetic data. We then use this model to perform inference on the data and show how to discover anomalies. After running this notebook, you should be able to:\n",
    "\n",
    "- obtain, transform, and store data for use in Amazon SageMaker,\n",
    "- create an AWS SageMaker training job to produce an IP Insights model,\n",
    "- use the model to perform inference with an Amazon SageMaker endpoint.\n",
    "\n",
    "If you would like to know more, please check out the [SageMaker IP Inisghts Documentation](https://docs.aws.amazon.com/sagemaker/latest/dg/ip-insights.html). \n",
    "\n",
    "## Setup\n",
    "------\n",
    "*This notebook was tested in Amazon SageMaker Studio on a ml.t3.medium instance with Python 3 (Data Science) kernel.*\n",
    "\n",
    "Our first step is to setup our AWS credentials so that AWS SageMaker can store and access training data and model artifacts.\n",
    "\n",
    "### Select Amazon S3 Bucket\n",
    "We first need to specify the locations where we will store our training data and trained model artifacts. ***This is the only cell of this notebook that you will need to edit.*** In particular, we need the following data:\n",
    "\n",
    "- `bucket` - An S3 bucket accessible by this account.\n",
    "- `prefix` - The location in the bucket where this notebook's input and output data will be stored. (The default value is sufficient.)"
   ]
  },
  {
   "cell_type": "code",
   "execution_count": 1,
   "id": "c8b2dcb3",
   "metadata": {
    "execution": {
     "iopub.execute_input": "2021-05-18T00:15:59.374288Z",
     "iopub.status.busy": "2021-05-18T00:15:59.373797Z",
     "iopub.status.idle": "2021-05-18T00:16:00.603234Z",
     "shell.execute_reply": "2021-05-18T00:16:00.602720Z"
    },
    "papermill": {
     "duration": 1.259651,
     "end_time": "2021-05-18T00:16:00.603358",
     "exception": false,
     "start_time": "2021-05-18T00:15:59.343707",
     "status": "completed"
    },
    "tags": []
   },
   "outputs": [
    {
     "name": "stdout",
     "output_type": "stream",
     "text": [
      "Training input/output will be stored in: s3://sagemaker-us-west-2-521695447989/sagemaker/ipinsights-tutorial\n"
     ]
    }
   ],
   "source": [
    "import boto3\n",
    "import botocore\n",
    "import os\n",
    "import sagemaker\n",
    "\n",
    "\n",
    "bucket = sagemaker.Session().default_bucket()\n",
    "prefix = \"sagemaker/ipinsights-tutorial\"\n",
    "execution_role = sagemaker.get_execution_role()\n",
    "region = boto3.Session().region_name\n",
    "\n",
    "# check if the bucket exists\n",
    "try:\n",
    "    boto3.Session().client(\"s3\").head_bucket(Bucket=bucket)\n",
    "except botocore.exceptions.ParamValidationError as e:\n",
    "    print(\n",
    "        \"Hey! You either forgot to specify your S3 bucket or you gave your bucket an invalid name!\"\n",
    "    )\n",
    "except botocore.exceptions.ClientError as e:\n",
    "    if e.response[\"Error\"][\"Code\"] == \"403\":\n",
    "        print(f\"Hey! You don't have permission to access the bucket, {bucket}.\")\n",
    "    elif e.response[\"Error\"][\"Code\"] == \"404\":\n",
    "        print(f\"Hey! Your bucket, {bucket}, doesn't exist!\")\n",
    "    else:\n",
    "        raise\n",
    "else:\n",
    "    print(f\"Training input/output will be stored in: s3://{bucket}/{prefix}\")"
   ]
  },
  {
   "cell_type": "markdown",
   "id": "8d75adac",
   "metadata": {
    "papermill": {
     "duration": 0.024872,
     "end_time": "2021-05-18T00:16:00.653874",
     "exception": false,
     "start_time": "2021-05-18T00:16:00.629002",
     "status": "completed"
    },
    "tags": []
   },
   "source": [
    "Next we download the modules necessary for synthetic data generation they do not exist."
   ]
  },
  {
   "cell_type": "code",
   "execution_count": 2,
   "id": "375924ee",
   "metadata": {
    "execution": {
     "iopub.execute_input": "2021-05-18T00:16:00.716565Z",
     "iopub.status.busy": "2021-05-18T00:16:00.716105Z",
     "iopub.status.idle": "2021-05-18T00:16:00.745799Z",
     "shell.execute_reply": "2021-05-18T00:16:00.746172Z"
    },
    "papermill": {
     "duration": 0.067357,
     "end_time": "2021-05-18T00:16:00.746312",
     "exception": false,
     "start_time": "2021-05-18T00:16:00.678955",
     "status": "completed"
    },
    "tags": []
   },
   "outputs": [],
   "source": [
    "from os import path\n",
    "\n",
    "tools_bucket = f\"jumpstart-cache-prod-{region}\"  # Bucket containing the data generation module.\n",
    "tools_prefix = \"1p-algorithms-assets/ip-insights\"  # Prefix for the data generation module\n",
    "s3 = boto3.client(\"s3\")\n",
    "\n",
    "data_generation_file = \"generate_data.py\"  # Synthetic data generation module\n",
    "script_parameters_file = \"ip2asn-v4-u32.tsv.gz\"\n",
    "\n",
    "if not path.exists(data_generation_file):\n",
    "    s3.download_file(tools_bucket, f\"{tools_prefix}/{data_generation_file}\", data_generation_file)\n",
    "\n",
    "if not path.exists(script_parameters_file):\n",
    "    s3.download_file(\n",
    "        tools_bucket, f\"{tools_prefix}/{script_parameters_file}\", script_parameters_file\n",
    "    )"
   ]
  },
  {
   "cell_type": "markdown",
   "id": "ae75e266",
   "metadata": {
    "papermill": {
     "duration": 0.02513,
     "end_time": "2021-05-18T00:16:00.796616",
     "exception": false,
     "start_time": "2021-05-18T00:16:00.771486",
     "status": "completed"
    },
    "tags": []
   },
   "source": [
    "### Dataset\n",
    "\n",
    "Apache Web Server (\"httpd\") is the most popular web server used on the internet. And luckily for us, it logs all requests processed by the server - by default. If a web page requires HTTP authentication, the Apache Web Server will log the IP address and authenticated user name for each requested resource. \n",
    "\n",
    "The [access logs](https://httpd.apache.org/docs/2.4/logs.html) are typically on the server under the file `/var/log/httpd/access_log`. From the example log output below, we see which IP addresses each user has connected with:\n",
    "\n",
    "```\n",
    "192.168.1.100 - user1 [15/Oct/2018:18:58:32 +0000] \"GET /login_success?userId=1 HTTP/1.1\" 200 476 \"-\" \"Mozilla/5.0 (Macintosh; Intel Mac OS X 10_12_6) AppleWebKit/537.36 (KHTML, like Gecko) Chrome/69.0.3497.100 Safari/537.36\"\n",
    "192.168.1.102 - user2 [15/Oct/2018:18:58:35 +0000] \"GET /login_success?userId=2 HTTP/1.1\" 200 - \"-\" \"Mozilla/5.0 (Macintosh; Intel Mac OS X 10_12_6) AppleWebKit/537.36 (KHTML, like Gecko) Chrome/69.0.3497.100 Safari/537.36\"\n",
    "...\n",
    "```\n",
    "\n",
    "If we want to train an algorithm to detect suspicious activity, this dataset is ideal for SageMaker IP Insights.\n",
    "\n",
    "First, we determine the resource we want to be analyzing (such as a login page or access to a protected file). Then, we construct a dataset containing the history of all past user interactions with the resource. We extract out each 'access event' from the log and store the corresponding user name and IP address in a headerless CSV file with two columns. The first column will contain the user identifier string, and the second will contain the IPv4 address in decimal-dot notation. \n",
    "\n",
    "```\n",
    "user1, 192.168.1.100\n",
    "user2, 193.168.1.102\n",
    "...\n",
    "```\n",
    "\n",
    "As a side note, the dataset should include all access events. That means some `<user_name, ip_address>` pairs will be repeated. \n",
    "\n",
    "#### User Activity Simulation\n",
    "For this example, we are going to simulate our own web-traffic logs. We mock up a toy website example and simulate users logging into the website from mobile devices. \n",
    "\n",
    "The details of the simulation are explained in the script [here](./generate_data.py). \n",
    "\n"
   ]
  },
  {
   "cell_type": "code",
   "execution_count": 3,
   "id": "0714b0b0",
   "metadata": {
    "execution": {
     "iopub.execute_input": "2021-05-18T00:16:00.852339Z",
     "iopub.status.busy": "2021-05-18T00:16:00.851504Z",
     "iopub.status.idle": "2021-05-18T00:16:59.284404Z",
     "shell.execute_reply": "2021-05-18T00:16:59.283951Z"
    },
    "papermill": {
     "duration": 58.462446,
     "end_time": "2021-05-18T00:16:59.284517",
     "exception": false,
     "start_time": "2021-05-18T00:16:00.822071",
     "status": "completed"
    },
    "tags": []
   },
   "outputs": [
    {
     "name": "stdout",
     "output_type": "stream",
     "text": [
      "Loaded ASN List: 827696 ASNs.\n"
     ]
    },
    {
     "name": "stdout",
     "output_type": "stream",
     "text": [
      "Starting User Activity Simulation\n"
     ]
    },
    {
     "name": "stderr",
     "output_type": "stream",
     "text": [
      "\r",
      "  0%|          | 0/10000 [00:00<?, ?users/s]"
     ]
    },
    {
     "name": "stderr",
     "output_type": "stream",
     "text": [
      "\r",
      "  0%|          | 18/10000 [00:00<01:05, 152.71users/s]"
     ]
    },
    {
     "name": "stderr",
     "output_type": "stream",
     "text": [
      "\r",
      "  0%|          | 27/10000 [00:00<01:19, 125.23users/s]"
     ]
    },
    {
     "name": "stderr",
     "output_type": "stream",
     "text": [
      "\r",
      "  0%|          | 49/10000 [00:00<01:09, 143.47users/s]"
     ]
    },
    {
     "name": "stderr",
     "output_type": "stream",
     "text": [
      "\r",
      "  1%|          | 61/10000 [00:00<01:15, 132.31users/s]"
     ]
    },
    {
     "name": "stderr",
     "output_type": "stream",
     "text": [
      "\r",
      "  1%|          | 76/10000 [00:00<01:19, 124.16users/s]"
     ]
    },
    {
     "name": "stderr",
     "output_type": "stream",
     "text": [
      "\r",
      "  1%|          | 87/10000 [00:00<01:25, 116.49users/s]"
     ]
    },
    {
     "name": "stderr",
     "output_type": "stream",
     "text": [
      "\r",
      "  1%|          | 98/10000 [00:00<01:28, 111.59users/s]"
     ]
    },
    {
     "name": "stderr",
     "output_type": "stream",
     "text": [
      "\r",
      "  1%|          | 109/10000 [00:00<01:30, 109.74users/s]"
     ]
    },
    {
     "name": "stderr",
     "output_type": "stream",
     "text": [
      "\r",
      "  1%|▏         | 137/10000 [00:00<01:14, 133.25users/s]"
     ]
    },
    {
     "name": "stderr",
     "output_type": "stream",
     "text": [
      "\r",
      "  2%|▏         | 157/10000 [00:01<01:06, 147.65users/s]"
     ]
    },
    {
     "name": "stderr",
     "output_type": "stream",
     "text": [
      "\r",
      "  2%|▏         | 174/10000 [00:01<01:07, 145.59users/s]"
     ]
    },
    {
     "name": "stderr",
     "output_type": "stream",
     "text": [
      "\r",
      "  2%|▏         | 190/10000 [00:01<01:09, 141.99users/s]"
     ]
    },
    {
     "name": "stderr",
     "output_type": "stream",
     "text": [
      "\r",
      "  2%|▏         | 206/10000 [00:01<01:28, 110.14users/s]"
     ]
    },
    {
     "name": "stderr",
     "output_type": "stream",
     "text": [
      "\r",
      "  2%|▏         | 219/10000 [00:01<01:26, 112.45users/s]"
     ]
    },
    {
     "name": "stderr",
     "output_type": "stream",
     "text": [
      "\r",
      "  2%|▏         | 232/10000 [00:01<01:58, 82.57users/s] "
     ]
    },
    {
     "name": "stderr",
     "output_type": "stream",
     "text": [
      "\r",
      "  2%|▏         | 243/10000 [00:02<02:44, 59.21users/s]"
     ]
    },
    {
     "name": "stderr",
     "output_type": "stream",
     "text": [
      "\r",
      "  3%|▎         | 252/10000 [00:02<02:49, 57.54users/s]"
     ]
    },
    {
     "name": "stderr",
     "output_type": "stream",
     "text": [
      "\r",
      "  3%|▎         | 273/10000 [00:02<02:16, 71.08users/s]"
     ]
    },
    {
     "name": "stderr",
     "output_type": "stream",
     "text": [
      "\r",
      "  3%|▎         | 283/10000 [00:02<02:14, 72.03users/s]"
     ]
    },
    {
     "name": "stderr",
     "output_type": "stream",
     "text": [
      "\r",
      "  3%|▎         | 297/10000 [00:02<01:55, 84.21users/s]"
     ]
    },
    {
     "name": "stderr",
     "output_type": "stream",
     "text": [
      "\r",
      "  3%|▎         | 313/10000 [00:02<01:38, 98.07users/s]"
     ]
    },
    {
     "name": "stderr",
     "output_type": "stream",
     "text": [
      "\r",
      "  3%|▎         | 326/10000 [00:03<02:41, 60.00users/s]"
     ]
    },
    {
     "name": "stderr",
     "output_type": "stream",
     "text": [
      "\r",
      "  3%|▎         | 336/10000 [00:03<02:22, 67.59users/s]"
     ]
    },
    {
     "name": "stderr",
     "output_type": "stream",
     "text": [
      "\r",
      "  3%|▎         | 346/10000 [00:03<02:18, 69.74users/s]"
     ]
    },
    {
     "name": "stderr",
     "output_type": "stream",
     "text": [
      "\r",
      "  4%|▎         | 358/10000 [00:03<02:03, 77.77users/s]"
     ]
    },
    {
     "name": "stderr",
     "output_type": "stream",
     "text": [
      "\r",
      "  4%|▎         | 368/10000 [00:03<02:26, 65.58users/s]"
     ]
    },
    {
     "name": "stderr",
     "output_type": "stream",
     "text": [
      "\r",
      "  4%|▍         | 378/10000 [00:04<02:46, 57.91users/s]"
     ]
    },
    {
     "name": "stderr",
     "output_type": "stream",
     "text": [
      "\r",
      "  4%|▍         | 401/10000 [00:04<02:13, 72.05users/s]"
     ]
    },
    {
     "name": "stderr",
     "output_type": "stream",
     "text": [
      "\r",
      "  4%|▍         | 420/10000 [00:04<01:48, 88.24users/s]"
     ]
    },
    {
     "name": "stderr",
     "output_type": "stream",
     "text": [
      "\r",
      "  4%|▍         | 433/10000 [00:04<01:57, 81.64users/s]"
     ]
    },
    {
     "name": "stderr",
     "output_type": "stream",
     "text": [
      "\r",
      "  4%|▍         | 444/10000 [00:04<02:11, 72.77users/s]"
     ]
    },
    {
     "name": "stderr",
     "output_type": "stream",
     "text": [
      "\r",
      "  5%|▍         | 454/10000 [00:04<02:12, 72.25users/s]"
     ]
    },
    {
     "name": "stderr",
     "output_type": "stream",
     "text": [
      "\r",
      "  5%|▍         | 463/10000 [00:04<02:14, 70.69users/s]"
     ]
    },
    {
     "name": "stderr",
     "output_type": "stream",
     "text": [
      "\r",
      "  5%|▍         | 476/10000 [00:05<01:57, 80.94users/s]"
     ]
    },
    {
     "name": "stderr",
     "output_type": "stream",
     "text": [
      "\r",
      "  5%|▍         | 497/10000 [00:05<01:56, 81.41users/s]"
     ]
    },
    {
     "name": "stderr",
     "output_type": "stream",
     "text": [
      "\r",
      "  5%|▌         | 520/10000 [00:05<01:34, 100.03users/s]"
     ]
    },
    {
     "name": "stderr",
     "output_type": "stream",
     "text": [
      "\r",
      "  5%|▌         | 542/10000 [00:05<01:21, 116.39users/s]"
     ]
    },
    {
     "name": "stderr",
     "output_type": "stream",
     "text": [
      "\r",
      "  6%|▌         | 557/10000 [00:05<02:03, 76.31users/s] "
     ]
    },
    {
     "name": "stderr",
     "output_type": "stream",
     "text": [
      "\r",
      "  6%|▌         | 569/10000 [00:06<02:26, 64.57users/s]"
     ]
    },
    {
     "name": "stderr",
     "output_type": "stream",
     "text": [
      "\r",
      "  6%|▌         | 581/10000 [00:06<02:07, 73.89users/s]"
     ]
    },
    {
     "name": "stderr",
     "output_type": "stream",
     "text": [
      "\r",
      "  6%|▌         | 591/10000 [00:06<02:34, 60.92users/s]"
     ]
    },
    {
     "name": "stderr",
     "output_type": "stream",
     "text": [
      "\r",
      "  6%|▌         | 606/10000 [00:06<02:07, 73.44users/s]"
     ]
    },
    {
     "name": "stderr",
     "output_type": "stream",
     "text": [
      "\r",
      "  6%|▌         | 617/10000 [00:06<02:03, 76.20users/s]"
     ]
    },
    {
     "name": "stderr",
     "output_type": "stream",
     "text": [
      "\r",
      "  6%|▋         | 633/10000 [00:06<01:48, 86.32users/s]"
     ]
    },
    {
     "name": "stderr",
     "output_type": "stream",
     "text": [
      "\r",
      "  6%|▋         | 644/10000 [00:07<02:00, 77.94users/s]"
     ]
    },
    {
     "name": "stderr",
     "output_type": "stream",
     "text": [
      "\r",
      "  7%|▋         | 657/10000 [00:07<01:50, 84.44users/s]"
     ]
    },
    {
     "name": "stderr",
     "output_type": "stream",
     "text": [
      "\r",
      "  7%|▋         | 667/10000 [00:07<02:03, 75.85users/s]"
     ]
    },
    {
     "name": "stderr",
     "output_type": "stream",
     "text": [
      "\r",
      "  7%|▋         | 676/10000 [00:07<02:50, 54.57users/s]"
     ]
    },
    {
     "name": "stderr",
     "output_type": "stream",
     "text": [
      "\r",
      "  7%|▋         | 684/10000 [00:07<02:45, 56.38users/s]"
     ]
    },
    {
     "name": "stderr",
     "output_type": "stream",
     "text": [
      "\r",
      "  7%|▋         | 707/10000 [00:07<02:07, 72.77users/s]"
     ]
    },
    {
     "name": "stderr",
     "output_type": "stream",
     "text": [
      "\r",
      "  7%|▋         | 722/10000 [00:07<01:47, 85.93users/s]"
     ]
    },
    {
     "name": "stderr",
     "output_type": "stream",
     "text": [
      "\r",
      "  7%|▋         | 741/10000 [00:08<01:31, 101.67users/s]"
     ]
    },
    {
     "name": "stderr",
     "output_type": "stream",
     "text": [
      "\r",
      "  8%|▊         | 756/10000 [00:08<01:39, 92.93users/s] "
     ]
    },
    {
     "name": "stderr",
     "output_type": "stream",
     "text": [
      "\r",
      "  8%|▊         | 769/10000 [00:08<01:45, 87.48users/s]"
     ]
    },
    {
     "name": "stderr",
     "output_type": "stream",
     "text": [
      "\r",
      "  8%|▊         | 791/10000 [00:08<01:32, 99.67users/s]"
     ]
    },
    {
     "name": "stderr",
     "output_type": "stream",
     "text": [
      "\r",
      "  8%|▊         | 814/10000 [00:08<01:16, 119.99users/s]"
     ]
    },
    {
     "name": "stderr",
     "output_type": "stream",
     "text": [
      "\r",
      "  8%|▊         | 830/10000 [00:08<01:45, 86.75users/s] "
     ]
    },
    {
     "name": "stderr",
     "output_type": "stream",
     "text": [
      "\r",
      "  8%|▊         | 843/10000 [00:09<02:17, 66.56users/s]"
     ]
    },
    {
     "name": "stderr",
     "output_type": "stream",
     "text": [
      "\r",
      "  9%|▊         | 858/10000 [00:09<01:55, 79.20users/s]"
     ]
    },
    {
     "name": "stderr",
     "output_type": "stream",
     "text": [
      "\r",
      "  9%|▉         | 877/10000 [00:09<01:35, 95.81users/s]"
     ]
    },
    {
     "name": "stderr",
     "output_type": "stream",
     "text": [
      "\r",
      "  9%|▉         | 899/10000 [00:09<01:19, 115.09users/s]"
     ]
    },
    {
     "name": "stderr",
     "output_type": "stream",
     "text": [
      "\r",
      "  9%|▉         | 915/10000 [00:09<01:17, 117.87users/s]"
     ]
    },
    {
     "name": "stderr",
     "output_type": "stream",
     "text": [
      "\r",
      "  9%|▉         | 939/10000 [00:09<01:06, 136.32users/s]"
     ]
    },
    {
     "name": "stderr",
     "output_type": "stream",
     "text": [
      "\r",
      " 10%|▉         | 956/10000 [00:09<01:19, 113.76users/s]"
     ]
    },
    {
     "name": "stderr",
     "output_type": "stream",
     "text": [
      "\r",
      " 10%|▉         | 971/10000 [00:10<01:22, 109.74users/s]"
     ]
    },
    {
     "name": "stderr",
     "output_type": "stream",
     "text": [
      "\r",
      " 10%|▉         | 985/10000 [00:10<01:28, 102.02users/s]"
     ]
    },
    {
     "name": "stderr",
     "output_type": "stream",
     "text": [
      "\r",
      " 10%|▉         | 997/10000 [00:10<02:23, 62.84users/s] "
     ]
    },
    {
     "name": "stderr",
     "output_type": "stream",
     "text": [
      "\r",
      " 10%|█         | 1016/10000 [00:10<01:55, 77.90users/s]"
     ]
    },
    {
     "name": "stderr",
     "output_type": "stream",
     "text": [
      "\r",
      " 10%|█         | 1040/10000 [00:10<01:35, 94.14users/s]"
     ]
    },
    {
     "name": "stderr",
     "output_type": "stream",
     "text": [
      "\r",
      " 11%|█         | 1056/10000 [00:10<01:23, 107.20users/s]"
     ]
    },
    {
     "name": "stderr",
     "output_type": "stream",
     "text": [
      "\r",
      " 11%|█         | 1071/10000 [00:11<01:24, 105.13users/s]"
     ]
    },
    {
     "name": "stderr",
     "output_type": "stream",
     "text": [
      "\r",
      " 11%|█         | 1085/10000 [00:11<01:19, 111.55users/s]"
     ]
    },
    {
     "name": "stderr",
     "output_type": "stream",
     "text": [
      "\r",
      " 11%|█         | 1099/10000 [00:11<01:29, 99.75users/s] "
     ]
    },
    {
     "name": "stderr",
     "output_type": "stream",
     "text": [
      "\r",
      " 11%|█         | 1111/10000 [00:11<01:50, 80.79users/s]"
     ]
    },
    {
     "name": "stderr",
     "output_type": "stream",
     "text": [
      "\r",
      " 11%|█         | 1121/10000 [00:11<01:46, 83.72users/s]"
     ]
    },
    {
     "name": "stderr",
     "output_type": "stream",
     "text": [
      "\r",
      " 11%|█▏        | 1139/10000 [00:11<01:33, 94.43users/s]"
     ]
    },
    {
     "name": "stderr",
     "output_type": "stream",
     "text": [
      "\r",
      " 12%|█▏        | 1162/10000 [00:11<01:17, 114.69users/s]"
     ]
    },
    {
     "name": "stderr",
     "output_type": "stream",
     "text": [
      "\r",
      " 12%|█▏        | 1177/10000 [00:12<01:41, 86.76users/s] "
     ]
    },
    {
     "name": "stderr",
     "output_type": "stream",
     "text": [
      "\r",
      " 12%|█▏        | 1189/10000 [00:12<02:08, 68.53users/s]"
     ]
    },
    {
     "name": "stderr",
     "output_type": "stream",
     "text": [
      "\r",
      " 12%|█▏        | 1202/10000 [00:12<01:56, 75.59users/s]"
     ]
    },
    {
     "name": "stderr",
     "output_type": "stream",
     "text": [
      "\r",
      " 12%|█▏        | 1216/10000 [00:12<01:43, 85.20users/s]"
     ]
    },
    {
     "name": "stderr",
     "output_type": "stream",
     "text": [
      "\r",
      " 12%|█▏        | 1229/10000 [00:12<01:33, 93.48users/s]"
     ]
    },
    {
     "name": "stderr",
     "output_type": "stream",
     "text": [
      "\r",
      " 12%|█▏        | 1241/10000 [00:12<01:33, 94.14users/s]"
     ]
    },
    {
     "name": "stderr",
     "output_type": "stream",
     "text": [
      "\r",
      " 13%|█▎        | 1252/10000 [00:13<02:03, 70.89users/s]"
     ]
    },
    {
     "name": "stderr",
     "output_type": "stream",
     "text": [
      "\r",
      " 13%|█▎        | 1270/10000 [00:13<01:42, 84.96users/s]"
     ]
    },
    {
     "name": "stderr",
     "output_type": "stream",
     "text": [
      "\r",
      " 13%|█▎        | 1290/10000 [00:13<01:25, 101.82users/s]"
     ]
    },
    {
     "name": "stderr",
     "output_type": "stream",
     "text": [
      "\r",
      " 13%|█▎        | 1304/10000 [00:13<01:25, 101.61users/s]"
     ]
    },
    {
     "name": "stderr",
     "output_type": "stream",
     "text": [
      "\r",
      " 13%|█▎        | 1317/10000 [00:13<01:57, 74.09users/s] "
     ]
    },
    {
     "name": "stderr",
     "output_type": "stream",
     "text": [
      "\r",
      " 13%|█▎        | 1332/10000 [00:13<01:39, 86.95users/s]"
     ]
    },
    {
     "name": "stderr",
     "output_type": "stream",
     "text": [
      "\r",
      " 13%|█▎        | 1349/10000 [00:14<01:25, 101.32users/s]"
     ]
    },
    {
     "name": "stderr",
     "output_type": "stream",
     "text": [
      "\r",
      " 14%|█▎        | 1362/10000 [00:14<01:51, 77.67users/s] "
     ]
    },
    {
     "name": "stderr",
     "output_type": "stream",
     "text": [
      "\r",
      " 14%|█▍        | 1375/10000 [00:14<01:39, 86.36users/s]"
     ]
    },
    {
     "name": "stderr",
     "output_type": "stream",
     "text": [
      "\r",
      " 14%|█▍        | 1386/10000 [00:15<03:35, 40.02users/s]"
     ]
    },
    {
     "name": "stderr",
     "output_type": "stream",
     "text": [
      "\r",
      " 14%|█▍        | 1398/10000 [00:15<03:04, 46.60users/s]"
     ]
    },
    {
     "name": "stderr",
     "output_type": "stream",
     "text": [
      "\r",
      " 14%|█▍        | 1406/10000 [00:15<03:26, 41.57users/s]"
     ]
    },
    {
     "name": "stderr",
     "output_type": "stream",
     "text": [
      "\r",
      " 14%|█▍        | 1442/10000 [00:15<02:31, 56.51users/s]"
     ]
    },
    {
     "name": "stderr",
     "output_type": "stream",
     "text": [
      "\r",
      " 15%|█▍        | 1460/10000 [00:15<02:15, 63.07users/s]"
     ]
    },
    {
     "name": "stderr",
     "output_type": "stream",
     "text": [
      "\r",
      " 15%|█▍        | 1474/10000 [00:15<01:57, 72.51users/s]"
     ]
    },
    {
     "name": "stderr",
     "output_type": "stream",
     "text": [
      "\r",
      " 15%|█▍        | 1487/10000 [00:16<01:42, 82.97users/s]"
     ]
    },
    {
     "name": "stderr",
     "output_type": "stream",
     "text": [
      "\r",
      " 15%|█▌        | 1501/10000 [00:16<01:34, 90.09users/s]"
     ]
    },
    {
     "name": "stderr",
     "output_type": "stream",
     "text": [
      "\r",
      " 15%|█▌        | 1514/10000 [00:16<01:37, 87.13users/s]"
     ]
    },
    {
     "name": "stderr",
     "output_type": "stream",
     "text": [
      "\r",
      " 15%|█▌        | 1525/10000 [00:16<01:33, 90.29users/s]"
     ]
    },
    {
     "name": "stderr",
     "output_type": "stream",
     "text": [
      "\r",
      " 15%|█▌        | 1536/10000 [00:16<02:30, 56.24users/s]"
     ]
    },
    {
     "name": "stderr",
     "output_type": "stream",
     "text": [
      "\r",
      " 15%|█▌        | 1548/10000 [00:16<02:08, 65.53users/s]"
     ]
    },
    {
     "name": "stderr",
     "output_type": "stream",
     "text": [
      "\r",
      " 16%|█▌        | 1562/10000 [00:17<01:48, 77.57users/s]"
     ]
    },
    {
     "name": "stderr",
     "output_type": "stream",
     "text": [
      "\r",
      " 16%|█▌        | 1588/10000 [00:17<01:25, 98.02users/s]"
     ]
    },
    {
     "name": "stderr",
     "output_type": "stream",
     "text": [
      "\r",
      " 16%|█▌        | 1619/10000 [00:17<01:08, 122.88users/s]"
     ]
    },
    {
     "name": "stderr",
     "output_type": "stream",
     "text": [
      "\r",
      " 16%|█▋        | 1641/10000 [00:17<01:00, 138.97users/s]"
     ]
    },
    {
     "name": "stderr",
     "output_type": "stream",
     "text": [
      "\r",
      " 17%|█▋        | 1671/10000 [00:17<00:50, 165.43users/s]"
     ]
    },
    {
     "name": "stderr",
     "output_type": "stream",
     "text": [
      "\r",
      " 17%|█▋        | 1697/10000 [00:17<00:44, 184.74users/s]"
     ]
    },
    {
     "name": "stderr",
     "output_type": "stream",
     "text": [
      "\r",
      " 17%|█▋        | 1721/10000 [00:17<00:52, 157.87users/s]"
     ]
    },
    {
     "name": "stderr",
     "output_type": "stream",
     "text": [
      "\r",
      " 17%|█▋        | 1745/10000 [00:17<00:47, 173.94users/s]"
     ]
    },
    {
     "name": "stderr",
     "output_type": "stream",
     "text": [
      "\r",
      " 18%|█▊        | 1766/10000 [00:18<01:04, 127.23users/s]"
     ]
    },
    {
     "name": "stderr",
     "output_type": "stream",
     "text": [
      "\r",
      " 18%|█▊        | 1786/10000 [00:18<00:57, 142.78users/s]"
     ]
    },
    {
     "name": "stderr",
     "output_type": "stream",
     "text": [
      "\r",
      " 18%|█▊        | 1804/10000 [00:18<01:03, 129.04users/s]"
     ]
    },
    {
     "name": "stderr",
     "output_type": "stream",
     "text": [
      "\r",
      " 18%|█▊        | 1829/10000 [00:18<00:55, 146.14users/s]"
     ]
    },
    {
     "name": "stderr",
     "output_type": "stream",
     "text": [
      "\r",
      " 18%|█▊        | 1849/10000 [00:18<00:51, 158.58users/s]"
     ]
    },
    {
     "name": "stderr",
     "output_type": "stream",
     "text": [
      "\r",
      " 19%|█▉        | 1880/10000 [00:18<00:43, 184.61users/s]"
     ]
    },
    {
     "name": "stderr",
     "output_type": "stream",
     "text": [
      "\r",
      " 19%|█▉        | 1902/10000 [00:18<00:43, 186.44users/s]"
     ]
    },
    {
     "name": "stderr",
     "output_type": "stream",
     "text": [
      "\r",
      " 19%|█▉        | 1923/10000 [00:19<00:59, 136.57users/s]"
     ]
    },
    {
     "name": "stderr",
     "output_type": "stream",
     "text": [
      "\r",
      " 19%|█▉        | 1943/10000 [00:19<00:54, 147.79users/s]"
     ]
    },
    {
     "name": "stderr",
     "output_type": "stream",
     "text": [
      "\r",
      " 20%|█▉        | 1969/10000 [00:19<00:47, 167.45users/s]"
     ]
    },
    {
     "name": "stderr",
     "output_type": "stream",
     "text": [
      "\r",
      " 20%|█▉        | 1991/10000 [00:19<00:44, 178.81users/s]"
     ]
    },
    {
     "name": "stderr",
     "output_type": "stream",
     "text": [
      "\r",
      " 20%|██        | 2032/10000 [00:19<00:37, 214.78users/s]"
     ]
    },
    {
     "name": "stderr",
     "output_type": "stream",
     "text": [
      "\r",
      " 21%|██        | 2059/10000 [00:19<00:38, 208.58users/s]"
     ]
    },
    {
     "name": "stderr",
     "output_type": "stream",
     "text": [
      "\r",
      " 21%|██        | 2084/10000 [00:19<00:43, 179.97users/s]"
     ]
    },
    {
     "name": "stderr",
     "output_type": "stream",
     "text": [
      "\r",
      " 21%|██        | 2106/10000 [00:19<00:46, 168.10users/s]"
     ]
    },
    {
     "name": "stderr",
     "output_type": "stream",
     "text": [
      "\r",
      " 21%|██▏       | 2128/10000 [00:20<00:43, 178.99users/s]"
     ]
    },
    {
     "name": "stderr",
     "output_type": "stream",
     "text": [
      "\r",
      " 22%|██▏       | 2155/10000 [00:20<00:40, 193.83users/s]"
     ]
    },
    {
     "name": "stderr",
     "output_type": "stream",
     "text": [
      "\r",
      " 22%|██▏       | 2176/10000 [00:20<00:43, 180.46users/s]"
     ]
    },
    {
     "name": "stderr",
     "output_type": "stream",
     "text": [
      "\r",
      " 22%|██▏       | 2196/10000 [00:20<00:43, 180.97users/s]"
     ]
    },
    {
     "name": "stderr",
     "output_type": "stream",
     "text": [
      "\r",
      " 22%|██▏       | 2225/10000 [00:20<00:40, 194.17users/s]"
     ]
    },
    {
     "name": "stderr",
     "output_type": "stream",
     "text": [
      "\r",
      " 23%|██▎       | 2256/10000 [00:20<00:35, 218.03users/s]"
     ]
    },
    {
     "name": "stderr",
     "output_type": "stream",
     "text": [
      "\r",
      " 23%|██▎       | 2280/10000 [00:20<00:38, 202.35users/s]"
     ]
    },
    {
     "name": "stderr",
     "output_type": "stream",
     "text": [
      "\r",
      " 23%|██▎       | 2302/10000 [00:20<00:38, 200.03users/s]"
     ]
    },
    {
     "name": "stderr",
     "output_type": "stream",
     "text": [
      "\r",
      " 23%|██▎       | 2329/10000 [00:20<00:35, 214.45users/s]"
     ]
    },
    {
     "name": "stderr",
     "output_type": "stream",
     "text": [
      "\r",
      " 24%|██▎       | 2356/10000 [00:21<00:34, 219.11users/s]"
     ]
    },
    {
     "name": "stderr",
     "output_type": "stream",
     "text": [
      "\r",
      " 24%|██▍       | 2379/10000 [00:21<00:37, 205.64users/s]"
     ]
    },
    {
     "name": "stderr",
     "output_type": "stream",
     "text": [
      "\r",
      " 24%|██▍       | 2401/10000 [00:21<00:41, 184.86users/s]"
     ]
    },
    {
     "name": "stderr",
     "output_type": "stream",
     "text": [
      "\r",
      " 24%|██▍       | 2427/10000 [00:21<00:37, 201.01users/s]"
     ]
    },
    {
     "name": "stderr",
     "output_type": "stream",
     "text": [
      "\r",
      " 25%|██▍       | 2455/10000 [00:21<00:34, 219.53users/s]"
     ]
    },
    {
     "name": "stderr",
     "output_type": "stream",
     "text": [
      "\r",
      " 25%|██▍       | 2479/10000 [00:21<00:49, 153.29users/s]"
     ]
    },
    {
     "name": "stderr",
     "output_type": "stream",
     "text": [
      "\r",
      " 25%|██▌       | 2504/10000 [00:21<00:43, 172.81users/s]"
     ]
    },
    {
     "name": "stderr",
     "output_type": "stream",
     "text": [
      "\r",
      " 25%|██▌       | 2527/10000 [00:22<00:40, 183.53users/s]"
     ]
    },
    {
     "name": "stderr",
     "output_type": "stream",
     "text": [
      "\r",
      " 25%|██▌       | 2548/10000 [00:22<00:44, 165.90users/s]"
     ]
    },
    {
     "name": "stderr",
     "output_type": "stream",
     "text": [
      "\r",
      " 26%|██▌       | 2567/10000 [00:22<00:49, 149.29users/s]"
     ]
    },
    {
     "name": "stderr",
     "output_type": "stream",
     "text": [
      "\r",
      " 26%|██▌       | 2584/10000 [00:22<00:51, 144.50users/s]"
     ]
    },
    {
     "name": "stderr",
     "output_type": "stream",
     "text": [
      "\r",
      " 26%|██▌       | 2600/10000 [00:22<00:51, 143.65users/s]"
     ]
    },
    {
     "name": "stderr",
     "output_type": "stream",
     "text": [
      "\r",
      " 26%|██▋       | 2625/10000 [00:22<00:45, 163.65users/s]"
     ]
    },
    {
     "name": "stderr",
     "output_type": "stream",
     "text": [
      "\r",
      " 26%|██▋       | 2645/10000 [00:22<00:42, 171.42users/s]"
     ]
    },
    {
     "name": "stderr",
     "output_type": "stream",
     "text": [
      "\r",
      " 27%|██▋       | 2666/10000 [00:22<00:40, 180.12users/s]"
     ]
    },
    {
     "name": "stderr",
     "output_type": "stream",
     "text": [
      "\r",
      " 27%|██▋       | 2688/10000 [00:23<00:38, 190.02users/s]"
     ]
    },
    {
     "name": "stderr",
     "output_type": "stream",
     "text": [
      "\r",
      " 27%|██▋       | 2708/10000 [00:23<00:38, 191.05users/s]"
     ]
    },
    {
     "name": "stderr",
     "output_type": "stream",
     "text": [
      "\r",
      " 27%|██▋       | 2730/10000 [00:23<00:36, 198.80users/s]"
     ]
    },
    {
     "name": "stderr",
     "output_type": "stream",
     "text": [
      "\r",
      " 28%|██▊       | 2751/10000 [00:23<00:38, 186.19users/s]"
     ]
    },
    {
     "name": "stderr",
     "output_type": "stream",
     "text": [
      "\r",
      " 28%|██▊       | 2771/10000 [00:23<00:40, 178.85users/s]"
     ]
    },
    {
     "name": "stderr",
     "output_type": "stream",
     "text": [
      "\r",
      " 28%|██▊       | 2796/10000 [00:23<00:37, 192.29users/s]"
     ]
    },
    {
     "name": "stderr",
     "output_type": "stream",
     "text": [
      "\r",
      " 28%|██▊       | 2826/10000 [00:23<00:33, 212.36users/s]"
     ]
    },
    {
     "name": "stderr",
     "output_type": "stream",
     "text": [
      "\r",
      " 28%|██▊       | 2849/10000 [00:23<00:32, 217.02users/s]"
     ]
    },
    {
     "name": "stderr",
     "output_type": "stream",
     "text": [
      "\r",
      " 29%|██▊       | 2873/10000 [00:23<00:32, 217.13users/s]"
     ]
    },
    {
     "name": "stderr",
     "output_type": "stream",
     "text": [
      "\r",
      " 29%|██▉       | 2901/10000 [00:24<00:30, 231.13users/s]"
     ]
    },
    {
     "name": "stderr",
     "output_type": "stream",
     "text": [
      "\r",
      " 29%|██▉       | 2927/10000 [00:24<00:30, 232.37users/s]"
     ]
    },
    {
     "name": "stderr",
     "output_type": "stream",
     "text": [
      "\r",
      " 30%|██▉       | 2951/10000 [00:24<00:57, 123.16users/s]"
     ]
    },
    {
     "name": "stderr",
     "output_type": "stream",
     "text": [
      "\r",
      " 30%|██▉       | 2988/10000 [00:24<00:45, 153.64users/s]"
     ]
    },
    {
     "name": "stderr",
     "output_type": "stream",
     "text": [
      "\r",
      " 30%|███       | 3020/10000 [00:24<00:38, 180.23users/s]"
     ]
    },
    {
     "name": "stderr",
     "output_type": "stream",
     "text": [
      "\r",
      " 30%|███       | 3046/10000 [00:24<00:37, 186.96users/s]"
     ]
    },
    {
     "name": "stderr",
     "output_type": "stream",
     "text": [
      "\r",
      " 31%|███       | 3071/10000 [00:24<00:34, 198.37users/s]"
     ]
    },
    {
     "name": "stderr",
     "output_type": "stream",
     "text": [
      "\r",
      " 31%|███       | 3095/10000 [00:25<00:37, 181.88users/s]"
     ]
    },
    {
     "name": "stderr",
     "output_type": "stream",
     "text": [
      "\r",
      " 31%|███       | 3117/10000 [00:25<00:36, 190.27users/s]"
     ]
    },
    {
     "name": "stderr",
     "output_type": "stream",
     "text": [
      "\r",
      " 31%|███▏      | 3149/10000 [00:25<00:31, 216.15users/s]"
     ]
    },
    {
     "name": "stderr",
     "output_type": "stream",
     "text": [
      "\r",
      " 32%|███▏      | 3174/10000 [00:25<00:30, 222.18users/s]"
     ]
    },
    {
     "name": "stderr",
     "output_type": "stream",
     "text": [
      "\r",
      " 32%|███▏      | 3199/10000 [00:25<00:30, 220.10users/s]"
     ]
    },
    {
     "name": "stderr",
     "output_type": "stream",
     "text": [
      "\r",
      " 32%|███▏      | 3223/10000 [00:25<00:34, 196.18users/s]"
     ]
    },
    {
     "name": "stderr",
     "output_type": "stream",
     "text": [
      "\r",
      " 32%|███▏      | 3246/10000 [00:25<00:33, 200.74users/s]"
     ]
    },
    {
     "name": "stderr",
     "output_type": "stream",
     "text": [
      "\r",
      " 33%|███▎      | 3268/10000 [00:26<00:51, 130.24users/s]"
     ]
    },
    {
     "name": "stderr",
     "output_type": "stream",
     "text": [
      "\r",
      " 33%|███▎      | 3299/10000 [00:26<00:43, 154.16users/s]"
     ]
    },
    {
     "name": "stderr",
     "output_type": "stream",
     "text": [
      "\r",
      " 33%|███▎      | 3319/10000 [00:26<00:40, 164.27users/s]"
     ]
    },
    {
     "name": "stderr",
     "output_type": "stream",
     "text": [
      "\r",
      " 33%|███▎      | 3339/10000 [00:26<00:43, 154.00users/s]"
     ]
    },
    {
     "name": "stderr",
     "output_type": "stream",
     "text": [
      "\r",
      " 34%|███▎      | 3364/10000 [00:26<00:38, 173.65users/s]"
     ]
    },
    {
     "name": "stderr",
     "output_type": "stream",
     "text": [
      "\r",
      " 34%|███▍      | 3388/10000 [00:26<00:35, 186.94users/s]"
     ]
    },
    {
     "name": "stderr",
     "output_type": "stream",
     "text": [
      "\r",
      " 34%|███▍      | 3417/10000 [00:26<00:32, 204.69users/s]"
     ]
    },
    {
     "name": "stderr",
     "output_type": "stream",
     "text": [
      "\r",
      " 35%|███▍      | 3451/10000 [00:26<00:29, 225.12users/s]"
     ]
    },
    {
     "name": "stderr",
     "output_type": "stream",
     "text": [
      "\r",
      " 35%|███▍      | 3476/10000 [00:27<00:30, 211.11users/s]"
     ]
    },
    {
     "name": "stderr",
     "output_type": "stream",
     "text": [
      "\r",
      " 35%|███▍      | 3499/10000 [00:27<00:33, 194.46users/s]"
     ]
    },
    {
     "name": "stderr",
     "output_type": "stream",
     "text": [
      "\r",
      " 35%|███▌      | 3531/10000 [00:27<00:29, 219.32users/s]"
     ]
    },
    {
     "name": "stderr",
     "output_type": "stream",
     "text": [
      "\r",
      " 36%|███▌      | 3555/10000 [00:27<00:32, 199.28users/s]"
     ]
    },
    {
     "name": "stderr",
     "output_type": "stream",
     "text": [
      "\r",
      " 36%|███▌      | 3577/10000 [00:27<00:34, 184.22users/s]"
     ]
    },
    {
     "name": "stderr",
     "output_type": "stream",
     "text": [
      "\r",
      " 36%|███▌      | 3600/10000 [00:27<00:33, 193.34users/s]"
     ]
    },
    {
     "name": "stderr",
     "output_type": "stream",
     "text": [
      "\r",
      " 36%|███▋      | 3629/10000 [00:27<00:30, 206.46users/s]"
     ]
    },
    {
     "name": "stderr",
     "output_type": "stream",
     "text": [
      "\r",
      " 37%|███▋      | 3654/10000 [00:28<00:37, 168.17users/s]"
     ]
    },
    {
     "name": "stderr",
     "output_type": "stream",
     "text": [
      "\r",
      " 37%|███▋      | 3673/10000 [00:28<00:39, 161.85users/s]"
     ]
    },
    {
     "name": "stderr",
     "output_type": "stream",
     "text": [
      "\r",
      " 37%|███▋      | 3698/10000 [00:28<00:35, 177.97users/s]"
     ]
    },
    {
     "name": "stderr",
     "output_type": "stream",
     "text": [
      "\r",
      " 37%|███▋      | 3718/10000 [00:28<00:43, 144.42users/s]"
     ]
    },
    {
     "name": "stderr",
     "output_type": "stream",
     "text": [
      "\r",
      " 37%|███▋      | 3736/10000 [00:28<00:40, 152.96users/s]"
     ]
    },
    {
     "name": "stderr",
     "output_type": "stream",
     "text": [
      "\r",
      " 38%|███▊      | 3753/10000 [00:28<00:55, 111.93users/s]"
     ]
    },
    {
     "name": "stderr",
     "output_type": "stream",
     "text": [
      "\r",
      " 38%|███▊      | 3778/10000 [00:28<00:46, 133.86users/s]"
     ]
    },
    {
     "name": "stderr",
     "output_type": "stream",
     "text": [
      "\r",
      " 38%|███▊      | 3796/10000 [00:29<01:03, 97.13users/s] "
     ]
    },
    {
     "name": "stderr",
     "output_type": "stream",
     "text": [
      "\r",
      " 38%|███▊      | 3812/10000 [00:29<01:05, 94.76users/s]"
     ]
    },
    {
     "name": "stderr",
     "output_type": "stream",
     "text": [
      "\r",
      " 38%|███▊      | 3838/10000 [00:29<00:53, 116.03users/s]"
     ]
    },
    {
     "name": "stderr",
     "output_type": "stream",
     "text": [
      "\r",
      " 39%|███▊      | 3854/10000 [00:29<00:55, 111.41users/s]"
     ]
    },
    {
     "name": "stderr",
     "output_type": "stream",
     "text": [
      "\r",
      " 39%|███▊      | 3871/10000 [00:29<00:49, 123.92users/s]"
     ]
    },
    {
     "name": "stderr",
     "output_type": "stream",
     "text": [
      "\r",
      " 39%|███▉      | 3886/10000 [00:29<00:54, 112.77users/s]"
     ]
    },
    {
     "name": "stderr",
     "output_type": "stream",
     "text": [
      "\r",
      " 39%|███▉      | 3900/10000 [00:30<01:09, 88.09users/s] "
     ]
    },
    {
     "name": "stderr",
     "output_type": "stream",
     "text": [
      "\r",
      " 39%|███▉      | 3925/10000 [00:30<00:55, 108.72users/s]"
     ]
    },
    {
     "name": "stderr",
     "output_type": "stream",
     "text": [
      "\r",
      " 39%|███▉      | 3940/10000 [00:30<00:53, 112.49users/s]"
     ]
    },
    {
     "name": "stderr",
     "output_type": "stream",
     "text": [
      "\r",
      " 40%|███▉      | 3958/10000 [00:30<01:04, 93.53users/s] "
     ]
    },
    {
     "name": "stderr",
     "output_type": "stream",
     "text": [
      "\r",
      " 40%|███▉      | 3975/10000 [00:30<00:55, 108.11users/s]"
     ]
    },
    {
     "name": "stderr",
     "output_type": "stream",
     "text": [
      "\r",
      " 40%|███▉      | 3999/10000 [00:30<00:47, 126.01users/s]"
     ]
    },
    {
     "name": "stderr",
     "output_type": "stream",
     "text": [
      "\r",
      " 40%|████      | 4027/10000 [00:30<00:39, 150.81users/s]"
     ]
    },
    {
     "name": "stderr",
     "output_type": "stream",
     "text": [
      "\r",
      " 41%|████      | 4063/10000 [00:31<00:32, 182.12users/s]"
     ]
    },
    {
     "name": "stderr",
     "output_type": "stream",
     "text": [
      "\r",
      " 41%|████      | 4088/10000 [00:31<00:33, 175.02users/s]"
     ]
    },
    {
     "name": "stderr",
     "output_type": "stream",
     "text": [
      "\r",
      " 41%|████      | 4117/10000 [00:31<00:30, 195.79users/s]"
     ]
    },
    {
     "name": "stderr",
     "output_type": "stream",
     "text": [
      "\r",
      " 41%|████▏     | 4149/10000 [00:31<00:26, 219.82users/s]"
     ]
    },
    {
     "name": "stderr",
     "output_type": "stream",
     "text": [
      "\r",
      " 42%|████▏     | 4175/10000 [00:31<00:27, 211.45users/s]"
     ]
    },
    {
     "name": "stderr",
     "output_type": "stream",
     "text": [
      "\r",
      " 42%|████▏     | 4204/10000 [00:31<00:26, 218.43users/s]"
     ]
    },
    {
     "name": "stderr",
     "output_type": "stream",
     "text": [
      "\r",
      " 42%|████▏     | 4234/10000 [00:31<00:26, 221.65users/s]"
     ]
    },
    {
     "name": "stderr",
     "output_type": "stream",
     "text": [
      "\r",
      " 43%|████▎     | 4258/10000 [00:32<00:36, 158.95users/s]"
     ]
    },
    {
     "name": "stderr",
     "output_type": "stream",
     "text": [
      "\r",
      " 43%|████▎     | 4285/10000 [00:32<00:32, 178.01users/s]"
     ]
    },
    {
     "name": "stderr",
     "output_type": "stream",
     "text": [
      "\r",
      " 43%|████▎     | 4314/10000 [00:32<00:28, 201.29users/s]"
     ]
    },
    {
     "name": "stderr",
     "output_type": "stream",
     "text": [
      "\r",
      " 43%|████▎     | 4338/10000 [00:32<00:36, 153.62users/s]"
     ]
    },
    {
     "name": "stderr",
     "output_type": "stream",
     "text": [
      "\r",
      " 44%|████▎     | 4358/10000 [00:32<00:35, 158.04users/s]"
     ]
    },
    {
     "name": "stderr",
     "output_type": "stream",
     "text": [
      "\r",
      " 44%|████▍     | 4377/10000 [00:32<00:36, 153.86users/s]"
     ]
    },
    {
     "name": "stderr",
     "output_type": "stream",
     "text": [
      "\r",
      " 44%|████▍     | 4400/10000 [00:32<00:32, 170.12users/s]"
     ]
    },
    {
     "name": "stderr",
     "output_type": "stream",
     "text": [
      "\r",
      " 44%|████▍     | 4419/10000 [00:33<00:35, 155.86users/s]"
     ]
    },
    {
     "name": "stderr",
     "output_type": "stream",
     "text": [
      "\r",
      " 44%|████▍     | 4446/10000 [00:33<00:31, 176.86users/s]"
     ]
    },
    {
     "name": "stderr",
     "output_type": "stream",
     "text": [
      "\r",
      " 45%|████▍     | 4466/10000 [00:33<00:34, 158.13users/s]"
     ]
    },
    {
     "name": "stderr",
     "output_type": "stream",
     "text": [
      "\r",
      " 45%|████▍     | 4493/10000 [00:33<00:31, 177.15users/s]"
     ]
    },
    {
     "name": "stderr",
     "output_type": "stream",
     "text": [
      "\r",
      " 45%|████▌     | 4513/10000 [00:33<00:41, 132.49users/s]"
     ]
    },
    {
     "name": "stderr",
     "output_type": "stream",
     "text": [
      "\r",
      " 45%|████▌     | 4542/10000 [00:33<00:34, 157.58users/s]"
     ]
    },
    {
     "name": "stderr",
     "output_type": "stream",
     "text": [
      "\r",
      " 46%|████▌     | 4568/10000 [00:33<00:30, 177.59users/s]"
     ]
    },
    {
     "name": "stderr",
     "output_type": "stream",
     "text": [
      "\r",
      " 46%|████▌     | 4601/10000 [00:33<00:26, 204.57users/s]"
     ]
    },
    {
     "name": "stderr",
     "output_type": "stream",
     "text": [
      "\r",
      " 46%|████▋     | 4626/10000 [00:34<00:35, 151.59users/s]"
     ]
    },
    {
     "name": "stderr",
     "output_type": "stream",
     "text": [
      "\r",
      " 47%|████▋     | 4657/10000 [00:34<00:29, 178.34users/s]"
     ]
    },
    {
     "name": "stderr",
     "output_type": "stream",
     "text": [
      "\r",
      " 47%|████▋     | 4681/10000 [00:34<00:31, 170.17users/s]"
     ]
    },
    {
     "name": "stderr",
     "output_type": "stream",
     "text": [
      "\r",
      " 47%|████▋     | 4702/10000 [00:34<00:39, 134.25users/s]"
     ]
    },
    {
     "name": "stderr",
     "output_type": "stream",
     "text": [
      "\r",
      " 47%|████▋     | 4720/10000 [00:34<00:37, 138.97users/s]"
     ]
    },
    {
     "name": "stderr",
     "output_type": "stream",
     "text": [
      "\r",
      " 47%|████▋     | 4737/10000 [00:34<00:35, 146.63users/s]"
     ]
    },
    {
     "name": "stderr",
     "output_type": "stream",
     "text": [
      "\r",
      " 48%|████▊     | 4761/10000 [00:35<00:32, 163.33users/s]"
     ]
    },
    {
     "name": "stderr",
     "output_type": "stream",
     "text": [
      "\r",
      " 48%|████▊     | 4793/10000 [00:35<00:28, 183.13users/s]"
     ]
    },
    {
     "name": "stderr",
     "output_type": "stream",
     "text": [
      "\r",
      " 48%|████▊     | 4814/10000 [00:35<00:29, 174.17users/s]"
     ]
    },
    {
     "name": "stderr",
     "output_type": "stream",
     "text": [
      "\r",
      " 48%|████▊     | 4834/10000 [00:35<00:29, 174.31users/s]"
     ]
    },
    {
     "name": "stderr",
     "output_type": "stream",
     "text": [
      "\r",
      " 49%|████▊     | 4853/10000 [00:35<00:29, 175.42users/s]"
     ]
    },
    {
     "name": "stderr",
     "output_type": "stream",
     "text": [
      "\r",
      " 49%|████▊     | 4872/10000 [00:35<00:30, 167.40users/s]"
     ]
    },
    {
     "name": "stderr",
     "output_type": "stream",
     "text": [
      "\r",
      " 49%|████▉     | 4895/10000 [00:35<00:28, 181.45users/s]"
     ]
    },
    {
     "name": "stderr",
     "output_type": "stream",
     "text": [
      "\r",
      " 49%|████▉     | 4914/10000 [00:35<00:32, 156.52users/s]"
     ]
    },
    {
     "name": "stderr",
     "output_type": "stream",
     "text": [
      "\r",
      " 49%|████▉     | 4936/10000 [00:36<00:29, 170.21users/s]"
     ]
    },
    {
     "name": "stderr",
     "output_type": "stream",
     "text": [
      "\r",
      " 50%|████▉     | 4955/10000 [00:36<00:32, 155.20users/s]"
     ]
    },
    {
     "name": "stderr",
     "output_type": "stream",
     "text": [
      "\r",
      " 50%|████▉     | 4972/10000 [00:36<00:38, 131.22users/s]"
     ]
    },
    {
     "name": "stderr",
     "output_type": "stream",
     "text": [
      "\r",
      " 50%|████▉     | 4996/10000 [00:36<00:33, 151.37users/s]"
     ]
    },
    {
     "name": "stderr",
     "output_type": "stream",
     "text": [
      "\r",
      " 50%|█████     | 5041/10000 [00:36<00:27, 183.15users/s]"
     ]
    },
    {
     "name": "stderr",
     "output_type": "stream",
     "text": [
      "\r",
      " 51%|█████     | 5096/10000 [00:36<00:21, 228.77users/s]"
     ]
    },
    {
     "name": "stderr",
     "output_type": "stream",
     "text": [
      "\r",
      " 51%|█████▏    | 5129/10000 [00:36<00:20, 238.08users/s]"
     ]
    },
    {
     "name": "stderr",
     "output_type": "stream",
     "text": [
      "\r",
      " 52%|█████▏    | 5175/10000 [00:36<00:17, 277.81users/s]"
     ]
    },
    {
     "name": "stderr",
     "output_type": "stream",
     "text": [
      "\r",
      " 52%|█████▏    | 5211/10000 [00:37<00:17, 280.78users/s]"
     ]
    },
    {
     "name": "stderr",
     "output_type": "stream",
     "text": [
      "\r",
      " 52%|█████▏    | 5248/10000 [00:37<00:15, 302.31users/s]"
     ]
    },
    {
     "name": "stderr",
     "output_type": "stream",
     "text": [
      "\r",
      " 53%|█████▎    | 5283/10000 [00:37<00:16, 290.73users/s]"
     ]
    },
    {
     "name": "stderr",
     "output_type": "stream",
     "text": [
      "\r",
      " 53%|█████▎    | 5315/10000 [00:37<00:19, 245.26users/s]"
     ]
    },
    {
     "name": "stderr",
     "output_type": "stream",
     "text": [
      "\r",
      " 53%|█████▎    | 5345/10000 [00:37<00:18, 256.90users/s]"
     ]
    },
    {
     "name": "stderr",
     "output_type": "stream",
     "text": [
      "\r",
      " 54%|█████▍    | 5377/10000 [00:37<00:16, 272.40users/s]"
     ]
    },
    {
     "name": "stderr",
     "output_type": "stream",
     "text": [
      "\r",
      " 54%|█████▍    | 5407/10000 [00:37<00:17, 258.76users/s]"
     ]
    },
    {
     "name": "stderr",
     "output_type": "stream",
     "text": [
      "\r",
      " 54%|█████▍    | 5444/10000 [00:37<00:16, 282.76users/s]"
     ]
    },
    {
     "name": "stderr",
     "output_type": "stream",
     "text": [
      "\r",
      " 55%|█████▍    | 5474/10000 [00:38<00:18, 242.86users/s]"
     ]
    },
    {
     "name": "stderr",
     "output_type": "stream",
     "text": [
      "\r",
      " 55%|█████▌    | 5512/10000 [00:38<00:16, 270.98users/s]"
     ]
    },
    {
     "name": "stderr",
     "output_type": "stream",
     "text": [
      "\r",
      " 56%|█████▌    | 5554/10000 [00:38<00:14, 303.01users/s]"
     ]
    },
    {
     "name": "stderr",
     "output_type": "stream",
     "text": [
      "\r",
      " 56%|█████▌    | 5591/10000 [00:38<00:14, 301.51users/s]"
     ]
    },
    {
     "name": "stderr",
     "output_type": "stream",
     "text": [
      "\r",
      " 56%|█████▋    | 5628/10000 [00:38<00:13, 319.10users/s]"
     ]
    },
    {
     "name": "stderr",
     "output_type": "stream",
     "text": [
      "\r",
      " 57%|█████▋    | 5667/10000 [00:38<00:13, 329.87users/s]"
     ]
    },
    {
     "name": "stderr",
     "output_type": "stream",
     "text": [
      "\r",
      " 57%|█████▋    | 5723/10000 [00:38<00:11, 373.98users/s]"
     ]
    },
    {
     "name": "stderr",
     "output_type": "stream",
     "text": [
      "\r",
      " 58%|█████▊    | 5764/10000 [00:38<00:14, 301.50users/s]"
     ]
    },
    {
     "name": "stderr",
     "output_type": "stream",
     "text": [
      "\r",
      " 58%|█████▊    | 5799/10000 [00:39<00:16, 254.46users/s]"
     ]
    },
    {
     "name": "stderr",
     "output_type": "stream",
     "text": [
      "\r",
      " 58%|█████▊    | 5834/10000 [00:39<00:15, 275.90users/s]"
     ]
    },
    {
     "name": "stderr",
     "output_type": "stream",
     "text": [
      "\r",
      " 59%|█████▉    | 5876/10000 [00:39<00:13, 307.41users/s]"
     ]
    },
    {
     "name": "stderr",
     "output_type": "stream",
     "text": [
      "\r",
      " 59%|█████▉    | 5911/10000 [00:39<00:14, 280.35users/s]"
     ]
    },
    {
     "name": "stderr",
     "output_type": "stream",
     "text": [
      "\r",
      " 59%|█████▉    | 5943/10000 [00:39<00:14, 278.65users/s]"
     ]
    },
    {
     "name": "stderr",
     "output_type": "stream",
     "text": [
      "\r",
      " 60%|█████▉    | 5986/10000 [00:39<00:13, 302.99users/s]"
     ]
    },
    {
     "name": "stderr",
     "output_type": "stream",
     "text": [
      "\r",
      " 60%|██████    | 6020/10000 [00:39<00:12, 308.58users/s]"
     ]
    },
    {
     "name": "stderr",
     "output_type": "stream",
     "text": [
      "\r",
      " 61%|██████    | 6053/10000 [00:39<00:12, 303.82users/s]"
     ]
    },
    {
     "name": "stderr",
     "output_type": "stream",
     "text": [
      "\r",
      " 61%|██████    | 6103/10000 [00:39<00:11, 343.55users/s]"
     ]
    },
    {
     "name": "stderr",
     "output_type": "stream",
     "text": [
      "\r",
      " 61%|██████▏   | 6140/10000 [00:40<00:12, 315.67users/s]"
     ]
    },
    {
     "name": "stderr",
     "output_type": "stream",
     "text": [
      "\r",
      " 62%|██████▏   | 6174/10000 [00:40<00:12, 298.86users/s]"
     ]
    },
    {
     "name": "stderr",
     "output_type": "stream",
     "text": [
      "\r",
      " 62%|██████▏   | 6223/10000 [00:40<00:11, 336.96users/s]"
     ]
    },
    {
     "name": "stderr",
     "output_type": "stream",
     "text": [
      "\r",
      " 63%|██████▎   | 6260/10000 [00:40<00:11, 326.77users/s]"
     ]
    },
    {
     "name": "stderr",
     "output_type": "stream",
     "text": [
      "\r",
      " 63%|██████▎   | 6298/10000 [00:40<00:10, 340.68users/s]"
     ]
    },
    {
     "name": "stderr",
     "output_type": "stream",
     "text": [
      "\r",
      " 63%|██████▎   | 6334/10000 [00:40<00:11, 322.50users/s]"
     ]
    },
    {
     "name": "stderr",
     "output_type": "stream",
     "text": [
      "\r",
      " 64%|██████▎   | 6374/10000 [00:40<00:10, 341.51users/s]"
     ]
    },
    {
     "name": "stderr",
     "output_type": "stream",
     "text": [
      "\r",
      " 64%|██████▍   | 6424/10000 [00:40<00:09, 375.29users/s]"
     ]
    },
    {
     "name": "stderr",
     "output_type": "stream",
     "text": [
      "\r",
      " 65%|██████▍   | 6464/10000 [00:41<00:13, 266.74users/s]"
     ]
    },
    {
     "name": "stderr",
     "output_type": "stream",
     "text": [
      "\r",
      " 65%|██████▍   | 6497/10000 [00:41<00:18, 187.69users/s]"
     ]
    },
    {
     "name": "stderr",
     "output_type": "stream",
     "text": [
      "\r",
      " 65%|██████▌   | 6545/10000 [00:41<00:15, 229.52users/s]"
     ]
    },
    {
     "name": "stderr",
     "output_type": "stream",
     "text": [
      "\r",
      " 66%|██████▌   | 6578/10000 [00:41<00:21, 162.07users/s]"
     ]
    },
    {
     "name": "stderr",
     "output_type": "stream",
     "text": [
      "\r",
      " 66%|██████▋   | 6627/10000 [00:41<00:16, 202.68users/s]"
     ]
    },
    {
     "name": "stderr",
     "output_type": "stream",
     "text": [
      "\r",
      " 67%|██████▋   | 6660/10000 [00:42<00:16, 206.74users/s]"
     ]
    },
    {
     "name": "stderr",
     "output_type": "stream",
     "text": [
      "\r",
      " 67%|██████▋   | 6690/10000 [00:42<00:15, 219.77users/s]"
     ]
    },
    {
     "name": "stderr",
     "output_type": "stream",
     "text": [
      "\r",
      " 67%|██████▋   | 6746/10000 [00:42<00:13, 249.19users/s]"
     ]
    },
    {
     "name": "stderr",
     "output_type": "stream",
     "text": [
      "\r",
      " 68%|██████▊   | 6777/10000 [00:42<00:16, 189.62users/s]"
     ]
    },
    {
     "name": "stderr",
     "output_type": "stream",
     "text": [
      "\r",
      " 68%|██████▊   | 6807/10000 [00:42<00:15, 210.83users/s]"
     ]
    },
    {
     "name": "stderr",
     "output_type": "stream",
     "text": [
      "\r",
      " 68%|██████▊   | 6846/10000 [00:42<00:13, 241.78users/s]"
     ]
    },
    {
     "name": "stderr",
     "output_type": "stream",
     "text": [
      "\r",
      " 69%|██████▉   | 6885/10000 [00:42<00:11, 271.35users/s]"
     ]
    },
    {
     "name": "stderr",
     "output_type": "stream",
     "text": [
      "\r",
      " 69%|██████▉   | 6917/10000 [00:43<00:13, 230.03users/s]"
     ]
    },
    {
     "name": "stderr",
     "output_type": "stream",
     "text": [
      "\r",
      " 70%|██████▉   | 6950/10000 [00:43<00:12, 250.32users/s]"
     ]
    },
    {
     "name": "stderr",
     "output_type": "stream",
     "text": [
      "\r",
      " 70%|██████▉   | 6997/10000 [00:43<00:11, 265.26users/s]"
     ]
    },
    {
     "name": "stderr",
     "output_type": "stream",
     "text": [
      "\r",
      " 70%|███████   | 7036/10000 [00:43<00:10, 293.23users/s]"
     ]
    },
    {
     "name": "stderr",
     "output_type": "stream",
     "text": [
      "\r",
      " 71%|███████   | 7069/10000 [00:43<00:12, 232.51users/s]"
     ]
    },
    {
     "name": "stderr",
     "output_type": "stream",
     "text": [
      "\r",
      " 71%|███████   | 7097/10000 [00:43<00:13, 212.33users/s]"
     ]
    },
    {
     "name": "stderr",
     "output_type": "stream",
     "text": [
      "\r",
      " 71%|███████   | 7122/10000 [00:44<00:16, 176.06users/s]"
     ]
    },
    {
     "name": "stderr",
     "output_type": "stream",
     "text": [
      "\r",
      " 72%|███████▏  | 7164/10000 [00:44<00:13, 212.79users/s]"
     ]
    },
    {
     "name": "stderr",
     "output_type": "stream",
     "text": [
      "\r",
      " 72%|███████▏  | 7192/10000 [00:44<00:14, 199.73users/s]"
     ]
    },
    {
     "name": "stderr",
     "output_type": "stream",
     "text": [
      "\r",
      " 72%|███████▏  | 7218/10000 [00:44<00:13, 212.91users/s]"
     ]
    },
    {
     "name": "stderr",
     "output_type": "stream",
     "text": [
      "\r",
      " 72%|███████▏  | 7247/10000 [00:44<00:11, 230.37users/s]"
     ]
    },
    {
     "name": "stderr",
     "output_type": "stream",
     "text": [
      "\r",
      " 73%|███████▎  | 7284/10000 [00:44<00:10, 257.14users/s]"
     ]
    },
    {
     "name": "stderr",
     "output_type": "stream",
     "text": [
      "\r",
      " 73%|███████▎  | 7313/10000 [00:44<00:11, 238.27users/s]"
     ]
    },
    {
     "name": "stderr",
     "output_type": "stream",
     "text": [
      "\r",
      " 74%|███████▎  | 7353/10000 [00:44<00:09, 269.67users/s]"
     ]
    },
    {
     "name": "stderr",
     "output_type": "stream",
     "text": [
      "\r",
      " 74%|███████▍  | 7383/10000 [00:44<00:09, 273.00users/s]"
     ]
    },
    {
     "name": "stderr",
     "output_type": "stream",
     "text": [
      "\r",
      " 74%|███████▍  | 7413/10000 [00:45<00:11, 216.75users/s]"
     ]
    },
    {
     "name": "stderr",
     "output_type": "stream",
     "text": [
      "\r",
      " 75%|███████▍  | 7476/10000 [00:45<00:09, 269.34users/s]"
     ]
    },
    {
     "name": "stderr",
     "output_type": "stream",
     "text": [
      "\r",
      " 75%|███████▌  | 7520/10000 [00:45<00:08, 304.06users/s]"
     ]
    },
    {
     "name": "stderr",
     "output_type": "stream",
     "text": [
      "\r",
      " 76%|███████▌  | 7559/10000 [00:45<00:07, 312.49users/s]"
     ]
    },
    {
     "name": "stderr",
     "output_type": "stream",
     "text": [
      "\r",
      " 76%|███████▌  | 7596/10000 [00:45<00:10, 230.83users/s]"
     ]
    },
    {
     "name": "stderr",
     "output_type": "stream",
     "text": [
      "\r",
      " 76%|███████▋  | 7627/10000 [00:45<00:10, 225.27users/s]"
     ]
    },
    {
     "name": "stderr",
     "output_type": "stream",
     "text": [
      "\r",
      " 77%|███████▋  | 7655/10000 [00:46<00:11, 212.87users/s]"
     ]
    },
    {
     "name": "stderr",
     "output_type": "stream",
     "text": [
      "\r",
      " 77%|███████▋  | 7680/10000 [00:46<00:11, 201.09users/s]"
     ]
    },
    {
     "name": "stderr",
     "output_type": "stream",
     "text": [
      "\r",
      " 77%|███████▋  | 7713/10000 [00:46<00:10, 227.38users/s]"
     ]
    },
    {
     "name": "stderr",
     "output_type": "stream",
     "text": [
      "\r",
      " 77%|███████▋  | 7739/10000 [00:46<00:10, 222.03users/s]"
     ]
    },
    {
     "name": "stderr",
     "output_type": "stream",
     "text": [
      "\r",
      " 78%|███████▊  | 7770/10000 [00:46<00:09, 233.96users/s]"
     ]
    },
    {
     "name": "stderr",
     "output_type": "stream",
     "text": [
      "\r",
      " 78%|███████▊  | 7819/10000 [00:46<00:08, 266.85users/s]"
     ]
    },
    {
     "name": "stderr",
     "output_type": "stream",
     "text": [
      "\r",
      " 79%|███████▊  | 7856/10000 [00:46<00:08, 256.44users/s]"
     ]
    },
    {
     "name": "stderr",
     "output_type": "stream",
     "text": [
      "\r",
      " 79%|███████▉  | 7885/10000 [00:46<00:09, 217.67users/s]"
     ]
    },
    {
     "name": "stderr",
     "output_type": "stream",
     "text": [
      "\r",
      " 79%|███████▉  | 7919/10000 [00:47<00:08, 243.90users/s]"
     ]
    },
    {
     "name": "stderr",
     "output_type": "stream",
     "text": [
      "\r",
      " 79%|███████▉  | 7947/10000 [00:47<00:08, 246.81users/s]"
     ]
    },
    {
     "name": "stderr",
     "output_type": "stream",
     "text": [
      "\r",
      " 80%|███████▉  | 7974/10000 [00:47<00:08, 248.33users/s]"
     ]
    },
    {
     "name": "stderr",
     "output_type": "stream",
     "text": [
      "\r",
      " 80%|████████  | 8001/10000 [00:47<00:09, 209.50users/s]"
     ]
    },
    {
     "name": "stderr",
     "output_type": "stream",
     "text": [
      "\r",
      " 80%|████████  | 8042/10000 [00:47<00:08, 227.81users/s]"
     ]
    },
    {
     "name": "stderr",
     "output_type": "stream",
     "text": [
      "\r",
      " 81%|████████  | 8074/10000 [00:47<00:07, 248.87users/s]"
     ]
    },
    {
     "name": "stderr",
     "output_type": "stream",
     "text": [
      "\r",
      " 81%|████████  | 8101/10000 [00:47<00:09, 200.14users/s]"
     ]
    },
    {
     "name": "stderr",
     "output_type": "stream",
     "text": [
      "\r",
      " 81%|████████  | 8124/10000 [00:48<00:11, 170.07users/s]"
     ]
    },
    {
     "name": "stderr",
     "output_type": "stream",
     "text": [
      "\r",
      " 82%|████████▏ | 8168/10000 [00:48<00:08, 203.58users/s]"
     ]
    },
    {
     "name": "stderr",
     "output_type": "stream",
     "text": [
      "\r",
      " 82%|████████▏ | 8194/10000 [00:48<00:08, 217.65users/s]"
     ]
    },
    {
     "name": "stderr",
     "output_type": "stream",
     "text": [
      "\r",
      " 82%|████████▏ | 8224/10000 [00:48<00:07, 235.00users/s]"
     ]
    },
    {
     "name": "stderr",
     "output_type": "stream",
     "text": [
      "\r",
      " 83%|████████▎ | 8251/10000 [00:48<00:07, 240.72users/s]"
     ]
    },
    {
     "name": "stderr",
     "output_type": "stream",
     "text": [
      "\r",
      " 83%|████████▎ | 8278/10000 [00:48<00:10, 160.74users/s]"
     ]
    },
    {
     "name": "stderr",
     "output_type": "stream",
     "text": [
      "\r",
      " 83%|████████▎ | 8326/10000 [00:48<00:08, 195.19users/s]"
     ]
    },
    {
     "name": "stderr",
     "output_type": "stream",
     "text": [
      "\r",
      " 84%|████████▎ | 8369/10000 [00:49<00:07, 230.54users/s]"
     ]
    },
    {
     "name": "stderr",
     "output_type": "stream",
     "text": [
      "\r",
      " 84%|████████▍ | 8410/10000 [00:49<00:06, 261.98users/s]"
     ]
    },
    {
     "name": "stderr",
     "output_type": "stream",
     "text": [
      "\r",
      " 84%|████████▍ | 8448/10000 [00:49<00:05, 288.51users/s]"
     ]
    },
    {
     "name": "stderr",
     "output_type": "stream",
     "text": [
      "\r",
      " 85%|████████▍ | 8483/10000 [00:49<00:04, 304.46users/s]"
     ]
    },
    {
     "name": "stderr",
     "output_type": "stream",
     "text": [
      "\r",
      " 85%|████████▌ | 8533/10000 [00:49<00:04, 337.92users/s]"
     ]
    },
    {
     "name": "stderr",
     "output_type": "stream",
     "text": [
      "\r",
      " 86%|████████▌ | 8571/10000 [00:49<00:05, 263.34users/s]"
     ]
    },
    {
     "name": "stderr",
     "output_type": "stream",
     "text": [
      "\r",
      " 86%|████████▌ | 8604/10000 [00:49<00:05, 257.25users/s]"
     ]
    },
    {
     "name": "stderr",
     "output_type": "stream",
     "text": [
      "\r",
      " 86%|████████▋ | 8634/10000 [00:50<00:07, 188.34users/s]"
     ]
    },
    {
     "name": "stderr",
     "output_type": "stream",
     "text": [
      "\r",
      " 87%|████████▋ | 8681/10000 [00:50<00:05, 225.91users/s]"
     ]
    },
    {
     "name": "stderr",
     "output_type": "stream",
     "text": [
      "\r",
      " 87%|████████▋ | 8713/10000 [00:50<00:05, 246.27users/s]"
     ]
    },
    {
     "name": "stderr",
     "output_type": "stream",
     "text": [
      "\r",
      " 87%|████████▋ | 8744/10000 [00:50<00:05, 226.65users/s]"
     ]
    },
    {
     "name": "stderr",
     "output_type": "stream",
     "text": [
      "\r",
      " 88%|████████▊ | 8778/10000 [00:50<00:05, 236.82users/s]"
     ]
    },
    {
     "name": "stderr",
     "output_type": "stream",
     "text": [
      "\r",
      " 88%|████████▊ | 8805/10000 [00:50<00:05, 205.28users/s]"
     ]
    },
    {
     "name": "stderr",
     "output_type": "stream",
     "text": [
      "\r",
      " 88%|████████▊ | 8829/10000 [00:50<00:06, 193.36users/s]"
     ]
    },
    {
     "name": "stderr",
     "output_type": "stream",
     "text": [
      "\r",
      " 89%|████████▊ | 8851/10000 [00:51<00:07, 148.11users/s]"
     ]
    },
    {
     "name": "stderr",
     "output_type": "stream",
     "text": [
      "\r",
      " 89%|████████▉ | 8891/10000 [00:51<00:06, 176.11users/s]"
     ]
    },
    {
     "name": "stderr",
     "output_type": "stream",
     "text": [
      "\r",
      " 89%|████████▉ | 8926/10000 [00:51<00:05, 191.75users/s]"
     ]
    },
    {
     "name": "stderr",
     "output_type": "stream",
     "text": [
      "\r",
      " 89%|████████▉ | 8949/10000 [00:51<00:06, 163.44users/s]"
     ]
    },
    {
     "name": "stderr",
     "output_type": "stream",
     "text": [
      "\r",
      " 90%|████████▉ | 8970/10000 [00:51<00:05, 174.44users/s]"
     ]
    },
    {
     "name": "stderr",
     "output_type": "stream",
     "text": [
      "\r",
      " 90%|█████████ | 9010/10000 [00:51<00:04, 205.47users/s]"
     ]
    },
    {
     "name": "stderr",
     "output_type": "stream",
     "text": [
      "\r",
      " 91%|█████████ | 9056/10000 [00:51<00:03, 241.25users/s]"
     ]
    },
    {
     "name": "stderr",
     "output_type": "stream",
     "text": [
      "\r",
      " 91%|█████████ | 9086/10000 [00:52<00:04, 204.03users/s]"
     ]
    },
    {
     "name": "stderr",
     "output_type": "stream",
     "text": [
      "\r",
      " 91%|█████████ | 9120/10000 [00:52<00:03, 231.59users/s]"
     ]
    },
    {
     "name": "stderr",
     "output_type": "stream",
     "text": [
      "\r",
      " 92%|█████████▏| 9174/10000 [00:52<00:02, 277.04users/s]"
     ]
    },
    {
     "name": "stderr",
     "output_type": "stream",
     "text": [
      "\r",
      " 92%|█████████▏| 9209/10000 [00:52<00:02, 285.81users/s]"
     ]
    },
    {
     "name": "stderr",
     "output_type": "stream",
     "text": [
      "\r",
      " 92%|█████████▏| 9249/10000 [00:52<00:02, 254.89users/s]"
     ]
    },
    {
     "name": "stderr",
     "output_type": "stream",
     "text": [
      "\r",
      " 93%|█████████▎| 9279/10000 [00:52<00:02, 266.84users/s]"
     ]
    },
    {
     "name": "stderr",
     "output_type": "stream",
     "text": [
      "\r",
      " 93%|█████████▎| 9310/10000 [00:52<00:02, 277.51users/s]"
     ]
    },
    {
     "name": "stderr",
     "output_type": "stream",
     "text": [
      "\r",
      " 93%|█████████▎| 9340/10000 [00:53<00:02, 235.25users/s]"
     ]
    },
    {
     "name": "stderr",
     "output_type": "stream",
     "text": [
      "\r",
      " 94%|█████████▎| 9367/10000 [00:53<00:02, 236.15users/s]"
     ]
    },
    {
     "name": "stderr",
     "output_type": "stream",
     "text": [
      "\r",
      " 94%|█████████▍| 9398/10000 [00:53<00:03, 196.83users/s]"
     ]
    },
    {
     "name": "stderr",
     "output_type": "stream",
     "text": [
      "\r",
      " 94%|█████████▍| 9425/10000 [00:53<00:02, 204.81users/s]"
     ]
    },
    {
     "name": "stderr",
     "output_type": "stream",
     "text": [
      "\r",
      " 94%|█████████▍| 9448/10000 [00:53<00:03, 174.15users/s]"
     ]
    },
    {
     "name": "stderr",
     "output_type": "stream",
     "text": [
      "\r",
      " 95%|█████████▍| 9496/10000 [00:53<00:02, 214.56users/s]"
     ]
    },
    {
     "name": "stderr",
     "output_type": "stream",
     "text": [
      "\r",
      " 95%|█████████▌| 9524/10000 [00:53<00:02, 194.20users/s]"
     ]
    },
    {
     "name": "stderr",
     "output_type": "stream",
     "text": [
      "\r",
      " 96%|█████████▌| 9572/10000 [00:54<00:01, 235.46users/s]"
     ]
    },
    {
     "name": "stderr",
     "output_type": "stream",
     "text": [
      "\r",
      " 96%|█████████▌| 9603/10000 [00:54<00:01, 250.84users/s]"
     ]
    },
    {
     "name": "stderr",
     "output_type": "stream",
     "text": [
      "\r",
      " 97%|█████████▋| 9655/10000 [00:54<00:01, 296.34users/s]"
     ]
    },
    {
     "name": "stderr",
     "output_type": "stream",
     "text": [
      "\r",
      " 97%|█████████▋| 9692/10000 [00:54<00:01, 245.88users/s]"
     ]
    },
    {
     "name": "stderr",
     "output_type": "stream",
     "text": [
      "\r",
      " 97%|█████████▋| 9724/10000 [00:54<00:01, 206.70users/s]"
     ]
    },
    {
     "name": "stderr",
     "output_type": "stream",
     "text": [
      "\r",
      " 98%|█████████▊| 9753/10000 [00:54<00:01, 195.80users/s]"
     ]
    },
    {
     "name": "stderr",
     "output_type": "stream",
     "text": [
      "\r",
      " 98%|█████████▊| 9790/10000 [00:54<00:00, 225.48users/s]"
     ]
    },
    {
     "name": "stderr",
     "output_type": "stream",
     "text": [
      "\r",
      " 98%|█████████▊| 9817/10000 [00:55<00:00, 230.28users/s]"
     ]
    },
    {
     "name": "stderr",
     "output_type": "stream",
     "text": [
      "\r",
      " 98%|█████████▊| 9844/10000 [00:55<00:00, 215.14users/s]"
     ]
    },
    {
     "name": "stderr",
     "output_type": "stream",
     "text": [
      "\r",
      " 99%|█████████▉| 9877/10000 [00:55<00:00, 210.23users/s]"
     ]
    },
    {
     "name": "stderr",
     "output_type": "stream",
     "text": [
      "\r",
      " 99%|█████████▉| 9911/10000 [00:55<00:00, 228.30users/s]"
     ]
    },
    {
     "name": "stderr",
     "output_type": "stream",
     "text": [
      "\r",
      " 99%|█████████▉| 9936/10000 [00:55<00:00, 219.53users/s]"
     ]
    },
    {
     "name": "stderr",
     "output_type": "stream",
     "text": [
      "\r",
      "100%|█████████▉| 9960/10000 [00:55<00:00, 163.25users/s]"
     ]
    },
    {
     "name": "stderr",
     "output_type": "stream",
     "text": [
      "\r",
      "100%|█████████▉| 9980/10000 [00:56<00:00, 130.05users/s]"
     ]
    },
    {
     "name": "stdout",
     "output_type": "stream",
     "text": [
      "Finished simulating web activity for 10000 users.\n",
      "185.146.28.181 - user_0 [04/Nov/2018:10:42:57 +0000] \"GET /login_success HTTP/1.1\" 200 476 \"-\" \"Mozilla/5.0 (Macintosh; Intel Mac OS X 10_12_6) AppleWebKit/555.33 (KHTML, like Gecko) Chrome/1.1.1111.100 Safari/555.355\"\r\n",
      "185.146.1.191 - user_0 [06/Nov/2018:15:19:25 +0000] \"GET /login_success HTTP/1.1\" 200 476 \"-\" \"Mozilla/5.0 (Macintosh; Intel Mac OS X 10_12_6) AppleWebKit/555.33 (KHTML, like Gecko) Chrome/1.1.1111.100 Safari/555.355\"\r\n",
      "185.146.6.25 - user_0 [10/Nov/2018:07:57:44 +0000] \"GET /login_success HTTP/1.1\" 200 476 \"-\" \"Mozilla/5.0 (Macintosh; Intel Mac OS X 10_12_6) AppleWebKit/555.33 (KHTML, like Gecko) Chrome/1.1.1111.100 Safari/555.355\"\r\n",
      "190.150.19.255 - user_0 [12/Nov/2018:09:34:16 +0000] \"GET /login_success HTTP/1.1\" 200 476 \"-\" \"Mozilla/5.0 (Macintosh; Intel Mac OS X 10_12_6) AppleWebKit/555.33 (KHTML, like Gecko) Chrome/1.1.1111.100 Safari/555.355\"\r\n",
      "190.149.26.244 - user_0 [13/Nov/2018:10:58:51 +0000] \"GET /login_success HTTP/1.1\" 200 476 \"-\" \"Mozilla/5.0 (Macintosh; Intel Mac OS X 10_12_6) AppleWebKit/555.33 (KHTML, like Gecko) Chrome/1.1.1111.100 Safari/555.355\"\r\n",
      "185.145.220.180 - user_0 [07/Nov/2018:01:43:37 +0000] \"GET /login_success HTTP/1.1\" 200 476 \"-\" \"Mozilla/5.0 (Macintosh; Intel Mac OS X 10_12_6) AppleWebKit/555.33 (KHTML, like Gecko) Chrome/1.1.1111.100 Safari/555.355\"\r\n",
      "190.147.248.249 - user_0 [05/Nov/2018:15:20:07 +0000] \"GET /login_success HTTP/1.1\" 200 476 \"-\" \"Mozilla/5.0 (Macintosh; Intel Mac OS X 10_12_6) AppleWebKit/555.33 (KHTML, like Gecko) Chrome/1.1.1111.100 Safari/555.355\"\r\n",
      "190.150.5.237 - user_0 [08/Nov/2018:05:08:16 +0000] \"GET /login_success HTTP/1.1\" 200 476 \"-\" \"Mozilla/5.0 (Macintosh; Intel Mac OS X 10_12_6) AppleWebKit/555.33 (KHTML, like Gecko) Chrome/1.1.1111.100 Safari/555.355\"\r\n",
      "181.58.191.148 - user_0 [07/Nov/2018:14:31:13 +0000] \"GET /login_success HTTP/1.1\" 200 476 \"-\" \"Mozilla/5.0 (Macintosh; Intel Mac OS X 10_12_6) AppleWebKit/555.33 (KHTML, like Gecko) Chrome/1.1.1111.100 Safari/555.355\"\r\n",
      "43.240.21.101 - user_0 [07/Nov/2018:20:17:33 +0000] \"GET /login_success HTTP/1.1\" 200 476 \"-\" \"Mozilla/5.0 (Macintosh; Intel Mac OS X 10_12_6) AppleWebKit/555.33 (KHTML, like Gecko) Chrome/1.1.1111.100 Safari/555.355\"\r\n"
     ]
    }
   ],
   "source": [
    "from generate_data import generate_dataset\n",
    "\n",
    "# We simulate traffic for 10,000 users. This should yield about 3 million log lines (~700 MB).\n",
    "NUM_USERS = 10000\n",
    "log_file = \"ipinsights_web_traffic.log\"\n",
    "generate_dataset(NUM_USERS, log_file)\n",
    "\n",
    "# Visualize a few log lines\n",
    "!head $log_file"
   ]
  },
  {
   "cell_type": "markdown",
   "id": "22ec8206",
   "metadata": {
    "papermill": {
     "duration": 0.09726,
     "end_time": "2021-05-18T00:16:59.479365",
     "exception": false,
     "start_time": "2021-05-18T00:16:59.382105",
     "status": "completed"
    },
    "tags": []
   },
   "source": [
    "### Prepare the dataset\n",
    "Now that we have our logs, we need to transform them into a format that IP Insights can use. As we mentioned above, we need to:\n",
    "1. Choose the resource which we want to analyze users' history for\n",
    "2. Extract our users' usage history of IP addresses\n",
    "3. In addition, we want to separate our dataset into a training and test set. This will allow us to check for overfitting by evaluating our model on 'unseen' login events.\n",
    "\n",
    "For the rest of the notebook, we assume that the Apache Access Logs are in the Common Log Format as defined by the [Apache documentation](https://httpd.apache.org/docs/2.4/logs.html#accesslog). We start with reading the logs into a Pandas DataFrame for easy data exploration and pre-processing."
   ]
  },
  {
   "cell_type": "code",
   "execution_count": 4,
   "id": "529823c9",
   "metadata": {
    "execution": {
     "iopub.execute_input": "2021-05-18T00:16:59.680524Z",
     "iopub.status.busy": "2021-05-18T00:16:59.679556Z",
     "iopub.status.idle": "2021-05-18T00:17:06.530367Z",
     "shell.execute_reply": "2021-05-18T00:17:06.530723Z"
    },
    "papermill": {
     "duration": 6.954183,
     "end_time": "2021-05-18T00:17:06.530859",
     "exception": false,
     "start_time": "2021-05-18T00:16:59.576676",
     "status": "completed"
    },
    "scrolled": true,
    "tags": []
   },
   "outputs": [
    {
     "data": {
      "text/html": [
       "<div>\n",
       "<style scoped>\n",
       "    .dataframe tbody tr th:only-of-type {\n",
       "        vertical-align: middle;\n",
       "    }\n",
       "\n",
       "    .dataframe tbody tr th {\n",
       "        vertical-align: top;\n",
       "    }\n",
       "\n",
       "    .dataframe thead th {\n",
       "        text-align: right;\n",
       "    }\n",
       "</style>\n",
       "<table border=\"1\" class=\"dataframe\">\n",
       "  <thead>\n",
       "    <tr style=\"text-align: right;\">\n",
       "      <th></th>\n",
       "      <th>ip_address</th>\n",
       "      <th>rcf_id</th>\n",
       "      <th>user</th>\n",
       "      <th>timestamp</th>\n",
       "      <th>time_zone</th>\n",
       "      <th>request</th>\n",
       "      <th>status</th>\n",
       "      <th>size</th>\n",
       "      <th>referer</th>\n",
       "      <th>user_agent</th>\n",
       "    </tr>\n",
       "  </thead>\n",
       "  <tbody>\n",
       "    <tr>\n",
       "      <th>0</th>\n",
       "      <td>185.146.28.181</td>\n",
       "      <td>NaN</td>\n",
       "      <td>user_0</td>\n",
       "      <td>[04/Nov/2018:10:42:57</td>\n",
       "      <td>+0000]</td>\n",
       "      <td>GET /login_success HTTP/1.1</td>\n",
       "      <td>200</td>\n",
       "      <td>476</td>\n",
       "      <td>NaN</td>\n",
       "      <td>Mozilla/5.0 (Macintosh; Intel Mac OS X 10_12_6...</td>\n",
       "    </tr>\n",
       "    <tr>\n",
       "      <th>1</th>\n",
       "      <td>185.146.1.191</td>\n",
       "      <td>NaN</td>\n",
       "      <td>user_0</td>\n",
       "      <td>[06/Nov/2018:15:19:25</td>\n",
       "      <td>+0000]</td>\n",
       "      <td>GET /login_success HTTP/1.1</td>\n",
       "      <td>200</td>\n",
       "      <td>476</td>\n",
       "      <td>NaN</td>\n",
       "      <td>Mozilla/5.0 (Macintosh; Intel Mac OS X 10_12_6...</td>\n",
       "    </tr>\n",
       "    <tr>\n",
       "      <th>2</th>\n",
       "      <td>185.146.6.25</td>\n",
       "      <td>NaN</td>\n",
       "      <td>user_0</td>\n",
       "      <td>[10/Nov/2018:07:57:44</td>\n",
       "      <td>+0000]</td>\n",
       "      <td>GET /login_success HTTP/1.1</td>\n",
       "      <td>200</td>\n",
       "      <td>476</td>\n",
       "      <td>NaN</td>\n",
       "      <td>Mozilla/5.0 (Macintosh; Intel Mac OS X 10_12_6...</td>\n",
       "    </tr>\n",
       "    <tr>\n",
       "      <th>3</th>\n",
       "      <td>190.150.19.255</td>\n",
       "      <td>NaN</td>\n",
       "      <td>user_0</td>\n",
       "      <td>[12/Nov/2018:09:34:16</td>\n",
       "      <td>+0000]</td>\n",
       "      <td>GET /login_success HTTP/1.1</td>\n",
       "      <td>200</td>\n",
       "      <td>476</td>\n",
       "      <td>NaN</td>\n",
       "      <td>Mozilla/5.0 (Macintosh; Intel Mac OS X 10_12_6...</td>\n",
       "    </tr>\n",
       "    <tr>\n",
       "      <th>4</th>\n",
       "      <td>190.149.26.244</td>\n",
       "      <td>NaN</td>\n",
       "      <td>user_0</td>\n",
       "      <td>[13/Nov/2018:10:58:51</td>\n",
       "      <td>+0000]</td>\n",
       "      <td>GET /login_success HTTP/1.1</td>\n",
       "      <td>200</td>\n",
       "      <td>476</td>\n",
       "      <td>NaN</td>\n",
       "      <td>Mozilla/5.0 (Macintosh; Intel Mac OS X 10_12_6...</td>\n",
       "    </tr>\n",
       "  </tbody>\n",
       "</table>\n",
       "</div>"
      ],
      "text/plain": [
       "       ip_address  rcf_id    user              timestamp time_zone  \\\n",
       "0  185.146.28.181     NaN  user_0  [04/Nov/2018:10:42:57    +0000]   \n",
       "1   185.146.1.191     NaN  user_0  [06/Nov/2018:15:19:25    +0000]   \n",
       "2    185.146.6.25     NaN  user_0  [10/Nov/2018:07:57:44    +0000]   \n",
       "3  190.150.19.255     NaN  user_0  [12/Nov/2018:09:34:16    +0000]   \n",
       "4  190.149.26.244     NaN  user_0  [13/Nov/2018:10:58:51    +0000]   \n",
       "\n",
       "                       request  status  size  referer  \\\n",
       "0  GET /login_success HTTP/1.1     200   476      NaN   \n",
       "1  GET /login_success HTTP/1.1     200   476      NaN   \n",
       "2  GET /login_success HTTP/1.1     200   476      NaN   \n",
       "3  GET /login_success HTTP/1.1     200   476      NaN   \n",
       "4  GET /login_success HTTP/1.1     200   476      NaN   \n",
       "\n",
       "                                          user_agent  \n",
       "0  Mozilla/5.0 (Macintosh; Intel Mac OS X 10_12_6...  \n",
       "1  Mozilla/5.0 (Macintosh; Intel Mac OS X 10_12_6...  \n",
       "2  Mozilla/5.0 (Macintosh; Intel Mac OS X 10_12_6...  \n",
       "3  Mozilla/5.0 (Macintosh; Intel Mac OS X 10_12_6...  \n",
       "4  Mozilla/5.0 (Macintosh; Intel Mac OS X 10_12_6...  "
      ]
     },
     "execution_count": 4,
     "metadata": {},
     "output_type": "execute_result"
    }
   ],
   "source": [
    "import pandas as pd\n",
    "\n",
    "df = pd.read_csv(\n",
    "    log_file,\n",
    "    sep=\" \",\n",
    "    na_values=\"-\",\n",
    "    header=None,\n",
    "    names=[\n",
    "        \"ip_address\",\n",
    "        \"rcf_id\",\n",
    "        \"user\",\n",
    "        \"timestamp\",\n",
    "        \"time_zone\",\n",
    "        \"request\",\n",
    "        \"status\",\n",
    "        \"size\",\n",
    "        \"referer\",\n",
    "        \"user_agent\",\n",
    "    ],\n",
    ")\n",
    "df.head()"
   ]
  },
  {
   "cell_type": "markdown",
   "id": "c5bb3bad",
   "metadata": {
    "papermill": {
     "duration": 0.097264,
     "end_time": "2021-05-18T00:17:06.726715",
     "exception": false,
     "start_time": "2021-05-18T00:17:06.629451",
     "status": "completed"
    },
    "tags": []
   },
   "source": [
    "We convert the log timestamp strings into Python datetimes so that we can sort and compare the data more easily. "
   ]
  },
  {
   "cell_type": "code",
   "execution_count": 5,
   "id": "92d3f233",
   "metadata": {
    "execution": {
     "iopub.execute_input": "2021-05-18T00:17:15.867542Z",
     "iopub.status.busy": "2021-05-18T00:17:15.866961Z",
     "iopub.status.idle": "2021-05-18T00:17:16.011274Z",
     "shell.execute_reply": "2021-05-18T00:17:16.011684Z"
    },
    "papermill": {
     "duration": 9.187485,
     "end_time": "2021-05-18T00:17:16.011834",
     "exception": false,
     "start_time": "2021-05-18T00:17:06.824349",
     "status": "completed"
    },
    "tags": []
   },
   "outputs": [],
   "source": [
    "# Convert time stamps to DateTime objects\n",
    "df[\"timestamp\"] = pd.to_datetime(df[\"timestamp\"], format=\"[%d/%b/%Y:%H:%M:%S\")"
   ]
  },
  {
   "cell_type": "markdown",
   "id": "553be25d",
   "metadata": {
    "papermill": {
     "duration": 0.098152,
     "end_time": "2021-05-18T00:17:16.207494",
     "exception": false,
     "start_time": "2021-05-18T00:17:16.109342",
     "status": "completed"
    },
    "tags": []
   },
   "source": [
    "We also verify the time zones of all of the time stamps. If the log contains more than one time zone, we would need to standardize the timestamps."
   ]
  },
  {
   "cell_type": "code",
   "execution_count": 6,
   "id": "4e9e831d",
   "metadata": {
    "execution": {
     "iopub.execute_input": "2021-05-18T00:17:16.473903Z",
     "iopub.status.busy": "2021-05-18T00:17:16.473423Z",
     "iopub.status.idle": "2021-05-18T00:17:16.521599Z",
     "shell.execute_reply": "2021-05-18T00:17:16.521139Z"
    },
    "papermill": {
     "duration": 0.216249,
     "end_time": "2021-05-18T00:17:16.521706",
     "exception": false,
     "start_time": "2021-05-18T00:17:16.305457",
     "status": "completed"
    },
    "scrolled": true,
    "tags": []
   },
   "outputs": [
    {
     "data": {
      "text/plain": [
       "1"
      ]
     },
     "execution_count": 6,
     "metadata": {},
     "output_type": "execute_result"
    }
   ],
   "source": [
    "# Check if they are all in the same timezone\n",
    "num_time_zones = len(df[\"time_zone\"].unique())\n",
    "num_time_zones"
   ]
  },
  {
   "cell_type": "markdown",
   "id": "52673be7",
   "metadata": {
    "papermill": {
     "duration": 0.098455,
     "end_time": "2021-05-18T00:17:16.718717",
     "exception": false,
     "start_time": "2021-05-18T00:17:16.620262",
     "status": "completed"
    },
    "tags": []
   },
   "source": [
    "As we see above, there is only one value in the entire `time_zone` column. Therefore, all of the timestamps are in the same time zone, and we do not need to standardize them. We can skip the next cell and go to [1. Selecting a Resource](#1.-Select-Resource).\n",
    "\n",
    "If there is more than one time_zone in your dataset, then we parse the timezone offset and update the corresponding datetime object. \n",
    "\n",
    "**Note:** The next cell takes about 5-10 minutes to run."
   ]
  },
  {
   "cell_type": "code",
   "execution_count": 7,
   "id": "3085d261",
   "metadata": {
    "execution": {
     "iopub.execute_input": "2021-05-18T00:17:16.921689Z",
     "iopub.status.busy": "2021-05-18T00:17:16.921051Z",
     "iopub.status.idle": "2021-05-18T00:17:16.922826Z",
     "shell.execute_reply": "2021-05-18T00:17:16.923174Z"
    },
    "papermill": {
     "duration": 0.106025,
     "end_time": "2021-05-18T00:17:16.923307",
     "exception": false,
     "start_time": "2021-05-18T00:17:16.817282",
     "status": "completed"
    },
    "scrolled": true,
    "tags": []
   },
   "outputs": [],
   "source": [
    "from datetime import datetime\n",
    "import pytz\n",
    "\n",
    "\n",
    "def apply_timezone(row):\n",
    "    tz = row[1]\n",
    "    tz_offset = int(tz[:3]) * 60  # Hour offset\n",
    "    tz_offset += int(tz[3:5])  # Minutes offset\n",
    "    return row[0].replace(tzinfo=pytz.FixedOffset(tz_offset))\n",
    "\n",
    "\n",
    "if num_time_zones > 1:\n",
    "    df[\"timestamp\"] = df[[\"timestamp\", \"time_zone\"]].apply(apply_timezone, axis=1)"
   ]
  },
  {
   "cell_type": "markdown",
   "id": "0fd57174",
   "metadata": {
    "papermill": {
     "duration": 0.097768,
     "end_time": "2021-05-18T00:17:17.119376",
     "exception": false,
     "start_time": "2021-05-18T00:17:17.021608",
     "status": "completed"
    },
    "tags": []
   },
   "source": [
    "#### 1. Select Resource\n",
    "Our goal is to train an IP Insights algorithm to analyze the history of user logins such that we can predict how suspicious a login event is. \n",
    "\n",
    "In our simulated web server, the server logs a `GET` request to the `/login_success` page everytime a user successfully logs in. We filter our Apache logs for `GET` requests for `/login_success`. We also filter for requests that have a `status_code == 200`, to ensure that the page request was well formed. \n",
    "\n",
    "**Note:** every web server handles logins differently. For your dataset, determine which resource you will need to be analyzing to correctly frame this problem. Depending on your usecase, you may need to do more data exploration and preprocessing."
   ]
  },
  {
   "cell_type": "code",
   "execution_count": 8,
   "id": "74b0993b",
   "metadata": {
    "execution": {
     "iopub.execute_input": "2021-05-18T00:17:17.425749Z",
     "iopub.status.busy": "2021-05-18T00:17:17.425272Z",
     "iopub.status.idle": "2021-05-18T00:17:18.525591Z",
     "shell.execute_reply": "2021-05-18T00:17:18.525161Z"
    },
    "papermill": {
     "duration": 1.30823,
     "end_time": "2021-05-18T00:17:18.525701",
     "exception": false,
     "start_time": "2021-05-18T00:17:17.217471",
     "status": "completed"
    },
    "tags": []
   },
   "outputs": [],
   "source": [
    "df = df[(df[\"request\"].str.startswith(\"GET /login_success\")) & (df[\"status\"] == 200)]"
   ]
  },
  {
   "cell_type": "markdown",
   "id": "b2d3a75a",
   "metadata": {
    "papermill": {
     "duration": 0.097915,
     "end_time": "2021-05-18T00:17:18.722311",
     "exception": false,
     "start_time": "2021-05-18T00:17:18.624396",
     "status": "completed"
    },
    "tags": []
   },
   "source": [
    "#### 2. Extract Users and IP address\n",
    "Now that our DataFrame only includes log events for the resource we want to analyze, we extract the relevant fields to construct a IP Insights dataset.\n",
    "\n",
    "IP Insights takes in a headerless CSV file with two columns: an entity (username) ID string and the IPv4 address in decimal-dot notation. Fortunately, the Apache Web Server Access Logs output IP addresses and authentcated usernames in their own columns.\n",
    "\n",
    "**Note:** Each website handles user authentication differently. If the Access Log does not output an authenticated user, you could explore the website's query strings or work with your website developers on another solution."
   ]
  },
  {
   "cell_type": "code",
   "execution_count": 9,
   "id": "3a85c3d0",
   "metadata": {
    "execution": {
     "iopub.execute_input": "2021-05-18T00:17:18.923949Z",
     "iopub.status.busy": "2021-05-18T00:17:18.923420Z",
     "iopub.status.idle": "2021-05-18T00:17:19.035088Z",
     "shell.execute_reply": "2021-05-18T00:17:19.035475Z"
    },
    "papermill": {
     "duration": 0.215261,
     "end_time": "2021-05-18T00:17:19.035619",
     "exception": false,
     "start_time": "2021-05-18T00:17:18.820358",
     "status": "completed"
    },
    "tags": []
   },
   "outputs": [],
   "source": [
    "df = df[[\"user\", \"ip_address\", \"timestamp\"]]"
   ]
  },
  {
   "cell_type": "markdown",
   "id": "254d3625",
   "metadata": {
    "papermill": {
     "duration": 0.098333,
     "end_time": "2021-05-18T00:17:19.232356",
     "exception": false,
     "start_time": "2021-05-18T00:17:19.134023",
     "status": "completed"
    },
    "tags": []
   },
   "source": [
    "#### 3. Create training and test dataset\n",
    "As part of training a model, we want to evaluate how it generalizes to data it has never seen before.\n",
    "\n",
    "Typically, you create a test set by reserving a random percentage of your dataset and evaluating the model after training. However, for machine learning models that make future predictions on historical data, we want to use out-of-time testing. Instead of randomly sampling our dataset, we split our dataset into two contiguous time windows. The first window is the training set, and the second is the test set. \n",
    "\n",
    "We first look at the time range of our dataset to select a date to use as the partition between the training and test set."
   ]
  },
  {
   "cell_type": "code",
   "execution_count": 10,
   "id": "6bed7994",
   "metadata": {
    "execution": {
     "iopub.execute_input": "2021-05-18T00:17:19.432762Z",
     "iopub.status.busy": "2021-05-18T00:17:19.432311Z",
     "iopub.status.idle": "2021-05-18T00:17:19.713662Z",
     "shell.execute_reply": "2021-05-18T00:17:19.713039Z"
    },
    "papermill": {
     "duration": 0.383347,
     "end_time": "2021-05-18T00:17:19.713807",
     "exception": false,
     "start_time": "2021-05-18T00:17:19.330460",
     "status": "completed"
    },
    "tags": []
   },
   "outputs": [
    {
     "data": {
      "text/plain": [
       "count                 3058224\n",
       "unique                 838541\n",
       "top       2018-11-06 20:07:19\n",
       "freq                       16\n",
       "first     2018-11-04 00:00:01\n",
       "last      2018-11-14 00:00:00\n",
       "Name: timestamp, dtype: object"
      ]
     },
     "execution_count": 10,
     "metadata": {},
     "output_type": "execute_result"
    }
   ],
   "source": [
    "df[\"timestamp\"].describe()"
   ]
  },
  {
   "cell_type": "markdown",
   "id": "cbda7437",
   "metadata": {
    "papermill": {
     "duration": 0.099953,
     "end_time": "2021-05-18T00:17:19.922845",
     "exception": false,
     "start_time": "2021-05-18T00:17:19.822892",
     "status": "completed"
    },
    "tags": []
   },
   "source": [
    "We have login events for 10 days. Let's take the first week (7 days) of data as training and then use the last 3 days for the test set."
   ]
  },
  {
   "cell_type": "code",
   "execution_count": 11,
   "id": "494af8c2",
   "metadata": {
    "execution": {
     "iopub.execute_input": "2021-05-18T00:17:20.126335Z",
     "iopub.status.busy": "2021-05-18T00:17:20.125865Z",
     "iopub.status.idle": "2021-05-18T00:17:20.267726Z",
     "shell.execute_reply": "2021-05-18T00:17:20.267278Z"
    },
    "papermill": {
     "duration": 0.245434,
     "end_time": "2021-05-18T00:17:20.267842",
     "exception": false,
     "start_time": "2021-05-18T00:17:20.022408",
     "status": "completed"
    },
    "scrolled": true,
    "tags": []
   },
   "outputs": [],
   "source": [
    "time_partition = (\n",
    "    datetime(2018, 11, 11, tzinfo=pytz.FixedOffset(0))\n",
    "    if num_time_zones > 1\n",
    "    else datetime(2018, 11, 11)\n",
    ")\n",
    "\n",
    "train_df = df[df[\"timestamp\"] <= time_partition]\n",
    "test_df = df[df[\"timestamp\"] > time_partition]"
   ]
  },
  {
   "cell_type": "markdown",
   "id": "57103d89",
   "metadata": {
    "papermill": {
     "duration": 0.098714,
     "end_time": "2021-05-18T00:17:20.466013",
     "exception": false,
     "start_time": "2021-05-18T00:17:20.367299",
     "status": "completed"
    },
    "tags": []
   },
   "source": [
    "Now that we have our training dataset, we shuffle it. \n",
    "\n",
    "Shuffling improves the model's performance since SageMaker IP Insights uses stochastic gradient descent. This ensures that login events for the same user are less likely to occur in the same mini batch. This allows the model to improve its performance in between predictions of the same user, which will improve training convergence."
   ]
  },
  {
   "cell_type": "code",
   "execution_count": 12,
   "id": "cbdbe8db",
   "metadata": {
    "execution": {
     "iopub.execute_input": "2021-05-18T00:17:20.667887Z",
     "iopub.status.busy": "2021-05-18T00:17:20.667396Z",
     "iopub.status.idle": "2021-05-18T00:17:21.544134Z",
     "shell.execute_reply": "2021-05-18T00:17:21.543731Z"
    },
    "papermill": {
     "duration": 0.979439,
     "end_time": "2021-05-18T00:17:21.544241",
     "exception": false,
     "start_time": "2021-05-18T00:17:20.564802",
     "status": "completed"
    },
    "tags": []
   },
   "outputs": [
    {
     "data": {
      "text/html": [
       "<div>\n",
       "<style scoped>\n",
       "    .dataframe tbody tr th:only-of-type {\n",
       "        vertical-align: middle;\n",
       "    }\n",
       "\n",
       "    .dataframe tbody tr th {\n",
       "        vertical-align: top;\n",
       "    }\n",
       "\n",
       "    .dataframe thead th {\n",
       "        text-align: right;\n",
       "    }\n",
       "</style>\n",
       "<table border=\"1\" class=\"dataframe\">\n",
       "  <thead>\n",
       "    <tr style=\"text-align: right;\">\n",
       "      <th></th>\n",
       "      <th>user</th>\n",
       "      <th>ip_address</th>\n",
       "      <th>timestamp</th>\n",
       "    </tr>\n",
       "  </thead>\n",
       "  <tbody>\n",
       "    <tr>\n",
       "      <th>370273</th>\n",
       "      <td>user_1185</td>\n",
       "      <td>49.228.179.79</td>\n",
       "      <td>2018-11-06 21:41:48</td>\n",
       "    </tr>\n",
       "    <tr>\n",
       "      <th>2699876</th>\n",
       "      <td>user_8910</td>\n",
       "      <td>134.132.34.86</td>\n",
       "      <td>2018-11-08 19:15:37</td>\n",
       "    </tr>\n",
       "    <tr>\n",
       "      <th>1881901</th>\n",
       "      <td>user_6377</td>\n",
       "      <td>142.154.228.114</td>\n",
       "      <td>2018-11-07 19:35:17</td>\n",
       "    </tr>\n",
       "    <tr>\n",
       "      <th>2508093</th>\n",
       "      <td>user_8453</td>\n",
       "      <td>115.186.117.101</td>\n",
       "      <td>2018-11-07 18:20:19</td>\n",
       "    </tr>\n",
       "    <tr>\n",
       "      <th>1936185</th>\n",
       "      <td>user_6504</td>\n",
       "      <td>216.236.142.211</td>\n",
       "      <td>2018-11-07 00:12:42</td>\n",
       "    </tr>\n",
       "  </tbody>\n",
       "</table>\n",
       "</div>"
      ],
      "text/plain": [
       "              user       ip_address           timestamp\n",
       "370273   user_1185    49.228.179.79 2018-11-06 21:41:48\n",
       "2699876  user_8910    134.132.34.86 2018-11-08 19:15:37\n",
       "1881901  user_6377  142.154.228.114 2018-11-07 19:35:17\n",
       "2508093  user_8453  115.186.117.101 2018-11-07 18:20:19\n",
       "1936185  user_6504  216.236.142.211 2018-11-07 00:12:42"
      ]
     },
     "execution_count": 12,
     "metadata": {},
     "output_type": "execute_result"
    }
   ],
   "source": [
    "# Shuffle train data\n",
    "train_df = train_df.sample(frac=1)\n",
    "train_df.head()"
   ]
  },
  {
   "cell_type": "markdown",
   "id": "8407dcb4",
   "metadata": {
    "papermill": {
     "duration": 0.098224,
     "end_time": "2021-05-18T00:17:21.741335",
     "exception": false,
     "start_time": "2021-05-18T00:17:21.643111",
     "status": "completed"
    },
    "tags": []
   },
   "source": [
    "### Store Data on S3"
   ]
  },
  {
   "cell_type": "markdown",
   "id": "014fdbca",
   "metadata": {
    "papermill": {
     "duration": 0.098407,
     "end_time": "2021-05-18T00:17:21.937848",
     "exception": false,
     "start_time": "2021-05-18T00:17:21.839441",
     "status": "completed"
    },
    "tags": []
   },
   "source": [
    "Now that we have simulated (or scraped) our datasets, we have to prepare and upload it to S3.\n",
    "\n",
    "We will be doing local inference, therefore we don't need to upload our test dataset."
   ]
  },
  {
   "cell_type": "code",
   "execution_count": 13,
   "id": "710bcae0",
   "metadata": {
    "execution": {
     "iopub.execute_input": "2021-05-18T00:17:22.138079Z",
     "iopub.status.busy": "2021-05-18T00:17:22.137632Z",
     "iopub.status.idle": "2021-05-18T00:17:25.612240Z",
     "shell.execute_reply": "2021-05-18T00:17:25.611808Z"
    },
    "papermill": {
     "duration": 3.576147,
     "end_time": "2021-05-18T00:17:25.612355",
     "exception": false,
     "start_time": "2021-05-18T00:17:22.036208",
     "status": "completed"
    },
    "tags": []
   },
   "outputs": [],
   "source": [
    "# Output dataset as headerless CSV\n",
    "train_data = train_df.to_csv(index=False, header=False, columns=[\"user\", \"ip_address\"])"
   ]
  },
  {
   "cell_type": "code",
   "execution_count": 14,
   "id": "6bb2a2ee",
   "metadata": {
    "execution": {
     "iopub.execute_input": "2021-05-18T00:17:25.814553Z",
     "iopub.status.busy": "2021-05-18T00:17:25.814039Z",
     "iopub.status.idle": "2021-05-18T00:17:30.038815Z",
     "shell.execute_reply": "2021-05-18T00:17:30.039205Z"
    },
    "papermill": {
     "duration": 4.328196,
     "end_time": "2021-05-18T00:17:30.039344",
     "exception": false,
     "start_time": "2021-05-18T00:17:25.711148",
     "status": "completed"
    },
    "tags": []
   },
   "outputs": [
    {
     "name": "stdout",
     "output_type": "stream",
     "text": [
      "Uploading data to: s3://sagemaker-us-west-2-521695447989/sagemaker/ipinsights-tutorial/train/train.csv\n"
     ]
    },
    {
     "name": "stderr",
     "output_type": "stream",
     "text": [
      "The class sagemaker.session.s3_input has been renamed in sagemaker>=2.\n",
      "See: https://sagemaker.readthedocs.io/en/stable/v2.html for details.\n"
     ]
    }
   ],
   "source": [
    "# Upload data to S3 key\n",
    "train_data_file = \"train.csv\"\n",
    "key = os.path.join(prefix, \"train\", train_data_file)\n",
    "s3_train_data = f\"s3://{bucket}/{key}\"\n",
    "\n",
    "print(f\"Uploading data to: {s3_train_data}\")\n",
    "boto3.resource(\"s3\").Bucket(bucket).Object(key).put(Body=train_data)\n",
    "\n",
    "# Configure SageMaker IP Insights Input Channels\n",
    "input_data = {\n",
    "    \"train\": sagemaker.session.s3_input(\n",
    "        s3_train_data, distribution=\"FullyReplicated\", content_type=\"text/csv\"\n",
    "    )\n",
    "}"
   ]
  },
  {
   "cell_type": "markdown",
   "id": "bdc9a66e",
   "metadata": {
    "papermill": {
     "duration": 0.099331,
     "end_time": "2021-05-18T00:17:30.237645",
     "exception": false,
     "start_time": "2021-05-18T00:17:30.138314",
     "status": "completed"
    },
    "tags": []
   },
   "source": [
    "## Training\n",
    "---\n",
    "Once the data is preprocessed and available in the necessary format, the next step is to train our model on the data. There are number of parameters required by the SageMaker IP Insights algorithm to configure the model and define the computational environment in which training will take place. The first of these is to point to a container image which holds the algorithms training and hosting code:"
   ]
  },
  {
   "cell_type": "code",
   "execution_count": 15,
   "id": "3ac56e8c",
   "metadata": {
    "execution": {
     "iopub.execute_input": "2021-05-18T00:17:30.447040Z",
     "iopub.status.busy": "2021-05-18T00:17:30.446370Z",
     "iopub.status.idle": "2021-05-18T00:17:30.457238Z",
     "shell.execute_reply": "2021-05-18T00:17:30.456756Z"
    },
    "papermill": {
     "duration": 0.12068,
     "end_time": "2021-05-18T00:17:30.457343",
     "exception": false,
     "start_time": "2021-05-18T00:17:30.336663",
     "status": "completed"
    },
    "scrolled": true,
    "tags": []
   },
   "outputs": [
    {
     "name": "stderr",
     "output_type": "stream",
     "text": [
      "The method get_image_uri has been renamed in sagemaker>=2.\n",
      "See: https://sagemaker.readthedocs.io/en/stable/v2.html for details.\n"
     ]
    },
    {
     "name": "stderr",
     "output_type": "stream",
     "text": [
      "Defaulting to the only supported framework/algorithm version: 1. Ignoring framework/algorithm version: 1.\n"
     ]
    }
   ],
   "source": [
    "from sagemaker.amazon.amazon_estimator import get_image_uri\n",
    "\n",
    "image = get_image_uri(boto3.Session().region_name, \"ipinsights\")"
   ]
  },
  {
   "cell_type": "markdown",
   "id": "43c230fb",
   "metadata": {
    "papermill": {
     "duration": 0.10017,
     "end_time": "2021-05-18T00:17:30.656754",
     "exception": false,
     "start_time": "2021-05-18T00:17:30.556584",
     "status": "completed"
    },
    "tags": []
   },
   "source": [
    "Then, we need to determine the training cluster to use. The IP Insights algorithm supports both CPU and GPU training. We recommend using GPU machines as they will train faster. However, when the size of your dataset increases, it can become more economical to use multiple CPU machines running with distributed training. See [Recommended Instance Types](https://docs.aws.amazon.com/sagemaker/latest/dg/ip-insights.html#ip-insights-instances) for more details. \n",
    "\n",
    "### Training Job Configuration\n",
    "- **train_instance_type**: the instance type to train on. We recommend `p3.2xlarge` for single GPU, `p3.8xlarge` for multi-GPU, and `m5.2xlarge` if using distributed training with CPU;\n",
    "- **train_instance_count**: the number of worker nodes in the training cluster.\n",
    "\n",
    "We need to also configure SageMaker IP Insights-specific hypeparameters:\n",
    "\n",
    "### Model Hyperparameters\n",
    "- **num_entity_vectors**: the total number of embeddings to train. We use an internal hashing mechanism to map the entity ID strings to an embedding index; therefore, using an embedding size larger than the total number of possible values helps reduce the number of hash collisions. We recommend this value to be 2x the total number of unique entites (i.e. user names) in your dataset;\n",
    "- **vector_dim**: the size of the entity and IP embedding vectors. The larger the value, the more information can be encoded using these representations but using too large vector representations may cause the model to overfit, especially for small training data sets;\n",
    "- **num_ip_encoder_layers**: the number of layers in the IP encoder network. The larger the number of layers, the higher the model capacity to capture patterns among IP addresses. However, large number of layers increases the chance of overfitting. `num_ip_encoder_layers=1` is a good value to start experimenting with;\n",
    "- **random_negative_sampling_rate**: the number of randomly generated negative samples to produce per 1 positive sample; `random_negative_sampling_rate=1` is a good value to start experimenting with;\n",
    "    - Random negative samples are produced by drawing each octet from a uniform distributed of [0, 255];\n",
    "- **shuffled_negative_sampling_rate**: the number of shuffled negative samples to produce per 1 positive sample; `shuffled_negative_sampling_rate=1` is a good value to start experimenting with;\n",
    "    - Shuffled negative samples are produced by shuffling the accounts within a batch;\n",
    "\n",
    "### Training Hyperparameters\n",
    "- **epochs**: the number of epochs to train. Increase this value if you continue to see the accuracy and cross entropy improving over the last few epochs;\n",
    "- **mini_batch_size**: how many examples in each mini_batch. A smaller number improves convergence with stochastic gradient descent. But a larger number is necessary if using shuffled_negative_sampling to avoid sampling a wrong account for a negative sample;\n",
    "- **learning_rate**: the learning rate for the Adam optimizer (try ranges in [0.001, 0.1]). Too large learning rate may cause the model to diverge since the training would be likely to overshoot minima. On the other hand, too small learning rate slows down the convergence;\n",
    "- **weight_decay**: L2 regularization coefficient. Regularization is required to prevent the model from overfitting the training data. Too large of a value will prevent the model from learning anything;\n",
    "\n",
    "For more details, see [Amazon SageMaker IP Insights (Hyperparameters)](https://docs.aws.amazon.com/sagemaker/latest/dg/ip-insights-hyperparameters.html). Additionally, most of these hyperparameters can be found using SageMaker Automatic Model Tuning; see [Amazon SageMaker IP Insights (Model Tuning)](https://docs.aws.amazon.com/sagemaker/latest/dg/ip-insights-tuning.html) for more details. "
   ]
  },
  {
   "cell_type": "code",
   "execution_count": 16,
   "id": "dc05b64a",
   "metadata": {
    "execution": {
     "iopub.execute_input": "2021-05-18T00:17:30.860375Z",
     "iopub.status.busy": "2021-05-18T00:17:30.859895Z",
     "iopub.status.idle": "2021-05-18T00:32:51.436467Z",
     "shell.execute_reply": "2021-05-18T00:32:51.436833Z"
    },
    "papermill": {
     "duration": 920.680937,
     "end_time": "2021-05-18T00:32:51.436972",
     "exception": false,
     "start_time": "2021-05-18T00:17:30.756035",
     "status": "completed"
    },
    "scrolled": true,
    "tags": []
   },
   "outputs": [
    {
     "name": "stdout",
     "output_type": "stream",
     "text": [
      "2021-05-18 00:17:31 Starting - Starting the training job."
     ]
    },
    {
     "name": "stdout",
     "output_type": "stream",
     "text": [
      "."
     ]
    },
    {
     "name": "stdout",
     "output_type": "stream",
     "text": [
      "."
     ]
    },
    {
     "name": "stdout",
     "output_type": "stream",
     "text": [
      "\n",
      "2021-05-18 00:17:56 Starting - Launching requested ML instancesProfilerReport-1621297050: InProgress\n",
      "."
     ]
    },
    {
     "name": "stdout",
     "output_type": "stream",
     "text": [
      "."
     ]
    },
    {
     "name": "stdout",
     "output_type": "stream",
     "text": [
      "."
     ]
    },
    {
     "name": "stdout",
     "output_type": "stream",
     "text": [
      "."
     ]
    },
    {
     "name": "stdout",
     "output_type": "stream",
     "text": [
      "."
     ]
    },
    {
     "name": "stdout",
     "output_type": "stream",
     "text": [
      "."
     ]
    },
    {
     "name": "stdout",
     "output_type": "stream",
     "text": [
      "."
     ]
    },
    {
     "name": "stdout",
     "output_type": "stream",
     "text": [
      "."
     ]
    },
    {
     "name": "stdout",
     "output_type": "stream",
     "text": [
      "."
     ]
    },
    {
     "name": "stdout",
     "output_type": "stream",
     "text": [
      "\n",
      "2021-05-18 00:19:16 Starting - Preparing the instances for training."
     ]
    },
    {
     "name": "stdout",
     "output_type": "stream",
     "text": [
      "."
     ]
    },
    {
     "name": "stdout",
     "output_type": "stream",
     "text": [
      "."
     ]
    },
    {
     "name": "stdout",
     "output_type": "stream",
     "text": [
      "."
     ]
    },
    {
     "name": "stdout",
     "output_type": "stream",
     "text": [
      "."
     ]
    },
    {
     "name": "stdout",
     "output_type": "stream",
     "text": [
      "."
     ]
    },
    {
     "name": "stdout",
     "output_type": "stream",
     "text": [
      "."
     ]
    },
    {
     "name": "stdout",
     "output_type": "stream",
     "text": [
      "."
     ]
    },
    {
     "name": "stdout",
     "output_type": "stream",
     "text": [
      "."
     ]
    },
    {
     "name": "stdout",
     "output_type": "stream",
     "text": [
      "\n",
      "2021-05-18 00:21:01 Downloading - Downloading input data."
     ]
    },
    {
     "name": "stdout",
     "output_type": "stream",
     "text": [
      "."
     ]
    },
    {
     "name": "stdout",
     "output_type": "stream",
     "text": [
      "."
     ]
    },
    {
     "name": "stdout",
     "output_type": "stream",
     "text": [
      "\n",
      "2021-05-18 00:21:16 Training - Downloading the training image."
     ]
    },
    {
     "name": "stdout",
     "output_type": "stream",
     "text": [
      "."
     ]
    },
    {
     "name": "stdout",
     "output_type": "stream",
     "text": [
      "."
     ]
    },
    {
     "name": "stdout",
     "output_type": "stream",
     "text": [
      "."
     ]
    },
    {
     "name": "stdout",
     "output_type": "stream",
     "text": [
      "."
     ]
    },
    {
     "name": "stdout",
     "output_type": "stream",
     "text": [
      "\u001b[34mDocker entrypoint called with argument(s): train\u001b[0m\n",
      "\u001b[34mRunning default environment configuration script\u001b[0m\n",
      "\u001b[34m[05/18/2021 00:22:10 INFO 140479751137088] Reading default configuration from /opt/amazon/lib/python3.7/site-packages/algorithm/resources/default-input.json: {'batch_metrics_publish_interval': '1000', 'epochs': '10', 'learning_rate': '0.001', 'mini_batch_size': '5000', 'num_entity_vectors': '100000', 'num_ip_encoder_layers': '1', 'random_negative_sampling_rate': '1', 'shuffled_negative_sampling_rate': '1', 'vector_dim': '128', 'weight_decay': '0.00001', '_kvstore': 'auto_gpu', '_log_level': 'info', '_num_gpus': 'auto', '_num_kv_servers': 'auto', '_tuning_objective_metric': ''}\u001b[0m\n",
      "\u001b[34m[05/18/2021 00:22:10 INFO 140479751137088] Merging with provided configuration from /opt/ml/input/config/hyperparameters.json: {'vector_dim': '128', 'random_negative_sampling_rate': '5', 'num_entity_vectors': '20000', 'epochs': '5', 'learning_rate': '0.01', 'mini_batch_size': '1000'}\u001b[0m\n",
      "\u001b[34m[05/18/2021 00:22:10 INFO 140479751137088] Final configuration: {'batch_metrics_publish_interval': '1000', 'epochs': '5', 'learning_rate': '0.01', 'mini_batch_size': '1000', 'num_entity_vectors': '20000', 'num_ip_encoder_layers': '1', 'random_negative_sampling_rate': '5', 'shuffled_negative_sampling_rate': '1', 'vector_dim': '128', 'weight_decay': '0.00001', '_kvstore': 'auto_gpu', '_log_level': 'info', '_num_gpus': 'auto', '_num_kv_servers': 'auto', '_tuning_objective_metric': ''}\u001b[0m\n",
      "\u001b[34m[05/18/2021 00:22:10 WARNING 140479751137088] Loggers have already been setup.\u001b[0m\n",
      "\u001b[34m[05/18/2021 00:22:10 INFO 140479751137088] nvidia-smi: took 0.133 seconds to run.\u001b[0m\n",
      "\u001b[34m[05/18/2021 00:22:10 INFO 140479751137088] nvidia-smi identified 1 GPUs.\u001b[0m\n",
      "\u001b[34mProcess 1 is a worker.\u001b[0m\n",
      "\u001b[34m[05/18/2021 00:22:10 INFO 140479751137088] Using default worker.\u001b[0m\n",
      "\u001b[34m[05/18/2021 00:22:10 INFO 140479751137088] Loaded iterator creator application/x-ndarray for content type ('application/x-ndarray', '1.0')\u001b[0m\n",
      "\u001b[34m[05/18/2021 00:22:10 INFO 140479751137088] Loaded iterator creator text/csv for content type ('text/csv', '1.0')\u001b[0m\n",
      "\u001b[34m[05/18/2021 00:22:11 INFO 140479751137088] Checkpoint loading and saving are disabled.\u001b[0m\n",
      "\u001b[34m[05/18/2021 00:22:11 INFO 140479751137088] Number of GPUs being used: 1\u001b[0m\n",
      "\u001b[34m#metrics {\"StartTime\": 1621297331.0179205, \"EndTime\": 1621297331.0382783, \"Dimensions\": {\"Algorithm\": \"ipinsights\", \"Host\": \"algo-1\", \"Operation\": \"training\"}, \"Metrics\": {\"initialize.time\": {\"sum\": 20.108461380004883, \"count\": 1, \"min\": 20.108461380004883, \"max\": 20.108461380004883}}}\n",
      "\u001b[0m\n",
      "\u001b[34m#metrics {\"StartTime\": 1621297331.0384548, \"EndTime\": 1621297331.0384958, \"Dimensions\": {\"Algorithm\": \"ipinsights\", \"Host\": \"algo-1\", \"Operation\": \"training\", \"Meta\": \"init_train_data_iter\"}, \"Metrics\": {\"Total Records Seen\": {\"sum\": 0.0, \"count\": 1, \"min\": 0, \"max\": 0}, \"Total Batches Seen\": {\"sum\": 0.0, \"count\": 1, \"min\": 0, \"max\": 0}, \"Max Records Seen Between Resets\": {\"sum\": 0.0, \"count\": 1, \"min\": 0, \"max\": 0}, \"Max Batches Seen Between Resets\": {\"sum\": 0.0, \"count\": 1, \"min\": 0, \"max\": 0}, \"Reset Count\": {\"sum\": 0.0, \"count\": 1, \"min\": 0, \"max\": 0}, \"Number of Records Since Last Reset\": {\"sum\": 0.0, \"count\": 1, \"min\": 0, \"max\": 0}, \"Number of Batches Since Last Reset\": {\"sum\": 0.0, \"count\": 1, \"min\": 0, \"max\": 0}}}\n",
      "\u001b[0m\n",
      "\u001b[34m[05/18/2021 00:22:11 INFO 140479751137088] Create Store: device\u001b[0m\n",
      "\u001b[34m[00:22:16] /opt/brazil-pkg-cache/packages/AIAlgorithmsMXNet/AIAlgorithmsMXNet-1.3.x_Cuda_10.1.x.2782.0/AL2_x86_64/generic-flavor/src/src/kvstore/./kvstore_local.h:306: Warning: non-default weights detected during kvstore pull. This call has been ignored. Please make sure to use kv.row_sparse_pull() or module.prepare() with row_ids.\u001b[0m\n",
      "\u001b[34m[00:22:16] /opt/brazil-pkg-cache/packages/AIAlgorithmsMXNet/AIAlgorithmsMXNet-1.3.x_Cuda_10.1.x.2782.0/AL2_x86_64/generic-flavor/src/src/operator/././../common/utils.h:450: Optimizer with lazy_update = True detected. Be aware that lazy update with row_sparse gradient is different from standard update, and may lead to different empirical results. See https://mxnet.incubator.apache.org/api/python/optimization/optimization.html for more details.\u001b[0m\n",
      "\u001b[34m[05/18/2021 00:22:16 INFO 140479751137088] #quality_metric: host=algo-1, epoch=0, batch=0 train binary_classification_accuracy <score>=0.502\u001b[0m\n",
      "\u001b[34m[05/18/2021 00:22:16 INFO 140479751137088] #quality_metric: host=algo-1, epoch=0, batch=0 train binary_classification_cross_entropy <loss>=0.69319091796875\u001b[0m\n"
     ]
    },
    {
     "name": "stdout",
     "output_type": "stream",
     "text": [
      "\n",
      "2021-05-18 00:22:16 Training - Training image download completed. Training in progress.\u001b[34m[05/18/2021 00:22:23 INFO 140479751137088] Epoch[0] Batch [1000]#011Speed: 137748.76 samples/sec#011binary_classification_accuracy=0.927512#011binary_classification_cross_entropy=0.199315\u001b[0m\n",
      "\u001b[34m[05/18/2021 00:22:23 INFO 140479751137088] #quality_metric: host=algo-1, epoch=0, batch=1000 train binary_classification_accuracy <score>=0.9275124875124875\u001b[0m\n",
      "\u001b[34m[05/18/2021 00:22:23 INFO 140479751137088] #quality_metric: host=algo-1, epoch=0, batch=1000 train binary_classification_cross_entropy <loss>=0.19931456033285563\u001b[0m\n"
     ]
    },
    {
     "name": "stdout",
     "output_type": "stream",
     "text": [
      "\u001b[34m[05/18/2021 00:22:30 INFO 140479751137088] Epoch[0] Batch [2000]#011Speed: 143783.04 samples/sec#011binary_classification_accuracy=0.949982#011binary_classification_cross_entropy=0.148174\u001b[0m\n",
      "\u001b[34m[05/18/2021 00:22:30 INFO 140479751137088] #quality_metric: host=algo-1, epoch=0, batch=2000 train binary_classification_accuracy <score>=0.9499815092453773\u001b[0m\n",
      "\u001b[34m[05/18/2021 00:22:30 INFO 140479751137088] #quality_metric: host=algo-1, epoch=0, batch=2000 train binary_classification_cross_entropy <loss>=0.1481738301705623\u001b[0m\n"
     ]
    },
    {
     "name": "stdout",
     "output_type": "stream",
     "text": [
      "\u001b[34m[05/18/2021 00:22:37 INFO 140479751137088] Epoch[0] Batch [3000]#011Speed: 141970.06 samples/sec#011binary_classification_accuracy=0.959643#011binary_classification_cross_entropy=0.125579\u001b[0m\n",
      "\u001b[34m[05/18/2021 00:22:37 INFO 140479751137088] #quality_metric: host=algo-1, epoch=0, batch=3000 train binary_classification_accuracy <score>=0.9596434521826058\u001b[0m\n",
      "\u001b[34m[05/18/2021 00:22:37 INFO 140479751137088] #quality_metric: host=algo-1, epoch=0, batch=3000 train binary_classification_cross_entropy <loss>=0.12557926959349527\u001b[0m\n",
      "\u001b[34m[05/18/2021 00:22:44 INFO 140479751137088] Epoch[0] Batch [4000]#011Speed: 144651.75 samples/sec#011binary_classification_accuracy=0.965073#011binary_classification_cross_entropy=0.112583\u001b[0m\n",
      "\u001b[34m[05/18/2021 00:22:44 INFO 140479751137088] #quality_metric: host=algo-1, epoch=0, batch=4000 train binary_classification_accuracy <score>=0.9650729817545614\u001b[0m\n",
      "\u001b[34m[05/18/2021 00:22:44 INFO 140479751137088] #quality_metric: host=algo-1, epoch=0, batch=4000 train binary_classification_cross_entropy <loss>=0.11258302479128753\u001b[0m\n"
     ]
    },
    {
     "name": "stdout",
     "output_type": "stream",
     "text": [
      "\u001b[34m[05/18/2021 00:22:51 INFO 140479751137088] Epoch[0] Batch [5000]#011Speed: 144250.11 samples/sec#011binary_classification_accuracy=0.968606#011binary_classification_cross_entropy=0.104014\u001b[0m\n",
      "\u001b[34m[05/18/2021 00:22:51 INFO 140479751137088] #quality_metric: host=algo-1, epoch=0, batch=5000 train binary_classification_accuracy <score>=0.9686062787442512\u001b[0m\n",
      "\u001b[34m[05/18/2021 00:22:51 INFO 140479751137088] #quality_metric: host=algo-1, epoch=0, batch=5000 train binary_classification_cross_entropy <loss>=0.10401371772612031\u001b[0m\n"
     ]
    },
    {
     "name": "stdout",
     "output_type": "stream",
     "text": [
      "\u001b[34m[05/18/2021 00:22:58 INFO 140479751137088] Epoch[0] Batch [6000]#011Speed: 142269.70 samples/sec#011binary_classification_accuracy=0.971115#011binary_classification_cross_entropy=0.097912\u001b[0m\n",
      "\u001b[34m[05/18/2021 00:22:58 INFO 140479751137088] #quality_metric: host=algo-1, epoch=0, batch=6000 train binary_classification_accuracy <score>=0.9711153141143143\u001b[0m\n",
      "\u001b[34m[05/18/2021 00:22:58 INFO 140479751137088] #quality_metric: host=algo-1, epoch=0, batch=6000 train binary_classification_cross_entropy <loss>=0.09791224902940777\u001b[0m\n",
      "\u001b[34m[05/18/2021 00:23:05 INFO 140479751137088] Epoch[0] Batch [7000]#011Speed: 137329.54 samples/sec#011binary_classification_accuracy=0.972957#011binary_classification_cross_entropy=0.093469\u001b[0m\n",
      "\u001b[34m[05/18/2021 00:23:05 INFO 140479751137088] #quality_metric: host=algo-1, epoch=0, batch=7000 train binary_classification_accuracy <score>=0.972957291815455\u001b[0m\n",
      "\u001b[34m[05/18/2021 00:23:05 INFO 140479751137088] #quality_metric: host=algo-1, epoch=0, batch=7000 train binary_classification_cross_entropy <loss>=0.0934689756659606\u001b[0m\n"
     ]
    },
    {
     "name": "stdout",
     "output_type": "stream",
     "text": [
      "\u001b[34m[05/18/2021 00:23:12 INFO 140479751137088] Epoch[0] Batch [8000]#011Speed: 143349.27 samples/sec#011binary_classification_accuracy=0.974413#011binary_classification_cross_entropy=0.089890\u001b[0m\n",
      "\u001b[34m[05/18/2021 00:23:12 INFO 140479751137088] #quality_metric: host=algo-1, epoch=0, batch=8000 train binary_classification_accuracy <score>=0.9744133233345832\u001b[0m\n",
      "\u001b[34m[05/18/2021 00:23:12 INFO 140479751137088] #quality_metric: host=algo-1, epoch=0, batch=8000 train binary_classification_cross_entropy <loss>=0.08989024015564186\u001b[0m\n"
     ]
    },
    {
     "name": "stdout",
     "output_type": "stream",
     "text": [
      "\u001b[34m[05/18/2021 00:23:19 INFO 140479751137088] Epoch[0] Batch [9000]#011Speed: 145049.05 samples/sec#011binary_classification_accuracy=0.975580#011binary_classification_cross_entropy=0.087006\u001b[0m\n",
      "\u001b[34m[05/18/2021 00:23:19 INFO 140479751137088] #quality_metric: host=algo-1, epoch=0, batch=9000 train binary_classification_accuracy <score>=0.9755798244639484\u001b[0m\n",
      "\u001b[34m[05/18/2021 00:23:19 INFO 140479751137088] #quality_metric: host=algo-1, epoch=0, batch=9000 train binary_classification_cross_entropy <loss>=0.08700566450779523\u001b[0m\n",
      "\u001b[34m[05/18/2021 00:23:26 INFO 140479751137088] Epoch[0] Batch [10000]#011Speed: 141660.81 samples/sec#011binary_classification_accuracy=0.976517#011binary_classification_cross_entropy=0.084684\u001b[0m\n",
      "\u001b[34m[05/18/2021 00:23:26 INFO 140479751137088] #quality_metric: host=algo-1, epoch=0, batch=10000 train binary_classification_accuracy <score>=0.9765170482951705\u001b[0m\n",
      "\u001b[34m[05/18/2021 00:23:26 INFO 140479751137088] #quality_metric: host=algo-1, epoch=0, batch=10000 train binary_classification_cross_entropy <loss>=0.08468359926016066\u001b[0m\n"
     ]
    },
    {
     "name": "stdout",
     "output_type": "stream",
     "text": [
      "\u001b[34m[05/18/2021 00:23:33 INFO 140479751137088] Epoch[0] Batch [11000]#011Speed: 143368.82 samples/sec#011binary_classification_accuracy=0.977326#011binary_classification_cross_entropy=0.082713\u001b[0m\n",
      "\u001b[34m[05/18/2021 00:23:33 INFO 140479751137088] #quality_metric: host=algo-1, epoch=0, batch=11000 train binary_classification_accuracy <score>=0.9773256976638487\u001b[0m\n",
      "\u001b[34m[05/18/2021 00:23:33 INFO 140479751137088] #quality_metric: host=algo-1, epoch=0, batch=11000 train binary_classification_cross_entropy <loss>=0.08271284600160694\u001b[0m\n"
     ]
    },
    {
     "name": "stdout",
     "output_type": "stream",
     "text": [
      "\u001b[34m[05/18/2021 00:23:41 INFO 140479751137088] Epoch[0] Batch [12000]#011Speed: 137198.37 samples/sec#011binary_classification_accuracy=0.978031#011binary_classification_cross_entropy=0.081011\u001b[0m\n",
      "\u001b[34m[05/18/2021 00:23:41 INFO 140479751137088] #quality_metric: host=algo-1, epoch=0, batch=12000 train binary_classification_accuracy <score>=0.9780311640696608\u001b[0m\n",
      "\u001b[34m[05/18/2021 00:23:41 INFO 140479751137088] #quality_metric: host=algo-1, epoch=0, batch=12000 train binary_classification_cross_entropy <loss>=0.08101135894515377\u001b[0m\n",
      "\u001b[34m[05/18/2021 00:23:48 INFO 140479751137088] Epoch[0] Batch [13000]#011Speed: 139597.22 samples/sec#011binary_classification_accuracy=0.978635#011binary_classification_cross_entropy=0.079516\u001b[0m\n",
      "\u001b[34m[05/18/2021 00:23:48 INFO 140479751137088] #quality_metric: host=algo-1, epoch=0, batch=13000 train binary_classification_accuracy <score>=0.978634874240443\u001b[0m\n",
      "\u001b[34m[05/18/2021 00:23:48 INFO 140479751137088] #quality_metric: host=algo-1, epoch=0, batch=13000 train binary_classification_cross_entropy <loss>=0.07951597500030796\u001b[0m\n"
     ]
    },
    {
     "name": "stdout",
     "output_type": "stream",
     "text": [
      "\u001b[34m[05/18/2021 00:23:55 INFO 140479751137088] Epoch[0] Batch [14000]#011Speed: 134953.38 samples/sec#011binary_classification_accuracy=0.979166#011binary_classification_cross_entropy=0.078165\u001b[0m\n",
      "\u001b[34m[05/18/2021 00:23:55 INFO 140479751137088] #quality_metric: host=algo-1, epoch=0, batch=14000 train binary_classification_accuracy <score>=0.9791656310263552\u001b[0m\n",
      "\u001b[34m[05/18/2021 00:23:55 INFO 140479751137088] #quality_metric: host=algo-1, epoch=0, batch=14000 train binary_classification_cross_entropy <loss>=0.07816474769793359\u001b[0m\n"
     ]
    },
    {
     "name": "stdout",
     "output_type": "stream",
     "text": [
      "\u001b[34m[05/18/2021 00:24:03 INFO 140479751137088] Epoch[0] Train-binary_classification_accuracy=0.979610\u001b[0m\n",
      "\u001b[34m[05/18/2021 00:24:03 INFO 140479751137088] Epoch[0] Train-binary_classification_cross_entropy=0.077101\u001b[0m\n",
      "\u001b[34m[05/18/2021 00:24:03 INFO 140479751137088] Epoch[0] Time cost=106.628\u001b[0m\n",
      "\u001b[34m[05/18/2021 00:24:03 INFO 140479751137088] #quality_metric: host=algo-1, epoch=0, train binary_classification_accuracy <score>=0.979609977324263\u001b[0m\n",
      "\u001b[34m[05/18/2021 00:24:03 INFO 140479751137088] #quality_metric: host=algo-1, epoch=0, train binary_classification_cross_entropy <loss>=0.07710054626798127\u001b[0m\n",
      "\u001b[34m#metrics {\"StartTime\": 1621297331.038378, \"EndTime\": 1621297443.0805624, \"Dimensions\": {\"Algorithm\": \"ipinsights\", \"Host\": \"algo-1\", \"Operation\": \"training\"}, \"Metrics\": {\"epochs\": {\"sum\": 5.0, \"count\": 1, \"min\": 5, \"max\": 5}, \"update.time\": {\"sum\": 112041.8107509613, \"count\": 1, \"min\": 112041.8107509613, \"max\": 112041.8107509613}}}\n",
      "\u001b[0m\n",
      "\u001b[34m[05/18/2021 00:24:03 INFO 140479751137088] #progress_metric: host=algo-1, completed 20.0 % of epochs\u001b[0m\n",
      "\u001b[34m#metrics {\"StartTime\": 1621297331.0387197, \"EndTime\": 1621297443.0808494, \"Dimensions\": {\"Algorithm\": \"ipinsights\", \"Host\": \"algo-1\", \"Operation\": \"training\", \"epoch\": 0, \"Meta\": \"training_data_iter\"}, \"Metrics\": {\"Total Records Seen\": {\"sum\": 14989345.0, \"count\": 1, \"min\": 14989345, \"max\": 14989345}, \"Total Batches Seen\": {\"sum\": 14994.0, \"count\": 1, \"min\": 14994, \"max\": 14994}, \"Max Records Seen Between Resets\": {\"sum\": 14989345.0, \"count\": 1, \"min\": 14989345, \"max\": 14989345}, \"Max Batches Seen Between Resets\": {\"sum\": 14994.0, \"count\": 1, \"min\": 14994, \"max\": 14994}, \"Reset Count\": {\"sum\": 2.0, \"count\": 1, \"min\": 2, \"max\": 2}, \"Number of Records Since Last Reset\": {\"sum\": 0.0, \"count\": 1, \"min\": 0, \"max\": 0}, \"Number of Batches Since Last Reset\": {\"sum\": 0.0, \"count\": 1, \"min\": 0, \"max\": 0}}}\n",
      "\u001b[0m\n",
      "\u001b[34m[05/18/2021 00:24:03 INFO 140479751137088] #throughput_metric: host=algo-1, train throughput=133782.94474005813 records/second\u001b[0m\n",
      "\u001b[34m[05/18/2021 00:24:03 WARNING 140479751137088] Already bound, ignoring bind()\u001b[0m\n",
      "\u001b[34m/opt/amazon/lib/python3.7/site-packages/mxnet/module/base_module.py:502: UserWarning: Parameters already initialized and force_init=False. init_params call ignored.\n",
      "  allow_missing=allow_missing, force_init=force_init)\u001b[0m\n",
      "\u001b[34m[05/18/2021 00:24:03 WARNING 140479751137088] optimizer already initialized, ignoring...\u001b[0m\n",
      "\u001b[34m[05/18/2021 00:24:03 INFO 140479751137088] #quality_metric: host=algo-1, epoch=1, batch=0 train binary_classification_accuracy <score>=0.99\u001b[0m\n",
      "\u001b[34m[05/18/2021 00:24:03 INFO 140479751137088] #quality_metric: host=algo-1, epoch=1, batch=0 train binary_classification_cross_entropy <loss>=0.06096614837646484\u001b[0m\n"
     ]
    },
    {
     "name": "stdout",
     "output_type": "stream",
     "text": [
      "\u001b[34m[05/18/2021 00:24:10 INFO 140479751137088] Epoch[1] Batch [1000]#011Speed: 137475.28 samples/sec#011binary_classification_accuracy=0.985863#011binary_classification_cross_entropy=0.060678\u001b[0m\n",
      "\u001b[34m[05/18/2021 00:24:10 INFO 140479751137088] #quality_metric: host=algo-1, epoch=1, batch=1000 train binary_classification_accuracy <score>=0.9858631368631369\u001b[0m\n",
      "\u001b[34m[05/18/2021 00:24:10 INFO 140479751137088] #quality_metric: host=algo-1, epoch=1, batch=1000 train binary_classification_cross_entropy <loss>=0.0606778070200216\u001b[0m\n",
      "\u001b[34m[05/18/2021 00:24:17 INFO 140479751137088] Epoch[1] Batch [2000]#011Speed: 144115.08 samples/sec#011binary_classification_accuracy=0.985940#011binary_classification_cross_entropy=0.059595\u001b[0m\n",
      "\u001b[34m[05/18/2021 00:24:17 INFO 140479751137088] #quality_metric: host=algo-1, epoch=1, batch=2000 train binary_classification_accuracy <score>=0.9859400299850075\u001b[0m\n",
      "\u001b[34m[05/18/2021 00:24:17 INFO 140479751137088] #quality_metric: host=algo-1, epoch=1, batch=2000 train binary_classification_cross_entropy <loss>=0.05959460256672811\u001b[0m\n"
     ]
    },
    {
     "name": "stdout",
     "output_type": "stream",
     "text": [
      "\u001b[34m[05/18/2021 00:24:24 INFO 140479751137088] Epoch[1] Batch [3000]#011Speed: 142971.25 samples/sec#011binary_classification_accuracy=0.986081#011binary_classification_cross_entropy=0.058993\u001b[0m\n",
      "\u001b[34m[05/18/2021 00:24:24 INFO 140479751137088] #quality_metric: host=algo-1, epoch=1, batch=3000 train binary_classification_accuracy <score>=0.9860813062312562\u001b[0m\n",
      "\u001b[34m[05/18/2021 00:24:24 INFO 140479751137088] #quality_metric: host=algo-1, epoch=1, batch=3000 train binary_classification_cross_entropy <loss>=0.05899307738840878\u001b[0m\n"
     ]
    },
    {
     "name": "stdout",
     "output_type": "stream",
     "text": [
      "\u001b[34m[05/18/2021 00:24:31 INFO 140479751137088] Epoch[1] Batch [4000]#011Speed: 142113.81 samples/sec#011binary_classification_accuracy=0.986173#011binary_classification_cross_entropy=0.058709\u001b[0m\n",
      "\u001b[34m[05/18/2021 00:24:31 INFO 140479751137088] #quality_metric: host=algo-1, epoch=1, batch=4000 train binary_classification_accuracy <score>=0.9861732066983254\u001b[0m\n",
      "\u001b[34m[05/18/2021 00:24:31 INFO 140479751137088] #quality_metric: host=algo-1, epoch=1, batch=4000 train binary_classification_cross_entropy <loss>=0.0587089049552149\u001b[0m\n",
      "\u001b[34m[05/18/2021 00:24:38 INFO 140479751137088] Epoch[1] Batch [5000]#011Speed: 142347.46 samples/sec#011binary_classification_accuracy=0.986234#011binary_classification_cross_entropy=0.058533\u001b[0m\n",
      "\u001b[34m[05/18/2021 00:24:38 INFO 140479751137088] #quality_metric: host=algo-1, epoch=1, batch=5000 train binary_classification_accuracy <score>=0.9862343531293741\u001b[0m\n",
      "\u001b[34m[05/18/2021 00:24:38 INFO 140479751137088] #quality_metric: host=algo-1, epoch=1, batch=5000 train binary_classification_cross_entropy <loss>=0.05853296204315045\u001b[0m\n"
     ]
    },
    {
     "name": "stdout",
     "output_type": "stream",
     "text": [
      "\u001b[34m[05/18/2021 00:24:45 INFO 140479751137088] Epoch[1] Batch [6000]#011Speed: 144074.34 samples/sec#011binary_classification_accuracy=0.986299#011binary_classification_cross_entropy=0.058353\u001b[0m\n",
      "\u001b[34m[05/18/2021 00:24:45 INFO 140479751137088] #quality_metric: host=algo-1, epoch=1, batch=6000 train binary_classification_accuracy <score>=0.9862989501749708\u001b[0m\n",
      "\u001b[34m[05/18/2021 00:24:45 INFO 140479751137088] #quality_metric: host=algo-1, epoch=1, batch=6000 train binary_classification_cross_entropy <loss>=0.058353270354777095\u001b[0m\n"
     ]
    },
    {
     "name": "stdout",
     "output_type": "stream",
     "text": [
      "\u001b[34m[05/18/2021 00:24:52 INFO 140479751137088] Epoch[1] Batch [7000]#011Speed: 144504.10 samples/sec#011binary_classification_accuracy=0.986313#011binary_classification_cross_entropy=0.058356\u001b[0m\n",
      "\u001b[34m[05/18/2021 00:24:52 INFO 140479751137088] #quality_metric: host=algo-1, epoch=1, batch=7000 train binary_classification_accuracy <score>=0.9863128124553635\u001b[0m\n",
      "\u001b[34m[05/18/2021 00:24:52 INFO 140479751137088] #quality_metric: host=algo-1, epoch=1, batch=7000 train binary_classification_cross_entropy <loss>=0.05835576447485651\u001b[0m\n"
     ]
    },
    {
     "name": "stdout",
     "output_type": "stream",
     "text": [
      "\u001b[34m[05/18/2021 00:24:59 INFO 140479751137088] Epoch[1] Batch [8000]#011Speed: 140779.01 samples/sec#011binary_classification_accuracy=0.986320#011binary_classification_cross_entropy=0.058303\u001b[0m\n",
      "\u001b[34m[05/18/2021 00:24:59 INFO 140479751137088] #quality_metric: host=algo-1, epoch=1, batch=8000 train binary_classification_accuracy <score>=0.9863197100362455\u001b[0m\n",
      "\u001b[34m[05/18/2021 00:24:59 INFO 140479751137088] #quality_metric: host=algo-1, epoch=1, batch=8000 train binary_classification_cross_entropy <loss>=0.05830313485551664\u001b[0m\n",
      "\u001b[34m[05/18/2021 00:25:06 INFO 140479751137088] Epoch[1] Batch [9000]#011Speed: 136026.55 samples/sec#011binary_classification_accuracy=0.986370#011binary_classification_cross_entropy=0.058132\u001b[0m\n",
      "\u001b[34m[05/18/2021 00:25:06 INFO 140479751137088] #quality_metric: host=algo-1, epoch=1, batch=9000 train binary_classification_accuracy <score>=0.9863702921897567\u001b[0m\n",
      "\u001b[34m[05/18/2021 00:25:06 INFO 140479751137088] #quality_metric: host=algo-1, epoch=1, batch=9000 train binary_classification_cross_entropy <loss>=0.05813185998861319\u001b[0m\n"
     ]
    },
    {
     "name": "stdout",
     "output_type": "stream",
     "text": [
      "\u001b[34m[05/18/2021 00:25:13 INFO 140479751137088] Epoch[1] Batch [10000]#011Speed: 142256.11 samples/sec#011binary_classification_accuracy=0.986383#011binary_classification_cross_entropy=0.058056\u001b[0m\n",
      "\u001b[34m[05/18/2021 00:25:13 INFO 140479751137088] #quality_metric: host=algo-1, epoch=1, batch=10000 train binary_classification_accuracy <score>=0.9863830616938306\u001b[0m\n",
      "\u001b[34m[05/18/2021 00:25:13 INFO 140479751137088] #quality_metric: host=algo-1, epoch=1, batch=10000 train binary_classification_cross_entropy <loss>=0.058056087421043054\u001b[0m\n"
     ]
    },
    {
     "name": "stdout",
     "output_type": "stream",
     "text": [
      "\u001b[34m[05/18/2021 00:25:20 INFO 140479751137088] Epoch[1] Batch [11000]#011Speed: 142877.79 samples/sec#011binary_classification_accuracy=0.986396#011binary_classification_cross_entropy=0.058014\u001b[0m\n",
      "\u001b[34m[05/18/2021 00:25:20 INFO 140479751137088] #quality_metric: host=algo-1, epoch=1, batch=11000 train binary_classification_accuracy <score>=0.9863964185074084\u001b[0m\n",
      "\u001b[34m[05/18/2021 00:25:20 INFO 140479751137088] #quality_metric: host=algo-1, epoch=1, batch=11000 train binary_classification_cross_entropy <loss>=0.0580135381925909\u001b[0m\n",
      "\u001b[34m[05/18/2021 00:25:27 INFO 140479751137088] Epoch[1] Batch [12000]#011Speed: 142825.67 samples/sec#011binary_classification_accuracy=0.986433#011binary_classification_cross_entropy=0.057946\u001b[0m\n",
      "\u001b[34m[05/18/2021 00:25:27 INFO 140479751137088] #quality_metric: host=algo-1, epoch=1, batch=12000 train binary_classification_accuracy <score>=0.9864326306141155\u001b[0m\n",
      "\u001b[34m[05/18/2021 00:25:27 INFO 140479751137088] #quality_metric: host=algo-1, epoch=1, batch=12000 train binary_classification_cross_entropy <loss>=0.05794636091428264\u001b[0m\n"
     ]
    },
    {
     "name": "stdout",
     "output_type": "stream",
     "text": [
      "\u001b[34m[05/18/2021 00:25:34 INFO 140479751137088] Epoch[1] Batch [13000]#011Speed: 141243.78 samples/sec#011binary_classification_accuracy=0.986455#011binary_classification_cross_entropy=0.057899\u001b[0m\n",
      "\u001b[34m[05/18/2021 00:25:34 INFO 140479751137088] #quality_metric: host=algo-1, epoch=1, batch=13000 train binary_classification_accuracy <score>=0.9864552726713329\u001b[0m\n",
      "\u001b[34m[05/18/2021 00:25:34 INFO 140479751137088] #quality_metric: host=algo-1, epoch=1, batch=13000 train binary_classification_cross_entropy <loss>=0.05789859806263541\u001b[0m\n"
     ]
    },
    {
     "name": "stdout",
     "output_type": "stream",
     "text": [
      "\u001b[34m[05/18/2021 00:25:41 INFO 140479751137088] Epoch[1] Batch [14000]#011Speed: 142330.25 samples/sec#011binary_classification_accuracy=0.986483#011binary_classification_cross_entropy=0.057803\u001b[0m\n",
      "\u001b[34m[05/18/2021 00:25:41 INFO 140479751137088] #quality_metric: host=algo-1, epoch=1, batch=14000 train binary_classification_accuracy <score>=0.9864831083494036\u001b[0m\n",
      "\u001b[34m[05/18/2021 00:25:41 INFO 140479751137088] #quality_metric: host=algo-1, epoch=1, batch=14000 train binary_classification_cross_entropy <loss>=0.05780303664541561\u001b[0m\n",
      "\u001b[34m[05/18/2021 00:25:48 INFO 140479751137088] Epoch[1] Train-binary_classification_accuracy=0.986494\u001b[0m\n",
      "\u001b[34m[05/18/2021 00:25:48 INFO 140479751137088] Epoch[1] Train-binary_classification_cross_entropy=0.057801\u001b[0m\n",
      "\u001b[34m[05/18/2021 00:25:48 INFO 140479751137088] Epoch[1] Time cost=105.646\u001b[0m\n",
      "\u001b[34m[05/18/2021 00:25:48 INFO 140479751137088] #quality_metric: host=algo-1, epoch=1, train binary_classification_accuracy <score>=0.9864936641323196\u001b[0m\n",
      "\u001b[34m[05/18/2021 00:25:48 INFO 140479751137088] #quality_metric: host=algo-1, epoch=1, train binary_classification_cross_entropy <loss>=0.05780115692345511\u001b[0m\n",
      "\u001b[34m#metrics {\"StartTime\": 1621297443.080649, \"EndTime\": 1621297548.7325244, \"Dimensions\": {\"Algorithm\": \"ipinsights\", \"Host\": \"algo-1\", \"Operation\": \"training\"}, \"Metrics\": {\"update.time\": {\"sum\": 105651.28970146179, \"count\": 1, \"min\": 105651.28970146179, \"max\": 105651.28970146179}}}\n",
      "\u001b[0m\n",
      "\u001b[34m[05/18/2021 00:25:48 INFO 140479751137088] #progress_metric: host=algo-1, completed 40.0 % of epochs\u001b[0m\n",
      "\u001b[34m#metrics {\"StartTime\": 1621297443.081196, \"EndTime\": 1621297548.732828, \"Dimensions\": {\"Algorithm\": \"ipinsights\", \"Host\": \"algo-1\", \"Operation\": \"training\", \"epoch\": 1, \"Meta\": \"training_data_iter\"}, \"Metrics\": {\"Total Records Seen\": {\"sum\": 29978690.0, \"count\": 1, \"min\": 29978690, \"max\": 29978690}, \"Total Batches Seen\": {\"sum\": 29988.0, \"count\": 1, \"min\": 29988, \"max\": 29988}, \"Max Records Seen Between Resets\": {\"sum\": 14989345.0, \"count\": 1, \"min\": 14989345, \"max\": 14989345}, \"Max Batches Seen Between Resets\": {\"sum\": 14994.0, \"count\": 1, \"min\": 14994, \"max\": 14994}, \"Reset Count\": {\"sum\": 4.0, \"count\": 1, \"min\": 4, \"max\": 4}, \"Number of Records Since Last Reset\": {\"sum\": 0.0, \"count\": 1, \"min\": 0, \"max\": 0}, \"Number of Batches Since Last Reset\": {\"sum\": 0.0, \"count\": 1, \"min\": 0, \"max\": 0}}}\n",
      "\u001b[0m\n",
      "\u001b[34m[05/18/2021 00:25:48 INFO 140479751137088] #throughput_metric: host=algo-1, train throughput=141874.94634038978 records/second\u001b[0m\n",
      "\u001b[34m[05/18/2021 00:25:48 WARNING 140479751137088] Already bound, ignoring bind()\u001b[0m\n",
      "\u001b[34m[05/18/2021 00:25:48 WARNING 140479751137088] optimizer already initialized, ignoring...\u001b[0m\n",
      "\u001b[34m[05/18/2021 00:25:48 INFO 140479751137088] #quality_metric: host=algo-1, epoch=2, batch=0 train binary_classification_accuracy <score>=0.989\u001b[0m\n",
      "\u001b[34m[05/18/2021 00:25:48 INFO 140479751137088] #quality_metric: host=algo-1, epoch=2, batch=0 train binary_classification_cross_entropy <loss>=0.034940780639648436\u001b[0m\n"
     ]
    },
    {
     "name": "stdout",
     "output_type": "stream",
     "text": [
      "\u001b[34m[05/18/2021 00:25:55 INFO 140479751137088] Epoch[2] Batch [1000]#011Speed: 144101.45 samples/sec#011binary_classification_accuracy=0.986591#011binary_classification_cross_entropy=0.057239\u001b[0m\n",
      "\u001b[34m[05/18/2021 00:25:55 INFO 140479751137088] #quality_metric: host=algo-1, epoch=2, batch=1000 train binary_classification_accuracy <score>=0.9865914085914086\u001b[0m\n",
      "\u001b[34m[05/18/2021 00:25:55 INFO 140479751137088] #quality_metric: host=algo-1, epoch=2, batch=1000 train binary_classification_cross_entropy <loss>=0.05723944240421444\u001b[0m\n"
     ]
    },
    {
     "name": "stdout",
     "output_type": "stream",
     "text": [
      "\u001b[34m[05/18/2021 00:26:02 INFO 140479751137088] Epoch[2] Batch [2000]#011Speed: 137399.74 samples/sec#011binary_classification_accuracy=0.986668#011binary_classification_cross_entropy=0.056544\u001b[0m\n",
      "\u001b[34m[05/18/2021 00:26:02 INFO 140479751137088] #quality_metric: host=algo-1, epoch=2, batch=2000 train binary_classification_accuracy <score>=0.9866681659170414\u001b[0m\n",
      "\u001b[34m[05/18/2021 00:26:02 INFO 140479751137088] #quality_metric: host=algo-1, epoch=2, batch=2000 train binary_classification_cross_entropy <loss>=0.056543723653043165\u001b[0m\n"
     ]
    },
    {
     "name": "stdout",
     "output_type": "stream",
     "text": [
      "\u001b[34m[05/18/2021 00:26:10 INFO 140479751137088] Epoch[2] Batch [3000]#011Speed: 140015.46 samples/sec#011binary_classification_accuracy=0.986736#011binary_classification_cross_entropy=0.056287\u001b[0m\n",
      "\u001b[34m[05/18/2021 00:26:10 INFO 140479751137088] #quality_metric: host=algo-1, epoch=2, batch=3000 train binary_classification_accuracy <score>=0.9867364211929357\u001b[0m\n",
      "\u001b[34m[05/18/2021 00:26:10 INFO 140479751137088] #quality_metric: host=algo-1, epoch=2, batch=3000 train binary_classification_cross_entropy <loss>=0.056287158622856104\u001b[0m\n",
      "\u001b[34m[05/18/2021 00:26:17 INFO 140479751137088] Epoch[2] Batch [4000]#011Speed: 144581.16 samples/sec#011binary_classification_accuracy=0.986752#011binary_classification_cross_entropy=0.056250\u001b[0m\n",
      "\u001b[34m[05/18/2021 00:26:17 INFO 140479751137088] #quality_metric: host=algo-1, epoch=2, batch=4000 train binary_classification_accuracy <score>=0.9867518120469883\u001b[0m\n",
      "\u001b[34m[05/18/2021 00:26:17 INFO 140479751137088] #quality_metric: host=algo-1, epoch=2, batch=4000 train binary_classification_cross_entropy <loss>=0.056250467252266526\u001b[0m\n"
     ]
    },
    {
     "name": "stdout",
     "output_type": "stream",
     "text": [
      "\u001b[34m[05/18/2021 00:26:24 INFO 140479751137088] Epoch[2] Batch [5000]#011Speed: 142028.29 samples/sec#011binary_classification_accuracy=0.986774#011binary_classification_cross_entropy=0.056187\u001b[0m\n",
      "\u001b[34m[05/18/2021 00:26:24 INFO 140479751137088] #quality_metric: host=algo-1, epoch=2, batch=5000 train binary_classification_accuracy <score>=0.9867744451109778\u001b[0m\n",
      "\u001b[34m[05/18/2021 00:26:24 INFO 140479751137088] #quality_metric: host=algo-1, epoch=2, batch=5000 train binary_classification_cross_entropy <loss>=0.05618741035347008\u001b[0m\n"
     ]
    },
    {
     "name": "stdout",
     "output_type": "stream",
     "text": [
      "\u001b[34m[05/18/2021 00:26:31 INFO 140479751137088] Epoch[2] Batch [6000]#011Speed: 141815.95 samples/sec#011binary_classification_accuracy=0.986792#011binary_classification_cross_entropy=0.056049\u001b[0m\n",
      "\u001b[34m[05/18/2021 00:26:31 INFO 140479751137088] #quality_metric: host=algo-1, epoch=2, batch=6000 train binary_classification_accuracy <score>=0.9867922012997834\u001b[0m\n",
      "\u001b[34m[05/18/2021 00:26:31 INFO 140479751137088] #quality_metric: host=algo-1, epoch=2, batch=6000 train binary_classification_cross_entropy <loss>=0.05604880473622082\u001b[0m\n",
      "\u001b[34m[05/18/2021 00:26:38 INFO 140479751137088] Epoch[2] Batch [7000]#011Speed: 142370.19 samples/sec#011binary_classification_accuracy=0.986794#011binary_classification_cross_entropy=0.056129\u001b[0m\n",
      "\u001b[34m[05/18/2021 00:26:38 INFO 140479751137088] #quality_metric: host=algo-1, epoch=2, batch=7000 train binary_classification_accuracy <score>=0.986794029424368\u001b[0m\n",
      "\u001b[34m[05/18/2021 00:26:38 INFO 140479751137088] #quality_metric: host=algo-1, epoch=2, batch=7000 train binary_classification_cross_entropy <loss>=0.05612861102479745\u001b[0m\n"
     ]
    },
    {
     "name": "stdout",
     "output_type": "stream",
     "text": [
      "\u001b[34m[05/18/2021 00:26:45 INFO 140479751137088] Epoch[2] Batch [8000]#011Speed: 144287.56 samples/sec#011binary_classification_accuracy=0.986813#011binary_classification_cross_entropy=0.056087\u001b[0m\n",
      "\u001b[34m[05/18/2021 00:26:45 INFO 140479751137088] #quality_metric: host=algo-1, epoch=2, batch=8000 train binary_classification_accuracy <score>=0.9868126484189477\u001b[0m\n",
      "\u001b[34m[05/18/2021 00:26:45 INFO 140479751137088] #quality_metric: host=algo-1, epoch=2, batch=8000 train binary_classification_cross_entropy <loss>=0.05608702378236656\u001b[0m\n"
     ]
    },
    {
     "name": "stdout",
     "output_type": "stream",
     "text": [
      "\u001b[34m[05/18/2021 00:26:52 INFO 140479751137088] Epoch[2] Batch [9000]#011Speed: 143493.62 samples/sec#011binary_classification_accuracy=0.986832#011binary_classification_cross_entropy=0.055976\u001b[0m\n",
      "\u001b[34m[05/18/2021 00:26:52 INFO 140479751137088] #quality_metric: host=algo-1, epoch=2, batch=9000 train binary_classification_accuracy <score>=0.9868319075658261\u001b[0m\n",
      "\u001b[34m[05/18/2021 00:26:52 INFO 140479751137088] #quality_metric: host=algo-1, epoch=2, batch=9000 train binary_classification_cross_entropy <loss>=0.055976084402012516\u001b[0m\n",
      "\u001b[34m[05/18/2021 00:26:59 INFO 140479751137088] Epoch[2] Batch [10000]#011Speed: 142046.32 samples/sec#011binary_classification_accuracy=0.986829#011binary_classification_cross_entropy=0.055935\u001b[0m\n",
      "\u001b[34m[05/18/2021 00:26:59 INFO 140479751137088] #quality_metric: host=algo-1, epoch=2, batch=10000 train binary_classification_accuracy <score>=0.9868290170982902\u001b[0m\n",
      "\u001b[34m[05/18/2021 00:26:59 INFO 140479751137088] #quality_metric: host=algo-1, epoch=2, batch=10000 train binary_classification_cross_entropy <loss>=0.05593530833989355\u001b[0m\n"
     ]
    },
    {
     "name": "stdout",
     "output_type": "stream",
     "text": [
      "\u001b[34m[05/18/2021 00:27:06 INFO 140479751137088] Epoch[2] Batch [11000]#011Speed: 135031.92 samples/sec#011binary_classification_accuracy=0.986851#011binary_classification_cross_entropy=0.055888\u001b[0m\n",
      "\u001b[34m[05/18/2021 00:27:06 INFO 140479751137088] #quality_metric: host=algo-1, epoch=2, batch=11000 train binary_classification_accuracy <score>=0.9868506499409144\u001b[0m\n",
      "\u001b[34m[05/18/2021 00:27:06 INFO 140479751137088] #quality_metric: host=algo-1, epoch=2, batch=11000 train binary_classification_cross_entropy <loss>=0.05588833997726614\u001b[0m\n"
     ]
    },
    {
     "name": "stdout",
     "output_type": "stream",
     "text": [
      "\u001b[34m[05/18/2021 00:27:13 INFO 140479751137088] Epoch[2] Batch [12000]#011Speed: 141917.24 samples/sec#011binary_classification_accuracy=0.986856#011binary_classification_cross_entropy=0.055859\u001b[0m\n",
      "\u001b[34m[05/18/2021 00:27:13 INFO 140479751137088] #quality_metric: host=algo-1, epoch=2, batch=12000 train binary_classification_accuracy <score>=0.9868557620198317\u001b[0m\n",
      "\u001b[34m[05/18/2021 00:27:13 INFO 140479751137088] #quality_metric: host=algo-1, epoch=2, batch=12000 train binary_classification_cross_entropy <loss>=0.05585934939836226\u001b[0m\n"
     ]
    },
    {
     "name": "stdout",
     "output_type": "stream",
     "text": [
      "\u001b[34m[05/18/2021 00:27:20 INFO 140479751137088] Epoch[2] Batch [13000]#011Speed: 138532.97 samples/sec#011binary_classification_accuracy=0.986879#011binary_classification_cross_entropy=0.055780\u001b[0m\n",
      "\u001b[34m[05/18/2021 00:27:20 INFO 140479751137088] #quality_metric: host=algo-1, epoch=2, batch=13000 train binary_classification_accuracy <score>=0.9868789323898162\u001b[0m\n",
      "\u001b[34m[05/18/2021 00:27:20 INFO 140479751137088] #quality_metric: host=algo-1, epoch=2, batch=13000 train binary_classification_cross_entropy <loss>=0.05577977134165292\u001b[0m\n",
      "\u001b[34m[05/18/2021 00:27:27 INFO 140479751137088] Epoch[2] Batch [14000]#011Speed: 139515.67 samples/sec#011binary_classification_accuracy=0.986897#011binary_classification_cross_entropy=0.055704\u001b[0m\n",
      "\u001b[34m[05/18/2021 00:27:27 INFO 140479751137088] #quality_metric: host=algo-1, epoch=2, batch=14000 train binary_classification_accuracy <score>=0.986897435897436\u001b[0m\n",
      "\u001b[34m[05/18/2021 00:27:27 INFO 140479751137088] #quality_metric: host=algo-1, epoch=2, batch=14000 train binary_classification_cross_entropy <loss>=0.0557038374184864\u001b[0m\n"
     ]
    },
    {
     "name": "stdout",
     "output_type": "stream",
     "text": [
      "\u001b[34m[05/18/2021 00:27:35 INFO 140479751137088] Epoch[2] Train-binary_classification_accuracy=0.986897\u001b[0m\n",
      "\u001b[34m[05/18/2021 00:27:35 INFO 140479751137088] Epoch[2] Train-binary_classification_cross_entropy=0.055732\u001b[0m\n",
      "\u001b[34m[05/18/2021 00:27:35 INFO 140479751137088] Epoch[2] Time cost=106.339\u001b[0m\n",
      "\u001b[34m[05/18/2021 00:27:35 INFO 140479751137088] #quality_metric: host=algo-1, epoch=2, train binary_classification_accuracy <score>=0.9868972255568894\u001b[0m\n",
      "\u001b[34m[05/18/2021 00:27:35 INFO 140479751137088] #quality_metric: host=algo-1, epoch=2, train binary_classification_cross_entropy <loss>=0.05573222339069015\u001b[0m\n",
      "\u001b[34m#metrics {\"StartTime\": 1621297548.7326145, \"EndTime\": 1621297655.0771637, \"Dimensions\": {\"Algorithm\": \"ipinsights\", \"Host\": \"algo-1\", \"Operation\": \"training\"}, \"Metrics\": {\"update.time\": {\"sum\": 106343.95980834961, \"count\": 1, \"min\": 106343.95980834961, \"max\": 106343.95980834961}}}\n",
      "\u001b[0m\n",
      "\u001b[34m[05/18/2021 00:27:35 INFO 140479751137088] #progress_metric: host=algo-1, completed 60.0 % of epochs\u001b[0m\n",
      "\u001b[34m#metrics {\"StartTime\": 1621297548.7331617, \"EndTime\": 1621297655.0774639, \"Dimensions\": {\"Algorithm\": \"ipinsights\", \"Host\": \"algo-1\", \"Operation\": \"training\", \"epoch\": 2, \"Meta\": \"training_data_iter\"}, \"Metrics\": {\"Total Records Seen\": {\"sum\": 44968035.0, \"count\": 1, \"min\": 44968035, \"max\": 44968035}, \"Total Batches Seen\": {\"sum\": 44982.0, \"count\": 1, \"min\": 44982, \"max\": 44982}, \"Max Records Seen Between Resets\": {\"sum\": 14989345.0, \"count\": 1, \"min\": 14989345, \"max\": 14989345}, \"Max Batches Seen Between Resets\": {\"sum\": 14994.0, \"count\": 1, \"min\": 14994, \"max\": 14994}, \"Reset Count\": {\"sum\": 6.0, \"count\": 1, \"min\": 6, \"max\": 6}, \"Number of Records Since Last Reset\": {\"sum\": 0.0, \"count\": 1, \"min\": 0, \"max\": 0}, \"Number of Batches Since Last Reset\": {\"sum\": 0.0, \"count\": 1, \"min\": 0, \"max\": 0}}}\n",
      "\u001b[0m\n",
      "\u001b[34m[05/18/2021 00:27:35 INFO 140479751137088] #throughput_metric: host=algo-1, train throughput=140950.9038284811 records/second\u001b[0m\n",
      "\u001b[34m[05/18/2021 00:27:35 WARNING 140479751137088] Already bound, ignoring bind()\u001b[0m\n",
      "\u001b[34m[05/18/2021 00:27:35 WARNING 140479751137088] optimizer already initialized, ignoring...\u001b[0m\n",
      "\u001b[34m[05/18/2021 00:27:35 INFO 140479751137088] #quality_metric: host=algo-1, epoch=3, batch=0 train binary_classification_accuracy <score>=0.984\u001b[0m\n",
      "\u001b[34m[05/18/2021 00:27:35 INFO 140479751137088] #quality_metric: host=algo-1, epoch=3, batch=0 train binary_classification_cross_entropy <loss>=0.06536620330810547\u001b[0m\n"
     ]
    },
    {
     "name": "stdout",
     "output_type": "stream",
     "text": [
      "\u001b[34m[05/18/2021 00:27:42 INFO 140479751137088] Epoch[3] Batch [1000]#011Speed: 140467.46 samples/sec#011binary_classification_accuracy=0.986813#011binary_classification_cross_entropy=0.056408\u001b[0m\n",
      "\u001b[34m[05/18/2021 00:27:42 INFO 140479751137088] #quality_metric: host=algo-1, epoch=3, batch=1000 train binary_classification_accuracy <score>=0.9868131868131869\u001b[0m\n",
      "\u001b[34m[05/18/2021 00:27:42 INFO 140479751137088] #quality_metric: host=algo-1, epoch=3, batch=1000 train binary_classification_cross_entropy <loss>=0.0564078257081511\u001b[0m\n",
      "\u001b[34m[05/18/2021 00:27:49 INFO 140479751137088] Epoch[3] Batch [2000]#011Speed: 140212.02 samples/sec#011binary_classification_accuracy=0.986902#011binary_classification_cross_entropy=0.055450\u001b[0m\n",
      "\u001b[34m[05/18/2021 00:27:49 INFO 140479751137088] #quality_metric: host=algo-1, epoch=3, batch=2000 train binary_classification_accuracy <score>=0.9869015492253873\u001b[0m\n",
      "\u001b[34m[05/18/2021 00:27:49 INFO 140479751137088] #quality_metric: host=algo-1, epoch=3, batch=2000 train binary_classification_cross_entropy <loss>=0.0554499411918949\u001b[0m\n"
     ]
    },
    {
     "name": "stdout",
     "output_type": "stream",
     "text": [
      "\u001b[34m[05/18/2021 00:27:56 INFO 140479751137088] Epoch[3] Batch [3000]#011Speed: 138802.27 samples/sec#011binary_classification_accuracy=0.986909#011binary_classification_cross_entropy=0.055286\u001b[0m\n",
      "\u001b[34m[05/18/2021 00:27:56 INFO 140479751137088] #quality_metric: host=algo-1, epoch=3, batch=3000 train binary_classification_accuracy <score>=0.9869086971009663\u001b[0m\n",
      "\u001b[34m[05/18/2021 00:27:56 INFO 140479751137088] #quality_metric: host=algo-1, epoch=3, batch=3000 train binary_classification_cross_entropy <loss>=0.05528587924381448\u001b[0m\n"
     ]
    },
    {
     "name": "stdout",
     "output_type": "stream",
     "text": [
      "\u001b[34m[05/18/2021 00:28:03 INFO 140479751137088] Epoch[3] Batch [4000]#011Speed: 135826.10 samples/sec#011binary_classification_accuracy=0.986902#011binary_classification_cross_entropy=0.055186\u001b[0m\n",
      "\u001b[34m[05/18/2021 00:28:03 INFO 140479751137088] #quality_metric: host=algo-1, epoch=3, batch=4000 train binary_classification_accuracy <score>=0.9869020244938765\u001b[0m\n",
      "\u001b[34m[05/18/2021 00:28:03 INFO 140479751137088] #quality_metric: host=algo-1, epoch=3, batch=4000 train binary_classification_cross_entropy <loss>=0.055186229486996995\u001b[0m\n"
     ]
    },
    {
     "name": "stdout",
     "output_type": "stream",
     "text": [
      "\u001b[34m[05/18/2021 00:28:11 INFO 140479751137088] Epoch[3] Batch [5000]#011Speed: 135448.44 samples/sec#011binary_classification_accuracy=0.986967#011binary_classification_cross_entropy=0.055041\u001b[0m\n",
      "\u001b[34m[05/18/2021 00:28:11 INFO 140479751137088] #quality_metric: host=algo-1, epoch=3, batch=5000 train binary_classification_accuracy <score>=0.9869670065986803\u001b[0m\n",
      "\u001b[34m[05/18/2021 00:28:11 INFO 140479751137088] #quality_metric: host=algo-1, epoch=3, batch=5000 train binary_classification_cross_entropy <loss>=0.055040830227356626\u001b[0m\n",
      "\u001b[34m[05/18/2021 00:28:18 INFO 140479751137088] Epoch[3] Batch [6000]#011Speed: 139199.58 samples/sec#011binary_classification_accuracy=0.986979#011binary_classification_cross_entropy=0.054916\u001b[0m\n",
      "\u001b[34m[05/18/2021 00:28:18 INFO 140479751137088] #quality_metric: host=algo-1, epoch=3, batch=6000 train binary_classification_accuracy <score>=0.9869791701383103\u001b[0m\n",
      "\u001b[34m[05/18/2021 00:28:18 INFO 140479751137088] #quality_metric: host=algo-1, epoch=3, batch=6000 train binary_classification_cross_entropy <loss>=0.05491552503814977\u001b[0m\n"
     ]
    },
    {
     "name": "stdout",
     "output_type": "stream",
     "text": [
      "\u001b[34m[05/18/2021 00:28:25 INFO 140479751137088] Epoch[3] Batch [7000]#011Speed: 138645.64 samples/sec#011binary_classification_accuracy=0.986986#011binary_classification_cross_entropy=0.054948\u001b[0m\n",
      "\u001b[34m[05/18/2021 00:28:25 INFO 140479751137088] #quality_metric: host=algo-1, epoch=3, batch=7000 train binary_classification_accuracy <score>=0.9869864305099272\u001b[0m\n",
      "\u001b[34m[05/18/2021 00:28:25 INFO 140479751137088] #quality_metric: host=algo-1, epoch=3, batch=7000 train binary_classification_cross_entropy <loss>=0.05494778916018807\u001b[0m\n"
     ]
    },
    {
     "name": "stdout",
     "output_type": "stream",
     "text": [
      "\u001b[34m[05/18/2021 00:28:32 INFO 140479751137088] Epoch[3] Batch [8000]#011Speed: 138827.00 samples/sec#011binary_classification_accuracy=0.987014#011binary_classification_cross_entropy=0.054877\u001b[0m\n",
      "\u001b[34m[05/18/2021 00:28:32 INFO 140479751137088] #quality_metric: host=algo-1, epoch=3, batch=8000 train binary_classification_accuracy <score>=0.9870141232345957\u001b[0m\n",
      "\u001b[34m[05/18/2021 00:28:32 INFO 140479751137088] #quality_metric: host=algo-1, epoch=3, batch=8000 train binary_classification_cross_entropy <loss>=0.054877441710434086\u001b[0m\n",
      "\u001b[34m[05/18/2021 00:28:40 INFO 140479751137088] Epoch[3] Batch [9000]#011Speed: 139789.96 samples/sec#011binary_classification_accuracy=0.987037#011binary_classification_cross_entropy=0.054762\u001b[0m\n",
      "\u001b[34m[05/18/2021 00:28:40 INFO 140479751137088] #quality_metric: host=algo-1, epoch=3, batch=9000 train binary_classification_accuracy <score>=0.9870371069881124\u001b[0m\n",
      "\u001b[34m[05/18/2021 00:28:40 INFO 140479751137088] #quality_metric: host=algo-1, epoch=3, batch=9000 train binary_classification_cross_entropy <loss>=0.05476171014372765\u001b[0m\n"
     ]
    },
    {
     "name": "stdout",
     "output_type": "stream",
     "text": [
      "\u001b[34m[05/18/2021 00:28:47 INFO 140479751137088] Epoch[3] Batch [10000]#011Speed: 140502.16 samples/sec#011binary_classification_accuracy=0.987044#011binary_classification_cross_entropy=0.054701\u001b[0m\n",
      "\u001b[34m[05/18/2021 00:28:47 INFO 140479751137088] #quality_metric: host=algo-1, epoch=3, batch=10000 train binary_classification_accuracy <score>=0.9870440955904409\u001b[0m\n",
      "\u001b[34m[05/18/2021 00:28:47 INFO 140479751137088] #quality_metric: host=algo-1, epoch=3, batch=10000 train binary_classification_cross_entropy <loss>=0.05470147861703469\u001b[0m\n"
     ]
    },
    {
     "name": "stdout",
     "output_type": "stream",
     "text": [
      "\u001b[34m[05/18/2021 00:28:54 INFO 140479751137088] Epoch[3] Batch [11000]#011Speed: 137656.57 samples/sec#011binary_classification_accuracy=0.987044#011binary_classification_cross_entropy=0.054712\u001b[0m\n",
      "\u001b[34m[05/18/2021 00:28:54 INFO 140479751137088] #quality_metric: host=algo-1, epoch=3, batch=11000 train binary_classification_accuracy <score>=0.9870443596036724\u001b[0m\n",
      "\u001b[34m[05/18/2021 00:28:54 INFO 140479751137088] #quality_metric: host=algo-1, epoch=3, batch=11000 train binary_classification_cross_entropy <loss>=0.054712319939128486\u001b[0m\n"
     ]
    },
    {
     "name": "stdout",
     "output_type": "stream",
     "text": [
      "\u001b[34m[05/18/2021 00:29:01 INFO 140479751137088] Epoch[3] Batch [12000]#011Speed: 139868.22 samples/sec#011binary_classification_accuracy=0.987054#011binary_classification_cross_entropy=0.054680\u001b[0m\n",
      "\u001b[34m[05/18/2021 00:29:01 INFO 140479751137088] #quality_metric: host=algo-1, epoch=3, batch=12000 train binary_classification_accuracy <score>=0.9870544121323223\u001b[0m\n",
      "\u001b[34m[05/18/2021 00:29:01 INFO 140479751137088] #quality_metric: host=algo-1, epoch=3, batch=12000 train binary_classification_cross_entropy <loss>=0.054679731801076485\u001b[0m\n",
      "\u001b[34m[05/18/2021 00:29:09 INFO 140479751137088] Epoch[3] Batch [13000]#011Speed: 132480.94 samples/sec#011binary_classification_accuracy=0.987079#011binary_classification_cross_entropy=0.054635\u001b[0m\n",
      "\u001b[34m[05/18/2021 00:29:09 INFO 140479751137088] #quality_metric: host=algo-1, epoch=3, batch=13000 train binary_classification_accuracy <score>=0.9870791477578648\u001b[0m\n",
      "\u001b[34m[05/18/2021 00:29:09 INFO 140479751137088] #quality_metric: host=algo-1, epoch=3, batch=13000 train binary_classification_cross_entropy <loss>=0.05463477640487205\u001b[0m\n"
     ]
    },
    {
     "name": "stdout",
     "output_type": "stream",
     "text": [
      "\u001b[34m[05/18/2021 00:29:16 INFO 140479751137088] Epoch[3] Batch [14000]#011Speed: 138995.20 samples/sec#011binary_classification_accuracy=0.987088#011binary_classification_cross_entropy=0.054594\u001b[0m\n",
      "\u001b[34m[05/18/2021 00:29:16 INFO 140479751137088] #quality_metric: host=algo-1, epoch=3, batch=14000 train binary_classification_accuracy <score>=0.9870879937147347\u001b[0m\n",
      "\u001b[34m[05/18/2021 00:29:16 INFO 140479751137088] #quality_metric: host=algo-1, epoch=3, batch=14000 train binary_classification_cross_entropy <loss>=0.054594289635191744\u001b[0m\n"
     ]
    },
    {
     "name": "stdout",
     "output_type": "stream",
     "text": [
      "\u001b[34m[05/18/2021 00:29:23 INFO 140479751137088] Epoch[3] Train-binary_classification_accuracy=0.987076\u001b[0m\n",
      "\u001b[34m[05/18/2021 00:29:23 INFO 140479751137088] Epoch[3] Train-binary_classification_cross_entropy=0.054637\u001b[0m\n",
      "\u001b[34m[05/18/2021 00:29:23 INFO 140479751137088] Epoch[3] Time cost=108.413\u001b[0m\n",
      "\u001b[34m[05/18/2021 00:29:23 INFO 140479751137088] #quality_metric: host=algo-1, epoch=3, train binary_classification_accuracy <score>=0.9870757636387888\u001b[0m\n",
      "\u001b[34m[05/18/2021 00:29:23 INFO 140479751137088] #quality_metric: host=algo-1, epoch=3, train binary_classification_cross_entropy <loss>=0.05463661658123078\u001b[0m\n",
      "\u001b[34m#metrics {\"StartTime\": 1621297655.0772715, \"EndTime\": 1621297763.495063, \"Dimensions\": {\"Algorithm\": \"ipinsights\", \"Host\": \"algo-1\", \"Operation\": \"training\"}, \"Metrics\": {\"update.time\": {\"sum\": 108417.2956943512, \"count\": 1, \"min\": 108417.2956943512, \"max\": 108417.2956943512}}}\n",
      "\u001b[0m\n",
      "\u001b[34m[05/18/2021 00:29:23 INFO 140479751137088] #progress_metric: host=algo-1, completed 80.0 % of epochs\u001b[0m\n",
      "\u001b[34m#metrics {\"StartTime\": 1621297655.077732, \"EndTime\": 1621297763.495347, \"Dimensions\": {\"Algorithm\": \"ipinsights\", \"Host\": \"algo-1\", \"Operation\": \"training\", \"epoch\": 3, \"Meta\": \"training_data_iter\"}, \"Metrics\": {\"Total Records Seen\": {\"sum\": 59957380.0, \"count\": 1, \"min\": 59957380, \"max\": 59957380}, \"Total Batches Seen\": {\"sum\": 59976.0, \"count\": 1, \"min\": 59976, \"max\": 59976}, \"Max Records Seen Between Resets\": {\"sum\": 14989345.0, \"count\": 1, \"min\": 14989345, \"max\": 14989345}, \"Max Batches Seen Between Resets\": {\"sum\": 14994.0, \"count\": 1, \"min\": 14994, \"max\": 14994}, \"Reset Count\": {\"sum\": 8.0, \"count\": 1, \"min\": 8, \"max\": 8}, \"Number of Records Since Last Reset\": {\"sum\": 0.0, \"count\": 1, \"min\": 0, \"max\": 0}, \"Number of Batches Since Last Reset\": {\"sum\": 0.0, \"count\": 1, \"min\": 0, \"max\": 0}}}\n",
      "\u001b[0m\n",
      "\u001b[34m[05/18/2021 00:29:23 INFO 140479751137088] #throughput_metric: host=algo-1, train throughput=138255.41811644478 records/second\u001b[0m\n",
      "\u001b[34m[05/18/2021 00:29:23 WARNING 140479751137088] Already bound, ignoring bind()\u001b[0m\n",
      "\u001b[34m[05/18/2021 00:29:23 WARNING 140479751137088] optimizer already initialized, ignoring...\u001b[0m\n",
      "\u001b[34m[05/18/2021 00:29:23 INFO 140479751137088] #quality_metric: host=algo-1, epoch=4, batch=0 train binary_classification_accuracy <score>=0.99\u001b[0m\n",
      "\u001b[34m[05/18/2021 00:29:23 INFO 140479751137088] #quality_metric: host=algo-1, epoch=4, batch=0 train binary_classification_cross_entropy <loss>=0.044694618225097654\u001b[0m\n",
      "\u001b[34m[05/18/2021 00:29:30 INFO 140479751137088] Epoch[4] Batch [1000]#011Speed: 138468.71 samples/sec#011binary_classification_accuracy=0.986979#011binary_classification_cross_entropy=0.055201\u001b[0m\n",
      "\u001b[34m[05/18/2021 00:29:30 INFO 140479751137088] #quality_metric: host=algo-1, epoch=4, batch=1000 train binary_classification_accuracy <score>=0.986979020979021\u001b[0m\n",
      "\u001b[34m[05/18/2021 00:29:30 INFO 140479751137088] #quality_metric: host=algo-1, epoch=4, batch=1000 train binary_classification_cross_entropy <loss>=0.05520053619247574\u001b[0m\n"
     ]
    },
    {
     "name": "stdout",
     "output_type": "stream",
     "text": [
      "\u001b[34m[05/18/2021 00:29:37 INFO 140479751137088] Epoch[4] Batch [2000]#011Speed: 140825.29 samples/sec#011binary_classification_accuracy=0.987036#011binary_classification_cross_entropy=0.054423\u001b[0m\n",
      "\u001b[34m[05/18/2021 00:29:37 INFO 140479751137088] #quality_metric: host=algo-1, epoch=4, batch=2000 train binary_classification_accuracy <score>=0.9870359820089954\u001b[0m\n",
      "\u001b[34m[05/18/2021 00:29:37 INFO 140479751137088] #quality_metric: host=algo-1, epoch=4, batch=2000 train binary_classification_cross_entropy <loss>=0.05442277117552369\u001b[0m\n"
     ]
    },
    {
     "name": "stdout",
     "output_type": "stream",
     "text": [
      "\u001b[34m[05/18/2021 00:29:44 INFO 140479751137088] Epoch[4] Batch [3000]#011Speed: 140664.34 samples/sec#011binary_classification_accuracy=0.987118#011binary_classification_cross_entropy=0.054209\u001b[0m\n",
      "\u001b[34m[05/18/2021 00:29:44 INFO 140479751137088] #quality_metric: host=algo-1, epoch=4, batch=3000 train binary_classification_accuracy <score>=0.9871176274575142\u001b[0m\n",
      "\u001b[34m[05/18/2021 00:29:44 INFO 140479751137088] #quality_metric: host=algo-1, epoch=4, batch=3000 train binary_classification_cross_entropy <loss>=0.054209149235767036\u001b[0m\n",
      "\u001b[34m[05/18/2021 00:29:52 INFO 140479751137088] Epoch[4] Batch [4000]#011Speed: 139338.32 samples/sec#011binary_classification_accuracy=0.987115#011binary_classification_cross_entropy=0.054200\u001b[0m\n",
      "\u001b[34m[05/18/2021 00:29:52 INFO 140479751137088] #quality_metric: host=algo-1, epoch=4, batch=4000 train binary_classification_accuracy <score>=0.987115471132217\u001b[0m\n",
      "\u001b[34m[05/18/2021 00:29:52 INFO 140479751137088] #quality_metric: host=algo-1, epoch=4, batch=4000 train binary_classification_cross_entropy <loss>=0.05420032861190449\u001b[0m\n"
     ]
    },
    {
     "name": "stdout",
     "output_type": "stream",
     "text": [
      "\u001b[34m[05/18/2021 00:29:59 INFO 140479751137088] Epoch[4] Batch [5000]#011Speed: 140080.29 samples/sec#011binary_classification_accuracy=0.987067#011binary_classification_cross_entropy=0.054298\u001b[0m\n",
      "\u001b[34m[05/18/2021 00:29:59 INFO 140479751137088] #quality_metric: host=algo-1, epoch=4, batch=5000 train binary_classification_accuracy <score>=0.9870673865226954\u001b[0m\n",
      "\u001b[34m[05/18/2021 00:29:59 INFO 140479751137088] #quality_metric: host=algo-1, epoch=4, batch=5000 train binary_classification_cross_entropy <loss>=0.054298315681330894\u001b[0m\n"
     ]
    },
    {
     "name": "stdout",
     "output_type": "stream",
     "text": [
      "\u001b[34m[05/18/2021 00:30:06 INFO 140479751137088] Epoch[4] Batch [6000]#011Speed: 132864.13 samples/sec#011binary_classification_accuracy=0.987072#011binary_classification_cross_entropy=0.054177\u001b[0m\n",
      "\u001b[34m[05/18/2021 00:30:06 INFO 140479751137088] #quality_metric: host=algo-1, epoch=4, batch=6000 train binary_classification_accuracy <score>=0.9870716547242127\u001b[0m\n",
      "\u001b[34m[05/18/2021 00:30:06 INFO 140479751137088] #quality_metric: host=algo-1, epoch=4, batch=6000 train binary_classification_cross_entropy <loss>=0.054177231504964424\u001b[0m\n"
     ]
    },
    {
     "name": "stdout",
     "output_type": "stream",
     "text": [
      "\u001b[34m[05/18/2021 00:30:13 INFO 140479751137088] Epoch[4] Batch [7000]#011Speed: 139055.28 samples/sec#011binary_classification_accuracy=0.987066#011binary_classification_cross_entropy=0.054242\u001b[0m\n",
      "\u001b[34m[05/18/2021 00:30:13 INFO 140479751137088] #quality_metric: host=algo-1, epoch=4, batch=7000 train binary_classification_accuracy <score>=0.9870662762462505\u001b[0m\n",
      "\u001b[34m[05/18/2021 00:30:13 INFO 140479751137088] #quality_metric: host=algo-1, epoch=4, batch=7000 train binary_classification_cross_entropy <loss>=0.05424195756218873\u001b[0m\n",
      "\u001b[34m[05/18/2021 00:30:21 INFO 140479751137088] Epoch[4] Batch [8000]#011Speed: 139215.13 samples/sec#011binary_classification_accuracy=0.987089#011binary_classification_cross_entropy=0.054201\u001b[0m\n",
      "\u001b[34m[05/18/2021 00:30:21 INFO 140479751137088] #quality_metric: host=algo-1, epoch=4, batch=8000 train binary_classification_accuracy <score>=0.9870886139232596\u001b[0m\n",
      "\u001b[34m[05/18/2021 00:30:21 INFO 140479751137088] #quality_metric: host=algo-1, epoch=4, batch=8000 train binary_classification_cross_entropy <loss>=0.054200697982658405\u001b[0m\n"
     ]
    },
    {
     "name": "stdout",
     "output_type": "stream",
     "text": [
      "\u001b[34m[05/18/2021 00:30:28 INFO 140479751137088] Epoch[4] Batch [9000]#011Speed: 139467.49 samples/sec#011binary_classification_accuracy=0.987101#011binary_classification_cross_entropy=0.054131\u001b[0m\n",
      "\u001b[34m[05/18/2021 00:30:28 INFO 140479751137088] #quality_metric: host=algo-1, epoch=4, batch=9000 train binary_classification_accuracy <score>=0.9871005443839573\u001b[0m\n",
      "\u001b[34m[05/18/2021 00:30:28 INFO 140479751137088] #quality_metric: host=algo-1, epoch=4, batch=9000 train binary_classification_cross_entropy <loss>=0.054130990296757865\u001b[0m\n"
     ]
    },
    {
     "name": "stdout",
     "output_type": "stream",
     "text": [
      "\u001b[34m[05/18/2021 00:30:35 INFO 140479751137088] Epoch[4] Batch [10000]#011Speed: 140329.18 samples/sec#011binary_classification_accuracy=0.987105#011binary_classification_cross_entropy=0.054077\u001b[0m\n",
      "\u001b[34m[05/18/2021 00:30:35 INFO 140479751137088] #quality_metric: host=algo-1, epoch=4, batch=10000 train binary_classification_accuracy <score>=0.9871048895110489\u001b[0m\n",
      "\u001b[34m[05/18/2021 00:30:35 INFO 140479751137088] #quality_metric: host=algo-1, epoch=4, batch=10000 train binary_classification_cross_entropy <loss>=0.05407651454493375\u001b[0m\n",
      "\u001b[34m[05/18/2021 00:30:42 INFO 140479751137088] Epoch[4] Batch [11000]#011Speed: 139971.03 samples/sec#011binary_classification_accuracy=0.987114#011binary_classification_cross_entropy=0.054053\u001b[0m\n",
      "\u001b[34m[05/18/2021 00:30:42 INFO 140479751137088] #quality_metric: host=algo-1, epoch=4, batch=11000 train binary_classification_accuracy <score>=0.9871136260339969\u001b[0m\n",
      "\u001b[34m[05/18/2021 00:30:42 INFO 140479751137088] #quality_metric: host=algo-1, epoch=4, batch=11000 train binary_classification_cross_entropy <loss>=0.054053337129243186\u001b[0m\n"
     ]
    },
    {
     "name": "stdout",
     "output_type": "stream",
     "text": [
      "\u001b[34m[05/18/2021 00:30:49 INFO 140479751137088] Epoch[4] Batch [12000]#011Speed: 138218.73 samples/sec#011binary_classification_accuracy=0.987123#011binary_classification_cross_entropy=0.054013\u001b[0m\n",
      "\u001b[34m[05/18/2021 00:30:49 INFO 140479751137088] #quality_metric: host=algo-1, epoch=4, batch=12000 train binary_classification_accuracy <score>=0.987123489709191\u001b[0m\n",
      "\u001b[34m[05/18/2021 00:30:49 INFO 140479751137088] #quality_metric: host=algo-1, epoch=4, batch=12000 train binary_classification_cross_entropy <loss>=0.05401305826913614\u001b[0m\n"
     ]
    },
    {
     "name": "stdout",
     "output_type": "stream",
     "text": [
      "\u001b[34m[05/18/2021 00:30:57 INFO 140479751137088] Epoch[4] Batch [13000]#011Speed: 138956.94 samples/sec#011binary_classification_accuracy=0.987144#011binary_classification_cross_entropy=0.053961\u001b[0m\n",
      "\u001b[34m[05/18/2021 00:30:57 INFO 140479751137088] #quality_metric: host=algo-1, epoch=4, batch=13000 train binary_classification_accuracy <score>=0.9871438350896085\u001b[0m\n",
      "\u001b[34m[05/18/2021 00:30:57 INFO 140479751137088] #quality_metric: host=algo-1, epoch=4, batch=13000 train binary_classification_cross_entropy <loss>=0.05396050244406107\u001b[0m\n"
     ]
    },
    {
     "name": "stdout",
     "output_type": "stream",
     "text": [
      "\u001b[34m[05/18/2021 00:31:04 INFO 140479751137088] Epoch[4] Batch [14000]#011Speed: 136411.99 samples/sec#011binary_classification_accuracy=0.987158#011binary_classification_cross_entropy=0.053917\u001b[0m\n",
      "\u001b[34m[05/18/2021 00:31:04 INFO 140479751137088] #quality_metric: host=algo-1, epoch=4, batch=14000 train binary_classification_accuracy <score>=0.9871580601385616\u001b[0m\n",
      "\u001b[34m[05/18/2021 00:31:04 INFO 140479751137088] #quality_metric: host=algo-1, epoch=4, batch=14000 train binary_classification_cross_entropy <loss>=0.053916970508080385\u001b[0m\n",
      "\u001b[34m[05/18/2021 00:31:11 INFO 140479751137088] Epoch[4] Train-binary_classification_accuracy=0.987153\u001b[0m\n",
      "\u001b[34m[05/18/2021 00:31:11 INFO 140479751137088] Epoch[4] Train-binary_classification_cross_entropy=0.053938\u001b[0m\n",
      "\u001b[34m[05/18/2021 00:31:11 INFO 140479751137088] Epoch[4] Time cost=108.236\u001b[0m\n",
      "\u001b[34m[05/18/2021 00:31:11 INFO 140479751137088] #quality_metric: host=algo-1, epoch=4, train binary_classification_accuracy <score>=0.9871529945311458\u001b[0m\n",
      "\u001b[34m[05/18/2021 00:31:11 INFO 140479751137088] #quality_metric: host=algo-1, epoch=4, train binary_classification_cross_entropy <loss>=0.05393828851425824\u001b[0m\n",
      "\u001b[34m#metrics {\"StartTime\": 1621297763.4951491, \"EndTime\": 1621297871.7364085, \"Dimensions\": {\"Algorithm\": \"ipinsights\", \"Host\": \"algo-1\", \"Operation\": \"training\"}, \"Metrics\": {\"update.time\": {\"sum\": 108240.6816482544, \"count\": 1, \"min\": 108240.6816482544, \"max\": 108240.6816482544}}}\n",
      "\u001b[0m\n",
      "\u001b[34m[05/18/2021 00:31:11 INFO 140479751137088] #progress_metric: host=algo-1, completed 100.0 % of epochs\u001b[0m\n",
      "\u001b[34m#metrics {\"StartTime\": 1621297763.495689, \"EndTime\": 1621297871.7367578, \"Dimensions\": {\"Algorithm\": \"ipinsights\", \"Host\": \"algo-1\", \"Operation\": \"training\", \"epoch\": 4, \"Meta\": \"training_data_iter\"}, \"Metrics\": {\"Total Records Seen\": {\"sum\": 74946725.0, \"count\": 1, \"min\": 74946725, \"max\": 74946725}, \"Total Batches Seen\": {\"sum\": 74970.0, \"count\": 1, \"min\": 74970, \"max\": 74970}, \"Max Records Seen Between Resets\": {\"sum\": 14989345.0, \"count\": 1, \"min\": 14989345, \"max\": 14989345}, \"Max Batches Seen Between Resets\": {\"sum\": 14994.0, \"count\": 1, \"min\": 14994, \"max\": 14994}, \"Reset Count\": {\"sum\": 10.0, \"count\": 1, \"min\": 10, \"max\": 10}, \"Number of Records Since Last Reset\": {\"sum\": 0.0, \"count\": 1, \"min\": 0, \"max\": 0}, \"Number of Batches Since Last Reset\": {\"sum\": 0.0, \"count\": 1, \"min\": 0, \"max\": 0}}}\n",
      "\u001b[0m\n",
      "\u001b[34m[05/18/2021 00:31:11 INFO 140479751137088] #throughput_metric: host=algo-1, train throughput=138480.89973149958 records/second\u001b[0m\n",
      "\u001b[34m[05/18/2021 00:31:11 WARNING 140479751137088] wait_for_all_workers will not sync workers since the kv store is not running distributed\u001b[0m\n",
      "\u001b[34m#metrics {\"StartTime\": 1621297871.7365186, \"EndTime\": 1621297871.7373157, \"Dimensions\": {\"Algorithm\": \"ipinsights\", \"Host\": \"algo-1\", \"Operation\": \"training\"}, \"Metrics\": {\"finalize.time\": {\"sum\": 0.20170211791992188, \"count\": 1, \"min\": 0.20170211791992188, \"max\": 0.20170211791992188}}}\n",
      "\u001b[0m\n",
      "\u001b[34m[05/18/2021 00:31:11 INFO 140479751137088] Saved checkpoint to \"/tmp/tmpjsr34rx_/state-0001.params\"\u001b[0m\n",
      "\u001b[34m[05/18/2021 00:31:11 INFO 140479751137088] Test data is not provided.\u001b[0m\n",
      "\u001b[34m#metrics {\"StartTime\": 1621297871.7373824, \"EndTime\": 1621297871.786426, \"Dimensions\": {\"Algorithm\": \"ipinsights\", \"Host\": \"algo-1\", \"Operation\": \"training\"}, \"Metrics\": {\"setuptime\": {\"sum\": 145.52593231201172, \"count\": 1, \"min\": 145.52593231201172, \"max\": 145.52593231201172}, \"totaltime\": {\"sum\": 541035.826921463, \"count\": 1, \"min\": 541035.826921463, \"max\": 541035.826921463}}}\n",
      "\u001b[0m\n"
     ]
    },
    {
     "name": "stdout",
     "output_type": "stream",
     "text": [
      "\n",
      "2021-05-18 00:32:39 Uploading - Uploading generated training model\n",
      "2021-05-18 00:32:39 Completed - Training job completed\n",
      "ProfilerReport-1621297050: IssuesFound\n"
     ]
    },
    {
     "name": "stdout",
     "output_type": "stream",
     "text": [
      "Training seconds: 680\n",
      "Billable seconds: 680\n"
     ]
    }
   ],
   "source": [
    "# Set up the estimator with training job configuration\n",
    "ip_insights = sagemaker.estimator.Estimator(\n",
    "    image,\n",
    "    execution_role,\n",
    "    instance_count=1,\n",
    "    instance_type=\"ml.p3.2xlarge\",\n",
    "    output_path=f\"s3://{bucket}/{prefix}/output\",\n",
    "    sagemaker_session=sagemaker.Session(),\n",
    ")\n",
    "\n",
    "# Configure algorithm-specific hyperparameters\n",
    "ip_insights.set_hyperparameters(\n",
    "    num_entity_vectors=\"20000\",\n",
    "    random_negative_sampling_rate=\"5\",\n",
    "    vector_dim=\"128\",\n",
    "    mini_batch_size=\"1000\",\n",
    "    epochs=\"5\",\n",
    "    learning_rate=\"0.01\",\n",
    ")\n",
    "\n",
    "# Start the training job (should take about ~1.5 minute / epoch to complete)\n",
    "ip_insights.fit(input_data)"
   ]
  },
  {
   "cell_type": "markdown",
   "id": "48c49bae",
   "metadata": {
    "papermill": {
     "duration": 0.116918,
     "end_time": "2021-05-18T00:32:51.671200",
     "exception": false,
     "start_time": "2021-05-18T00:32:51.554282",
     "status": "completed"
    },
    "tags": []
   },
   "source": [
    "If you see the message\n",
    "\n",
    "    > Completed - Training job completed\n",
    "\n",
    "at the bottom of the output logs then that means training successfully completed and the output of the SageMaker IP Insights model was stored in the specified output path. You can also view information about and the status of a training job using the AWS SageMaker console. Just click on the \"Jobs\" tab and select training job matching the training job name, below:"
   ]
  },
  {
   "cell_type": "code",
   "execution_count": 17,
   "id": "01428df5",
   "metadata": {
    "execution": {
     "iopub.execute_input": "2021-05-18T00:32:51.909964Z",
     "iopub.status.busy": "2021-05-18T00:32:51.909439Z",
     "iopub.status.idle": "2021-05-18T00:32:51.911609Z",
     "shell.execute_reply": "2021-05-18T00:32:51.912014Z"
    },
    "papermill": {
     "duration": 0.124041,
     "end_time": "2021-05-18T00:32:51.912158",
     "exception": false,
     "start_time": "2021-05-18T00:32:51.788117",
     "status": "completed"
    },
    "tags": []
   },
   "outputs": [
    {
     "name": "stdout",
     "output_type": "stream",
     "text": [
      "Training job name: ipinsights-2021-05-18-00-17-30-881\n"
     ]
    }
   ],
   "source": [
    "print(f\"Training job name: {ip_insights.latest_training_job.job_name}\")"
   ]
  },
  {
   "cell_type": "markdown",
   "id": "a05d71af",
   "metadata": {
    "papermill": {
     "duration": 0.118452,
     "end_time": "2021-05-18T00:32:52.148449",
     "exception": false,
     "start_time": "2021-05-18T00:32:52.029997",
     "status": "completed"
    },
    "tags": []
   },
   "source": [
    "## Inference\n",
    "-----\n",
    "\n",
    "Now that we have trained a SageMaker IP Insights model, we can deploy the model to an endpoint to start performing inference on data. In this case, that means providing it a `<user, IP address>` pair and predicting their compatability scores.\n",
    "\n",
    "We can create an inference endpoint using the SageMaker Python SDK `deploy()`function from the job we defined above. We specify the instance type where inference will be performed, as well as the initial number of instnaces to spin up. We recommend using the `ml.m5` instance as it provides the most memory at the lowest cost. Verify how large your model is in S3 and pick the instance type with the appropriate amount of memory."
   ]
  },
  {
   "cell_type": "code",
   "execution_count": 18,
   "id": "275d659f",
   "metadata": {
    "execution": {
     "iopub.execute_input": "2021-05-18T00:32:52.388725Z",
     "iopub.status.busy": "2021-05-18T00:32:52.388266Z",
     "iopub.status.idle": "2021-05-18T00:40:24.602719Z",
     "shell.execute_reply": "2021-05-18T00:40:24.603086Z"
    },
    "papermill": {
     "duration": 452.337218,
     "end_time": "2021-05-18T00:40:24.603215",
     "exception": false,
     "start_time": "2021-05-18T00:32:52.265997",
     "status": "completed"
    },
    "scrolled": true,
    "tags": []
   },
   "outputs": [
    {
     "name": "stdout",
     "output_type": "stream",
     "text": [
      "-"
     ]
    },
    {
     "name": "stdout",
     "output_type": "stream",
     "text": [
      "-"
     ]
    },
    {
     "name": "stdout",
     "output_type": "stream",
     "text": [
      "-"
     ]
    },
    {
     "name": "stdout",
     "output_type": "stream",
     "text": [
      "-"
     ]
    },
    {
     "name": "stdout",
     "output_type": "stream",
     "text": [
      "-"
     ]
    },
    {
     "name": "stdout",
     "output_type": "stream",
     "text": [
      "-"
     ]
    },
    {
     "name": "stdout",
     "output_type": "stream",
     "text": [
      "-"
     ]
    },
    {
     "name": "stdout",
     "output_type": "stream",
     "text": [
      "-"
     ]
    },
    {
     "name": "stdout",
     "output_type": "stream",
     "text": [
      "-"
     ]
    },
    {
     "name": "stdout",
     "output_type": "stream",
     "text": [
      "-"
     ]
    },
    {
     "name": "stdout",
     "output_type": "stream",
     "text": [
      "-"
     ]
    },
    {
     "name": "stdout",
     "output_type": "stream",
     "text": [
      "-"
     ]
    },
    {
     "name": "stdout",
     "output_type": "stream",
     "text": [
      "-"
     ]
    },
    {
     "name": "stdout",
     "output_type": "stream",
     "text": [
      "-"
     ]
    },
    {
     "name": "stdout",
     "output_type": "stream",
     "text": [
      "-"
     ]
    },
    {
     "name": "stdout",
     "output_type": "stream",
     "text": [
      "!"
     ]
    }
   ],
   "source": [
    "predictor = ip_insights.deploy(initial_instance_count=1, instance_type=\"ml.m5.xlarge\")"
   ]
  },
  {
   "cell_type": "markdown",
   "id": "25ceb454",
   "metadata": {
    "papermill": {
     "duration": 0.121399,
     "end_time": "2021-05-18T00:40:24.844993",
     "exception": false,
     "start_time": "2021-05-18T00:40:24.723594",
     "status": "completed"
    },
    "tags": []
   },
   "source": [
    "Congratulations, you now have a SageMaker IP Insights inference endpoint! You could start integrating this endpoint with your production services to start querying incoming requests for abnormal behavior. \n",
    "\n",
    "You can confirm the endpoint configuration and status by navigating to the \"Endpoints\" tab in the AWS SageMaker console and selecting the endpoint matching the endpoint name below:"
   ]
  },
  {
   "cell_type": "code",
   "execution_count": 19,
   "id": "3d21a524",
   "metadata": {
    "execution": {
     "iopub.execute_input": "2021-05-18T00:40:25.090818Z",
     "iopub.status.busy": "2021-05-18T00:40:25.090034Z",
     "iopub.status.idle": "2021-05-18T00:40:25.093509Z",
     "shell.execute_reply": "2021-05-18T00:40:25.093134Z"
    },
    "papermill": {
     "duration": 0.126553,
     "end_time": "2021-05-18T00:40:25.093614",
     "exception": false,
     "start_time": "2021-05-18T00:40:24.967061",
     "status": "completed"
    },
    "tags": []
   },
   "outputs": [
    {
     "name": "stderr",
     "output_type": "stream",
     "text": [
      "The endpoint attribute has been renamed in sagemaker>=2.\n",
      "See: https://sagemaker.readthedocs.io/en/stable/v2.html for details.\n"
     ]
    },
    {
     "name": "stdout",
     "output_type": "stream",
     "text": [
      "Endpoint name: ipinsights-2021-05-18-00-32-52-386\n"
     ]
    }
   ],
   "source": [
    "print(f\"Endpoint name: {predictor.endpoint}\")"
   ]
  },
  {
   "cell_type": "markdown",
   "id": "b5256282",
   "metadata": {
    "papermill": {
     "duration": 0.120388,
     "end_time": "2021-05-18T00:40:25.334247",
     "exception": false,
     "start_time": "2021-05-18T00:40:25.213859",
     "status": "completed"
    },
    "tags": []
   },
   "source": [
    "### Data Serialization/Deserialization\n",
    "We can pass data in a variety of formats to our inference endpoint. In this example, we will pass CSV-formmated data. Other available formats are JSON-formated and JSON Lines-formatted. We make use of the SageMaker Python SDK utilities: `csv_serializer` and `json_deserializer` when configuring the inference endpoint"
   ]
  },
  {
   "cell_type": "code",
   "execution_count": 20,
   "id": "a4f80f56",
   "metadata": {
    "execution": {
     "iopub.execute_input": "2021-05-18T00:40:25.578536Z",
     "iopub.status.busy": "2021-05-18T00:40:25.578095Z",
     "iopub.status.idle": "2021-05-18T00:40:25.579716Z",
     "shell.execute_reply": "2021-05-18T00:40:25.580058Z"
    },
    "papermill": {
     "duration": 0.125744,
     "end_time": "2021-05-18T00:40:25.580184",
     "exception": false,
     "start_time": "2021-05-18T00:40:25.454440",
     "status": "completed"
    },
    "tags": []
   },
   "outputs": [],
   "source": [
    "from sagemaker.predictor import csv_serializer, json_deserializer\n",
    "\n",
    "predictor.serializer = csv_serializer\n",
    "predictor.deserializer = json_deserializer"
   ]
  },
  {
   "cell_type": "markdown",
   "id": "68e781b4",
   "metadata": {
    "papermill": {
     "duration": 0.120289,
     "end_time": "2021-05-18T00:40:25.820758",
     "exception": false,
     "start_time": "2021-05-18T00:40:25.700469",
     "status": "completed"
    },
    "tags": []
   },
   "source": [
    "Now that the predictor is configured, it is as easy as passing in a matrix of inference data.\n",
    "We can take a few samples from the simulated dataset above, so we can see what the output looks like."
   ]
  },
  {
   "cell_type": "code",
   "execution_count": 21,
   "id": "c980dacc",
   "metadata": {
    "execution": {
     "iopub.execute_input": "2021-05-18T00:40:26.067312Z",
     "iopub.status.busy": "2021-05-18T00:40:26.066829Z",
     "iopub.status.idle": "2021-05-18T00:40:26.285186Z",
     "shell.execute_reply": "2021-05-18T00:40:26.285545Z"
    },
    "papermill": {
     "duration": 0.343766,
     "end_time": "2021-05-18T00:40:26.285678",
     "exception": false,
     "start_time": "2021-05-18T00:40:25.941912",
     "status": "completed"
    },
    "tags": []
   },
   "outputs": [
    {
     "name": "stderr",
     "output_type": "stream",
     "text": [
      "The csv_serializer has been renamed in sagemaker>=2.\n",
      "See: https://sagemaker.readthedocs.io/en/stable/v2.html for details.\n"
     ]
    },
    {
     "name": "stderr",
     "output_type": "stream",
     "text": [
      "The json_deserializer has been renamed in sagemaker>=2.\n",
      "See: https://sagemaker.readthedocs.io/en/stable/v2.html for details.\n"
     ]
    },
    {
     "data": {
      "text/plain": [
       "{'predictions': [{'dot_product': 6.2695698738098145},\n",
       "  {'dot_product': 4.854836940765381},\n",
       "  {'dot_product': 4.462562561035156},\n",
       "  {'dot_product': 3.6168110370635986},\n",
       "  {'dot_product': 7.312409400939941}]}"
      ]
     },
     "execution_count": 21,
     "metadata": {},
     "output_type": "execute_result"
    }
   ],
   "source": [
    "inference_data = [(data[0], data[1]) for data in train_df[:5].values]\n",
    "predictor.predict(\n",
    "    inference_data, initial_args={\"ContentType\": \"text/csv\", \"Accept\": \"application/json\"}\n",
    ")"
   ]
  },
  {
   "cell_type": "markdown",
   "id": "bc734795",
   "metadata": {
    "papermill": {
     "duration": 0.120816,
     "end_time": "2021-05-18T00:40:26.526885",
     "exception": false,
     "start_time": "2021-05-18T00:40:26.406069",
     "status": "completed"
    },
    "tags": []
   },
   "source": [
    "By default, the predictor will only output the `dot_product` between the learned IP address and the online resource (in this case, the user ID). The dot product summarizes the compatibility between the IP address and online resource. The larger the value, the more the algorithm thinks the IP address is likely to be used by the user. This compatability score is sufficient for most applications, as we can define a threshold for what we constitute as an anomalous score.\n",
    "\n",
    "However, more advanced users may want to inspect the learned embeddings and use them in further applications. We can configure the predictor to provide the learned embeddings by specifing the `verbose=True` parameter to the Accept heading. You should see that each 'prediction' object contains three keys: `ip_embedding`, `entity_embedding`, and `dot_product`. "
   ]
  },
  {
   "cell_type": "code",
   "execution_count": 22,
   "id": "0b22da4c",
   "metadata": {
    "execution": {
     "iopub.execute_input": "2021-05-18T00:40:26.772300Z",
     "iopub.status.busy": "2021-05-18T00:40:26.771491Z",
     "iopub.status.idle": "2021-05-18T00:40:26.860005Z",
     "shell.execute_reply": "2021-05-18T00:40:26.860384Z"
    },
    "papermill": {
     "duration": 0.213169,
     "end_time": "2021-05-18T00:40:26.860521",
     "exception": false,
     "start_time": "2021-05-18T00:40:26.647352",
     "status": "completed"
    },
    "scrolled": true,
    "tags": []
   },
   "outputs": [
    {
     "name": "stderr",
     "output_type": "stream",
     "text": [
      "The csv_serializer has been renamed in sagemaker>=2.\n",
      "See: https://sagemaker.readthedocs.io/en/stable/v2.html for details.\n"
     ]
    },
    {
     "name": "stderr",
     "output_type": "stream",
     "text": [
      "The json_deserializer has been renamed in sagemaker>=2.\n",
      "See: https://sagemaker.readthedocs.io/en/stable/v2.html for details.\n"
     ]
    },
    {
     "data": {
      "text/plain": [
       "{'predictions': [{'dot_product': 6.2695698738098145,\n",
       "   'ip_embedding': [0.4338964521884918,\n",
       "    0.38009122014045715,\n",
       "    0.6109938025474548,\n",
       "    0.3914492130279541,\n",
       "    0.00012406706809997559,\n",
       "    0.47530418634414673,\n",
       "    0.8276464939117432,\n",
       "    -0.2316451370716095,\n",
       "    -0.1486021727323532,\n",
       "    0.19515360891819,\n",
       "    -0.058786824345588684,\n",
       "    0.14691796898841858,\n",
       "    0.14933666586875916,\n",
       "    0.6979097723960876,\n",
       "    0.19091789424419403,\n",
       "    -0.15806016325950623,\n",
       "    0.8241688013076782,\n",
       "    -0.14493489265441895,\n",
       "    0.29572802782058716,\n",
       "    -0.11184653639793396,\n",
       "    0.8239607214927673,\n",
       "    0.320421427488327,\n",
       "    -0.9517809152603149,\n",
       "    0.14378729462623596,\n",
       "    -0.1868855357170105,\n",
       "    -0.4072481393814087,\n",
       "    -0.2335377037525177,\n",
       "    0.5071849822998047,\n",
       "    0.027567565441131592,\n",
       "    -0.2918420135974884,\n",
       "    -0.38580772280693054,\n",
       "    0.5595529079437256,\n",
       "    0.6341569423675537,\n",
       "    -0.310519278049469,\n",
       "    0.6590306758880615,\n",
       "    0.14673607051372528,\n",
       "    -0.24191726744174957,\n",
       "    0.5030071139335632,\n",
       "    0.3054525852203369,\n",
       "    0.05283433943986893,\n",
       "    0.007463239133358002,\n",
       "    -0.025705590844154358,\n",
       "    0.007759690284729004,\n",
       "    0.10287807881832123,\n",
       "    0.10241124033927917,\n",
       "    -0.6139044761657715,\n",
       "    -0.3120152950286865,\n",
       "    0.3316226005554199,\n",
       "    -0.23262597620487213,\n",
       "    0.4633654057979584,\n",
       "    -0.007557228207588196,\n",
       "    0.8357827663421631,\n",
       "    0.21533045172691345,\n",
       "    -0.1752648949623108,\n",
       "    0.8186639547348022,\n",
       "    -0.19416609406471252,\n",
       "    -0.02691367268562317,\n",
       "    -0.40830448269844055,\n",
       "    -0.5885392427444458,\n",
       "    -0.019520968198776245,\n",
       "    -0.642896294593811,\n",
       "    0.7760651111602783,\n",
       "    1.0496485233306885,\n",
       "    0.03787735104560852,\n",
       "    -0.22293078899383545,\n",
       "    -0.01988735795021057,\n",
       "    0.3332939147949219,\n",
       "    0.12641817331314087,\n",
       "    0.7305537462234497,\n",
       "    0.7332721948623657,\n",
       "    -0.30812495946884155,\n",
       "    -0.10657085478305817,\n",
       "    0.41716721653938293,\n",
       "    -0.25203511118888855,\n",
       "    -0.26760047674179077,\n",
       "    0.25802403688430786,\n",
       "    -0.3328414857387543,\n",
       "    0.16538703441619873,\n",
       "    -0.4216066300868988,\n",
       "    -0.0895358994603157,\n",
       "    -1.0847171545028687,\n",
       "    -0.3980790674686432,\n",
       "    -0.8051092624664307,\n",
       "    -0.21531900763511658,\n",
       "    -0.5161519646644592,\n",
       "    -0.03789011761546135,\n",
       "    -0.906044065952301,\n",
       "    -0.05070722848176956,\n",
       "    -0.3551710247993469,\n",
       "    -0.043710365891456604,\n",
       "    0.32587480545043945,\n",
       "    0.5230273604393005,\n",
       "    -0.4559343457221985,\n",
       "    0.9775480031967163,\n",
       "    0.14542758464813232,\n",
       "    0.030468791723251343,\n",
       "    0.6352614164352417,\n",
       "    -0.226448655128479,\n",
       "    0.2133539319038391,\n",
       "    0.4793592393398285,\n",
       "    0.197315514087677,\n",
       "    0.06641656905412674,\n",
       "    0.015778761357069016,\n",
       "    0.7381981611251831,\n",
       "    -0.4444957971572876,\n",
       "    -0.33654749393463135,\n",
       "    1.1472351551055908,\n",
       "    -0.41806650161743164,\n",
       "    0.6292885541915894,\n",
       "    -0.35233014822006226,\n",
       "    0.2664106488227844,\n",
       "    -0.6240867972373962,\n",
       "    -0.2881225049495697,\n",
       "    0.16372717916965485,\n",
       "    -0.8990211486816406,\n",
       "    0.04945117235183716,\n",
       "    -0.013007046654820442,\n",
       "    -0.5534923076629639,\n",
       "    -0.07316139340400696,\n",
       "    -0.08665347844362259,\n",
       "    0.5474748015403748,\n",
       "    -0.33765333890914917,\n",
       "    0.014952711760997772,\n",
       "    0.3394484221935272,\n",
       "    -0.1428004503250122,\n",
       "    0.4461207687854767,\n",
       "    -0.35979241132736206,\n",
       "    0.6793420910835266],\n",
       "   'entity_embedding': [-0.5503321886062622,\n",
       "    -0.1024622768163681,\n",
       "    -0.6300110220909119,\n",
       "    0.8651034832000732,\n",
       "    0.36789754033088684,\n",
       "    0.5672382116317749,\n",
       "    -0.584721028804779,\n",
       "    -1.3939512968063354,\n",
       "    -1.0853688716888428,\n",
       "    -0.00898953340947628,\n",
       "    -0.32518795132637024,\n",
       "    -0.15964722633361816,\n",
       "    1.1043355464935303,\n",
       "    -0.0022124052047729492,\n",
       "    -0.11214188486337662,\n",
       "    0.16195958852767944,\n",
       "    -0.029131896793842316,\n",
       "    0.19917336106300354,\n",
       "    -0.42602452635765076,\n",
       "    -0.5907175540924072,\n",
       "    1.1467684507369995,\n",
       "    -0.3824135661125183,\n",
       "    0.20370708405971527,\n",
       "    -0.8094552159309387,\n",
       "    0.6875032186508179,\n",
       "    -0.07688291370868683,\n",
       "    -1.1119540929794312,\n",
       "    -0.09346640110015869,\n",
       "    -0.5763386487960815,\n",
       "    -1.2493629455566406,\n",
       "    0.824083685874939,\n",
       "    0.6919965147972107,\n",
       "    1.0031648874282837,\n",
       "    0.4243869483470917,\n",
       "    0.33595654368400574,\n",
       "    -0.5822084546089172,\n",
       "    0.5763002038002014,\n",
       "    0.8017550706863403,\n",
       "    0.30999255180358887,\n",
       "    -0.49180251359939575,\n",
       "    1.0334218740463257,\n",
       "    0.08288062363862991,\n",
       "    -0.08974182605743408,\n",
       "    0.18832240998744965,\n",
       "    -0.03050237149000168,\n",
       "    0.07631675899028778,\n",
       "    -0.4665103852748871,\n",
       "    -0.5954181551933289,\n",
       "    -0.8316946625709534,\n",
       "    1.2376564741134644,\n",
       "    1.231935977935791,\n",
       "    0.26316556334495544,\n",
       "    0.171098530292511,\n",
       "    -1.3454430103302002,\n",
       "    1.2363553047180176,\n",
       "    0.26082471013069153,\n",
       "    -0.35079842805862427,\n",
       "    -1.1173454523086548,\n",
       "    -0.34623196721076965,\n",
       "    0.14294639229774475,\n",
       "    -0.24214358627796173,\n",
       "    0.16260461509227753,\n",
       "    1.1866482496261597,\n",
       "    0.14511938393115997,\n",
       "    0.0989275574684143,\n",
       "    0.16571103036403656,\n",
       "    0.5098884105682373,\n",
       "    0.8064586520195007,\n",
       "    -0.6821022033691406,\n",
       "    0.41936489939689636,\n",
       "    -0.6429558396339417,\n",
       "    0.03856819495558739,\n",
       "    0.8235334753990173,\n",
       "    0.8900245428085327,\n",
       "    -0.8474390506744385,\n",
       "    0.5891396403312683,\n",
       "    -0.06274465471506119,\n",
       "    -0.931958019733429,\n",
       "    -0.14939022064208984,\n",
       "    -0.015443622134625912,\n",
       "    0.28989195823669434,\n",
       "    0.1375027745962143,\n",
       "    -0.4971388578414917,\n",
       "    -0.233051598072052,\n",
       "    -0.7584322690963745,\n",
       "    0.4648471474647522,\n",
       "    0.7936065793037415,\n",
       "    -0.40125688910484314,\n",
       "    -0.15399153530597687,\n",
       "    -0.19840753078460693,\n",
       "    -1.044711947441101,\n",
       "    0.9636171460151672,\n",
       "    -1.494524359703064,\n",
       "    -0.6168928146362305,\n",
       "    -0.17425483465194702,\n",
       "    -1.2976231575012207,\n",
       "    -0.15153799951076508,\n",
       "    -0.7783289551734924,\n",
       "    -0.4193543791770935,\n",
       "    1.0691331624984741,\n",
       "    0.1697760820388794,\n",
       "    0.619838535785675,\n",
       "    0.08427738398313522,\n",
       "    -0.1834527999162674,\n",
       "    0.7472675442695618,\n",
       "    -0.49545860290527344,\n",
       "    0.5901163220405579,\n",
       "    -0.5961373448371887,\n",
       "    0.07895015925168991,\n",
       "    1.4763857126235962,\n",
       "    -1.4273769855499268,\n",
       "    -0.2012445628643036,\n",
       "    0.31590956449508667,\n",
       "    -0.09961244463920593,\n",
       "    0.46513038873672485,\n",
       "    0.2816407382488251,\n",
       "    1.0030778646469116,\n",
       "    0.9597774744033813,\n",
       "    0.4820321202278137,\n",
       "    0.36342594027519226,\n",
       "    0.25004103779792786,\n",
       "    0.5530813932418823,\n",
       "    0.6823046803474426,\n",
       "    -0.5544564723968506,\n",
       "    -0.6681240200996399,\n",
       "    0.2353239506483078,\n",
       "    0.00958325993269682,\n",
       "    -0.03978780284523964]},\n",
       "  {'dot_product': 4.854836940765381,\n",
       "   'ip_embedding': [0.43783968687057495,\n",
       "    0.08268749713897705,\n",
       "    0.5302051305770874,\n",
       "    -0.7514315247535706,\n",
       "    -0.07408788800239563,\n",
       "    -0.05630648881196976,\n",
       "    0.33539146184921265,\n",
       "    0.5774322152137756,\n",
       "    0.5541236400604248,\n",
       "    -0.12522435188293457,\n",
       "    0.11157969385385513,\n",
       "    0.15331293642520905,\n",
       "    -0.1424189805984497,\n",
       "    0.7507727146148682,\n",
       "    -0.022514399141073227,\n",
       "    -0.4740888178348541,\n",
       "    -0.8078528642654419,\n",
       "    0.0729951336979866,\n",
       "    0.5376132130622864,\n",
       "    0.15229085087776184,\n",
       "    0.2560613751411438,\n",
       "    -0.14045104384422302,\n",
       "    0.18011683225631714,\n",
       "    0.35700690746307373,\n",
       "    -0.22835040092468262,\n",
       "    0.038878172636032104,\n",
       "    0.11892682313919067,\n",
       "    0.44636866450309753,\n",
       "    -0.2710586190223694,\n",
       "    -0.054567426443099976,\n",
       "    -0.8008190989494324,\n",
       "    0.4294801652431488,\n",
       "    0.08810727298259735,\n",
       "    -0.5207685232162476,\n",
       "    -0.0433267205953598,\n",
       "    -0.14371998608112335,\n",
       "    0.23704266548156738,\n",
       "    -0.03467494249343872,\n",
       "    -0.7287794947624207,\n",
       "    0.04413970187306404,\n",
       "    -0.3676142990589142,\n",
       "    0.19498544931411743,\n",
       "    0.0846497118473053,\n",
       "    -0.08239603787660599,\n",
       "    -0.13560368120670319,\n",
       "    -0.5730559825897217,\n",
       "    0.07947427034378052,\n",
       "    0.22559912502765656,\n",
       "    0.27801868319511414,\n",
       "    -0.24951496720314026,\n",
       "    -0.5865570306777954,\n",
       "    0.2947801947593689,\n",
       "    -0.12625746428966522,\n",
       "    -0.38956260681152344,\n",
       "    -0.12858521938323975,\n",
       "    0.011269643902778625,\n",
       "    -0.11262204498052597,\n",
       "    -0.4687643051147461,\n",
       "    -0.3331393897533417,\n",
       "    0.27386295795440674,\n",
       "    -0.05033169686794281,\n",
       "    0.27786439657211304,\n",
       "    0.15174207091331482,\n",
       "    0.14148852229118347,\n",
       "    -0.23906771838665009,\n",
       "    -0.11882907152175903,\n",
       "    0.45134609937667847,\n",
       "    -0.9239729642868042,\n",
       "    0.005751708522439003,\n",
       "    -0.10683378577232361,\n",
       "    0.13768984377384186,\n",
       "    -0.2903664708137512,\n",
       "    0.078090138733387,\n",
       "    -0.11261773854494095,\n",
       "    0.5929767489433289,\n",
       "    -0.06253097206354141,\n",
       "    -0.010428279638290405,\n",
       "    0.10229790210723877,\n",
       "    0.0039216503500938416,\n",
       "    -0.03277919441461563,\n",
       "    -0.07767403870820999,\n",
       "    -0.32616928219795227,\n",
       "    -0.24936532974243164,\n",
       "    0.03378915786743164,\n",
       "    0.47577714920043945,\n",
       "    -0.14733776450157166,\n",
       "    0.03250053524971008,\n",
       "    -0.07970798760652542,\n",
       "    -0.3110930621623993,\n",
       "    0.22424009442329407,\n",
       "    0.2506093382835388,\n",
       "    0.5576659440994263,\n",
       "    -0.6094886064529419,\n",
       "    0.3668668270111084,\n",
       "    0.13983051478862762,\n",
       "    0.13137900829315186,\n",
       "    0.037851933389902115,\n",
       "    -0.017618373036384583,\n",
       "    0.06099484860897064,\n",
       "    0.1452638804912567,\n",
       "    0.3314517140388489,\n",
       "    0.16098065674304962,\n",
       "    0.1388501077890396,\n",
       "    0.33795711398124695,\n",
       "    -0.3072556257247925,\n",
       "    0.47664114832878113,\n",
       "    -0.3046343922615051,\n",
       "    -0.19752155244350433,\n",
       "    0.34717246890068054,\n",
       "    -0.5951969623565674,\n",
       "    -0.5150815844535828,\n",
       "    -0.24248580634593964,\n",
       "    -0.173897385597229,\n",
       "    0.19555145502090454,\n",
       "    -0.2026822865009308,\n",
       "    -0.42795929312705994,\n",
       "    -0.10513941943645477,\n",
       "    -0.7174914479255676,\n",
       "    -0.4154517650604248,\n",
       "    -0.0560154989361763,\n",
       "    0.11885523051023483,\n",
       "    -0.003764938563108444,\n",
       "    0.3837031126022339,\n",
       "    0.6020476818084717,\n",
       "    0.0014246925711631775,\n",
       "    0.37146785855293274,\n",
       "    0.07413259148597717,\n",
       "    0.13765116035938263],\n",
       "   'entity_embedding': [0.8641884922981262,\n",
       "    -0.4686957001686096,\n",
       "    -0.8175201416015625,\n",
       "    -0.5599387884140015,\n",
       "    -0.3117690980434418,\n",
       "    -1.7254317998886108,\n",
       "    0.23775067925453186,\n",
       "    -0.41501110792160034,\n",
       "    1.2763571739196777,\n",
       "    -0.2029246687889099,\n",
       "    -0.21044500172138214,\n",
       "    -0.04395598545670509,\n",
       "    1.4166852235794067,\n",
       "    0.7478119134902954,\n",
       "    0.13692471385002136,\n",
       "    1.0551837682724,\n",
       "    -0.5197492241859436,\n",
       "    -0.6277190446853638,\n",
       "    -0.7758247256278992,\n",
       "    0.5971892476081848,\n",
       "    -1.9381238222122192,\n",
       "    -2.274223804473877,\n",
       "    0.9538567066192627,\n",
       "    0.41438305377960205,\n",
       "    0.25340577960014343,\n",
       "    0.4508666396141052,\n",
       "    0.6904911994934082,\n",
       "    -0.08209323137998581,\n",
       "    -0.5339701771736145,\n",
       "    -0.10932188481092453,\n",
       "    -0.8965473175048828,\n",
       "    -0.2711583375930786,\n",
       "    -0.31663140654563904,\n",
       "    0.6183378100395203,\n",
       "    -0.02152823843061924,\n",
       "    -0.10336700826883316,\n",
       "    2.2605361938476562,\n",
       "    -0.4247501790523529,\n",
       "    -1.5432449579238892,\n",
       "    -0.1418076902627945,\n",
       "    -0.5387072563171387,\n",
       "    -0.31823208928108215,\n",
       "    1.1181087493896484,\n",
       "    -0.7244333624839783,\n",
       "    -2.286109447479248,\n",
       "    -0.22599726915359497,\n",
       "    0.2028627097606659,\n",
       "    -0.9059978723526001,\n",
       "    0.5421786308288574,\n",
       "    -0.3536425828933716,\n",
       "    1.1748610734939575,\n",
       "    -0.5257329344749451,\n",
       "    0.06447186321020126,\n",
       "    -0.39288330078125,\n",
       "    -1.117818832397461,\n",
       "    1.1058483123779297,\n",
       "    -1.093347430229187,\n",
       "    -0.5549960136413574,\n",
       "    -0.70623779296875,\n",
       "    0.5097417235374451,\n",
       "    -0.22671456634998322,\n",
       "    -0.6817247867584229,\n",
       "    -0.1253155618906021,\n",
       "    0.32275012135505676,\n",
       "    -0.2237858772277832,\n",
       "    -0.2830718159675598,\n",
       "    0.41667020320892334,\n",
       "    -0.24849773943424225,\n",
       "    -0.5966132879257202,\n",
       "    -0.5214173197746277,\n",
       "    0.650681734085083,\n",
       "    0.7455084919929504,\n",
       "    1.246801733970642,\n",
       "    -0.19250589609146118,\n",
       "    0.1436479687690735,\n",
       "    1.304650068283081,\n",
       "    -1.8048478364944458,\n",
       "    -0.43818002939224243,\n",
       "    0.03935111314058304,\n",
       "    -0.22808174788951874,\n",
       "    0.28299596905708313,\n",
       "    1.4104303121566772,\n",
       "    1.2376446723937988,\n",
       "    0.20297445356845856,\n",
       "    1.2559351921081543,\n",
       "    0.16154560446739197,\n",
       "    0.4385439455509186,\n",
       "    -0.5927614569664001,\n",
       "    -0.48443403840065,\n",
       "    -0.02103836089372635,\n",
       "    -1.4562023878097534,\n",
       "    0.6999571919441223,\n",
       "    0.05994245782494545,\n",
       "    -0.29839056730270386,\n",
       "    0.6097298264503479,\n",
       "    -1.2389183044433594,\n",
       "    -0.708656907081604,\n",
       "    -0.8208612203598022,\n",
       "    0.01102561503648758,\n",
       "    1.3834559917449951,\n",
       "    0.23835404217243195,\n",
       "    0.8880138397216797,\n",
       "    -0.07522900402545929,\n",
       "    -1.3204110860824585,\n",
       "    0.4680030643939972,\n",
       "    0.21001212298870087,\n",
       "    -1.515873670578003,\n",
       "    -0.7187245488166809,\n",
       "    0.5340787768363953,\n",
       "    -0.27362558245658875,\n",
       "    -0.608948826789856,\n",
       "    1.4327677488327026,\n",
       "    0.2794339656829834,\n",
       "    -0.07379931211471558,\n",
       "    -0.18671202659606934,\n",
       "    0.5554888844490051,\n",
       "    1.0585428476333618,\n",
       "    -0.1972927451133728,\n",
       "    0.3401202857494354,\n",
       "    0.5199059247970581,\n",
       "    0.6920089721679688,\n",
       "    0.25835317373275757,\n",
       "    1.0511234998703003,\n",
       "    -0.0060293166898190975,\n",
       "    0.4601503312587738,\n",
       "    -0.9071273803710938,\n",
       "    -0.5541226267814636,\n",
       "    0.13055017590522766]},\n",
       "  {'dot_product': 4.462562561035156,\n",
       "   'ip_embedding': [0.2883847951889038,\n",
       "    0.6904388666152954,\n",
       "    0.1106162816286087,\n",
       "    -0.7531144618988037,\n",
       "    -0.2959674000740051,\n",
       "    -0.036223746836185455,\n",
       "    0.37229129672050476,\n",
       "    0.1779341995716095,\n",
       "    0.1585642248392105,\n",
       "    0.3094538450241089,\n",
       "    0.1872178465127945,\n",
       "    0.36382466554641724,\n",
       "    -0.011923126876354218,\n",
       "    0.9261032938957214,\n",
       "    0.17786335945129395,\n",
       "    -0.4108721613883972,\n",
       "    -0.05616450309753418,\n",
       "    0.24406272172927856,\n",
       "    0.6935415863990784,\n",
       "    -0.20109519362449646,\n",
       "    -0.14849595725536346,\n",
       "    0.4970390200614929,\n",
       "    -0.1500425934791565,\n",
       "    -0.08721095323562622,\n",
       "    -0.019595138728618622,\n",
       "    -0.3410429358482361,\n",
       "    0.31162816286087036,\n",
       "    0.6221277713775635,\n",
       "    0.340150386095047,\n",
       "    0.44692838191986084,\n",
       "    -0.7585405111312866,\n",
       "    0.1866375207901001,\n",
       "    0.41946810483932495,\n",
       "    -0.15614570677280426,\n",
       "    0.41914552450180054,\n",
       "    0.018545784056186676,\n",
       "    0.09045492112636566,\n",
       "    -0.27141594886779785,\n",
       "    -0.6293250322341919,\n",
       "    0.033794958144426346,\n",
       "    -0.4680931568145752,\n",
       "    -0.18791897594928741,\n",
       "    -0.12468819320201874,\n",
       "    0.17854012548923492,\n",
       "    -0.0032497644424438477,\n",
       "    -0.25908422470092773,\n",
       "    -0.2806340754032135,\n",
       "    0.17432597279548645,\n",
       "    0.06297918409109116,\n",
       "    -0.5090249180793762,\n",
       "    -0.1816776990890503,\n",
       "    0.04756946861743927,\n",
       "    0.20091745257377625,\n",
       "    -0.059308718889951706,\n",
       "    0.27905333042144775,\n",
       "    -0.323042631149292,\n",
       "    0.005227938294410706,\n",
       "    -0.09259574860334396,\n",
       "    -0.535767674446106,\n",
       "    -0.20303232967853546,\n",
       "    -0.3314121961593628,\n",
       "    -0.08410194516181946,\n",
       "    0.4894116222858429,\n",
       "    0.125934436917305,\n",
       "    -0.23172707855701447,\n",
       "    0.11694303154945374,\n",
       "    0.12207931280136108,\n",
       "    -0.7854583859443665,\n",
       "    0.2907358407974243,\n",
       "    -0.03600442409515381,\n",
       "    0.1196131557226181,\n",
       "    -0.09498923271894455,\n",
       "    -0.0996519923210144,\n",
       "    -0.22409051656723022,\n",
       "    0.8044417500495911,\n",
       "    -0.2559047341346741,\n",
       "    -0.27238574624061584,\n",
       "    0.32513493299484253,\n",
       "    -0.18720082938671112,\n",
       "    0.046897634863853455,\n",
       "    0.04088127613067627,\n",
       "    0.24382978677749634,\n",
       "    -0.3784084618091583,\n",
       "    0.10480035096406937,\n",
       "    0.9169793725013733,\n",
       "    0.06433044373989105,\n",
       "    -0.47411733865737915,\n",
       "    -0.003660649061203003,\n",
       "    0.07046294212341309,\n",
       "    0.5286930799484253,\n",
       "    0.14461462199687958,\n",
       "    0.5759812593460083,\n",
       "    -0.1804773211479187,\n",
       "    -0.10155271738767624,\n",
       "    0.12233410775661469,\n",
       "    -0.029405757784843445,\n",
       "    -0.11392420530319214,\n",
       "    0.019657768309116364,\n",
       "    0.2646012306213379,\n",
       "    -0.487181156873703,\n",
       "    0.2156834751367569,\n",
       "    0.6395866274833679,\n",
       "    0.06856948882341385,\n",
       "    -0.1470494121313095,\n",
       "    -0.14371666312217712,\n",
       "    -0.22338837385177612,\n",
       "    0.17457911372184753,\n",
       "    -0.5619757175445557,\n",
       "    0.4360327124595642,\n",
       "    -0.5466143488883972,\n",
       "    0.6457163095474243,\n",
       "    -0.463813841342926,\n",
       "    0.3000231087207794,\n",
       "    0.02190934494137764,\n",
       "    -0.4114437997341156,\n",
       "    -0.3488463759422302,\n",
       "    -1.213065266609192,\n",
       "    -0.42404985427856445,\n",
       "    -0.09332016110420227,\n",
       "    -0.2628467381000519,\n",
       "    0.3162113428115845,\n",
       "    -0.34890854358673096,\n",
       "    -0.16468948125839233,\n",
       "    0.14094296097755432,\n",
       "    -0.19094878435134888,\n",
       "    0.030957117676734924,\n",
       "    -0.5448654890060425,\n",
       "    0.0034364908933639526],\n",
       "   'entity_embedding': [-1.4422866106033325,\n",
       "    0.6487169861793518,\n",
       "    -1.2528016567230225,\n",
       "    0.8009017109870911,\n",
       "    -0.004592247772961855,\n",
       "    -0.43177205324172974,\n",
       "    -1.447353482246399,\n",
       "    0.011846590787172318,\n",
       "    -0.8020405769348145,\n",
       "    -0.3535032272338867,\n",
       "    -0.3172112703323364,\n",
       "    0.16410063207149506,\n",
       "    1.580115795135498,\n",
       "    -0.1213778480887413,\n",
       "    0.5338394641876221,\n",
       "    0.05176090821623802,\n",
       "    -0.49191588163375854,\n",
       "    -0.4998181462287903,\n",
       "    -0.23290395736694336,\n",
       "    -0.4174293875694275,\n",
       "    -0.08242131024599075,\n",
       "    -1.4526184797286987,\n",
       "    0.012635789811611176,\n",
       "    -0.2736193537712097,\n",
       "    -0.6223757863044739,\n",
       "    0.17661556601524353,\n",
       "    1.032814383506775,\n",
       "    -0.7096317410469055,\n",
       "    0.03797702491283417,\n",
       "    0.103770911693573,\n",
       "    -1.199615716934204,\n",
       "    -1.1071906089782715,\n",
       "    -0.2613551914691925,\n",
       "    0.9863911867141724,\n",
       "    0.2728716731071472,\n",
       "    0.16201390326023102,\n",
       "    0.96152263879776,\n",
       "    -0.19347339868545532,\n",
       "    -0.9930170178413391,\n",
       "    -0.4948156774044037,\n",
       "    -0.7439973950386047,\n",
       "    -0.7908450961112976,\n",
       "    0.30571800470352173,\n",
       "    -0.07566000521183014,\n",
       "    -1.0048264265060425,\n",
       "    0.4376927316188812,\n",
       "    -0.5371364951133728,\n",
       "    -0.7946860790252686,\n",
       "    -1.4274364709854126,\n",
       "    -0.6569005250930786,\n",
       "    0.33088308572769165,\n",
       "    0.0010665637673810124,\n",
       "    -0.2741895914077759,\n",
       "    0.6145787239074707,\n",
       "    -1.3470311164855957,\n",
       "    -0.34109413623809814,\n",
       "    -0.6347828507423401,\n",
       "    -1.2782262563705444,\n",
       "    -0.4592738747596741,\n",
       "    0.5297611951828003,\n",
       "    -0.7324044108390808,\n",
       "    -2.5881094932556152,\n",
       "    0.8946927785873413,\n",
       "    -1.1255478858947754,\n",
       "    0.13326694071292877,\n",
       "    -0.38270053267478943,\n",
       "    -0.41642671823501587,\n",
       "    -0.04402366280555725,\n",
       "    -0.29472383856773376,\n",
       "    -1.6444709300994873,\n",
       "    0.7451978921890259,\n",
       "    -0.04571430757641792,\n",
       "    0.6330000758171082,\n",
       "    0.8419140577316284,\n",
       "    1.244753360748291,\n",
       "    0.14209838211536407,\n",
       "    -0.7879717350006104,\n",
       "    -0.14389391243457794,\n",
       "    0.23544256389141083,\n",
       "    0.20365343987941742,\n",
       "    1.554010033607483,\n",
       "    0.9544250965118408,\n",
       "    1.0538902282714844,\n",
       "    0.6728019714355469,\n",
       "    0.6166359782218933,\n",
       "    -0.3594159781932831,\n",
       "    -0.33808833360671997,\n",
       "    -0.25588637590408325,\n",
       "    -0.09284019470214844,\n",
       "    0.943851113319397,\n",
       "    -1.2310596704483032,\n",
       "    0.7985317707061768,\n",
       "    0.6791033744812012,\n",
       "    -1.3072707653045654,\n",
       "    -0.854171633720398,\n",
       "    -1.0108935832977295,\n",
       "    -0.5329751968383789,\n",
       "    0.26141586899757385,\n",
       "    0.810161292552948,\n",
       "    -0.3765701353549957,\n",
       "    -0.4094007909297943,\n",
       "    0.8227298259735107,\n",
       "    -0.5319516062736511,\n",
       "    -0.2810269296169281,\n",
       "    0.6285243630409241,\n",
       "    -0.11108285188674927,\n",
       "    0.5659531354904175,\n",
       "    -2.2570083141326904,\n",
       "    0.9655582904815674,\n",
       "    0.2995205521583557,\n",
       "    1.1067198514938354,\n",
       "    -0.03599674254655838,\n",
       "    0.43351781368255615,\n",
       "    0.6570556163787842,\n",
       "    0.6590907573699951,\n",
       "    1.814646601676941,\n",
       "    0.1901383101940155,\n",
       "    -0.040494728833436966,\n",
       "    0.6592620015144348,\n",
       "    -0.07163684815168381,\n",
       "    0.6087245345115662,\n",
       "    0.2093789130449295,\n",
       "    0.4086707830429077,\n",
       "    -0.667085587978363,\n",
       "    0.15336769819259644,\n",
       "    -0.3858530819416046,\n",
       "    -0.29947933554649353,\n",
       "    0.26181939244270325]},\n",
       "  {'dot_product': 3.6168110370635986,\n",
       "   'ip_embedding': [0.5097806453704834,\n",
       "    -0.049384504556655884,\n",
       "    -0.07048116624355316,\n",
       "    -0.3542131185531616,\n",
       "    -0.14076724648475647,\n",
       "    0.2800184190273285,\n",
       "    0.0046381354331970215,\n",
       "    0.33024361729621887,\n",
       "    -0.007641680538654327,\n",
       "    0.1148899495601654,\n",
       "    0.24730539321899414,\n",
       "    0.022998452186584473,\n",
       "    -0.15298928320407867,\n",
       "    0.7151952385902405,\n",
       "    0.16301453113555908,\n",
       "    -0.32332873344421387,\n",
       "    -0.067511186003685,\n",
       "    0.3478561043739319,\n",
       "    -0.25999996066093445,\n",
       "    0.2544964551925659,\n",
       "    0.08181308209896088,\n",
       "    0.003927335143089294,\n",
       "    -0.1266654133796692,\n",
       "    0.6955165266990662,\n",
       "    0.2310437560081482,\n",
       "    -0.21260273456573486,\n",
       "    -0.6092672944068909,\n",
       "    0.08559169620275497,\n",
       "    0.2557133436203003,\n",
       "    0.6588002443313599,\n",
       "    -0.18380488455295563,\n",
       "    0.22951515018939972,\n",
       "    -0.14616094529628754,\n",
       "    -0.408608078956604,\n",
       "    0.07228335738182068,\n",
       "    -0.1282842755317688,\n",
       "    -0.13569867610931396,\n",
       "    0.05158461257815361,\n",
       "    0.23960167169570923,\n",
       "    0.44830816984176636,\n",
       "    0.12736418843269348,\n",
       "    0.49447640776634216,\n",
       "    -0.010144270956516266,\n",
       "    0.5415204763412476,\n",
       "    0.5860974788665771,\n",
       "    0.3131676912307739,\n",
       "    -0.051913902163505554,\n",
       "    0.0692489892244339,\n",
       "    -0.38055306673049927,\n",
       "    -0.5114531517028809,\n",
       "    -0.5106554627418518,\n",
       "    0.401374876499176,\n",
       "    0.12416006624698639,\n",
       "    -0.5067774057388306,\n",
       "    0.46681836247444153,\n",
       "    -0.24704942107200623,\n",
       "    0.45474928617477417,\n",
       "    0.1231541633605957,\n",
       "    -0.5725782513618469,\n",
       "    -0.12616164982318878,\n",
       "    0.07517853379249573,\n",
       "    -0.15381309390068054,\n",
       "    0.38230863213539124,\n",
       "    -0.12418331950902939,\n",
       "    0.04153174161911011,\n",
       "    -0.04323491454124451,\n",
       "    -0.14773057401180267,\n",
       "    -0.6718699336051941,\n",
       "    -0.07334694266319275,\n",
       "    -0.30839723348617554,\n",
       "    -0.5502132177352905,\n",
       "    -0.029131412506103516,\n",
       "    -0.36220645904541016,\n",
       "    -0.25515425205230713,\n",
       "    -0.05861589312553406,\n",
       "    -0.7207392454147339,\n",
       "    0.025404244661331177,\n",
       "    -0.007016621530056,\n",
       "    0.05620800331234932,\n",
       "    -0.04703131690621376,\n",
       "    -0.18869219720363617,\n",
       "    -0.3670675754547119,\n",
       "    -0.542608380317688,\n",
       "    -0.0683298408985138,\n",
       "    0.6202428340911865,\n",
       "    0.18402200937271118,\n",
       "    -0.11933861672878265,\n",
       "    0.06660990417003632,\n",
       "    -0.21005327999591827,\n",
       "    0.31911700963974,\n",
       "    0.16282521188259125,\n",
       "    0.5345283150672913,\n",
       "    -0.13158035278320312,\n",
       "    -0.12144407629966736,\n",
       "    -0.10206151008605957,\n",
       "    0.17548254132270813,\n",
       "    0.17100104689598083,\n",
       "    0.08466170728206635,\n",
       "    0.05941885709762573,\n",
       "    -0.2216593623161316,\n",
       "    0.067320317029953,\n",
       "    -0.8056589365005493,\n",
       "    0.04151288419961929,\n",
       "    -0.473768413066864,\n",
       "    -0.11770825833082199,\n",
       "    0.0034545212984085083,\n",
       "    0.5387197732925415,\n",
       "    0.6082572937011719,\n",
       "    -0.06953274458646774,\n",
       "    -0.40553537011146545,\n",
       "    -0.3049817681312561,\n",
       "    -0.47538501024246216,\n",
       "    0.40697112679481506,\n",
       "    -0.0400768518447876,\n",
       "    -0.21517452597618103,\n",
       "    -0.058139678090810776,\n",
       "    -0.28547847270965576,\n",
       "    -0.05462494120001793,\n",
       "    -0.4315575957298279,\n",
       "    0.0798889547586441,\n",
       "    0.022789552807807922,\n",
       "    0.40822845697402954,\n",
       "    0.13790878653526306,\n",
       "    0.06695990264415741,\n",
       "    -0.1748967170715332,\n",
       "    0.4343422055244446,\n",
       "    0.08299697935581207,\n",
       "    0.3547132611274719],\n",
       "   'entity_embedding': [0.11358784139156342,\n",
       "    -0.06230253353714943,\n",
       "    -0.5855929851531982,\n",
       "    -0.04862739518284798,\n",
       "    0.46882542967796326,\n",
       "    -0.028788020834326744,\n",
       "    -1.2876359224319458,\n",
       "    -0.3622472882270813,\n",
       "    0.5555481910705566,\n",
       "    -0.00016434017743449658,\n",
       "    -0.02222447469830513,\n",
       "    -0.39320167899131775,\n",
       "    1.1084599494934082,\n",
       "    -0.3071500360965729,\n",
       "    -0.1413743793964386,\n",
       "    -0.08871709555387497,\n",
       "    0.6395196914672852,\n",
       "    -0.230436772108078,\n",
       "    -0.9253755807876587,\n",
       "    -0.5133144855499268,\n",
       "    -0.7606725096702576,\n",
       "    -0.7409510016441345,\n",
       "    -0.6371254920959473,\n",
       "    -0.2889174222946167,\n",
       "    0.901061475276947,\n",
       "    -0.014626139774918556,\n",
       "    0.21843691170215607,\n",
       "    0.3592411279678345,\n",
       "    -0.05075852945446968,\n",
       "    -0.2516169548034668,\n",
       "    0.5326186418533325,\n",
       "    0.6815983653068542,\n",
       "    -0.9669107794761658,\n",
       "    -0.019142955541610718,\n",
       "    -0.19240660965442657,\n",
       "    0.5594972968101501,\n",
       "    0.3038095533847809,\n",
       "    0.412324458360672,\n",
       "    0.7244398593902588,\n",
       "    0.4360272288322449,\n",
       "    0.12138140201568604,\n",
       "    -0.8829039335250854,\n",
       "    -0.12898999452590942,\n",
       "    -0.27341362833976746,\n",
       "    -0.12336031347513199,\n",
       "    0.9205371141433716,\n",
       "    -0.770209014415741,\n",
       "    -0.9187439680099487,\n",
       "    -1.8647562265396118,\n",
       "    -0.6838464736938477,\n",
       "    -0.5915752053260803,\n",
       "    -0.03593206778168678,\n",
       "    0.4421539902687073,\n",
       "    -0.4155717194080353,\n",
       "    -0.6816157698631287,\n",
       "    0.427341103553772,\n",
       "    -0.4220373332500458,\n",
       "    -0.10315953940153122,\n",
       "    -1.0223134756088257,\n",
       "    1.1421701908111572,\n",
       "    -0.7376276254653931,\n",
       "    -1.025059461593628,\n",
       "    -1.159629464149475,\n",
       "    0.80289226770401,\n",
       "    0.35391169786453247,\n",
       "    -0.5235720872879028,\n",
       "    -0.218136727809906,\n",
       "    1.0560096502304077,\n",
       "    -0.30281326174736023,\n",
       "    -0.06551671028137207,\n",
       "    -0.49163922667503357,\n",
       "    0.14857690036296844,\n",
       "    -0.33023834228515625,\n",
       "    -0.06585802137851715,\n",
       "    -1.608062982559204,\n",
       "    -0.3353419005870819,\n",
       "    -1.3237364292144775,\n",
       "    0.004840039648115635,\n",
       "    0.18443049490451813,\n",
       "    0.006506136618554592,\n",
       "    0.39657101035118103,\n",
       "    -0.016762955114245415,\n",
       "    0.2984667718410492,\n",
       "    -0.05506661534309387,\n",
       "    0.26168227195739746,\n",
       "    -0.41424086689949036,\n",
       "    -0.11821115761995316,\n",
       "    -1.3517556190490723,\n",
       "    -0.06824028491973877,\n",
       "    0.4039803445339203,\n",
       "    -0.49238118529319763,\n",
       "    0.24161657691001892,\n",
       "    0.6384665966033936,\n",
       "    -1.093339443206787,\n",
       "    -0.6912832856178284,\n",
       "    0.6686406135559082,\n",
       "    -0.017066335305571556,\n",
       "    0.29869014024734497,\n",
       "    0.12934061884880066,\n",
       "    0.21238669753074646,\n",
       "    -0.9512152671813965,\n",
       "    -1.0920571088790894,\n",
       "    0.8315504789352417,\n",
       "    -1.314670205116272,\n",
       "    0.3707450032234192,\n",
       "    -1.0310834646224976,\n",
       "    0.5454556345939636,\n",
       "    0.5278640389442444,\n",
       "    0.27904486656188965,\n",
       "    0.8529080152511597,\n",
       "    -1.760161280632019,\n",
       "    -0.5223478078842163,\n",
       "    0.9214938282966614,\n",
       "    -0.7870022058486938,\n",
       "    -0.24877043068408966,\n",
       "    1.768980622291565,\n",
       "    -0.112147256731987,\n",
       "    0.9279603362083435,\n",
       "    0.3814801573753357,\n",
       "    0.054495908319950104,\n",
       "    -0.3373476266860962,\n",
       "    0.3277820646762848,\n",
       "    0.6116679310798645,\n",
       "    -1.046036958694458,\n",
       "    -0.3644926846027374,\n",
       "    0.49347031116485596,\n",
       "    0.6056773066520691,\n",
       "    -0.37379351258277893]},\n",
       "  {'dot_product': 7.312409400939941,\n",
       "   'ip_embedding': [0.361673504114151,\n",
       "    0.5075650811195374,\n",
       "    -0.06126325577497482,\n",
       "    -0.1808435171842575,\n",
       "    0.06878575682640076,\n",
       "    0.30738508701324463,\n",
       "    0.3907619118690491,\n",
       "    0.08613654971122742,\n",
       "    0.8158314228057861,\n",
       "    -0.07320451736450195,\n",
       "    -0.04042331129312515,\n",
       "    0.24334827065467834,\n",
       "    -0.4070032835006714,\n",
       "    -0.09589916467666626,\n",
       "    0.12975071370601654,\n",
       "    0.0008981525897979736,\n",
       "    -0.09440723061561584,\n",
       "    0.6049308180809021,\n",
       "    -0.39991670846939087,\n",
       "    -0.12138665467500687,\n",
       "    0.02526676654815674,\n",
       "    0.025833487510681152,\n",
       "    -0.5507747530937195,\n",
       "    0.1571599692106247,\n",
       "    -0.46207520365715027,\n",
       "    -0.03095117211341858,\n",
       "    -0.42606961727142334,\n",
       "    0.32607853412628174,\n",
       "    0.43321701884269714,\n",
       "    0.1092902272939682,\n",
       "    0.06111408770084381,\n",
       "    0.09265050292015076,\n",
       "    0.21426299214363098,\n",
       "    0.0003250539302825928,\n",
       "    0.3882999122142792,\n",
       "    0.010325349867343903,\n",
       "    -0.3016934394836426,\n",
       "    0.09754709899425507,\n",
       "    -0.108957439661026,\n",
       "    0.005925074219703674,\n",
       "    0.39314913749694824,\n",
       "    -0.08854638040065765,\n",
       "    -0.11645099520683289,\n",
       "    0.6180908679962158,\n",
       "    0.08036437630653381,\n",
       "    -0.2990882098674774,\n",
       "    -0.45960336923599243,\n",
       "    -0.22775843739509583,\n",
       "    0.4628519117832184,\n",
       "    -0.32220038771629333,\n",
       "    -0.7751997709274292,\n",
       "    0.505740761756897,\n",
       "    0.06188879907131195,\n",
       "    -0.12831003963947296,\n",
       "    0.5937117338180542,\n",
       "    0.24120450019836426,\n",
       "    0.12701261043548584,\n",
       "    0.3789806365966797,\n",
       "    -0.09230709075927734,\n",
       "    -0.1081656664609909,\n",
       "    -0.07727774977684021,\n",
       "    -0.07947514951229095,\n",
       "    -0.12030302733182907,\n",
       "    -0.23502947390079498,\n",
       "    -0.14938881993293762,\n",
       "    0.07263976335525513,\n",
       "    0.5010968446731567,\n",
       "    -0.35595813393592834,\n",
       "    -0.297334760427475,\n",
       "    1.1272473335266113,\n",
       "    -0.343558669090271,\n",
       "    -0.16141867637634277,\n",
       "    -0.4224596619606018,\n",
       "    0.12426813691854477,\n",
       "    -0.14441096782684326,\n",
       "    -0.19549021124839783,\n",
       "    0.6442144513130188,\n",
       "    0.4074987769126892,\n",
       "    -0.13149553537368774,\n",
       "    -0.11422446370124817,\n",
       "    -0.8947900533676147,\n",
       "    -0.5604419112205505,\n",
       "    -0.5510848760604858,\n",
       "    -0.06930989027023315,\n",
       "    0.347280889749527,\n",
       "    -0.20200487971305847,\n",
       "    0.2526993453502655,\n",
       "    0.29300761222839355,\n",
       "    -0.5348790884017944,\n",
       "    -0.06624974310398102,\n",
       "    0.13692662119865417,\n",
       "    -0.32398924231529236,\n",
       "    -0.6547021269798279,\n",
       "    -0.10185840725898743,\n",
       "    0.15910647809505463,\n",
       "    -0.586744487285614,\n",
       "    -0.10831651091575623,\n",
       "    0.40104803442955017,\n",
       "    0.23253133893013,\n",
       "    -0.5504513382911682,\n",
       "    -0.1035524308681488,\n",
       "    0.4556955099105835,\n",
       "    -0.07167307287454605,\n",
       "    0.6086207032203674,\n",
       "    -0.5626766085624695,\n",
       "    0.3093131184577942,\n",
       "    0.1469247043132782,\n",
       "    0.165281280875206,\n",
       "    0.0477839931845665,\n",
       "    0.18401363492012024,\n",
       "    0.6951391696929932,\n",
       "    -0.13898015022277832,\n",
       "    -0.042066365480422974,\n",
       "    -0.3913409113883972,\n",
       "    -0.784430742263794,\n",
       "    0.07287930697202682,\n",
       "    -0.24596258997917175,\n",
       "    -0.08139362931251526,\n",
       "    -0.19898156821727753,\n",
       "    -0.21536751091480255,\n",
       "    -0.08638686686754227,\n",
       "    0.21836347877979279,\n",
       "    0.2287687063217163,\n",
       "    -0.031290337443351746,\n",
       "    0.08584412932395935,\n",
       "    0.23628130555152893,\n",
       "    0.3339712619781494,\n",
       "    -0.4935389757156372],\n",
       "   'entity_embedding': [-0.5804880261421204,\n",
       "    -0.23841673135757446,\n",
       "    -1.2516412734985352,\n",
       "    1.0191459655761719,\n",
       "    -0.6427948474884033,\n",
       "    -0.1310848444700241,\n",
       "    -0.4319871962070465,\n",
       "    -0.8370960354804993,\n",
       "    0.39409518241882324,\n",
       "    -0.3083573579788208,\n",
       "    -0.12476708739995956,\n",
       "    0.16371087729930878,\n",
       "    0.5798496007919312,\n",
       "    -1.0889426469802856,\n",
       "    0.42317068576812744,\n",
       "    1.0160108804702759,\n",
       "    0.4952656030654907,\n",
       "    0.22271768748760223,\n",
       "    -2.968197822570801,\n",
       "    -1.4552122354507446,\n",
       "    -0.7183930277824402,\n",
       "    -0.6230618357658386,\n",
       "    -0.2955717444419861,\n",
       "    0.07165072858333588,\n",
       "    0.023602889850735664,\n",
       "    0.4931022822856903,\n",
       "    -0.36003559827804565,\n",
       "    0.05883762612938881,\n",
       "    0.3037031292915344,\n",
       "    0.3529250919818878,\n",
       "    0.8561222553253174,\n",
       "    0.1472410410642624,\n",
       "    -0.4501291811466217,\n",
       "    -0.06017014756798744,\n",
       "    1.1721469163894653,\n",
       "    0.09571659564971924,\n",
       "    -0.20498496294021606,\n",
       "    1.054158329963684,\n",
       "    -0.1519460678100586,\n",
       "    -0.29069986939430237,\n",
       "    0.3860309422016144,\n",
       "    -1.1046271324157715,\n",
       "    0.3290310502052307,\n",
       "    -0.39378583431243896,\n",
       "    -1.4777560234069824,\n",
       "    0.796541690826416,\n",
       "    -0.6438636183738708,\n",
       "    -2.1243040561676025,\n",
       "    -0.18926076591014862,\n",
       "    -0.16562344133853912,\n",
       "    0.5324181914329529,\n",
       "    -0.6143407821655273,\n",
       "    0.5053213238716125,\n",
       "    0.6610021591186523,\n",
       "    0.9611781239509583,\n",
       "    -0.39827150106430054,\n",
       "    -0.016661399975419044,\n",
       "    0.9166467189788818,\n",
       "    -0.36752647161483765,\n",
       "    0.14593492448329926,\n",
       "    0.46246767044067383,\n",
       "    -1.1017940044403076,\n",
       "    -0.251863032579422,\n",
       "    -1.1541969776153564,\n",
       "    0.13155141472816467,\n",
       "    0.6986484527587891,\n",
       "    0.48175883293151855,\n",
       "    1.6743205785751343,\n",
       "    -0.3928092122077942,\n",
       "    1.2613534927368164,\n",
       "    0.40635883808135986,\n",
       "    0.07007168233394623,\n",
       "    -0.8151209950447083,\n",
       "    0.9224914312362671,\n",
       "    -1.8362460136413574,\n",
       "    0.8223733901977539,\n",
       "    -0.23444867134094238,\n",
       "    0.08531159907579422,\n",
       "    0.03952600061893463,\n",
       "    -0.21658194065093994,\n",
       "    0.5832629799842834,\n",
       "    -0.7302113771438599,\n",
       "    -0.2422022521495819,\n",
       "    -0.204167902469635,\n",
       "    0.9332966804504395,\n",
       "    -0.17091746628284454,\n",
       "    0.8758311867713928,\n",
       "    0.010038381442427635,\n",
       "    -0.3899767994880676,\n",
       "    -0.41800162196159363,\n",
       "    -0.2878860831260681,\n",
       "    -2.0839154720306396,\n",
       "    0.34952396154403687,\n",
       "    -0.30859607458114624,\n",
       "    0.37323132157325745,\n",
       "    -1.6652827262878418,\n",
       "    -0.13640059530735016,\n",
       "    0.9535907506942749,\n",
       "    1.0502077341079712,\n",
       "    0.7398737668991089,\n",
       "    -1.2369182109832764,\n",
       "    0.375377357006073,\n",
       "    0.06535648554563522,\n",
       "    -1.704913854598999,\n",
       "    1.2090034484863281,\n",
       "    -0.13553005456924438,\n",
       "    -1.3613572120666504,\n",
       "    -0.8948827981948853,\n",
       "    0.16635675728321075,\n",
       "    1.3706568479537964,\n",
       "    0.41316112875938416,\n",
       "    0.09548864513635635,\n",
       "    0.11801525950431824,\n",
       "    -0.44930535554885864,\n",
       "    -0.3926759958267212,\n",
       "    1.1780792474746704,\n",
       "    0.20147834718227386,\n",
       "    1.662996530532837,\n",
       "    0.2210727035999298,\n",
       "    -0.10783907771110535,\n",
       "    -0.7727552056312561,\n",
       "    0.908006489276886,\n",
       "    0.9146708250045776,\n",
       "    -1.0942870378494263,\n",
       "    -0.5587196350097656,\n",
       "    0.38840213418006897,\n",
       "    -0.31424275040626526,\n",
       "    -1.7382892370224]}]}"
      ]
     },
     "execution_count": 22,
     "metadata": {},
     "output_type": "execute_result"
    }
   ],
   "source": [
    "predictor.predict(\n",
    "    inference_data,\n",
    "    initial_args={\"ContentType\": \"text/csv\", \"Accept\": \"application/json; verbose=True\"},\n",
    ")"
   ]
  },
  {
   "cell_type": "markdown",
   "id": "6ace5639",
   "metadata": {
    "papermill": {
     "duration": 0.122844,
     "end_time": "2021-05-18T00:40:27.107026",
     "exception": false,
     "start_time": "2021-05-18T00:40:26.984182",
     "status": "completed"
    },
    "tags": []
   },
   "source": [
    "## Compute Anomaly Scores\n",
    "----\n",
    "The `dot_product` output of the model provides a good measure of how compatible an IP address and online resource are. However, the range of the dot_product is unbounded. This means to be able to consider an event as anomolous we need to define a threshold. Such that when we score an event, if the dot_product is above the threshold we can flag the behavior as anomolous.However, picking a threshold can be more of an art, and a good threshold depends on the specifics of your problem and dataset. \n",
    "\n",
    "In the following section, we show how to pick a simple threshold by comparing the score distributions between known normal and malicious traffic:\n",
    "1. We construct a test set of 'Normal' traffic;\n",
    "2. Inject 'Malicious' traffic into the dataset;\n",
    "3. Plot the distribution of dot_product scores for the model on 'Normal' trafic and the 'Malicious' traffic.\n",
    "3. Select a threshold value which separates the normal distribution from the malicious traffic threshold. This value is based on your false-positive tolerance.\n",
    "\n",
    "### 1. Construct 'Normal' Traffic Dataset\n",
    "\n",
    "We previously [created a test set](#3.-Create-training-and-test-dataset) from our simulated Apache access logs dataset. We use this test dataset as the 'Normal' traffic in the test case. "
   ]
  },
  {
   "cell_type": "code",
   "execution_count": 23,
   "id": "63fd5b5a",
   "metadata": {
    "execution": {
     "iopub.execute_input": "2021-05-18T00:40:27.362646Z",
     "iopub.status.busy": "2021-05-18T00:40:27.362144Z",
     "iopub.status.idle": "2021-05-18T00:40:27.364839Z",
     "shell.execute_reply": "2021-05-18T00:40:27.364381Z"
    },
    "papermill": {
     "duration": 0.134773,
     "end_time": "2021-05-18T00:40:27.364947",
     "exception": false,
     "start_time": "2021-05-18T00:40:27.230174",
     "status": "completed"
    },
    "tags": []
   },
   "outputs": [
    {
     "data": {
      "text/html": [
       "<div>\n",
       "<style scoped>\n",
       "    .dataframe tbody tr th:only-of-type {\n",
       "        vertical-align: middle;\n",
       "    }\n",
       "\n",
       "    .dataframe tbody tr th {\n",
       "        vertical-align: top;\n",
       "    }\n",
       "\n",
       "    .dataframe thead th {\n",
       "        text-align: right;\n",
       "    }\n",
       "</style>\n",
       "<table border=\"1\" class=\"dataframe\">\n",
       "  <thead>\n",
       "    <tr style=\"text-align: right;\">\n",
       "      <th></th>\n",
       "      <th>user</th>\n",
       "      <th>ip_address</th>\n",
       "      <th>timestamp</th>\n",
       "    </tr>\n",
       "  </thead>\n",
       "  <tbody>\n",
       "    <tr>\n",
       "      <th>3</th>\n",
       "      <td>user_0</td>\n",
       "      <td>190.150.19.255</td>\n",
       "      <td>2018-11-12 09:34:16</td>\n",
       "    </tr>\n",
       "    <tr>\n",
       "      <th>4</th>\n",
       "      <td>user_0</td>\n",
       "      <td>190.149.26.244</td>\n",
       "      <td>2018-11-13 10:58:51</td>\n",
       "    </tr>\n",
       "    <tr>\n",
       "      <th>13</th>\n",
       "      <td>user_0</td>\n",
       "      <td>220.65.225.215</td>\n",
       "      <td>2018-11-12 07:18:02</td>\n",
       "    </tr>\n",
       "    <tr>\n",
       "      <th>21</th>\n",
       "      <td>user_0</td>\n",
       "      <td>185.146.0.36</td>\n",
       "      <td>2018-11-13 13:19:16</td>\n",
       "    </tr>\n",
       "    <tr>\n",
       "      <th>29</th>\n",
       "      <td>user_0</td>\n",
       "      <td>190.150.26.130</td>\n",
       "      <td>2018-11-12 13:24:00</td>\n",
       "    </tr>\n",
       "  </tbody>\n",
       "</table>\n",
       "</div>"
      ],
      "text/plain": [
       "      user      ip_address           timestamp\n",
       "3   user_0  190.150.19.255 2018-11-12 09:34:16\n",
       "4   user_0  190.149.26.244 2018-11-13 10:58:51\n",
       "13  user_0  220.65.225.215 2018-11-12 07:18:02\n",
       "21  user_0    185.146.0.36 2018-11-13 13:19:16\n",
       "29  user_0  190.150.26.130 2018-11-12 13:24:00"
      ]
     },
     "execution_count": 23,
     "metadata": {},
     "output_type": "execute_result"
    }
   ],
   "source": [
    "test_df.head()"
   ]
  },
  {
   "cell_type": "markdown",
   "id": "8ab7de6d",
   "metadata": {
    "papermill": {
     "duration": 0.1285,
     "end_time": "2021-05-18T00:40:27.618126",
     "exception": false,
     "start_time": "2021-05-18T00:40:27.489626",
     "status": "completed"
    },
    "tags": []
   },
   "source": [
    "### 2. Inject Malicious Traffic\n",
    "If we had a dataset with enough real malicious activity, we would use that to determine a good threshold. Those are hard to come by. So instead, we simulate malicious web traffic that mimics a realistic attack scenario. \n",
    "\n",
    "We take a set of user accounts from the test set and randomly generate IP addresses. The users should not have used these IP addresses during training. This simulates an attacker logging in to a user account without knowledge of their IP history."
   ]
  },
  {
   "cell_type": "code",
   "execution_count": 24,
   "id": "9bc4c840",
   "metadata": {
    "execution": {
     "iopub.execute_input": "2021-05-18T00:40:27.877066Z",
     "iopub.status.busy": "2021-05-18T00:40:27.876575Z",
     "iopub.status.idle": "2021-05-18T00:40:27.878351Z",
     "shell.execute_reply": "2021-05-18T00:40:27.878695Z"
    },
    "papermill": {
     "duration": 0.136006,
     "end_time": "2021-05-18T00:40:27.878831",
     "exception": false,
     "start_time": "2021-05-18T00:40:27.742825",
     "status": "completed"
    },
    "tags": []
   },
   "outputs": [],
   "source": [
    "import numpy as np\n",
    "from generate_data import draw_ip\n",
    "\n",
    "\n",
    "def score_ip_insights(predictor, df):\n",
    "    def get_score(result):\n",
    "        \"\"\"Return the negative to the dot product of the predictions from the model.\"\"\"\n",
    "        return [-prediction[\"dot_product\"] for prediction in result[\"predictions\"]]\n",
    "\n",
    "    df = df[[\"user\", \"ip_address\"]]\n",
    "    result = predictor.predict(df.values)\n",
    "    return get_score(result)\n",
    "\n",
    "\n",
    "def create_test_case(train_df, test_df, num_samples, attack_freq):\n",
    "    \"\"\"Creates a test case from provided train and test data frames.\n",
    "\n",
    "    This generates test case for accounts that are both in training and testing data sets.\n",
    "\n",
    "    :param train_df: (panda.DataFrame with columns ['user', 'ip_address']) training DataFrame\n",
    "    :param test_df: (panda.DataFrame with columns ['user', 'ip_address']) testing DataFrame\n",
    "    :param num_samples: (int) number of test samples to use\n",
    "    :param attack_freq: (float) the ratio of negative_samples:positive_samples to generate for test case\n",
    "    :return: DataFrame with both good and bad traffic, with labels\n",
    "    \"\"\"\n",
    "    # Get all possible accounts. The IP Insights model can only make predictions on users it has seen in training\n",
    "    # Therefore, filter the test dataset for unseen accounts, as their results will not mean anything.\n",
    "    valid_accounts = set(train_df[\"user\"])\n",
    "    valid_test_df = test_df[test_df[\"user\"].isin(valid_accounts)]\n",
    "\n",
    "    good_traffic = valid_test_df.sample(num_samples, replace=False)\n",
    "    good_traffic = good_traffic[[\"user\", \"ip_address\"]]\n",
    "    good_traffic[\"label\"] = 0\n",
    "\n",
    "    # Generate malicious traffic\n",
    "    num_bad_traffic = int(num_samples * attack_freq)\n",
    "    bad_traffic_accounts = np.random.choice(\n",
    "        list(valid_accounts), size=num_bad_traffic, replace=True\n",
    "    )\n",
    "    bad_traffic_ips = [draw_ip() for i in range(num_bad_traffic)]\n",
    "    bad_traffic = pd.DataFrame({\"user\": bad_traffic_accounts, \"ip_address\": bad_traffic_ips})\n",
    "    bad_traffic[\"label\"] = 1\n",
    "\n",
    "    # All traffic labels are: 0 for good traffic; 1 for bad traffic.\n",
    "    all_traffic = good_traffic.append(bad_traffic)\n",
    "\n",
    "    return all_traffic"
   ]
  },
  {
   "cell_type": "code",
   "execution_count": 25,
   "id": "f295e367",
   "metadata": {
    "execution": {
     "iopub.execute_input": "2021-05-18T00:40:28.300386Z",
     "iopub.status.busy": "2021-05-18T00:40:28.299860Z",
     "iopub.status.idle": "2021-05-18T00:40:29.806664Z",
     "shell.execute_reply": "2021-05-18T00:40:29.806242Z"
    },
    "papermill": {
     "duration": 1.803442,
     "end_time": "2021-05-18T00:40:29.806776",
     "exception": false,
     "start_time": "2021-05-18T00:40:28.003334",
     "status": "completed"
    },
    "tags": []
   },
   "outputs": [
    {
     "data": {
      "text/html": [
       "<div>\n",
       "<style scoped>\n",
       "    .dataframe tbody tr th:only-of-type {\n",
       "        vertical-align: middle;\n",
       "    }\n",
       "\n",
       "    .dataframe tbody tr th {\n",
       "        vertical-align: top;\n",
       "    }\n",
       "\n",
       "    .dataframe thead th {\n",
       "        text-align: right;\n",
       "    }\n",
       "</style>\n",
       "<table border=\"1\" class=\"dataframe\">\n",
       "  <thead>\n",
       "    <tr style=\"text-align: right;\">\n",
       "      <th></th>\n",
       "      <th>user</th>\n",
       "      <th>ip_address</th>\n",
       "      <th>label</th>\n",
       "    </tr>\n",
       "  </thead>\n",
       "  <tbody>\n",
       "    <tr>\n",
       "      <th>2301709</th>\n",
       "      <td>user_7619</td>\n",
       "      <td>70.45.116.217</td>\n",
       "      <td>0</td>\n",
       "    </tr>\n",
       "    <tr>\n",
       "      <th>1916551</th>\n",
       "      <td>user_6699</td>\n",
       "      <td>87.107.81.74</td>\n",
       "      <td>0</td>\n",
       "    </tr>\n",
       "    <tr>\n",
       "      <th>2953447</th>\n",
       "      <td>user_9685</td>\n",
       "      <td>93.93.100.146</td>\n",
       "      <td>0</td>\n",
       "    </tr>\n",
       "    <tr>\n",
       "      <th>765171</th>\n",
       "      <td>user_2536</td>\n",
       "      <td>61.47.229.43</td>\n",
       "      <td>0</td>\n",
       "    </tr>\n",
       "    <tr>\n",
       "      <th>572251</th>\n",
       "      <td>user_1687</td>\n",
       "      <td>203.175.140.121</td>\n",
       "      <td>0</td>\n",
       "    </tr>\n",
       "  </tbody>\n",
       "</table>\n",
       "</div>"
      ],
      "text/plain": [
       "              user       ip_address  label\n",
       "2301709  user_7619    70.45.116.217      0\n",
       "1916551  user_6699     87.107.81.74      0\n",
       "2953447  user_9685    93.93.100.146      0\n",
       "765171   user_2536     61.47.229.43      0\n",
       "572251   user_1687  203.175.140.121      0"
      ]
     },
     "execution_count": 25,
     "metadata": {},
     "output_type": "execute_result"
    }
   ],
   "source": [
    "NUM_SAMPLES = 100000\n",
    "test_case = create_test_case(train_df, test_df, num_samples=NUM_SAMPLES, attack_freq=1)\n",
    "test_case.head()"
   ]
  },
  {
   "cell_type": "code",
   "execution_count": 26,
   "id": "2ba1a9d9",
   "metadata": {
    "execution": {
     "iopub.execute_input": "2021-05-18T00:40:30.061091Z",
     "iopub.status.busy": "2021-05-18T00:40:30.060625Z",
     "iopub.status.idle": "2021-05-18T00:40:32.820452Z",
     "shell.execute_reply": "2021-05-18T00:40:32.820836Z"
    },
    "papermill": {
     "duration": 2.8889,
     "end_time": "2021-05-18T00:40:32.820975",
     "exception": false,
     "start_time": "2021-05-18T00:40:29.932075",
     "status": "completed"
    },
    "tags": []
   },
   "outputs": [
    {
     "name": "stderr",
     "output_type": "stream",
     "text": [
      "The csv_serializer has been renamed in sagemaker>=2.\n",
      "See: https://sagemaker.readthedocs.io/en/stable/v2.html for details.\n"
     ]
    },
    {
     "name": "stderr",
     "output_type": "stream",
     "text": [
      "The json_deserializer has been renamed in sagemaker>=2.\n",
      "See: https://sagemaker.readthedocs.io/en/stable/v2.html for details.\n"
     ]
    }
   ],
   "source": [
    "test_case_scores = score_ip_insights(predictor, test_case)"
   ]
  },
  {
   "cell_type": "markdown",
   "id": "067c6677",
   "metadata": {
    "papermill": {
     "duration": 0.12822,
     "end_time": "2021-05-18T00:40:33.075616",
     "exception": false,
     "start_time": "2021-05-18T00:40:32.947396",
     "status": "completed"
    },
    "tags": []
   },
   "source": [
    "### 3. Plot Distribution\n",
    "\n",
    "Now, we plot the distribution of scores. Looking at this distribution will inform us on where we can set a good threshold, based on our risk tolerance. "
   ]
  },
  {
   "cell_type": "code",
   "execution_count": 27,
   "id": "eab9f85b",
   "metadata": {
    "execution": {
     "iopub.execute_input": "2021-05-18T00:40:33.333735Z",
     "iopub.status.busy": "2021-05-18T00:40:33.333111Z",
     "iopub.status.idle": "2021-05-18T00:40:34.192800Z",
     "shell.execute_reply": "2021-05-18T00:40:34.193193Z"
    },
    "papermill": {
     "duration": 0.992607,
     "end_time": "2021-05-18T00:40:34.193344",
     "exception": false,
     "start_time": "2021-05-18T00:40:33.200737",
     "status": "completed"
    },
    "tags": []
   },
   "outputs": [
    {
     "data": {
      "text/plain": [
       "<Figure size 432x288 with 0 Axes>"
      ]
     },
     "execution_count": 27,
     "metadata": {},
     "output_type": "execute_result"
    },
    {
     "data": {
      "image/png": "[encoded data removed]",
      "text/plain": [
       "<Figure size 432x288 with 1 Axes>"
      ]
     },
     "metadata": {
      "needs_background": "light"
     },
     "output_type": "display_data"
    },
    {
     "data": {
      "text/plain": [
       "<Figure size 432x288 with 0 Axes>"
      ]
     },
     "metadata": {},
     "output_type": "display_data"
    }
   ],
   "source": [
    "%matplotlib inline\n",
    "import matplotlib.pyplot as plt\n",
    "\n",
    "n, x = np.histogram(test_case_scores[:NUM_SAMPLES], bins=100, density=True)\n",
    "plt.plot(x[1:], n)\n",
    "\n",
    "n, x = np.histogram(test_case_scores[NUM_SAMPLES:], bins=100, density=True)\n",
    "plt.plot(x[1:], n)\n",
    "\n",
    "plt.legend([\"Normal\", \"Random IP\"])\n",
    "plt.xlabel(\"IP Insights Score\")\n",
    "plt.ylabel(\"Frequency\")\n",
    "\n",
    "plt.figure()"
   ]
  },
  {
   "cell_type": "markdown",
   "id": "34f2a410",
   "metadata": {
    "papermill": {
     "duration": 0.12494,
     "end_time": "2021-05-18T00:40:34.459038",
     "exception": false,
     "start_time": "2021-05-18T00:40:34.334098",
     "status": "completed"
    },
    "tags": []
   },
   "source": [
    "### 4. Selecting a Good Threshold\n",
    "\n",
    "As we see in the figure above, there is a clear separation between normal traffic and random traffic. \n",
    "We could select a threshold depending on the application.\n",
    "\n",
    "- If we were working with low impact decisions, such as whether to ask for another factor or authentication during login, we could use a `threshold = 0.0`. This would result in catching more true-positives, at the cost of more false-positives. \n",
    "\n",
    "- If our decision system were more sensitive to false positives, we could choose a larger threshold, such as `threshold = 10.0`. That way if we were sending the flagged cases to manual investigation, we would have a higher confidence that the acitivty was suspicious. "
   ]
  },
  {
   "cell_type": "code",
   "execution_count": 28,
   "id": "5d889efb",
   "metadata": {
    "execution": {
     "iopub.execute_input": "2021-05-18T00:40:34.722582Z",
     "iopub.status.busy": "2021-05-18T00:40:34.722104Z",
     "iopub.status.idle": "2021-05-18T00:40:34.749361Z",
     "shell.execute_reply": "2021-05-18T00:40:34.748953Z"
    },
    "papermill": {
     "duration": 0.165376,
     "end_time": "2021-05-18T00:40:34.749490",
     "exception": false,
     "start_time": "2021-05-18T00:40:34.584114",
     "status": "completed"
    },
    "tags": []
   },
   "outputs": [
    {
     "name": "stdout",
     "output_type": "stream",
     "text": [
      "When threshold is set to: 0.0\n",
      "Total of 103491 flagged cases\n",
      "Total of 98453 flagged cases are true positives\n",
      "True Positive Rate: 0.951319438405272\n",
      "Recall: 0.98453\n",
      "Precision: 0.951319438405272\n"
     ]
    }
   ],
   "source": [
    "threshold = 0.0\n",
    "\n",
    "flagged_cases = test_case[np.array(test_case_scores) > threshold]\n",
    "\n",
    "num_flagged_cases = len(flagged_cases)\n",
    "num_true_positives = len(flagged_cases[flagged_cases[\"label\"] == 1])\n",
    "num_false_positives = len(flagged_cases[flagged_cases[\"label\"] == 0])\n",
    "num_all_positives = len(test_case.loc[test_case[\"label\"] == 1])\n",
    "\n",
    "print(f\"When threshold is set to: {threshold}\")\n",
    "print(f\"Total of {num_flagged_cases} flagged cases\")\n",
    "print(f\"Total of {num_true_positives} flagged cases are true positives\")\n",
    "print(f\"True Positive Rate: {num_true_positives / float(num_flagged_cases)}\")\n",
    "print(f\"Recall: {num_true_positives / float(num_all_positives)}\")\n",
    "print(f\"Precision: {num_true_positives / float(num_flagged_cases)}\")"
   ]
  },
  {
   "cell_type": "markdown",
   "id": "9dc5430b",
   "metadata": {
    "papermill": {
     "duration": 0.126925,
     "end_time": "2021-05-18T00:40:35.003351",
     "exception": false,
     "start_time": "2021-05-18T00:40:34.876426",
     "status": "completed"
    },
    "tags": []
   },
   "source": [
    "## Epilogue\n",
    "----\n",
    "\n",
    "In this notebook, we have showed how to configure the basic training, deployment, and usage of the Amazon SageMaker IP Insights algorithm. All SageMaker algorithms come with support for two additional services that make optimizing and using the algorithm that much easier: Automatic Model Tuning and Batch Transform service. \n",
    "\n",
    "\n",
    "### Amazon SageMaker Automatic Model Tuning\n",
    "The results above were based on using the default hyperparameters of the SageMaker IP Insights algorithm. If we wanted to improve the model's performance even more, we can use [Amazon SageMaker Automatic Model Tuning](https://docs.aws.amazon.com/sagemaker/latest/dg/automatic-model-tuning.html) to automate the process of finding the hyperparameters. \n",
    "\n",
    "#### Validation Dataset\n",
    "Previously, we separated our dataset into a training and test set to validate the performance of a single IP Insights model. However, when we do model tuning, we train many IP Insights models in parallel. If we were to use the same test dataset to select the best model, we bias our model selection such that we don't know if we selected the best model in general, or just the best model for that particular dateaset. \n",
    "\n",
    "Therefore, we need to separate our test set into a validation dataset and a test dataset. The validation dataset is used for model selection. Then once we pick the model with the best performance, we evaluate it the winner on a test set just as before. \n",
    "\n",
    "#### Validation Metrics\n",
    "For SageMaker Automatic Model Tuning to work, we need an objective metric which determines the performance of the model we want to optimize. Because SageMaker IP Insights is an usupervised algorithm, we do not have a clearly defined metric for performance (such as percentage of fraudulent events discovered). \n",
    "\n",
    "We allow the user to provide a validation set of sample data (same format as training data bove) through the `validation` channel. We then fix the negative sampling strategy to use `random_negative_sampling_rate=1` and `shuffled_negative_sampling_rate=0` and generate a validation dataset by assigning corresponding labels to the real and simulated data. We then calculate the model's `descriminator_auc` metric. We do this by taking the model's predicted labels and the 'true' simulated labels and compute the Area Under ROC Curve (AUC) on the model's performance.\n",
    "\n",
    "We set up the `HyperParameterTuner` to maximize the `discriminator_auc` on the validation dataset. We also need to set the search space for the hyperparameters. We give recommended ranges for the hyperparmaeters in the [Amazon SageMaker IP Insights (Hyperparameters)](https://docs.aws.amazon.com/sagemaker/latest/dg/ip-insights-hyperparameters.html) documentation. \n"
   ]
  },
  {
   "cell_type": "code",
   "execution_count": 29,
   "id": "f7edb8f9",
   "metadata": {
    "execution": {
     "iopub.execute_input": "2021-05-18T00:40:35.260490Z",
     "iopub.status.busy": "2021-05-18T00:40:35.260011Z",
     "iopub.status.idle": "2021-05-18T00:40:35.312769Z",
     "shell.execute_reply": "2021-05-18T00:40:35.312363Z"
    },
    "papermill": {
     "duration": 0.183154,
     "end_time": "2021-05-18T00:40:35.312881",
     "exception": false,
     "start_time": "2021-05-18T00:40:35.129727",
     "status": "completed"
    },
    "tags": []
   },
   "outputs": [
    {
     "data": {
      "text/plain": [
       "count                  916889\n",
       "unique                 251571\n",
       "top       2018-11-12 22:10:23\n",
       "freq                       15\n",
       "first     2018-11-11 00:00:01\n",
       "last      2018-11-14 00:00:00\n",
       "Name: timestamp, dtype: object"
      ]
     },
     "execution_count": 29,
     "metadata": {},
     "output_type": "execute_result"
    }
   ],
   "source": [
    "test_df[\"timestamp\"].describe()"
   ]
  },
  {
   "cell_type": "markdown",
   "id": "8ff13b7c",
   "metadata": {
    "papermill": {
     "duration": 0.126911,
     "end_time": "2021-05-18T00:40:35.567035",
     "exception": false,
     "start_time": "2021-05-18T00:40:35.440124",
     "status": "completed"
    },
    "tags": []
   },
   "source": [
    "The test set we constructed above spans 3 days. We reserve the first day as the validation set and the subsequent two days for the test set. "
   ]
  },
  {
   "cell_type": "code",
   "execution_count": 30,
   "id": "0c6dee81",
   "metadata": {
    "execution": {
     "iopub.execute_input": "2021-05-18T00:40:35.825385Z",
     "iopub.status.busy": "2021-05-18T00:40:35.824920Z",
     "iopub.status.idle": "2021-05-18T00:40:36.688933Z",
     "shell.execute_reply": "2021-05-18T00:40:36.688507Z"
    },
    "papermill": {
     "duration": 0.995405,
     "end_time": "2021-05-18T00:40:36.689046",
     "exception": false,
     "start_time": "2021-05-18T00:40:35.693641",
     "status": "completed"
    },
    "tags": []
   },
   "outputs": [],
   "source": [
    "time_partition = (\n",
    "    datetime(2018, 11, 13, tzinfo=pytz.FixedOffset(0))\n",
    "    if num_time_zones > 1\n",
    "    else datetime(2018, 11, 13)\n",
    ")\n",
    "\n",
    "validation_df = test_df[test_df[\"timestamp\"] < time_partition]\n",
    "test_df = test_df[test_df[\"timestamp\"] >= time_partition]\n",
    "\n",
    "valid_data = validation_df.to_csv(index=False, header=False, columns=[\"user\", \"ip_address\"])"
   ]
  },
  {
   "cell_type": "markdown",
   "id": "2a5e80e1",
   "metadata": {
    "papermill": {
     "duration": 0.125751,
     "end_time": "2021-05-18T00:40:36.939994",
     "exception": false,
     "start_time": "2021-05-18T00:40:36.814243",
     "status": "completed"
    },
    "tags": []
   },
   "source": [
    "We then upload the validation data to S3 and specify it as the validation channel. "
   ]
  },
  {
   "cell_type": "code",
   "execution_count": 31,
   "id": "96b75913",
   "metadata": {
    "execution": {
     "iopub.execute_input": "2021-05-18T00:40:37.206349Z",
     "iopub.status.busy": "2021-05-18T00:40:37.205864Z",
     "iopub.status.idle": "2021-05-18T00:40:37.726515Z",
     "shell.execute_reply": "2021-05-18T00:40:37.726105Z"
    },
    "papermill": {
     "duration": 0.660303,
     "end_time": "2021-05-18T00:40:37.726628",
     "exception": false,
     "start_time": "2021-05-18T00:40:37.066325",
     "status": "completed"
    },
    "tags": []
   },
   "outputs": [
    {
     "name": "stdout",
     "output_type": "stream",
     "text": [
      "Validation data has been uploaded to: s3://sagemaker-us-west-2-521695447989/sagemaker/ipinsights-tutorial/validation/valid.csv\n"
     ]
    }
   ],
   "source": [
    "# Upload data to S3 key\n",
    "validation_data_file = \"valid.csv\"\n",
    "key = os.path.join(prefix, \"validation\", validation_data_file)\n",
    "boto3.resource(\"s3\").Bucket(bucket).Object(key).put(Body=valid_data)\n",
    "s3_valid_data = f\"s3://{bucket}/{key}\"\n",
    "\n",
    "print(f\"Validation data has been uploaded to: {s3_valid_data}\")\n",
    "\n",
    "# Configure SageMaker IP Insights Input Channels\n",
    "input_data = {\"train\": s3_train_data, \"validation\": s3_valid_data}"
   ]
  },
  {
   "cell_type": "code",
   "execution_count": 32,
   "id": "bfe1597b",
   "metadata": {
    "execution": {
     "iopub.execute_input": "2021-05-18T00:40:38.017732Z",
     "iopub.status.busy": "2021-05-18T00:40:38.017244Z",
     "iopub.status.idle": "2021-05-18T01:15:52.176038Z",
     "shell.execute_reply": "2021-05-18T01:15:52.176396Z"
    },
    "papermill": {
     "duration": 2114.322064,
     "end_time": "2021-05-18T01:15:52.176533",
     "exception": false,
     "start_time": "2021-05-18T00:40:37.854469",
     "status": "completed"
    },
    "tags": []
   },
   "outputs": [
    {
     "name": "stdout",
     "output_type": "stream",
     "text": [
      "."
     ]
    },
    {
     "name": "stdout",
     "output_type": "stream",
     "text": [
      "."
     ]
    },
    {
     "name": "stdout",
     "output_type": "stream",
     "text": [
      "."
     ]
    },
    {
     "name": "stdout",
     "output_type": "stream",
     "text": [
      "."
     ]
    },
    {
     "name": "stdout",
     "output_type": "stream",
     "text": [
      "."
     ]
    },
    {
     "name": "stdout",
     "output_type": "stream",
     "text": [
      "."
     ]
    },
    {
     "name": "stdout",
     "output_type": "stream",
     "text": [
      "."
     ]
    },
    {
     "name": "stdout",
     "output_type": "stream",
     "text": [
      "."
     ]
    },
    {
     "name": "stdout",
     "output_type": "stream",
     "text": [
      "."
     ]
    },
    {
     "name": "stdout",
     "output_type": "stream",
     "text": [
      "."
     ]
    },
    {
     "name": "stdout",
     "output_type": "stream",
     "text": [
      "."
     ]
    },
    {
     "name": "stdout",
     "output_type": "stream",
     "text": [
      "."
     ]
    },
    {
     "name": "stdout",
     "output_type": "stream",
     "text": [
      "."
     ]
    },
    {
     "name": "stdout",
     "output_type": "stream",
     "text": [
      "."
     ]
    },
    {
     "name": "stdout",
     "output_type": "stream",
     "text": [
      "."
     ]
    },
    {
     "name": "stdout",
     "output_type": "stream",
     "text": [
      "."
     ]
    },
    {
     "name": "stdout",
     "output_type": "stream",
     "text": [
      "."
     ]
    },
    {
     "name": "stdout",
     "output_type": "stream",
     "text": [
      "."
     ]
    },
    {
     "name": "stdout",
     "output_type": "stream",
     "text": [
      "."
     ]
    },
    {
     "name": "stdout",
     "output_type": "stream",
     "text": [
      "."
     ]
    },
    {
     "name": "stdout",
     "output_type": "stream",
     "text": [
      "."
     ]
    },
    {
     "name": "stdout",
     "output_type": "stream",
     "text": [
      "."
     ]
    },
    {
     "name": "stdout",
     "output_type": "stream",
     "text": [
      "."
     ]
    },
    {
     "name": "stdout",
     "output_type": "stream",
     "text": [
      "."
     ]
    },
    {
     "name": "stdout",
     "output_type": "stream",
     "text": [
      "."
     ]
    },
    {
     "name": "stdout",
     "output_type": "stream",
     "text": [
      "."
     ]
    },
    {
     "name": "stdout",
     "output_type": "stream",
     "text": [
      "."
     ]
    },
    {
     "name": "stdout",
     "output_type": "stream",
     "text": [
      "."
     ]
    },
    {
     "name": "stdout",
     "output_type": "stream",
     "text": [
      "."
     ]
    },
    {
     "name": "stdout",
     "output_type": "stream",
     "text": [
      "."
     ]
    },
    {
     "name": "stdout",
     "output_type": "stream",
     "text": [
      "."
     ]
    },
    {
     "name": "stdout",
     "output_type": "stream",
     "text": [
      "."
     ]
    },
    {
     "name": "stdout",
     "output_type": "stream",
     "text": [
      "."
     ]
    },
    {
     "name": "stdout",
     "output_type": "stream",
     "text": [
      "."
     ]
    },
    {
     "name": "stdout",
     "output_type": "stream",
     "text": [
      "."
     ]
    },
    {
     "name": "stdout",
     "output_type": "stream",
     "text": [
      "."
     ]
    },
    {
     "name": "stdout",
     "output_type": "stream",
     "text": [
      "."
     ]
    },
    {
     "name": "stdout",
     "output_type": "stream",
     "text": [
      "."
     ]
    },
    {
     "name": "stdout",
     "output_type": "stream",
     "text": [
      "."
     ]
    },
    {
     "name": "stdout",
     "output_type": "stream",
     "text": [
      "."
     ]
    },
    {
     "name": "stdout",
     "output_type": "stream",
     "text": [
      "."
     ]
    },
    {
     "name": "stdout",
     "output_type": "stream",
     "text": [
      "."
     ]
    },
    {
     "name": "stdout",
     "output_type": "stream",
     "text": [
      "."
     ]
    },
    {
     "name": "stdout",
     "output_type": "stream",
     "text": [
      "."
     ]
    },
    {
     "name": "stdout",
     "output_type": "stream",
     "text": [
      "."
     ]
    },
    {
     "name": "stdout",
     "output_type": "stream",
     "text": [
      "."
     ]
    },
    {
     "name": "stdout",
     "output_type": "stream",
     "text": [
      "."
     ]
    },
    {
     "name": "stdout",
     "output_type": "stream",
     "text": [
      "."
     ]
    },
    {
     "name": "stdout",
     "output_type": "stream",
     "text": [
      "."
     ]
    },
    {
     "name": "stdout",
     "output_type": "stream",
     "text": [
      "."
     ]
    },
    {
     "name": "stdout",
     "output_type": "stream",
     "text": [
      "."
     ]
    },
    {
     "name": "stdout",
     "output_type": "stream",
     "text": [
      "."
     ]
    },
    {
     "name": "stdout",
     "output_type": "stream",
     "text": [
      "."
     ]
    },
    {
     "name": "stdout",
     "output_type": "stream",
     "text": [
      "."
     ]
    },
    {
     "name": "stdout",
     "output_type": "stream",
     "text": [
      "."
     ]
    },
    {
     "name": "stdout",
     "output_type": "stream",
     "text": [
      "."
     ]
    },
    {
     "name": "stdout",
     "output_type": "stream",
     "text": [
      "."
     ]
    },
    {
     "name": "stdout",
     "output_type": "stream",
     "text": [
      "."
     ]
    },
    {
     "name": "stdout",
     "output_type": "stream",
     "text": [
      "."
     ]
    },
    {
     "name": "stdout",
     "output_type": "stream",
     "text": [
      "."
     ]
    },
    {
     "name": "stdout",
     "output_type": "stream",
     "text": [
      "."
     ]
    },
    {
     "name": "stdout",
     "output_type": "stream",
     "text": [
      "."
     ]
    },
    {
     "name": "stdout",
     "output_type": "stream",
     "text": [
      "."
     ]
    },
    {
     "name": "stdout",
     "output_type": "stream",
     "text": [
      "."
     ]
    },
    {
     "name": "stdout",
     "output_type": "stream",
     "text": [
      "."
     ]
    },
    {
     "name": "stdout",
     "output_type": "stream",
     "text": [
      "."
     ]
    },
    {
     "name": "stdout",
     "output_type": "stream",
     "text": [
      "."
     ]
    },
    {
     "name": "stdout",
     "output_type": "stream",
     "text": [
      "."
     ]
    },
    {
     "name": "stdout",
     "output_type": "stream",
     "text": [
      "."
     ]
    },
    {
     "name": "stdout",
     "output_type": "stream",
     "text": [
      "."
     ]
    },
    {
     "name": "stdout",
     "output_type": "stream",
     "text": [
      "."
     ]
    },
    {
     "name": "stdout",
     "output_type": "stream",
     "text": [
      "."
     ]
    },
    {
     "name": "stdout",
     "output_type": "stream",
     "text": [
      "."
     ]
    },
    {
     "name": "stdout",
     "output_type": "stream",
     "text": [
      "."
     ]
    },
    {
     "name": "stdout",
     "output_type": "stream",
     "text": [
      "."
     ]
    },
    {
     "name": "stdout",
     "output_type": "stream",
     "text": [
      "."
     ]
    },
    {
     "name": "stdout",
     "output_type": "stream",
     "text": [
      "."
     ]
    },
    {
     "name": "stdout",
     "output_type": "stream",
     "text": [
      "."
     ]
    },
    {
     "name": "stdout",
     "output_type": "stream",
     "text": [
      "."
     ]
    },
    {
     "name": "stdout",
     "output_type": "stream",
     "text": [
      "."
     ]
    },
    {
     "name": "stdout",
     "output_type": "stream",
     "text": [
      "."
     ]
    },
    {
     "name": "stdout",
     "output_type": "stream",
     "text": [
      "."
     ]
    },
    {
     "name": "stdout",
     "output_type": "stream",
     "text": [
      "."
     ]
    },
    {
     "name": "stdout",
     "output_type": "stream",
     "text": [
      "."
     ]
    },
    {
     "name": "stdout",
     "output_type": "stream",
     "text": [
      "."
     ]
    },
    {
     "name": "stdout",
     "output_type": "stream",
     "text": [
      "."
     ]
    },
    {
     "name": "stdout",
     "output_type": "stream",
     "text": [
      "."
     ]
    },
    {
     "name": "stdout",
     "output_type": "stream",
     "text": [
      "."
     ]
    },
    {
     "name": "stdout",
     "output_type": "stream",
     "text": [
      "."
     ]
    },
    {
     "name": "stdout",
     "output_type": "stream",
     "text": [
      "."
     ]
    },
    {
     "name": "stdout",
     "output_type": "stream",
     "text": [
      "."
     ]
    },
    {
     "name": "stdout",
     "output_type": "stream",
     "text": [
      "."
     ]
    },
    {
     "name": "stdout",
     "output_type": "stream",
     "text": [
      "."
     ]
    },
    {
     "name": "stdout",
     "output_type": "stream",
     "text": [
      "."
     ]
    },
    {
     "name": "stdout",
     "output_type": "stream",
     "text": [
      "."
     ]
    },
    {
     "name": "stdout",
     "output_type": "stream",
     "text": [
      "."
     ]
    },
    {
     "name": "stdout",
     "output_type": "stream",
     "text": [
      "."
     ]
    },
    {
     "name": "stdout",
     "output_type": "stream",
     "text": [
      "."
     ]
    },
    {
     "name": "stdout",
     "output_type": "stream",
     "text": [
      "."
     ]
    },
    {
     "name": "stdout",
     "output_type": "stream",
     "text": [
      "."
     ]
    },
    {
     "name": "stdout",
     "output_type": "stream",
     "text": [
      "."
     ]
    },
    {
     "name": "stdout",
     "output_type": "stream",
     "text": [
      "."
     ]
    },
    {
     "name": "stdout",
     "output_type": "stream",
     "text": [
      "."
     ]
    },
    {
     "name": "stdout",
     "output_type": "stream",
     "text": [
      "."
     ]
    },
    {
     "name": "stdout",
     "output_type": "stream",
     "text": [
      "."
     ]
    },
    {
     "name": "stdout",
     "output_type": "stream",
     "text": [
      "."
     ]
    },
    {
     "name": "stdout",
     "output_type": "stream",
     "text": [
      "."
     ]
    },
    {
     "name": "stdout",
     "output_type": "stream",
     "text": [
      "."
     ]
    },
    {
     "name": "stdout",
     "output_type": "stream",
     "text": [
      "."
     ]
    },
    {
     "name": "stdout",
     "output_type": "stream",
     "text": [
      "."
     ]
    },
    {
     "name": "stdout",
     "output_type": "stream",
     "text": [
      "."
     ]
    },
    {
     "name": "stdout",
     "output_type": "stream",
     "text": [
      "."
     ]
    },
    {
     "name": "stdout",
     "output_type": "stream",
     "text": [
      "."
     ]
    },
    {
     "name": "stdout",
     "output_type": "stream",
     "text": [
      "."
     ]
    },
    {
     "name": "stdout",
     "output_type": "stream",
     "text": [
      "."
     ]
    },
    {
     "name": "stdout",
     "output_type": "stream",
     "text": [
      "."
     ]
    },
    {
     "name": "stdout",
     "output_type": "stream",
     "text": [
      "."
     ]
    },
    {
     "name": "stdout",
     "output_type": "stream",
     "text": [
      "."
     ]
    },
    {
     "name": "stdout",
     "output_type": "stream",
     "text": [
      "."
     ]
    },
    {
     "name": "stdout",
     "output_type": "stream",
     "text": [
      "."
     ]
    },
    {
     "name": "stdout",
     "output_type": "stream",
     "text": [
      "."
     ]
    },
    {
     "name": "stdout",
     "output_type": "stream",
     "text": [
      "."
     ]
    },
    {
     "name": "stdout",
     "output_type": "stream",
     "text": [
      "."
     ]
    },
    {
     "name": "stdout",
     "output_type": "stream",
     "text": [
      "."
     ]
    },
    {
     "name": "stdout",
     "output_type": "stream",
     "text": [
      "."
     ]
    },
    {
     "name": "stdout",
     "output_type": "stream",
     "text": [
      "."
     ]
    },
    {
     "name": "stdout",
     "output_type": "stream",
     "text": [
      "."
     ]
    },
    {
     "name": "stdout",
     "output_type": "stream",
     "text": [
      "."
     ]
    },
    {
     "name": "stdout",
     "output_type": "stream",
     "text": [
      "."
     ]
    },
    {
     "name": "stdout",
     "output_type": "stream",
     "text": [
      "."
     ]
    },
    {
     "name": "stdout",
     "output_type": "stream",
     "text": [
      "."
     ]
    },
    {
     "name": "stdout",
     "output_type": "stream",
     "text": [
      "."
     ]
    },
    {
     "name": "stdout",
     "output_type": "stream",
     "text": [
      "."
     ]
    },
    {
     "name": "stdout",
     "output_type": "stream",
     "text": [
      "."
     ]
    },
    {
     "name": "stdout",
     "output_type": "stream",
     "text": [
      "."
     ]
    },
    {
     "name": "stdout",
     "output_type": "stream",
     "text": [
      "."
     ]
    },
    {
     "name": "stdout",
     "output_type": "stream",
     "text": [
      "."
     ]
    },
    {
     "name": "stdout",
     "output_type": "stream",
     "text": [
      "."
     ]
    },
    {
     "name": "stdout",
     "output_type": "stream",
     "text": [
      "."
     ]
    },
    {
     "name": "stdout",
     "output_type": "stream",
     "text": [
      "."
     ]
    },
    {
     "name": "stdout",
     "output_type": "stream",
     "text": [
      "."
     ]
    },
    {
     "name": "stdout",
     "output_type": "stream",
     "text": [
      "."
     ]
    },
    {
     "name": "stdout",
     "output_type": "stream",
     "text": [
      "."
     ]
    },
    {
     "name": "stdout",
     "output_type": "stream",
     "text": [
      "."
     ]
    },
    {
     "name": "stdout",
     "output_type": "stream",
     "text": [
      "."
     ]
    },
    {
     "name": "stdout",
     "output_type": "stream",
     "text": [
      "."
     ]
    },
    {
     "name": "stdout",
     "output_type": "stream",
     "text": [
      "."
     ]
    },
    {
     "name": "stdout",
     "output_type": "stream",
     "text": [
      "."
     ]
    },
    {
     "name": "stdout",
     "output_type": "stream",
     "text": [
      "."
     ]
    },
    {
     "name": "stdout",
     "output_type": "stream",
     "text": [
      "."
     ]
    },
    {
     "name": "stdout",
     "output_type": "stream",
     "text": [
      "."
     ]
    },
    {
     "name": "stdout",
     "output_type": "stream",
     "text": [
      "."
     ]
    },
    {
     "name": "stdout",
     "output_type": "stream",
     "text": [
      "."
     ]
    },
    {
     "name": "stdout",
     "output_type": "stream",
     "text": [
      "."
     ]
    },
    {
     "name": "stdout",
     "output_type": "stream",
     "text": [
      "."
     ]
    },
    {
     "name": "stdout",
     "output_type": "stream",
     "text": [
      "."
     ]
    },
    {
     "name": "stdout",
     "output_type": "stream",
     "text": [
      "."
     ]
    },
    {
     "name": "stdout",
     "output_type": "stream",
     "text": [
      "."
     ]
    },
    {
     "name": "stdout",
     "output_type": "stream",
     "text": [
      "."
     ]
    },
    {
     "name": "stdout",
     "output_type": "stream",
     "text": [
      "."
     ]
    },
    {
     "name": "stdout",
     "output_type": "stream",
     "text": [
      "."
     ]
    },
    {
     "name": "stdout",
     "output_type": "stream",
     "text": [
      "."
     ]
    },
    {
     "name": "stdout",
     "output_type": "stream",
     "text": [
      "."
     ]
    },
    {
     "name": "stdout",
     "output_type": "stream",
     "text": [
      "."
     ]
    },
    {
     "name": "stdout",
     "output_type": "stream",
     "text": [
      "."
     ]
    },
    {
     "name": "stdout",
     "output_type": "stream",
     "text": [
      "."
     ]
    },
    {
     "name": "stdout",
     "output_type": "stream",
     "text": [
      "."
     ]
    },
    {
     "name": "stdout",
     "output_type": "stream",
     "text": [
      "."
     ]
    },
    {
     "name": "stdout",
     "output_type": "stream",
     "text": [
      "."
     ]
    },
    {
     "name": "stdout",
     "output_type": "stream",
     "text": [
      "."
     ]
    },
    {
     "name": "stdout",
     "output_type": "stream",
     "text": [
      "."
     ]
    },
    {
     "name": "stdout",
     "output_type": "stream",
     "text": [
      "."
     ]
    },
    {
     "name": "stdout",
     "output_type": "stream",
     "text": [
      "."
     ]
    },
    {
     "name": "stdout",
     "output_type": "stream",
     "text": [
      "."
     ]
    },
    {
     "name": "stdout",
     "output_type": "stream",
     "text": [
      "."
     ]
    },
    {
     "name": "stdout",
     "output_type": "stream",
     "text": [
      "."
     ]
    },
    {
     "name": "stdout",
     "output_type": "stream",
     "text": [
      "."
     ]
    },
    {
     "name": "stdout",
     "output_type": "stream",
     "text": [
      "."
     ]
    },
    {
     "name": "stdout",
     "output_type": "stream",
     "text": [
      "."
     ]
    },
    {
     "name": "stdout",
     "output_type": "stream",
     "text": [
      "."
     ]
    },
    {
     "name": "stdout",
     "output_type": "stream",
     "text": [
      "."
     ]
    },
    {
     "name": "stdout",
     "output_type": "stream",
     "text": [
      "."
     ]
    },
    {
     "name": "stdout",
     "output_type": "stream",
     "text": [
      "."
     ]
    },
    {
     "name": "stdout",
     "output_type": "stream",
     "text": [
      "."
     ]
    },
    {
     "name": "stdout",
     "output_type": "stream",
     "text": [
      "."
     ]
    },
    {
     "name": "stdout",
     "output_type": "stream",
     "text": [
      "."
     ]
    },
    {
     "name": "stdout",
     "output_type": "stream",
     "text": [
      "."
     ]
    },
    {
     "name": "stdout",
     "output_type": "stream",
     "text": [
      "."
     ]
    },
    {
     "name": "stdout",
     "output_type": "stream",
     "text": [
      "."
     ]
    },
    {
     "name": "stdout",
     "output_type": "stream",
     "text": [
      "."
     ]
    },
    {
     "name": "stdout",
     "output_type": "stream",
     "text": [
      "."
     ]
    },
    {
     "name": "stdout",
     "output_type": "stream",
     "text": [
      "."
     ]
    },
    {
     "name": "stdout",
     "output_type": "stream",
     "text": [
      "."
     ]
    },
    {
     "name": "stdout",
     "output_type": "stream",
     "text": [
      "."
     ]
    },
    {
     "name": "stdout",
     "output_type": "stream",
     "text": [
      "."
     ]
    },
    {
     "name": "stdout",
     "output_type": "stream",
     "text": [
      "."
     ]
    },
    {
     "name": "stdout",
     "output_type": "stream",
     "text": [
      "."
     ]
    },
    {
     "name": "stdout",
     "output_type": "stream",
     "text": [
      "."
     ]
    },
    {
     "name": "stdout",
     "output_type": "stream",
     "text": [
      "."
     ]
    },
    {
     "name": "stdout",
     "output_type": "stream",
     "text": [
      "."
     ]
    },
    {
     "name": "stdout",
     "output_type": "stream",
     "text": [
      "."
     ]
    },
    {
     "name": "stdout",
     "output_type": "stream",
     "text": [
      "."
     ]
    },
    {
     "name": "stdout",
     "output_type": "stream",
     "text": [
      "."
     ]
    },
    {
     "name": "stdout",
     "output_type": "stream",
     "text": [
      "."
     ]
    },
    {
     "name": "stdout",
     "output_type": "stream",
     "text": [
      "."
     ]
    },
    {
     "name": "stdout",
     "output_type": "stream",
     "text": [
      "."
     ]
    },
    {
     "name": "stdout",
     "output_type": "stream",
     "text": [
      "."
     ]
    },
    {
     "name": "stdout",
     "output_type": "stream",
     "text": [
      "."
     ]
    },
    {
     "name": "stdout",
     "output_type": "stream",
     "text": [
      "."
     ]
    },
    {
     "name": "stdout",
     "output_type": "stream",
     "text": [
      "."
     ]
    },
    {
     "name": "stdout",
     "output_type": "stream",
     "text": [
      "."
     ]
    },
    {
     "name": "stdout",
     "output_type": "stream",
     "text": [
      "."
     ]
    },
    {
     "name": "stdout",
     "output_type": "stream",
     "text": [
      "."
     ]
    },
    {
     "name": "stdout",
     "output_type": "stream",
     "text": [
      "."
     ]
    },
    {
     "name": "stdout",
     "output_type": "stream",
     "text": [
      "."
     ]
    },
    {
     "name": "stdout",
     "output_type": "stream",
     "text": [
      "."
     ]
    },
    {
     "name": "stdout",
     "output_type": "stream",
     "text": [
      "."
     ]
    },
    {
     "name": "stdout",
     "output_type": "stream",
     "text": [
      "."
     ]
    },
    {
     "name": "stdout",
     "output_type": "stream",
     "text": [
      "."
     ]
    },
    {
     "name": "stdout",
     "output_type": "stream",
     "text": [
      "."
     ]
    },
    {
     "name": "stdout",
     "output_type": "stream",
     "text": [
      "."
     ]
    },
    {
     "name": "stdout",
     "output_type": "stream",
     "text": [
      "."
     ]
    },
    {
     "name": "stdout",
     "output_type": "stream",
     "text": [
      "."
     ]
    },
    {
     "name": "stdout",
     "output_type": "stream",
     "text": [
      "."
     ]
    },
    {
     "name": "stdout",
     "output_type": "stream",
     "text": [
      "."
     ]
    },
    {
     "name": "stdout",
     "output_type": "stream",
     "text": [
      "."
     ]
    },
    {
     "name": "stdout",
     "output_type": "stream",
     "text": [
      "."
     ]
    },
    {
     "name": "stdout",
     "output_type": "stream",
     "text": [
      "."
     ]
    },
    {
     "name": "stdout",
     "output_type": "stream",
     "text": [
      "."
     ]
    },
    {
     "name": "stdout",
     "output_type": "stream",
     "text": [
      "."
     ]
    },
    {
     "name": "stdout",
     "output_type": "stream",
     "text": [
      "."
     ]
    },
    {
     "name": "stdout",
     "output_type": "stream",
     "text": [
      "."
     ]
    },
    {
     "name": "stdout",
     "output_type": "stream",
     "text": [
      "."
     ]
    },
    {
     "name": "stdout",
     "output_type": "stream",
     "text": [
      "."
     ]
    },
    {
     "name": "stdout",
     "output_type": "stream",
     "text": [
      "."
     ]
    },
    {
     "name": "stdout",
     "output_type": "stream",
     "text": [
      "."
     ]
    },
    {
     "name": "stdout",
     "output_type": "stream",
     "text": [
      "."
     ]
    },
    {
     "name": "stdout",
     "output_type": "stream",
     "text": [
      "."
     ]
    },
    {
     "name": "stdout",
     "output_type": "stream",
     "text": [
      "."
     ]
    },
    {
     "name": "stdout",
     "output_type": "stream",
     "text": [
      "."
     ]
    },
    {
     "name": "stdout",
     "output_type": "stream",
     "text": [
      "."
     ]
    },
    {
     "name": "stdout",
     "output_type": "stream",
     "text": [
      "."
     ]
    },
    {
     "name": "stdout",
     "output_type": "stream",
     "text": [
      "."
     ]
    },
    {
     "name": "stdout",
     "output_type": "stream",
     "text": [
      "."
     ]
    },
    {
     "name": "stdout",
     "output_type": "stream",
     "text": [
      "."
     ]
    },
    {
     "name": "stdout",
     "output_type": "stream",
     "text": [
      "."
     ]
    },
    {
     "name": "stdout",
     "output_type": "stream",
     "text": [
      "."
     ]
    },
    {
     "name": "stdout",
     "output_type": "stream",
     "text": [
      "."
     ]
    },
    {
     "name": "stdout",
     "output_type": "stream",
     "text": [
      "."
     ]
    },
    {
     "name": "stdout",
     "output_type": "stream",
     "text": [
      "."
     ]
    },
    {
     "name": "stdout",
     "output_type": "stream",
     "text": [
      "."
     ]
    },
    {
     "name": "stdout",
     "output_type": "stream",
     "text": [
      "."
     ]
    },
    {
     "name": "stdout",
     "output_type": "stream",
     "text": [
      "."
     ]
    },
    {
     "name": "stdout",
     "output_type": "stream",
     "text": [
      "."
     ]
    },
    {
     "name": "stdout",
     "output_type": "stream",
     "text": [
      "."
     ]
    },
    {
     "name": "stdout",
     "output_type": "stream",
     "text": [
      "."
     ]
    },
    {
     "name": "stdout",
     "output_type": "stream",
     "text": [
      "."
     ]
    },
    {
     "name": "stdout",
     "output_type": "stream",
     "text": [
      "."
     ]
    },
    {
     "name": "stdout",
     "output_type": "stream",
     "text": [
      "."
     ]
    },
    {
     "name": "stdout",
     "output_type": "stream",
     "text": [
      "."
     ]
    },
    {
     "name": "stdout",
     "output_type": "stream",
     "text": [
      "."
     ]
    },
    {
     "name": "stdout",
     "output_type": "stream",
     "text": [
      "."
     ]
    },
    {
     "name": "stdout",
     "output_type": "stream",
     "text": [
      "."
     ]
    },
    {
     "name": "stdout",
     "output_type": "stream",
     "text": [
      "."
     ]
    },
    {
     "name": "stdout",
     "output_type": "stream",
     "text": [
      "."
     ]
    },
    {
     "name": "stdout",
     "output_type": "stream",
     "text": [
      "."
     ]
    },
    {
     "name": "stdout",
     "output_type": "stream",
     "text": [
      "."
     ]
    },
    {
     "name": "stdout",
     "output_type": "stream",
     "text": [
      "."
     ]
    },
    {
     "name": "stdout",
     "output_type": "stream",
     "text": [
      "."
     ]
    },
    {
     "name": "stdout",
     "output_type": "stream",
     "text": [
      "."
     ]
    },
    {
     "name": "stdout",
     "output_type": "stream",
     "text": [
      "."
     ]
    },
    {
     "name": "stdout",
     "output_type": "stream",
     "text": [
      "."
     ]
    },
    {
     "name": "stdout",
     "output_type": "stream",
     "text": [
      "."
     ]
    },
    {
     "name": "stdout",
     "output_type": "stream",
     "text": [
      "."
     ]
    },
    {
     "name": "stdout",
     "output_type": "stream",
     "text": [
      "."
     ]
    },
    {
     "name": "stdout",
     "output_type": "stream",
     "text": [
      "."
     ]
    },
    {
     "name": "stdout",
     "output_type": "stream",
     "text": [
      "."
     ]
    },
    {
     "name": "stdout",
     "output_type": "stream",
     "text": [
      "."
     ]
    },
    {
     "name": "stdout",
     "output_type": "stream",
     "text": [
      "."
     ]
    },
    {
     "name": "stdout",
     "output_type": "stream",
     "text": [
      "."
     ]
    },
    {
     "name": "stdout",
     "output_type": "stream",
     "text": [
      "."
     ]
    },
    {
     "name": "stdout",
     "output_type": "stream",
     "text": [
      "."
     ]
    },
    {
     "name": "stdout",
     "output_type": "stream",
     "text": [
      "."
     ]
    },
    {
     "name": "stdout",
     "output_type": "stream",
     "text": [
      "."
     ]
    },
    {
     "name": "stdout",
     "output_type": "stream",
     "text": [
      "."
     ]
    },
    {
     "name": "stdout",
     "output_type": "stream",
     "text": [
      "."
     ]
    },
    {
     "name": "stdout",
     "output_type": "stream",
     "text": [
      "."
     ]
    },
    {
     "name": "stdout",
     "output_type": "stream",
     "text": [
      "."
     ]
    },
    {
     "name": "stdout",
     "output_type": "stream",
     "text": [
      "."
     ]
    },
    {
     "name": "stdout",
     "output_type": "stream",
     "text": [
      "."
     ]
    },
    {
     "name": "stdout",
     "output_type": "stream",
     "text": [
      "."
     ]
    },
    {
     "name": "stdout",
     "output_type": "stream",
     "text": [
      "."
     ]
    },
    {
     "name": "stdout",
     "output_type": "stream",
     "text": [
      "."
     ]
    },
    {
     "name": "stdout",
     "output_type": "stream",
     "text": [
      "."
     ]
    },
    {
     "name": "stdout",
     "output_type": "stream",
     "text": [
      "."
     ]
    },
    {
     "name": "stdout",
     "output_type": "stream",
     "text": [
      "."
     ]
    },
    {
     "name": "stdout",
     "output_type": "stream",
     "text": [
      "."
     ]
    },
    {
     "name": "stdout",
     "output_type": "stream",
     "text": [
      "."
     ]
    },
    {
     "name": "stdout",
     "output_type": "stream",
     "text": [
      "."
     ]
    },
    {
     "name": "stdout",
     "output_type": "stream",
     "text": [
      "."
     ]
    },
    {
     "name": "stdout",
     "output_type": "stream",
     "text": [
      "."
     ]
    },
    {
     "name": "stdout",
     "output_type": "stream",
     "text": [
      "."
     ]
    },
    {
     "name": "stdout",
     "output_type": "stream",
     "text": [
      "."
     ]
    },
    {
     "name": "stdout",
     "output_type": "stream",
     "text": [
      "."
     ]
    },
    {
     "name": "stdout",
     "output_type": "stream",
     "text": [
      "."
     ]
    },
    {
     "name": "stdout",
     "output_type": "stream",
     "text": [
      "."
     ]
    },
    {
     "name": "stdout",
     "output_type": "stream",
     "text": [
      "."
     ]
    },
    {
     "name": "stdout",
     "output_type": "stream",
     "text": [
      "."
     ]
    },
    {
     "name": "stdout",
     "output_type": "stream",
     "text": [
      "."
     ]
    },
    {
     "name": "stdout",
     "output_type": "stream",
     "text": [
      "."
     ]
    },
    {
     "name": "stdout",
     "output_type": "stream",
     "text": [
      "."
     ]
    },
    {
     "name": "stdout",
     "output_type": "stream",
     "text": [
      "."
     ]
    },
    {
     "name": "stdout",
     "output_type": "stream",
     "text": [
      "."
     ]
    },
    {
     "name": "stdout",
     "output_type": "stream",
     "text": [
      "."
     ]
    },
    {
     "name": "stdout",
     "output_type": "stream",
     "text": [
      "."
     ]
    },
    {
     "name": "stdout",
     "output_type": "stream",
     "text": [
      "."
     ]
    },
    {
     "name": "stdout",
     "output_type": "stream",
     "text": [
      "."
     ]
    },
    {
     "name": "stdout",
     "output_type": "stream",
     "text": [
      "."
     ]
    },
    {
     "name": "stdout",
     "output_type": "stream",
     "text": [
      "."
     ]
    },
    {
     "name": "stdout",
     "output_type": "stream",
     "text": [
      "."
     ]
    },
    {
     "name": "stdout",
     "output_type": "stream",
     "text": [
      "."
     ]
    },
    {
     "name": "stdout",
     "output_type": "stream",
     "text": [
      "."
     ]
    },
    {
     "name": "stdout",
     "output_type": "stream",
     "text": [
      "."
     ]
    },
    {
     "name": "stdout",
     "output_type": "stream",
     "text": [
      "."
     ]
    },
    {
     "name": "stdout",
     "output_type": "stream",
     "text": [
      "."
     ]
    },
    {
     "name": "stdout",
     "output_type": "stream",
     "text": [
      "."
     ]
    },
    {
     "name": "stdout",
     "output_type": "stream",
     "text": [
      "."
     ]
    },
    {
     "name": "stdout",
     "output_type": "stream",
     "text": [
      "."
     ]
    },
    {
     "name": "stdout",
     "output_type": "stream",
     "text": [
      "."
     ]
    },
    {
     "name": "stdout",
     "output_type": "stream",
     "text": [
      "."
     ]
    },
    {
     "name": "stdout",
     "output_type": "stream",
     "text": [
      "."
     ]
    },
    {
     "name": "stdout",
     "output_type": "stream",
     "text": [
      "."
     ]
    },
    {
     "name": "stdout",
     "output_type": "stream",
     "text": [
      "."
     ]
    },
    {
     "name": "stdout",
     "output_type": "stream",
     "text": [
      "."
     ]
    },
    {
     "name": "stdout",
     "output_type": "stream",
     "text": [
      "."
     ]
    },
    {
     "name": "stdout",
     "output_type": "stream",
     "text": [
      "."
     ]
    },
    {
     "name": "stdout",
     "output_type": "stream",
     "text": [
      "."
     ]
    },
    {
     "name": "stdout",
     "output_type": "stream",
     "text": [
      "."
     ]
    },
    {
     "name": "stdout",
     "output_type": "stream",
     "text": [
      "."
     ]
    },
    {
     "name": "stdout",
     "output_type": "stream",
     "text": [
      "."
     ]
    },
    {
     "name": "stdout",
     "output_type": "stream",
     "text": [
      "."
     ]
    },
    {
     "name": "stdout",
     "output_type": "stream",
     "text": [
      "."
     ]
    },
    {
     "name": "stdout",
     "output_type": "stream",
     "text": [
      "."
     ]
    },
    {
     "name": "stdout",
     "output_type": "stream",
     "text": [
      "."
     ]
    },
    {
     "name": "stdout",
     "output_type": "stream",
     "text": [
      "."
     ]
    },
    {
     "name": "stdout",
     "output_type": "stream",
     "text": [
      "."
     ]
    },
    {
     "name": "stdout",
     "output_type": "stream",
     "text": [
      "."
     ]
    },
    {
     "name": "stdout",
     "output_type": "stream",
     "text": [
      "."
     ]
    },
    {
     "name": "stdout",
     "output_type": "stream",
     "text": [
      "."
     ]
    },
    {
     "name": "stdout",
     "output_type": "stream",
     "text": [
      "."
     ]
    },
    {
     "name": "stdout",
     "output_type": "stream",
     "text": [
      "."
     ]
    },
    {
     "name": "stdout",
     "output_type": "stream",
     "text": [
      "."
     ]
    },
    {
     "name": "stdout",
     "output_type": "stream",
     "text": [
      "."
     ]
    },
    {
     "name": "stdout",
     "output_type": "stream",
     "text": [
      "."
     ]
    },
    {
     "name": "stdout",
     "output_type": "stream",
     "text": [
      "."
     ]
    },
    {
     "name": "stdout",
     "output_type": "stream",
     "text": [
      "."
     ]
    },
    {
     "name": "stdout",
     "output_type": "stream",
     "text": [
      "."
     ]
    },
    {
     "name": "stdout",
     "output_type": "stream",
     "text": [
      "."
     ]
    },
    {
     "name": "stdout",
     "output_type": "stream",
     "text": [
      "."
     ]
    },
    {
     "name": "stdout",
     "output_type": "stream",
     "text": [
      "."
     ]
    },
    {
     "name": "stdout",
     "output_type": "stream",
     "text": [
      "."
     ]
    },
    {
     "name": "stdout",
     "output_type": "stream",
     "text": [
      "."
     ]
    },
    {
     "name": "stdout",
     "output_type": "stream",
     "text": [
      "."
     ]
    },
    {
     "name": "stdout",
     "output_type": "stream",
     "text": [
      "."
     ]
    },
    {
     "name": "stdout",
     "output_type": "stream",
     "text": [
      "."
     ]
    },
    {
     "name": "stdout",
     "output_type": "stream",
     "text": [
      "."
     ]
    },
    {
     "name": "stdout",
     "output_type": "stream",
     "text": [
      "."
     ]
    },
    {
     "name": "stdout",
     "output_type": "stream",
     "text": [
      "."
     ]
    },
    {
     "name": "stdout",
     "output_type": "stream",
     "text": [
      "."
     ]
    },
    {
     "name": "stdout",
     "output_type": "stream",
     "text": [
      "."
     ]
    },
    {
     "name": "stdout",
     "output_type": "stream",
     "text": [
      "."
     ]
    },
    {
     "name": "stdout",
     "output_type": "stream",
     "text": [
      "."
     ]
    },
    {
     "name": "stdout",
     "output_type": "stream",
     "text": [
      "."
     ]
    },
    {
     "name": "stdout",
     "output_type": "stream",
     "text": [
      "."
     ]
    },
    {
     "name": "stdout",
     "output_type": "stream",
     "text": [
      "."
     ]
    },
    {
     "name": "stdout",
     "output_type": "stream",
     "text": [
      "."
     ]
    },
    {
     "name": "stdout",
     "output_type": "stream",
     "text": [
      "."
     ]
    },
    {
     "name": "stdout",
     "output_type": "stream",
     "text": [
      "."
     ]
    },
    {
     "name": "stdout",
     "output_type": "stream",
     "text": [
      "."
     ]
    },
    {
     "name": "stdout",
     "output_type": "stream",
     "text": [
      "."
     ]
    },
    {
     "name": "stdout",
     "output_type": "stream",
     "text": [
      "."
     ]
    },
    {
     "name": "stdout",
     "output_type": "stream",
     "text": [
      "."
     ]
    },
    {
     "name": "stdout",
     "output_type": "stream",
     "text": [
      "."
     ]
    },
    {
     "name": "stdout",
     "output_type": "stream",
     "text": [
      "."
     ]
    },
    {
     "name": "stdout",
     "output_type": "stream",
     "text": [
      "."
     ]
    },
    {
     "name": "stdout",
     "output_type": "stream",
     "text": [
      "."
     ]
    },
    {
     "name": "stdout",
     "output_type": "stream",
     "text": [
      "."
     ]
    },
    {
     "name": "stdout",
     "output_type": "stream",
     "text": [
      "."
     ]
    },
    {
     "name": "stdout",
     "output_type": "stream",
     "text": [
      "."
     ]
    },
    {
     "name": "stdout",
     "output_type": "stream",
     "text": [
      "."
     ]
    },
    {
     "name": "stdout",
     "output_type": "stream",
     "text": [
      "."
     ]
    },
    {
     "name": "stdout",
     "output_type": "stream",
     "text": [
      "."
     ]
    },
    {
     "name": "stdout",
     "output_type": "stream",
     "text": [
      "."
     ]
    },
    {
     "name": "stdout",
     "output_type": "stream",
     "text": [
      "."
     ]
    },
    {
     "name": "stdout",
     "output_type": "stream",
     "text": [
      "."
     ]
    },
    {
     "name": "stdout",
     "output_type": "stream",
     "text": [
      "."
     ]
    },
    {
     "name": "stdout",
     "output_type": "stream",
     "text": [
      "."
     ]
    },
    {
     "name": "stdout",
     "output_type": "stream",
     "text": [
      "."
     ]
    },
    {
     "name": "stdout",
     "output_type": "stream",
     "text": [
      "."
     ]
    },
    {
     "name": "stdout",
     "output_type": "stream",
     "text": [
      "."
     ]
    },
    {
     "name": "stdout",
     "output_type": "stream",
     "text": [
      "."
     ]
    },
    {
     "name": "stdout",
     "output_type": "stream",
     "text": [
      "."
     ]
    },
    {
     "name": "stdout",
     "output_type": "stream",
     "text": [
      "."
     ]
    },
    {
     "name": "stdout",
     "output_type": "stream",
     "text": [
      "."
     ]
    },
    {
     "name": "stdout",
     "output_type": "stream",
     "text": [
      "."
     ]
    },
    {
     "name": "stdout",
     "output_type": "stream",
     "text": [
      "."
     ]
    },
    {
     "name": "stdout",
     "output_type": "stream",
     "text": [
      "."
     ]
    },
    {
     "name": "stdout",
     "output_type": "stream",
     "text": [
      "."
     ]
    },
    {
     "name": "stdout",
     "output_type": "stream",
     "text": [
      "."
     ]
    },
    {
     "name": "stdout",
     "output_type": "stream",
     "text": [
      "."
     ]
    },
    {
     "name": "stdout",
     "output_type": "stream",
     "text": [
      "."
     ]
    },
    {
     "name": "stdout",
     "output_type": "stream",
     "text": [
      "."
     ]
    },
    {
     "name": "stdout",
     "output_type": "stream",
     "text": [
      "."
     ]
    },
    {
     "name": "stdout",
     "output_type": "stream",
     "text": [
      "."
     ]
    },
    {
     "name": "stdout",
     "output_type": "stream",
     "text": [
      "."
     ]
    },
    {
     "name": "stdout",
     "output_type": "stream",
     "text": [
      "."
     ]
    },
    {
     "name": "stdout",
     "output_type": "stream",
     "text": [
      "."
     ]
    },
    {
     "name": "stdout",
     "output_type": "stream",
     "text": [
      "."
     ]
    },
    {
     "name": "stdout",
     "output_type": "stream",
     "text": [
      "!"
     ]
    },
    {
     "name": "stdout",
     "output_type": "stream",
     "text": [
      "\n"
     ]
    }
   ],
   "source": [
    "from sagemaker.tuner import HyperparameterTuner, IntegerParameter\n",
    "\n",
    "# Configure HyperparameterTuner\n",
    "ip_insights_tuner = HyperparameterTuner(\n",
    "    estimator=ip_insights,  # previously-configured Estimator object\n",
    "    objective_metric_name=\"validation:discriminator_auc\",\n",
    "    hyperparameter_ranges={\"vector_dim\": IntegerParameter(64, 1024)},\n",
    "    max_jobs=4,\n",
    "    max_parallel_jobs=2,\n",
    ")\n",
    "\n",
    "# Start hyperparameter tuning job\n",
    "ip_insights_tuner.fit(input_data, include_cls_metadata=False)"
   ]
  },
  {
   "cell_type": "code",
   "execution_count": 33,
   "id": "3267e33a",
   "metadata": {
    "execution": {
     "iopub.execute_input": "2021-05-18T01:15:52.585649Z",
     "iopub.status.busy": "2021-05-18T01:15:52.585208Z",
     "iopub.status.idle": "2021-05-18T01:15:52.779200Z",
     "shell.execute_reply": "2021-05-18T01:15:52.779551Z"
    },
    "papermill": {
     "duration": 0.401466,
     "end_time": "2021-05-18T01:15:52.779714",
     "exception": false,
     "start_time": "2021-05-18T01:15:52.378248",
     "status": "completed"
    },
    "tags": []
   },
   "outputs": [
    {
     "name": "stdout",
     "output_type": "stream",
     "text": [
      "!"
     ]
    },
    {
     "name": "stdout",
     "output_type": "stream",
     "text": [
      "\n"
     ]
    },
    {
     "data": {
      "text/html": [
       "<div>\n",
       "<style scoped>\n",
       "    .dataframe tbody tr th:only-of-type {\n",
       "        vertical-align: middle;\n",
       "    }\n",
       "\n",
       "    .dataframe tbody tr th {\n",
       "        vertical-align: top;\n",
       "    }\n",
       "\n",
       "    .dataframe thead th {\n",
       "        text-align: right;\n",
       "    }\n",
       "</style>\n",
       "<table border=\"1\" class=\"dataframe\">\n",
       "  <thead>\n",
       "    <tr style=\"text-align: right;\">\n",
       "      <th></th>\n",
       "      <th>vector_dim</th>\n",
       "      <th>TrainingJobName</th>\n",
       "      <th>TrainingJobStatus</th>\n",
       "      <th>FinalObjectiveValue</th>\n",
       "      <th>TrainingStartTime</th>\n",
       "      <th>TrainingEndTime</th>\n",
       "      <th>TrainingElapsedTimeSeconds</th>\n",
       "    </tr>\n",
       "  </thead>\n",
       "  <tbody>\n",
       "    <tr>\n",
       "      <th>0</th>\n",
       "      <td>232.0</td>\n",
       "      <td>ipinsights-210518-0040-004-89c359c9</td>\n",
       "      <td>Completed</td>\n",
       "      <td>0.990895</td>\n",
       "      <td>2021-05-18 01:00:42+00:00</td>\n",
       "      <td>2021-05-18 01:12:39+00:00</td>\n",
       "      <td>717.0</td>\n",
       "    </tr>\n",
       "    <tr>\n",
       "      <th>1</th>\n",
       "      <td>252.0</td>\n",
       "      <td>ipinsights-210518-0040-003-b656513e</td>\n",
       "      <td>Completed</td>\n",
       "      <td>0.990723</td>\n",
       "      <td>2021-05-18 01:00:48+00:00</td>\n",
       "      <td>2021-05-18 01:13:08+00:00</td>\n",
       "      <td>740.0</td>\n",
       "    </tr>\n",
       "    <tr>\n",
       "      <th>2</th>\n",
       "      <td>72.0</td>\n",
       "      <td>ipinsights-210518-0040-002-c45d762a</td>\n",
       "      <td>Completed</td>\n",
       "      <td>0.989897</td>\n",
       "      <td>2021-05-18 00:43:47+00:00</td>\n",
       "      <td>2021-05-18 00:55:30+00:00</td>\n",
       "      <td>703.0</td>\n",
       "    </tr>\n",
       "    <tr>\n",
       "      <th>3</th>\n",
       "      <td>976.0</td>\n",
       "      <td>ipinsights-210518-0040-001-e41c3bd4</td>\n",
       "      <td>Completed</td>\n",
       "      <td>0.987738</td>\n",
       "      <td>2021-05-18 00:43:46+00:00</td>\n",
       "      <td>2021-05-18 00:57:07+00:00</td>\n",
       "      <td>801.0</td>\n",
       "    </tr>\n",
       "  </tbody>\n",
       "</table>\n",
       "</div>"
      ],
      "text/plain": [
       "   vector_dim                      TrainingJobName TrainingJobStatus  \\\n",
       "0       232.0  ipinsights-210518-0040-004-89c359c9         Completed   \n",
       "1       252.0  ipinsights-210518-0040-003-b656513e         Completed   \n",
       "2        72.0  ipinsights-210518-0040-002-c45d762a         Completed   \n",
       "3       976.0  ipinsights-210518-0040-001-e41c3bd4         Completed   \n",
       "\n",
       "   FinalObjectiveValue         TrainingStartTime           TrainingEndTime  \\\n",
       "0             0.990895 2021-05-18 01:00:42+00:00 2021-05-18 01:12:39+00:00   \n",
       "1             0.990723 2021-05-18 01:00:48+00:00 2021-05-18 01:13:08+00:00   \n",
       "2             0.989897 2021-05-18 00:43:47+00:00 2021-05-18 00:55:30+00:00   \n",
       "3             0.987738 2021-05-18 00:43:46+00:00 2021-05-18 00:57:07+00:00   \n",
       "\n",
       "   TrainingElapsedTimeSeconds  \n",
       "0                       717.0  \n",
       "1                       740.0  \n",
       "2                       703.0  \n",
       "3                       801.0  "
      ]
     },
     "execution_count": 33,
     "metadata": {},
     "output_type": "execute_result"
    }
   ],
   "source": [
    "# Wait for all the jobs to finish\n",
    "ip_insights_tuner.wait()\n",
    "\n",
    "# Visualize training job results\n",
    "ip_insights_tuner.analytics().dataframe()"
   ]
  },
  {
   "cell_type": "code",
   "execution_count": 34,
   "id": "357bde8f",
   "metadata": {
    "execution": {
     "iopub.execute_input": "2021-05-18T01:15:53.193363Z",
     "iopub.status.busy": "2021-05-18T01:15:53.192910Z",
     "iopub.status.idle": "2021-05-18T01:23:25.561179Z",
     "shell.execute_reply": "2021-05-18T01:23:25.561557Z"
    },
    "papermill": {
     "duration": 452.577276,
     "end_time": "2021-05-18T01:23:25.561691",
     "exception": false,
     "start_time": "2021-05-18T01:15:52.984415",
     "status": "completed"
    },
    "tags": []
   },
   "outputs": [
    {
     "name": "stdout",
     "output_type": "stream",
     "text": [
      "\n",
      "2021-05-18 01:12:39 Starting - Preparing the instances for training\n",
      "2021-05-18 01:12:39 Downloading - Downloading input data\n",
      "2021-05-18 01:12:39 Training - Training image download completed. Training in progress.\n",
      "2021-05-18 01:12:39 Uploading - Uploading generated training model\n",
      "2021-05-18 01:12:39 Completed - Training job completed"
     ]
    },
    {
     "name": "stdout",
     "output_type": "stream",
     "text": [
      "\n"
     ]
    },
    {
     "name": "stdout",
     "output_type": "stream",
     "text": [
      "-"
     ]
    },
    {
     "name": "stdout",
     "output_type": "stream",
     "text": [
      "-"
     ]
    },
    {
     "name": "stdout",
     "output_type": "stream",
     "text": [
      "-"
     ]
    },
    {
     "name": "stdout",
     "output_type": "stream",
     "text": [
      "-"
     ]
    },
    {
     "name": "stdout",
     "output_type": "stream",
     "text": [
      "-"
     ]
    },
    {
     "name": "stdout",
     "output_type": "stream",
     "text": [
      "-"
     ]
    },
    {
     "name": "stdout",
     "output_type": "stream",
     "text": [
      "-"
     ]
    },
    {
     "name": "stdout",
     "output_type": "stream",
     "text": [
      "-"
     ]
    },
    {
     "name": "stdout",
     "output_type": "stream",
     "text": [
      "-"
     ]
    },
    {
     "name": "stdout",
     "output_type": "stream",
     "text": [
      "-"
     ]
    },
    {
     "name": "stdout",
     "output_type": "stream",
     "text": [
      "-"
     ]
    },
    {
     "name": "stdout",
     "output_type": "stream",
     "text": [
      "-"
     ]
    },
    {
     "name": "stdout",
     "output_type": "stream",
     "text": [
      "-"
     ]
    },
    {
     "name": "stdout",
     "output_type": "stream",
     "text": [
      "-"
     ]
    },
    {
     "name": "stdout",
     "output_type": "stream",
     "text": [
      "-"
     ]
    },
    {
     "name": "stdout",
     "output_type": "stream",
     "text": [
      "!"
     ]
    }
   ],
   "source": [
    "# Deploy best model\n",
    "tuned_predictor = ip_insights_tuner.deploy(\n",
    "    initial_instance_count=1,\n",
    "    instance_type=\"ml.m4.xlarge\",\n",
    "    serializer=csv_serializer,\n",
    "    deserializer=json_deserializer,\n",
    ")"
   ]
  },
  {
   "cell_type": "code",
   "execution_count": 35,
   "id": "ee2fdf0f",
   "metadata": {
    "execution": {
     "iopub.execute_input": "2021-05-18T01:23:25.981651Z",
     "iopub.status.busy": "2021-05-18T01:23:25.981154Z",
     "iopub.status.idle": "2021-05-18T01:23:26.305700Z",
     "shell.execute_reply": "2021-05-18T01:23:26.305239Z"
    },
    "papermill": {
     "duration": 0.534928,
     "end_time": "2021-05-18T01:23:26.305807",
     "exception": false,
     "start_time": "2021-05-18T01:23:25.770879",
     "status": "completed"
    },
    "tags": []
   },
   "outputs": [
    {
     "name": "stderr",
     "output_type": "stream",
     "text": [
      "The csv_serializer has been renamed in sagemaker>=2.\n",
      "See: https://sagemaker.readthedocs.io/en/stable/v2.html for details.\n"
     ]
    },
    {
     "name": "stderr",
     "output_type": "stream",
     "text": [
      "The json_deserializer has been renamed in sagemaker>=2.\n",
      "See: https://sagemaker.readthedocs.io/en/stable/v2.html for details.\n"
     ]
    },
    {
     "data": {
      "text/plain": [
       "{'predictions': [{'dot_product': 4.567836761474609},\n",
       "  {'dot_product': 1.0703965425491333},\n",
       "  {'dot_product': 7.77337646484375},\n",
       "  {'dot_product': 5.091639995574951},\n",
       "  {'dot_product': 4.702649116516113}]}"
      ]
     },
     "execution_count": 35,
     "metadata": {},
     "output_type": "execute_result"
    }
   ],
   "source": [
    "# Make a prediction against the SageMaker endpoint\n",
    "tuned_predictor.predict(\n",
    "    inference_data, initial_args={\"ContentType\": \"text/csv\", \"Accept\": \"application/json\"}\n",
    ")"
   ]
  },
  {
   "cell_type": "markdown",
   "id": "120a7155",
   "metadata": {
    "papermill": {
     "duration": 0.211487,
     "end_time": "2021-05-18T01:23:26.725393",
     "exception": false,
     "start_time": "2021-05-18T01:23:26.513906",
     "status": "completed"
    },
    "tags": []
   },
   "source": [
    "We should have the best performing model from the training job! Now we can determine thresholds and make predictions just like we did with the inference endpoint [above](#Inference)."
   ]
  },
  {
   "cell_type": "markdown",
   "id": "1d762a30",
   "metadata": {
    "papermill": {
     "duration": 0.210695,
     "end_time": "2021-05-18T01:23:27.146496",
     "exception": false,
     "start_time": "2021-05-18T01:23:26.935801",
     "status": "completed"
    },
    "tags": []
   },
   "source": [
    "### Batch Transform\n",
    "Let's say we want to score all of the login events at the end of the day and aggregate flagged cases for investigators to look at in the morning. If we store the daily login events in S3, we can use IP Insights with [Amazon SageMaker Batch Transform](https://docs.aws.amazon.com/sagemaker/latest/dg/how-it-works-batch.html) to run inference and store the IP Insights scores back in S3 for future analysis.\n",
    "\n",
    "Below, we take the training job from before and evaluate it on the validation data we put in S3."
   ]
  },
  {
   "cell_type": "code",
   "execution_count": 36,
   "id": "a2d82e53",
   "metadata": {
    "execution": {
     "iopub.execute_input": "2021-05-18T01:23:27.572982Z",
     "iopub.status.busy": "2021-05-18T01:23:27.572461Z",
     "iopub.status.idle": "2021-05-18T01:30:11.440834Z",
     "shell.execute_reply": "2021-05-18T01:30:11.440413Z"
    },
    "papermill": {
     "duration": 404.08387,
     "end_time": "2021-05-18T01:30:11.440944",
     "exception": false,
     "start_time": "2021-05-18T01:23:27.357074",
     "status": "completed"
    },
    "tags": []
   },
   "outputs": [
    {
     "name": "stdout",
     "output_type": "stream",
     "text": [
      "."
     ]
    },
    {
     "name": "stdout",
     "output_type": "stream",
     "text": [
      "."
     ]
    },
    {
     "name": "stdout",
     "output_type": "stream",
     "text": [
      "."
     ]
    },
    {
     "name": "stdout",
     "output_type": "stream",
     "text": [
      "."
     ]
    },
    {
     "name": "stdout",
     "output_type": "stream",
     "text": [
      "."
     ]
    },
    {
     "name": "stdout",
     "output_type": "stream",
     "text": [
      "."
     ]
    },
    {
     "name": "stdout",
     "output_type": "stream",
     "text": [
      "."
     ]
    },
    {
     "name": "stdout",
     "output_type": "stream",
     "text": [
      "."
     ]
    },
    {
     "name": "stdout",
     "output_type": "stream",
     "text": [
      "."
     ]
    },
    {
     "name": "stdout",
     "output_type": "stream",
     "text": [
      "."
     ]
    },
    {
     "name": "stdout",
     "output_type": "stream",
     "text": [
      "."
     ]
    },
    {
     "name": "stdout",
     "output_type": "stream",
     "text": [
      "."
     ]
    },
    {
     "name": "stdout",
     "output_type": "stream",
     "text": [
      "."
     ]
    },
    {
     "name": "stdout",
     "output_type": "stream",
     "text": [
      "."
     ]
    },
    {
     "name": "stdout",
     "output_type": "stream",
     "text": [
      "."
     ]
    },
    {
     "name": "stdout",
     "output_type": "stream",
     "text": [
      "."
     ]
    },
    {
     "name": "stdout",
     "output_type": "stream",
     "text": [
      "."
     ]
    },
    {
     "name": "stdout",
     "output_type": "stream",
     "text": [
      "."
     ]
    },
    {
     "name": "stdout",
     "output_type": "stream",
     "text": [
      "."
     ]
    },
    {
     "name": "stdout",
     "output_type": "stream",
     "text": [
      "."
     ]
    },
    {
     "name": "stdout",
     "output_type": "stream",
     "text": [
      "."
     ]
    },
    {
     "name": "stdout",
     "output_type": "stream",
     "text": [
      "."
     ]
    },
    {
     "name": "stdout",
     "output_type": "stream",
     "text": [
      "."
     ]
    },
    {
     "name": "stdout",
     "output_type": "stream",
     "text": [
      "."
     ]
    },
    {
     "name": "stdout",
     "output_type": "stream",
     "text": [
      "."
     ]
    },
    {
     "name": "stdout",
     "output_type": "stream",
     "text": [
      "."
     ]
    },
    {
     "name": "stdout",
     "output_type": "stream",
     "text": [
      "."
     ]
    },
    {
     "name": "stdout",
     "output_type": "stream",
     "text": [
      "."
     ]
    },
    {
     "name": "stdout",
     "output_type": "stream",
     "text": [
      "."
     ]
    },
    {
     "name": "stdout",
     "output_type": "stream",
     "text": [
      "."
     ]
    },
    {
     "name": "stdout",
     "output_type": "stream",
     "text": [
      "."
     ]
    },
    {
     "name": "stdout",
     "output_type": "stream",
     "text": [
      "."
     ]
    },
    {
     "name": "stdout",
     "output_type": "stream",
     "text": [
      "."
     ]
    },
    {
     "name": "stdout",
     "output_type": "stream",
     "text": [
      "."
     ]
    },
    {
     "name": "stdout",
     "output_type": "stream",
     "text": [
      "."
     ]
    },
    {
     "name": "stdout",
     "output_type": "stream",
     "text": [
      "."
     ]
    },
    {
     "name": "stdout",
     "output_type": "stream",
     "text": [
      "."
     ]
    },
    {
     "name": "stdout",
     "output_type": "stream",
     "text": [
      "\u001b[34mDocker entrypoint called with argument(s): serve\u001b[0m\n",
      "\u001b[35mDocker entrypoint called with argument(s): serve\u001b[0m\n",
      "\u001b[34mRunning default environment configuration script\u001b[0m\n",
      "\u001b[35mRunning default environment configuration script\u001b[0m\n",
      "\u001b[34m[05/18/2021 01:29:29 INFO 139736066754368] loaded entry point class algorithm.serve.server_config:config_api\u001b[0m\n",
      "\u001b[34m[05/18/2021 01:29:29 INFO 139736066754368] loading entry points\u001b[0m\n",
      "\u001b[34m[05/18/2021 01:29:29 INFO 139736066754368] Loaded iterator creator application/x-ndarray for content type ('application/x-ndarray', '1.0')\u001b[0m\n",
      "\u001b[34m[05/18/2021 01:29:29 INFO 139736066754368] Loaded iterator creator text/csv for content type ('text/csv', '1.0')\u001b[0m\n",
      "\u001b[34m[05/18/2021 01:29:29 INFO 139736066754368] loaded request iterator application/json\u001b[0m\n",
      "\u001b[34m[05/18/2021 01:29:29 INFO 139736066754368] loaded request iterator application/jsonlines\u001b[0m\n",
      "\u001b[34m[05/18/2021 01:29:29 INFO 139736066754368] loaded request iterator text/csv\u001b[0m\n",
      "\u001b[34m[05/18/2021 01:29:29 INFO 139736066754368] loaded response encoder application/json\u001b[0m\n",
      "\u001b[34m[05/18/2021 01:29:29 INFO 139736066754368] loaded response encoder application/jsonlines\u001b[0m\n",
      "\u001b[34m[05/18/2021 01:29:29 INFO 139736066754368] loaded entry point class algorithm:model\u001b[0m\n",
      "\u001b[34m[05/18/2021 01:29:29 INFO 139736066754368] Loaded iterator creator application/x-ndarray for content type ('application/x-ndarray', '1.0')\u001b[0m\n",
      "\u001b[34m[05/18/2021 01:29:29 INFO 139736066754368] Loaded iterator creator text/csv for content type ('text/csv', '1.0')\u001b[0m\n",
      "\u001b[34m[05/18/2021 01:29:29 INFO 139736066754368] Number of server workers: 4\u001b[0m\n",
      "\u001b[34m[05/18/2021 01:29:29 INFO 139736066754368] loading model...\u001b[0m\n",
      "\u001b[34m[05/18/2021 01:29:29 WARNING 139736066754368] Requesting context without setting the requested num of gpus. Using 'auto'\u001b[0m\n",
      "\u001b[34m[05/18/2021 01:29:29 INFO 139736066754368] nvidia-smi: took 0.031 seconds to run.\u001b[0m\n",
      "\u001b[34m[05/18/2021 01:29:29 INFO 139736066754368] nvidia-smi identified 0 GPUs.\u001b[0m\n",
      "\u001b[34m[05/18/2021 01:29:29 INFO 139736066754368] Number of GPUs being used: 0\u001b[0m\n",
      "\u001b[35m[05/18/2021 01:29:29 INFO 139736066754368] loaded entry point class algorithm.serve.server_config:config_api\u001b[0m\n",
      "\u001b[35m[05/18/2021 01:29:29 INFO 139736066754368] loading entry points\u001b[0m\n",
      "\u001b[35m[05/18/2021 01:29:29 INFO 139736066754368] Loaded iterator creator application/x-ndarray for content type ('application/x-ndarray', '1.0')\u001b[0m\n",
      "\u001b[35m[05/18/2021 01:29:29 INFO 139736066754368] Loaded iterator creator text/csv for content type ('text/csv', '1.0')\u001b[0m\n",
      "\u001b[35m[05/18/2021 01:29:29 INFO 139736066754368] loaded request iterator application/json\u001b[0m\n",
      "\u001b[35m[05/18/2021 01:29:29 INFO 139736066754368] loaded request iterator application/jsonlines\u001b[0m\n",
      "\u001b[35m[05/18/2021 01:29:29 INFO 139736066754368] loaded request iterator text/csv\u001b[0m\n",
      "\u001b[35m[05/18/2021 01:29:29 INFO 139736066754368] loaded response encoder application/json\u001b[0m\n",
      "\u001b[35m[05/18/2021 01:29:29 INFO 139736066754368] loaded response encoder application/jsonlines\u001b[0m\n",
      "\u001b[35m[05/18/2021 01:29:29 INFO 139736066754368] loaded entry point class algorithm:model\u001b[0m\n",
      "\u001b[35m[05/18/2021 01:29:29 INFO 139736066754368] Loaded iterator creator application/x-ndarray for content type ('application/x-ndarray', '1.0')\u001b[0m\n",
      "\u001b[35m[05/18/2021 01:29:29 INFO 139736066754368] Loaded iterator creator text/csv for content type ('text/csv', '1.0')\u001b[0m\n",
      "\u001b[35m[05/18/2021 01:29:29 INFO 139736066754368] Number of server workers: 4\u001b[0m\n",
      "\u001b[35m[05/18/2021 01:29:29 INFO 139736066754368] loading model...\u001b[0m\n",
      "\u001b[35m[05/18/2021 01:29:29 WARNING 139736066754368] Requesting context without setting the requested num of gpus. Using 'auto'\u001b[0m\n",
      "\u001b[35m[05/18/2021 01:29:29 INFO 139736066754368] nvidia-smi: took 0.031 seconds to run.\u001b[0m\n",
      "\u001b[35m[05/18/2021 01:29:29 INFO 139736066754368] nvidia-smi identified 0 GPUs.\u001b[0m\n",
      "\u001b[35m[05/18/2021 01:29:29 INFO 139736066754368] Number of GPUs being used: 0\u001b[0m\n",
      "\u001b[34m[05/18/2021 01:29:29 INFO 139736066754368] ...model loaded.\u001b[0m\n",
      "\u001b[34m[2021-05-18 01:29:29 +0000] [1] [INFO] Starting gunicorn 20.0.4\u001b[0m\n",
      "\u001b[34m[2021-05-18 01:29:29 +0000] [1] [INFO] Listening at: http://0.0.0.0:8080 (1)\u001b[0m\n",
      "\u001b[34m[2021-05-18 01:29:29 +0000] [1] [INFO] Using worker: sync\u001b[0m\n",
      "\u001b[34m[2021-05-18 01:29:29 +0000] [54] [INFO] Booting worker with pid: 54\u001b[0m\n",
      "\u001b[34m[2021-05-18 01:29:29 +0000] [63] [INFO] Booting worker with pid: 63\u001b[0m\n",
      "\u001b[34m[2021-05-18 01:29:29 +0000] [72] [INFO] Booting worker with pid: 72\u001b[0m\n",
      "\u001b[34m[2021-05-18 01:29:29 +0000] [81] [INFO] Booting worker with pid: 81\u001b[0m\n",
      "\u001b[35m[05/18/2021 01:29:29 INFO 139736066754368] ...model loaded.\u001b[0m\n",
      "\u001b[35m[2021-05-18 01:29:29 +0000] [1] [INFO] Starting gunicorn 20.0.4\u001b[0m\n",
      "\u001b[35m[2021-05-18 01:29:29 +0000] [1] [INFO] Listening at: http://0.0.0.0:8080 (1)\u001b[0m\n",
      "\u001b[35m[2021-05-18 01:29:29 +0000] [1] [INFO] Using worker: sync\u001b[0m\n",
      "\u001b[35m[2021-05-18 01:29:29 +0000] [54] [INFO] Booting worker with pid: 54\u001b[0m\n",
      "\u001b[35m[2021-05-18 01:29:29 +0000] [63] [INFO] Booting worker with pid: 63\u001b[0m\n",
      "\u001b[35m[2021-05-18 01:29:29 +0000] [72] [INFO] Booting worker with pid: 72\u001b[0m\n",
      "\u001b[35m[2021-05-18 01:29:29 +0000] [81] [INFO] Booting worker with pid: 81\u001b[0m\n",
      "\u001b[34m#metrics {\"StartTime\": 1621301369.1936724, \"EndTime\": 1621301370.602249, \"Dimensions\": {\"Algorithm\": \"IPInsightsModel\", \"Host\": \"UNKNOWN\", \"Operation\": \"scoring\"}, \"Metrics\": {\"execution_parameters.count\": {\"sum\": 1.0, \"count\": 1, \"min\": 1, \"max\": 1}}}\n",
      "\u001b[0m\n",
      "\u001b[35m#metrics {\"StartTime\": 1621301369.1936724, \"EndTime\": 1621301370.602249, \"Dimensions\": {\"Algorithm\": \"IPInsightsModel\", \"Host\": \"UNKNOWN\", \"Operation\": \"scoring\"}, \"Metrics\": {\"execution_parameters.count\": {\"sum\": 1.0, \"count\": 1, \"min\": 1, \"max\": 1}}}\n",
      "\u001b[0m\n",
      "\u001b[34m[05/18/2021 01:29:31 WARNING 139736066754368] Requesting context without setting the requested num of gpus. Using 'auto'\u001b[0m\n",
      "\u001b[34m[05/18/2021 01:29:31 INFO 139736066754368] Number of GPUs being used: 0\u001b[0m\n",
      "\u001b[34m[05/18/2021 01:29:31 WARNING 139736066754368] Requesting context without setting the requested num of gpus. Using 'auto'\u001b[0m\n",
      "\u001b[34m[05/18/2021 01:29:31 INFO 139736066754368] Number of GPUs being used: 0\u001b[0m\n",
      "\u001b[34m[05/18/2021 01:29:31 WARNING 139736066754368] Requesting context without setting the requested num of gpus. Using 'auto'\u001b[0m\n",
      "\u001b[34m[05/18/2021 01:29:31 INFO 139736066754368] Number of GPUs being used: 0\u001b[0m\n",
      "\u001b[35m[05/18/2021 01:29:31 WARNING 139736066754368] Requesting context without setting the requested num of gpus. Using 'auto'\u001b[0m\n",
      "\u001b[35m[05/18/2021 01:29:31 INFO 139736066754368] Number of GPUs being used: 0\u001b[0m\n",
      "\u001b[35m[05/18/2021 01:29:31 WARNING 139736066754368] Requesting context without setting the requested num of gpus. Using 'auto'\u001b[0m\n",
      "\u001b[35m[05/18/2021 01:29:31 INFO 139736066754368] Number of GPUs being used: 0\u001b[0m\n",
      "\u001b[35m[05/18/2021 01:29:31 WARNING 139736066754368] Requesting context without setting the requested num of gpus. Using 'auto'\u001b[0m\n",
      "\u001b[35m[05/18/2021 01:29:31 INFO 139736066754368] Number of GPUs being used: 0\u001b[0m\n",
      "\u001b[32m2021-05-18T01:29:30.611:[sagemaker logs]: MaxConcurrentTransforms=4, MaxPayloadInMB=6, BatchStrategy=MULTI_RECORD\u001b[0m\n",
      "\u001b[34m#metrics {\"StartTime\": 1621301369.1936724, \"EndTime\": 1621301374.1671715, \"Dimensions\": {\"Algorithm\": \"IPInsightsModel\", \"Host\": \"UNKNOWN\", \"Operation\": \"scoring\"}, \"Metrics\": {\"invocations.count\": {\"sum\": 1.0, \"count\": 1, \"min\": 1, \"max\": 1}}}\n",
      "\u001b[0m\n",
      "\u001b[35m#metrics {\"StartTime\": 1621301369.1936724, \"EndTime\": 1621301374.1671715, \"Dimensions\": {\"Algorithm\": \"IPInsightsModel\", \"Host\": \"UNKNOWN\", \"Operation\": \"scoring\"}, \"Metrics\": {\"invocations.count\": {\"sum\": 1.0, \"count\": 1, \"min\": 1, \"max\": 1}}}\n",
      "\u001b[0m\n",
      "\u001b[34m#metrics {\"StartTime\": 1621301370.6024387, \"EndTime\": 1621301375.852294, \"Dimensions\": {\"Algorithm\": \"IPInsightsModel\", \"Host\": \"UNKNOWN\", \"Operation\": \"scoring\"}, \"Metrics\": {\"invocations.count\": {\"sum\": 1.0, \"count\": 1, \"min\": 1, \"max\": 1}}}\n",
      "\u001b[0m\n",
      "\u001b[34m#metrics {\"StartTime\": 1621301369.1936724, \"EndTime\": 1621301376.0230603, \"Dimensions\": {\"Algorithm\": \"IPInsightsModel\", \"Host\": \"UNKNOWN\", \"Operation\": \"scoring\"}, \"Metrics\": {\"invocations.count\": {\"sum\": 1.0, \"count\": 1, \"min\": 1, \"max\": 1}}}\n",
      "\u001b[0m\n",
      "\u001b[35m#metrics {\"StartTime\": 1621301370.6024387, \"EndTime\": 1621301375.852294, \"Dimensions\": {\"Algorithm\": \"IPInsightsModel\", \"Host\": \"UNKNOWN\", \"Operation\": \"scoring\"}, \"Metrics\": {\"invocations.count\": {\"sum\": 1.0, \"count\": 1, \"min\": 1, \"max\": 1}}}\n",
      "\u001b[0m\n",
      "\u001b[35m#metrics {\"StartTime\": 1621301369.1936724, \"EndTime\": 1621301376.0230603, \"Dimensions\": {\"Algorithm\": \"IPInsightsModel\", \"Host\": \"UNKNOWN\", \"Operation\": \"scoring\"}, \"Metrics\": {\"invocations.count\": {\"sum\": 1.0, \"count\": 1, \"min\": 1, \"max\": 1}}}\n",
      "\u001b[0m\n"
     ]
    },
    {
     "name": "stdout",
     "output_type": "stream",
     "text": [
      "\n"
     ]
    }
   ],
   "source": [
    "transformer = ip_insights.transformer(instance_count=1, instance_type=\"ml.m4.xlarge\")\n",
    "\n",
    "transformer.transform(s3_valid_data, content_type=\"text/csv\", split_type=\"Line\")"
   ]
  },
  {
   "cell_type": "code",
   "execution_count": 37,
   "id": "4cf71d2d",
   "metadata": {
    "execution": {
     "iopub.execute_input": "2021-05-18T01:30:11.876286Z",
     "iopub.status.busy": "2021-05-18T01:30:11.875807Z",
     "iopub.status.idle": "2021-05-18T01:30:12.072975Z",
     "shell.execute_reply": "2021-05-18T01:30:12.073326Z"
    },
    "papermill": {
     "duration": 0.417185,
     "end_time": "2021-05-18T01:30:12.073461",
     "exception": false,
     "start_time": "2021-05-18T01:30:11.656276",
     "status": "completed"
    },
    "tags": []
   },
   "outputs": [
    {
     "name": "stdout",
     "output_type": "stream",
     "text": [
      "\u001b[34mDocker entrypoint called with argument(s): serve\u001b[0m\n",
      "\u001b[35mDocker entrypoint called with argument(s): serve\u001b[0m\n",
      "\u001b[34mRunning default environment configuration script\u001b[0m\n",
      "\u001b[35mRunning default environment configuration script\u001b[0m\n",
      "\u001b[34m[05/18/2021 01:29:29 INFO 139736066754368] loaded entry point class algorithm.serve.server_config:config_api\u001b[0m\n",
      "\u001b[34m[05/18/2021 01:29:29 INFO 139736066754368] loading entry points\u001b[0m\n",
      "\u001b[34m[05/18/2021 01:29:29 INFO 139736066754368] Loaded iterator creator application/x-ndarray for content type ('application/x-ndarray', '1.0')\u001b[0m\n",
      "\u001b[34m[05/18/2021 01:29:29 INFO 139736066754368] Loaded iterator creator text/csv for content type ('text/csv', '1.0')\u001b[0m\n",
      "\u001b[34m[05/18/2021 01:29:29 INFO 139736066754368] loaded request iterator application/json\u001b[0m\n",
      "\u001b[34m[05/18/2021 01:29:29 INFO 139736066754368] loaded request iterator application/jsonlines\u001b[0m\n",
      "\u001b[34m[05/18/2021 01:29:29 INFO 139736066754368] loaded request iterator text/csv\u001b[0m\n",
      "\u001b[34m[05/18/2021 01:29:29 INFO 139736066754368] loaded response encoder application/json\u001b[0m\n",
      "\u001b[34m[05/18/2021 01:29:29 INFO 139736066754368] loaded response encoder application/jsonlines\u001b[0m\n",
      "\u001b[34m[05/18/2021 01:29:29 INFO 139736066754368] loaded entry point class algorithm:model\u001b[0m\n",
      "\u001b[34m[05/18/2021 01:29:29 INFO 139736066754368] Loaded iterator creator application/x-ndarray for content type ('application/x-ndarray', '1.0')\u001b[0m\n",
      "\u001b[34m[05/18/2021 01:29:29 INFO 139736066754368] Loaded iterator creator text/csv for content type ('text/csv', '1.0')\u001b[0m\n",
      "\u001b[34m[05/18/2021 01:29:29 INFO 139736066754368] Number of server workers: 4\u001b[0m\n",
      "\u001b[34m[05/18/2021 01:29:29 INFO 139736066754368] loading model...\u001b[0m\n",
      "\u001b[34m[05/18/2021 01:29:29 WARNING 139736066754368] Requesting context without setting the requested num of gpus. Using 'auto'\u001b[0m\n",
      "\u001b[34m[05/18/2021 01:29:29 INFO 139736066754368] nvidia-smi: took 0.031 seconds to run.\u001b[0m\n",
      "\u001b[34m[05/18/2021 01:29:29 INFO 139736066754368] nvidia-smi identified 0 GPUs.\u001b[0m\n",
      "\u001b[34m[05/18/2021 01:29:29 INFO 139736066754368] Number of GPUs being used: 0\u001b[0m\n",
      "\u001b[35m[05/18/2021 01:29:29 INFO 139736066754368] loaded entry point class algorithm.serve.server_config:config_api\u001b[0m\n",
      "\u001b[35m[05/18/2021 01:29:29 INFO 139736066754368] loading entry points\u001b[0m\n",
      "\u001b[35m[05/18/2021 01:29:29 INFO 139736066754368] Loaded iterator creator application/x-ndarray for content type ('application/x-ndarray', '1.0')\u001b[0m\n",
      "\u001b[35m[05/18/2021 01:29:29 INFO 139736066754368] Loaded iterator creator text/csv for content type ('text/csv', '1.0')\u001b[0m\n",
      "\u001b[35m[05/18/2021 01:29:29 INFO 139736066754368] loaded request iterator application/json\u001b[0m\n",
      "\u001b[35m[05/18/2021 01:29:29 INFO 139736066754368] loaded request iterator application/jsonlines\u001b[0m\n",
      "\u001b[35m[05/18/2021 01:29:29 INFO 139736066754368] loaded request iterator text/csv\u001b[0m\n",
      "\u001b[35m[05/18/2021 01:29:29 INFO 139736066754368] loaded response encoder application/json\u001b[0m\n",
      "\u001b[35m[05/18/2021 01:29:29 INFO 139736066754368] loaded response encoder application/jsonlines\u001b[0m\n",
      "\u001b[35m[05/18/2021 01:29:29 INFO 139736066754368] loaded entry point class algorithm:model\u001b[0m\n",
      "\u001b[35m[05/18/2021 01:29:29 INFO 139736066754368] Loaded iterator creator application/x-ndarray for content type ('application/x-ndarray', '1.0')\u001b[0m\n",
      "\u001b[35m[05/18/2021 01:29:29 INFO 139736066754368] Loaded iterator creator text/csv for content type ('text/csv', '1.0')\u001b[0m\n",
      "\u001b[35m[05/18/2021 01:29:29 INFO 139736066754368] Number of server workers: 4\u001b[0m\n",
      "\u001b[35m[05/18/2021 01:29:29 INFO 139736066754368] loading model...\u001b[0m\n",
      "\u001b[35m[05/18/2021 01:29:29 WARNING 139736066754368] Requesting context without setting the requested num of gpus. Using 'auto'\u001b[0m\n",
      "\u001b[35m[05/18/2021 01:29:29 INFO 139736066754368] nvidia-smi: took 0.031 seconds to run.\u001b[0m\n",
      "\u001b[35m[05/18/2021 01:29:29 INFO 139736066754368] nvidia-smi identified 0 GPUs.\u001b[0m\n",
      "\u001b[35m[05/18/2021 01:29:29 INFO 139736066754368] Number of GPUs being used: 0\u001b[0m\n",
      "\u001b[34m[05/18/2021 01:29:29 INFO 139736066754368] ...model loaded.\u001b[0m\n",
      "\u001b[34m[2021-05-18 01:29:29 +0000] [1] [INFO] Starting gunicorn 20.0.4\u001b[0m\n",
      "\u001b[34m[2021-05-18 01:29:29 +0000] [1] [INFO] Listening at: http://0.0.0.0:8080 (1)\u001b[0m\n",
      "\u001b[34m[2021-05-18 01:29:29 +0000] [1] [INFO] Using worker: sync\u001b[0m\n",
      "\u001b[34m[2021-05-18 01:29:29 +0000] [54] [INFO] Booting worker with pid: 54\u001b[0m\n",
      "\u001b[34m[2021-05-18 01:29:29 +0000] [63] [INFO] Booting worker with pid: 63\u001b[0m\n",
      "\u001b[34m[2021-05-18 01:29:29 +0000] [72] [INFO] Booting worker with pid: 72\u001b[0m\n",
      "\u001b[34m[2021-05-18 01:29:29 +0000] [81] [INFO] Booting worker with pid: 81\u001b[0m\n",
      "\u001b[35m[05/18/2021 01:29:29 INFO 139736066754368] ...model loaded.\u001b[0m\n",
      "\u001b[35m[2021-05-18 01:29:29 +0000] [1] [INFO] Starting gunicorn 20.0.4\u001b[0m\n",
      "\u001b[35m[2021-05-18 01:29:29 +0000] [1] [INFO] Listening at: http://0.0.0.0:8080 (1)\u001b[0m\n",
      "\u001b[35m[2021-05-18 01:29:29 +0000] [1] [INFO] Using worker: sync\u001b[0m\n",
      "\u001b[35m[2021-05-18 01:29:29 +0000] [54] [INFO] Booting worker with pid: 54\u001b[0m\n",
      "\u001b[35m[2021-05-18 01:29:29 +0000] [63] [INFO] Booting worker with pid: 63\u001b[0m\n",
      "\u001b[35m[2021-05-18 01:29:29 +0000] [72] [INFO] Booting worker with pid: 72\u001b[0m\n",
      "\u001b[35m[2021-05-18 01:29:29 +0000] [81] [INFO] Booting worker with pid: 81\u001b[0m\n",
      "\u001b[34m#metrics {\"StartTime\": 1621301369.1936724, \"EndTime\": 1621301370.602249, \"Dimensions\": {\"Algorithm\": \"IPInsightsModel\", \"Host\": \"UNKNOWN\", \"Operation\": \"scoring\"}, \"Metrics\": {\"execution_parameters.count\": {\"sum\": 1.0, \"count\": 1, \"min\": 1, \"max\": 1}}}\n",
      "\u001b[0m\n",
      "\u001b[35m#metrics {\"StartTime\": 1621301369.1936724, \"EndTime\": 1621301370.602249, \"Dimensions\": {\"Algorithm\": \"IPInsightsModel\", \"Host\": \"UNKNOWN\", \"Operation\": \"scoring\"}, \"Metrics\": {\"execution_parameters.count\": {\"sum\": 1.0, \"count\": 1, \"min\": 1, \"max\": 1}}}\n",
      "\u001b[0m\n",
      "\u001b[34m[05/18/2021 01:29:31 WARNING 139736066754368] Requesting context without setting the requested num of gpus. Using 'auto'\u001b[0m\n",
      "\u001b[34m[05/18/2021 01:29:31 INFO 139736066754368] Number of GPUs being used: 0\u001b[0m\n",
      "\u001b[34m[05/18/2021 01:29:31 WARNING 139736066754368] Requesting context without setting the requested num of gpus. Using 'auto'\u001b[0m\n",
      "\u001b[34m[05/18/2021 01:29:31 INFO 139736066754368] Number of GPUs being used: 0\u001b[0m\n",
      "\u001b[34m[05/18/2021 01:29:31 WARNING 139736066754368] Requesting context without setting the requested num of gpus. Using 'auto'\u001b[0m\n",
      "\u001b[34m[05/18/2021 01:29:31 INFO 139736066754368] Number of GPUs being used: 0\u001b[0m\n",
      "\u001b[35m[05/18/2021 01:29:31 WARNING 139736066754368] Requesting context without setting the requested num of gpus. Using 'auto'\u001b[0m\n",
      "\u001b[35m[05/18/2021 01:29:31 INFO 139736066754368] Number of GPUs being used: 0\u001b[0m\n",
      "\u001b[35m[05/18/2021 01:29:31 WARNING 139736066754368] Requesting context without setting the requested num of gpus. Using 'auto'\u001b[0m\n",
      "\u001b[35m[05/18/2021 01:29:31 INFO 139736066754368] Number of GPUs being used: 0\u001b[0m\n",
      "\u001b[35m[05/18/2021 01:29:31 WARNING 139736066754368] Requesting context without setting the requested num of gpus. Using 'auto'\u001b[0m\n",
      "\u001b[35m[05/18/2021 01:29:31 INFO 139736066754368] Number of GPUs being used: 0\u001b[0m\n",
      "\u001b[32m2021-05-18T01:29:30.611:[sagemaker logs]: MaxConcurrentTransforms=4, MaxPayloadInMB=6, BatchStrategy=MULTI_RECORD\u001b[0m\n",
      "\u001b[34m#metrics {\"StartTime\": 1621301369.1936724, \"EndTime\": 1621301374.1671715, \"Dimensions\": {\"Algorithm\": \"IPInsightsModel\", \"Host\": \"UNKNOWN\", \"Operation\": \"scoring\"}, \"Metrics\": {\"invocations.count\": {\"sum\": 1.0, \"count\": 1, \"min\": 1, \"max\": 1}}}\n",
      "\u001b[0m\n",
      "\u001b[35m#metrics {\"StartTime\": 1621301369.1936724, \"EndTime\": 1621301374.1671715, \"Dimensions\": {\"Algorithm\": \"IPInsightsModel\", \"Host\": \"UNKNOWN\", \"Operation\": \"scoring\"}, \"Metrics\": {\"invocations.count\": {\"sum\": 1.0, \"count\": 1, \"min\": 1, \"max\": 1}}}\n",
      "\u001b[0m\n",
      "\u001b[34m#metrics {\"StartTime\": 1621301370.6024387, \"EndTime\": 1621301375.852294, \"Dimensions\": {\"Algorithm\": \"IPInsightsModel\", \"Host\": \"UNKNOWN\", \"Operation\": \"scoring\"}, \"Metrics\": {\"invocations.count\": {\"sum\": 1.0, \"count\": 1, \"min\": 1, \"max\": 1}}}\n",
      "\u001b[0m\n",
      "\u001b[34m#metrics {\"StartTime\": 1621301369.1936724, \"EndTime\": 1621301376.0230603, \"Dimensions\": {\"Algorithm\": \"IPInsightsModel\", \"Host\": \"UNKNOWN\", \"Operation\": \"scoring\"}, \"Metrics\": {\"invocations.count\": {\"sum\": 1.0, \"count\": 1, \"min\": 1, \"max\": 1}}}\n",
      "\u001b[0m\n",
      "\u001b[35m#metrics {\"StartTime\": 1621301370.6024387, \"EndTime\": 1621301375.852294, \"Dimensions\": {\"Algorithm\": \"IPInsightsModel\", \"Host\": \"UNKNOWN\", \"Operation\": \"scoring\"}, \"Metrics\": {\"invocations.count\": {\"sum\": 1.0, \"count\": 1, \"min\": 1, \"max\": 1}}}\n",
      "\u001b[0m\n",
      "\u001b[35m#metrics {\"StartTime\": 1621301369.1936724, \"EndTime\": 1621301376.0230603, \"Dimensions\": {\"Algorithm\": \"IPInsightsModel\", \"Host\": \"UNKNOWN\", \"Operation\": \"scoring\"}, \"Metrics\": {\"invocations.count\": {\"sum\": 1.0, \"count\": 1, \"min\": 1, \"max\": 1}}}\n",
      "\u001b[0m\n"
     ]
    }
   ],
   "source": [
    "# Wait for Transform Job to finish\n",
    "transformer.wait()"
   ]
  },
  {
   "cell_type": "code",
   "execution_count": 38,
   "id": "fd07f341",
   "metadata": {
    "execution": {
     "iopub.execute_input": "2021-05-18T01:30:12.508219Z",
     "iopub.status.busy": "2021-05-18T01:30:12.507738Z",
     "iopub.status.idle": "2021-05-18T01:30:12.510209Z",
     "shell.execute_reply": "2021-05-18T01:30:12.509720Z"
    },
    "papermill": {
     "duration": 0.221073,
     "end_time": "2021-05-18T01:30:12.510317",
     "exception": false,
     "start_time": "2021-05-18T01:30:12.289244",
     "status": "completed"
    },
    "tags": []
   },
   "outputs": [
    {
     "name": "stdout",
     "output_type": "stream",
     "text": [
      "Batch Transform output is at: s3://sagemaker-us-west-2-521695447989/ipinsights-2021-05-18-01-23-27-947\n"
     ]
    }
   ],
   "source": [
    "print(f\"Batch Transform output is at: {transformer.output_path}\")"
   ]
  },
  {
   "cell_type": "markdown",
   "id": "f10c99fc",
   "metadata": {
    "papermill": {
     "duration": 0.216796,
     "end_time": "2021-05-18T01:30:12.943819",
     "exception": false,
     "start_time": "2021-05-18T01:30:12.727023",
     "status": "completed"
    },
    "tags": []
   },
   "source": [
    "### Stop and Delete the Endpoint\n",
    "If you are done with this model, then we should delete the endpoint before we close the notebook. Or else you will continue to pay for the endpoint while it is running. \n",
    "\n",
    "To do so execute the cell below. Alternately, you can navigate to the \"Endpoints\" tab in the SageMaker console, select the endpoint with the name stored in the variable endpoint_name, and select \"Delete\" from the \"Actions\" dropdown menu."
   ]
  },
  {
   "cell_type": "markdown",
   "id": "d2519efa",
   "metadata": {
    "tags": [
     "papermill-error-cell-tag"
    ]
   },
   "source": [
    "<span id=\"papermill-error-cell\" style=\"color:red; font-family:Helvetica Neue, Helvetica, Arial, sans-serif; font-size:2em;\">Execution using papermill encountered an exception here and stopped:</span>"
   ]
  },
  {
   "cell_type": "code",
   "execution_count": 39,
   "id": "e8268a75",
   "metadata": {
    "execution": {
     "iopub.execute_input": "2021-05-18T01:30:13.378223Z",
     "iopub.status.busy": "2021-05-18T01:30:13.377489Z",
     "iopub.status.idle": "2021-05-18T01:30:13.560471Z",
     "shell.execute_reply": "2021-05-18T01:30:13.559912Z"
    },
    "papermill": {
     "duration": 0.401539,
     "end_time": "2021-05-18T01:30:13.560656",
     "exception": true,
     "start_time": "2021-05-18T01:30:13.159117",
     "status": "failed"
    },
    "tags": []
   },
   "outputs": [
    {
     "name": "stderr",
     "output_type": "stream",
     "text": [
      "The function delete_endpoint is a no-op in sagemaker>=2.\n",
      "See: https://sagemaker.readthedocs.io/en/stable/v2.html for details.\n"
     ]
    },
    {
     "name": "stderr",
     "output_type": "stream",
     "text": [
      "The endpoint attribute has been renamed in sagemaker>=2.\n",
      "See: https://sagemaker.readthedocs.io/en/stable/v2.html for details.\n"
     ]
    },
    {
     "ename": "ClientError",
     "evalue": "An error occurred (ValidationException) when calling the DeleteEndpoint operation: Could not find endpoint \"arn:aws:sagemaker:us-west-2:521695447989:endpoint/ipinsights-2021-05-18-00-32-52-386\".",
     "output_type": "error",
     "traceback": [
      "\u001b[0;31m---------------------------------------------------------------------------\u001b[0m",
      "\u001b[0;31mClientError\u001b[0m                               Traceback (most recent call last)",
      "\u001b[0;32m<ipython-input-39-254d4e71f3a5>\u001b[0m in \u001b[0;36m<module>\u001b[0;34m\u001b[0m\n\u001b[1;32m      1\u001b[0m \u001b[0mip_insights_tuner\u001b[0m\u001b[0;34m.\u001b[0m\u001b[0mdelete_endpoint\u001b[0m\u001b[0;34m(\u001b[0m\u001b[0;34m)\u001b[0m\u001b[0;34m\u001b[0m\u001b[0;34m\u001b[0m\u001b[0m\n\u001b[0;32m----> 2\u001b[0;31m \u001b[0msagemaker\u001b[0m\u001b[0;34m.\u001b[0m\u001b[0mSession\u001b[0m\u001b[0;34m(\u001b[0m\u001b[0;34m)\u001b[0m\u001b[0;34m.\u001b[0m\u001b[0mdelete_endpoint\u001b[0m\u001b[0;34m(\u001b[0m\u001b[0mpredictor\u001b[0m\u001b[0;34m.\u001b[0m\u001b[0mendpoint\u001b[0m\u001b[0;34m)\u001b[0m\u001b[0;34m\u001b[0m\u001b[0;34m\u001b[0m\u001b[0m\n\u001b[0m",
      "\u001b[0;32m/opt/conda/lib/python3.7/site-packages/sagemaker/session.py\u001b[0m in \u001b[0;36mdelete_endpoint\u001b[0;34m(self, endpoint_name)\u001b[0m\n\u001b[1;32m   3010\u001b[0m         \"\"\"\n\u001b[1;32m   3011\u001b[0m         \u001b[0mLOGGER\u001b[0m\u001b[0;34m.\u001b[0m\u001b[0minfo\u001b[0m\u001b[0;34m(\u001b[0m\u001b[0;34m\"Deleting endpoint with name: %s\"\u001b[0m\u001b[0;34m,\u001b[0m \u001b[0mendpoint_name\u001b[0m\u001b[0;34m)\u001b[0m\u001b[0;34m\u001b[0m\u001b[0;34m\u001b[0m\u001b[0m\n\u001b[0;32m-> 3012\u001b[0;31m         \u001b[0mself\u001b[0m\u001b[0;34m.\u001b[0m\u001b[0msagemaker_client\u001b[0m\u001b[0;34m.\u001b[0m\u001b[0mdelete_endpoint\u001b[0m\u001b[0;34m(\u001b[0m\u001b[0mEndpointName\u001b[0m\u001b[0;34m=\u001b[0m\u001b[0mendpoint_name\u001b[0m\u001b[0;34m)\u001b[0m\u001b[0;34m\u001b[0m\u001b[0;34m\u001b[0m\u001b[0m\n\u001b[0m\u001b[1;32m   3013\u001b[0m \u001b[0;34m\u001b[0m\u001b[0m\n\u001b[1;32m   3014\u001b[0m     \u001b[0;32mdef\u001b[0m \u001b[0mdelete_endpoint_config\u001b[0m\u001b[0;34m(\u001b[0m\u001b[0mself\u001b[0m\u001b[0;34m,\u001b[0m \u001b[0mendpoint_config_name\u001b[0m\u001b[0;34m)\u001b[0m\u001b[0;34m:\u001b[0m\u001b[0;34m\u001b[0m\u001b[0;34m\u001b[0m\u001b[0m\n",
      "\u001b[0;32m/opt/conda/lib/python3.7/site-packages/botocore/client.py\u001b[0m in \u001b[0;36m_api_call\u001b[0;34m(self, *args, **kwargs)\u001b[0m\n\u001b[1;32m    355\u001b[0m                     \"%s() only accepts keyword arguments.\" % py_operation_name)\n\u001b[1;32m    356\u001b[0m             \u001b[0;31m# The \"self\" in this scope is referring to the BaseClient.\u001b[0m\u001b[0;34m\u001b[0m\u001b[0;34m\u001b[0m\u001b[0;34m\u001b[0m\u001b[0m\n\u001b[0;32m--> 357\u001b[0;31m             \u001b[0;32mreturn\u001b[0m \u001b[0mself\u001b[0m\u001b[0;34m.\u001b[0m\u001b[0m_make_api_call\u001b[0m\u001b[0;34m(\u001b[0m\u001b[0moperation_name\u001b[0m\u001b[0;34m,\u001b[0m \u001b[0mkwargs\u001b[0m\u001b[0;34m)\u001b[0m\u001b[0;34m\u001b[0m\u001b[0;34m\u001b[0m\u001b[0m\n\u001b[0m\u001b[1;32m    358\u001b[0m \u001b[0;34m\u001b[0m\u001b[0m\n\u001b[1;32m    359\u001b[0m         \u001b[0m_api_call\u001b[0m\u001b[0;34m.\u001b[0m\u001b[0m__name__\u001b[0m \u001b[0;34m=\u001b[0m \u001b[0mstr\u001b[0m\u001b[0;34m(\u001b[0m\u001b[0mpy_operation_name\u001b[0m\u001b[0;34m)\u001b[0m\u001b[0;34m\u001b[0m\u001b[0;34m\u001b[0m\u001b[0m\n",
      "\u001b[0;32m/opt/conda/lib/python3.7/site-packages/botocore/client.py\u001b[0m in \u001b[0;36m_make_api_call\u001b[0;34m(self, operation_name, api_params)\u001b[0m\n\u001b[1;32m    674\u001b[0m             \u001b[0merror_code\u001b[0m \u001b[0;34m=\u001b[0m \u001b[0mparsed_response\u001b[0m\u001b[0;34m.\u001b[0m\u001b[0mget\u001b[0m\u001b[0;34m(\u001b[0m\u001b[0;34m\"Error\"\u001b[0m\u001b[0;34m,\u001b[0m \u001b[0;34m{\u001b[0m\u001b[0;34m}\u001b[0m\u001b[0;34m)\u001b[0m\u001b[0;34m.\u001b[0m\u001b[0mget\u001b[0m\u001b[0;34m(\u001b[0m\u001b[0;34m\"Code\"\u001b[0m\u001b[0;34m)\u001b[0m\u001b[0;34m\u001b[0m\u001b[0;34m\u001b[0m\u001b[0m\n\u001b[1;32m    675\u001b[0m             \u001b[0merror_class\u001b[0m \u001b[0;34m=\u001b[0m \u001b[0mself\u001b[0m\u001b[0;34m.\u001b[0m\u001b[0mexceptions\u001b[0m\u001b[0;34m.\u001b[0m\u001b[0mfrom_code\u001b[0m\u001b[0;34m(\u001b[0m\u001b[0merror_code\u001b[0m\u001b[0;34m)\u001b[0m\u001b[0;34m\u001b[0m\u001b[0;34m\u001b[0m\u001b[0m\n\u001b[0;32m--> 676\u001b[0;31m             \u001b[0;32mraise\u001b[0m \u001b[0merror_class\u001b[0m\u001b[0;34m(\u001b[0m\u001b[0mparsed_response\u001b[0m\u001b[0;34m,\u001b[0m \u001b[0moperation_name\u001b[0m\u001b[0;34m)\u001b[0m\u001b[0;34m\u001b[0m\u001b[0;34m\u001b[0m\u001b[0m\n\u001b[0m\u001b[1;32m    677\u001b[0m         \u001b[0;32melse\u001b[0m\u001b[0;34m:\u001b[0m\u001b[0;34m\u001b[0m\u001b[0;34m\u001b[0m\u001b[0m\n\u001b[1;32m    678\u001b[0m             \u001b[0;32mreturn\u001b[0m \u001b[0mparsed_response\u001b[0m\u001b[0;34m\u001b[0m\u001b[0;34m\u001b[0m\u001b[0m\n",
      "\u001b[0;31mClientError\u001b[0m: An error occurred (ValidationException) when calling the DeleteEndpoint operation: Could not find endpoint \"arn:aws:sagemaker:us-west-2:521695447989:endpoint/ipinsights-2021-05-18-00-32-52-386\"."
     ]
    }
   ],
   "source": [
    "ip_insights_tuner.delete_endpoint()\n",
    "sagemaker.Session().delete_endpoint(predictor.endpoint)"
   ]
  }
 ],
 "metadata": {
  "instance_type": "ml.t3.medium",
  "kernelspec": {
   "display_name": "Python 3 (Data Science)",
   "language": "python",
   "name": "python3__SAGEMAKER_INTERNAL__arn:aws:sagemaker:us-west-2:236514542706:image/datascience-1.0"
  },
  "language_info": {
   "codemirror_mode": {
    "name": "ipython",
    "version": 3
   },
   "file_extension": ".py",
   "mimetype": "text/x-python",
   "name": "python",
   "nbconvert_exporter": "python",
   "pygments_lexer": "ipython3",
   "version": "3.7.10"
  },
  "papermill": {
   "default_parameters": {},
   "duration": 4457.286748,
   "end_time": "2021-05-18T01:30:15.751507",
   "environment_variables": {},
   "exception": true,
   "input_path": "ipinsights-tutorial.ipynb",
   "output_path": "/opt/ml/processing/output/ipinsights-tutorial-2021-05-18-00-11-52.ipynb",
   "parameters": {},
   "start_time": "2021-05-18T00:15:58.464759",
   "version": "2.3.3"
  }
 },
 "nbformat": 4,
 "nbformat_minor": 5
}